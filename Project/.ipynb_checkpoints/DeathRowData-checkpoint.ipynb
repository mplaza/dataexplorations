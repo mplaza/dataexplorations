{
 "cells": [
  {
   "cell_type": "code",
   "execution_count": 2,
   "metadata": {
    "collapsed": false
   },
   "outputs": [
    {
     "name": "stdout",
     "output_type": "stream",
     "text": [
      "{'William Davis': ' I would like to give thanks to God Almighty, by whose grace I am saved through His son, Jesus Christ, without whom I would be nothing today. Because of this mercy and grace, I have come a long way, and I would like to thank God and others who have been instrumental. I would like to say to the Lang family how truly sorry I am in my soul and in my heart of hearts for the pain and misery that I have caused from my actions. I am truly sorry. And to my family I would also like to extend to them the same apology for the pain and misery that I have put them through, and I love them dearly from the bottom of my heart, and one day I would like to see them on the other side. Some I will; some I won’t. I would like to thank all of the men on Death Row who have showed me love throughout the years, but especially the last two or three weeks, and I hold nothing against no man. I am so thankful that I have lived as long as I have. I hope that I have helped someone. I hope that [by] donating my body to science that some parts of it can be used to help someone, and I just thank the Lord for all that he has done for me. That is all I have to say, Warden.  Oh, I would like to say in closing, \"What about those cowboys?\"  ', 'Stacey Lawton': \"I am saying, I want y'all to keep your heads up, hold on and stay strong for everybody. I mean ah, I don't want y'all to look at me like I am a killer or something man, cause I ain't no killer. I mean, I didn't, I didn't kill your father. I mean, I know how it look, but I didn't do it. You know what I am saying? You were out there with me, Tommy. I mean, you know man. (mumbled) You know I always did want to say something to y'all. Right? I can't say that I done it because I didn't do it. I've got love for everybody. I am a Christian now. I'm saying I want everybody to keep thier heads up and stay strong. I'm going to stay strong. I'll be seeing you, this is my last breath. Ricky, keep your head up baby. All y'all, Doreen, Melodee. I mean, I know y'all don't come down here. I just really don't know what y'all want me to say. I mean, I know, ah, I mean, I'm sorry anybody, ah, anybody got killed that night. It wasn't supposed to happen, but I didn't do it. I really didn't do it. I don't want y'all to go through life thinking that I did. You know what I am saying? I love everybody and I want y'all to stay strong. Right? It would take me an hour or a long time, man, but, ah, man, I don't want to hold y'all up, man, like that, ah. Y'all just keep your head up and stay strong, man. Give my love to everybody. I love y'all.  \", 'George Hopper': \" I want to apologize to you, and I am sorry.  I have made a lot of mistakes in my life.  The things I did changed so many lives.  I can't take it back, it was an atrocity.  I am sorry.  I beg your forgiveness, I know I am not worthy of it.  I love you Mom and Dad, and all my family.  Thank you for everything.  Jesus, thank you for your love and saving grace.  Thank you for shedding your blood on Calvary for me.  Thank you Jesus for the love you have shown me.  \", 'Donell Jackson': \" To my family, first and foremost - I love you all. The calmness that I was telling you about, I still have it. You are Mario's Uncle, correct? I just wanted you to know that I wronged your family. I received nothing, I was not paid. I took his life for the love of a friend. I love you all. I just want you to know that. I know he does, I feel it. I'm alright. Make sure momma knows, alright. Jermaine, I love you too man. Alright Warden.  \", 'Derrick Frazier': ' Yes I do.  Debbie, my Baby, I love you; do you know I love you.  You are my life.  You are my wife - always stay strong.  Stay strong everybody.  I am innocent.  I am being punished for a crime I did not commit.  I have professed my innocence for nine years, and I continue to say I am innocent.  Let my people know I love them.  We must continue on.  Do not give up the fight; do not give up hope for a better future.  Because we can make it happen.  I love you, I love my son, and I love my daughter.  Bruno, Chuckie, Juanita, Ray - I love you, all of you.  Stay strong baby.  I love you forever.  ', 'Thomas Kemp': 'Victim Hector Soto Juarez, 25', 'Kenneth Parr': \" Can ya'll hear me? Tell my family that I love ya'll. Joe, Tim, everybody - keep your head up. I love you.  \", 'Benjamin Stone': 'This offender declined to make a last statement.', 'Napoleon Beazley': ' The act I committed to put me here was not just heinous, it was senseless.  But the person that committed that act is no longer here - I am.  I\\'m not going to struggle physically against any restraints.  I\\'m not going to shout, use profanity or make idle threats.  Understand though that I\\'m not only upset, but I\\'m saddened by what is happening here tonight.  I\\'m not only saddened, but disappointed that a system that is supposed to protect and uphold what is just and right can be so much like me when I made the same shameful mistake. If someone tried to dispose of everyone here for participating in this killing, I\\'d scream a resounding, \"No.\"  I\\'d tell them to give them all the gift that they would not give me...and that\\'s to give them all a second chance. I\\'m sorry that I am here.  I\\'m sorry that you\\'re all here.  I\\'m sorry that John Luttig died.  And I\\'m sorry that it was something in me that caused all of this to happen to begin with.   Tonight we tell the world that there are no second chances in the eyes of justice...Tonight, we tell our children that in some instances, in some cases, killing is right. This conflict hurts us all, there are no SIDES.  The people who support this proceeding think this is justice.  The people that think that I should live think that is justice.  As difficult as it may seem, this is a clash of ideals, with both parties committed to what they feel is right.  But who\\'s wrong if in the end we\\'re all victims? In my heart, I have to believe that there is a peaceful compromise to our ideals.  I don\\'t mind if there are none for me, as long as there are for those who are yet to come.  There are a lot of men like me on death row - good men - who fell to the same misguided emotions, but may not have recovered as I have.  Give those men a chance to do what\\'s right.  Give them a chance to undo their wrongs.  A lot of them want to fix the mess they started, but don\\'t know how.  The problem is not in that people aren\\'t willing to help them find out, but in the system telling them it won\\'t matter anyway.  No one wins tonight.  No one gets closure.  No one walks away victorious.  ', 'Bernard Amos': 'This offender declined to make a last statement.  ', 'Willie Earl Pondexter Jr ': '\"Well, first I want to say. They may execute me but they can\\'t punish me because they can\\'t execute an innocent man. I am not mad. Jack Herrington, I am not mad. You were given a job to do but that\\'s neither here nor there. I am not mad. I am disappointed by the courts. I feel like I was upset and let down by them. But that\\'s O.K. I just played the hand that life dealt me. Look at my life and learn from it.', 'Robert Garza': '\\xa0', 'Jeffrey Williams': \"The Lord is my Shepherd, I shall not want. He maketh me lie down in green pastures; He leadeth me beside the still waters, He restoreth my soul. He leadeth me in the paths of righteousness for His name's sake. Yea, though I walk through the valley of the shadow of death, I will fear no evil; for Thou art with me. Thy rod and Thy staff, they comfort me. Thou preparest a table before me, in the presence of mine enemies. He anointeth my head with oil; my cup runneth over. Surely goodness and mercy shall follow me all the days of my life, and I will dwell in the House of the Lord forever. Amen. Amen.\", 'Harold Barnard': 'God, please forgive me of my sins. Look after my people. Bless and protect all people. I am sorry for my sins. Lord, take me home with you. Amen. (A couple of sentences garbled.)', 'Marion Dudley': 'This offender declined to make a last statement.  ', 'John Fearance': 'I would like to say that I have no animosity toward anyone. I made a mistake 18 years ago – I lost control of my mind but I didn’t mean to hurt anyone. I have no hate toward humanity. I hope He will forgive me for what I done. I didn’t mean to.', 'Antonio Bonham': 'This offender declined to make a last statement.  ', 'Ricardo_Ortiz': '\"Stay strong, I\\'m at peace. I love you and my kids. See you.\" (There were no relatives or friends present)- Ricardo Ortiz, 47', 'Kent Sprouse': '“I would like to apologize to the Moreno family and the Steinfeldt family for all of the trouble I have caused them.  I would like to apologize to my family for all of the trouble that I have caused them.  I would also like to thank my family for all of their support.  I guess that’s it.” ', 'Billy Galloway': \"If I can go back and change the past I would, there's nothing I can do. I'm sorry. I love you Adonya. That's it.  \", 'Kenneth Wayne Morris': '\"I\\'m sorry for all the pain I might have caused you and your family. I carry nothing but love in my heart. I pray one day y\\'all can forgive me.\" Morris then said to two female friends, \"I\\'m ready to go home.\" Grinning he said, \"I\\'ll always be with you.\" To the victim\\'s relatives he said, \"I really am sorry.\"- Kenneth Wayne Morris, 38', 'Richard Brimage': 'Not from me but I have a message to you from God. Save the children. Find one who needs help and make a small sacrifice of your own wealth and save the innocent ones. They are the key for making the world a better place.', 'Jesus Romero': 'When his attorney came into the witness room, he said, \"Tell Mom I love her.\" The attorney said back to him, \"I love you, too.\"', 'Clyde Smith': \"Yes.  I want to thank you all for being here and for your love and support.  And thanks for the efforts, Peter and Lorrell.  I love you all.  Celina, I love you.  I'm done. \", 'Ronald Allridge': 'This offender declined to make a last statement.  ', 'Claude Jones': \"To your family, ah, I hope that this can bring some closure to y'all. I am sorry for your loss and hey, I love all y'all. Let's go.  \", 'Richard Cartwright': \"Yes, I do.  I just want to thank all my friends and family who gave me support these past eight years.  I want to apologize to the victim's family for the pain I caused them.  And to everyone at the Polunsky Unit, just keep your heads up and stay strong.  \", 'John Satterwhite': 'This offender declined to make a last statement.  ', 'James Porter': ' Yes sir, I do. I would like to apologize to the family of the victim. I am sorry for the pain I have caused you. I know it is a great loss and I want to apologize. I am sorry. And to my family, I love you and I will see you all in Heaven. O.K.  ', 'Alexander Martinez': \"Yes.  The victim's family is not here so I won't address them.  I want to thank my family and friends for everything.  My wife, Ailsa, my sister-in-law, Laura - thank you for being here for me.  I love you.  And thanks for the friends at the Polunsky Unit that helped me get through this that didn't agree with my decision - and still gave me their friendship.  I thank them.  Warden...  \", 'James Wilkens': ' Sandy, all of you, I am sorry. Please hear me. Please in the name of God forgive me. Please understand. Please find that peace. I am really sorry. Please for your sake forgive me. All of you please.  I love my sister, my friends, father. Thank you for loving me and being with me. You are magnificent people. God has blessed me more than I deserve. I would like to end with a prayer. Heavenly Father, as I come to you to praise and thank you that even now I can endure the pain that you endured when you died for me on the cross. You have forgiven me of my sins and travesties. Thank you, Lord, for giving me strength. Give them strength to forgive me. Ask them to have them forgive me in their hearts. I ask you to touch each and every one of them. I am truly repentant. In the name of Jesus Christ I love you. Warden I am ready to go home please. Remember God is peace, God is love. ', 'Lester Bower': '\"Much has been written about this case, not all of it has been the truth. But the time is over and now it is time to move on. I want to thank my attorneys for all that they have done. The have afforded me the last quarter of a century. I would like to thank my wife, my daughters, family and friends for unwavering support, and all of the letters and well wishes over the years. Now it is time to pass on. I have fought the good fight, I held the faith. I am not going to say goodbye, I will simply say until we meet again. I love you very, very much. Thank you Warden.\"', 'Michael Richard': \"Yes, I would like for my family to take care of each other. I lovel you Angel, Let's ride. I guess this is it. \", 'Kevin Watts': ' Yes. I appreciate everybody for their love and support. You all keep strong, thank you for showing me love and teaching me how to love. Forgive me, Lord. Ya’ll forgive me, remember me. For everybody incarcerated, keep your heads up. For my family, keep your heads up. I never stopped loving ya’ll. Stay strong and keep fighting, it’s not over yet. I love you all. I am out of here. I am gone. Keep me in your hearts. ', 'Robert Black': 'High Flight (aviation poem)', 'Carl Blue': '\"I\\'m talking to each and every soul in this building, in this room. Get your life right. I don\\'t hate nobody; you\\'re doing what you think is your job. God\\'s law is above this law. Hi Teri. I love you. I never meant to hurt your momma. If I could change that, I would ... I hope you can forgive me.\" Crime Summary', 'Jeffery Caldwell': \" I would like to extend my love to my family members and my relatives for all of the love and support you have showed me. I extend my special love to my daughter who I love greatly. I hope that you forever remember me. I hope that you will always cherish the love and the strength that I have provided you. My love for you will remain with you winthin your heart and in part of your soul. As to all my brothers I love you all with all of my heart. But during your time of departure from this earth plane you will have to face the judgement of God for the lack of love you have shown my aunt and my cousins. We were never brought up to be that way. As you know our parents brought us up to love one another no matter what. There was no love showed to my aunt or none of my cousins. I can forgive you all but you must ask forgiveness from God for how you have hurt our aunt and our family. I leave now at this moment to join my parents and my only sister whose lives were not taken by me. To all the fellows on death row, I thank you for the love that you have shown me and for the strength that you provided me. You all keep your heads up. As for my attorney's I thank you all for being there for me. As defense attorneys you have shown me a lot strength. May my love touch each one of you all's souls as I leave this body.  \", 'Jessel Turner': 'I would like to thank the Chaplain and all the rest who have offered their prayers.', 'Billy Don Alverson': 'Victim: Richard Kevin Yost, 30', 'Johnny Garrett': 'This offender declined to make a last statement.  ', 'Michael Selsor': 'In 1975 Michael Selsor and an accomplice robbed four convenience stores, attempted to murder three store clerks inside the stores and succeeded in killing one, Clayton Chandler.', 'Ricky McGinn': \"Robin you know this ain't right. Mama, Adam, Mike, Sonny, Michelle, y'all know I love you. Tell everybody I said hi and that I love them and I will see them on the other side. Okay? And now I just pray that if there is anything against me that God takes it home. I don't want nobody to be mad at nobody. I don't want nobody to be bitter. Keep clean hearts and I will see y'all on the other side. Okay? I love y'all, stay sweet. I love ya.  \", 'George Whitaker': \"First off I'd like to say to Mr. and Mrs. Carrier, I apologize for your pain and suffering. I pray Lord, please forgive me. To my family, to my brother Gerard, I love you, Harold, I love you. To my step father Paul, I love you. Momma, I will always love you. Take care of my daughters, Kaneisha and Ieisha. Dad loves you. Continue to pray for me, I am fine. I have made peace with God. Please don't ever forget me. I love you mom. I love you all, take care. I love you too pop, keep your head up. Take care. I am going to sleep. \", 'Donald Franklin': 'This offender declined to make a last statement.  ', 'James Clark': \"Uh, I don't know, Um, I don't know what to say.  I don't know.  (pauses)  I didn't know anybody was there.  Howdy.\", 'Lee Taylor': '\"There are 300 people on death row, and not every one of them is a monster. The state of Texas is carrying out a very inhuman and unjust situation. It\\'s not right to kill anybody, not the way I did it, or the way it\\'s being done to me. Everyone changes, right? Life is about experience, and people change.\"', 'David Harris': 'Yes I do.  Sir, in honor of a true American hero. \"let\\'s roll\".  Lord Jesus receive my spirit.  ', 'Mack Hill': \"First, I would like to tell my family that I love them. I will be waiting on them. I am fine. I hope that everyone gets some closure from this. I am innocent. Lubbock County officials believe I am guilty. I am not. Travis Ware has the burden on him to prove that he did not commit felonies. He needs to be stopped or he is going to do it time and time again. The power is invested in you as a public official to do your job.  That's all Warden. I love y'all.   June 25, 2008.  \", 'Ronnie Threadgill': '\\xa0 ', 'Jackie Wilson': ' May I speak to my family?  Honey, I love you.  Be strong and take care of yourselves.  Thanks for being there.  Take care of yourself.  Ms. Irene, thank you for everything you have done.  Chaplain Hart, thank you for helping me.  Gary, thank you.  Maria, Maria, I love you baby.  Thank you for being there for me and all these people here will find the one who did this damn crime.  I am going home to be with God.  Thank you.  Thank you, Warden. ', 'Ray Jasper': '(Spoken statement)\\r\\n  I want to say to my family, please take care of each other, stay strong and faithful to God. I thank everyone for supporting me. Christine, I love you. To my daughter: baby, be strong, be positive, have a great life. You know what you meant to me, and I love you. Stay faithful to the Lord. Daughter, I love you, I love you, I love you. May the Lord God almighty in heaven, Jesus Christ see my spirit. Amen. \\n', 'Jerry Duane Martin': 'Victim: Susan Louise Carpenter Canfield, Police Officer, 59', 'Suzanne Basso': 'This offender declined to make a last statement.  \\n', 'Delbert Teague': 'Est Sularus Oth Mithas (My Honor Is My Life).', 'Joshua Maxwell': \" I do, I want to address you, I am sorry. I don't know who you are. I am sorry I put you through some things that I can't take back. I am sorry. This isn't going to change anything. Sorry for putting you through this. This is creating more victims. I am sorry, I put you through this. I love you man, I love you. This is not gonna change anything. This person shoe did that 10 years ago isn't the same person you see today. I hurt a lot of people with decisions I made. I can't be more sorry than I am right now. I hurt the Lopes family, let this be a lesson. Your decisions affect everybody. Look after your sister for me. I am always gonna be with you. I love you too Shay I love you if your listening I am sorry to be putting everybody through this. This is the end of this, time to move on. I hope this brings you peace, I am sorry. I told your sister my last words. Danielle, you know that I love you. You know that you have my heart, I've enjoyed these times. I love you little hef.  \", 'Kavin Lincecum': 'This offender declined to make a last statement.  ', 'Justin May': 'Thanked his family.', 'Joe Trevino': 'This offender declined to make a last statement.  ', 'Donald Lee Gilson': 'Victim: Shane Coffman, 8', 'Orien Joiner': \" Kathy, y'all take and I bless all of you and I am glad I have had y'all in my life. As I have said from the very first thing, I am innocent of this crime and God knows I am innocent and the four people that was murdered know I am innocent and when I get to heaven I'll be hunting you and we'll talk. I feel sorry for the families that's had to suffer and my family and I have 'em all in my prayers. I love you all. Y'all take and y'all look after Sheila and Shannon and them, call 'em and get the pictures to 'em and everything and, ah, again, like I said, I feel sorry for the families, but if it takes my death to make them happy, then I will bless them. I have no hard feelings toward anyone cause the Lord feels that it is my time to come home to Him, my work on earth is done and that, ah, like I said, I am just sorry for, but they will have to go through this one time again, cause sooner or later, whoever did this crime is going to be caught and they'll have to come down here and do this again and they will realize they witnessed an innocent man going to be with Jesus Christ.  \", 'Samuel Lopez': 'During the execution process Lopez interacted with the execution, asking, \"It look all right?\" after they examined his veins and then asked about the IV lines that they inserted into him, but when asked if he had any final words, he sad, \"No, I do not.\"', 'Karla Tucker': 'I love all of you very much. I am going to be face to face with Jesus now. Warden Baggett, thank all of you so much. You have been so good to me. I love all of you very much. I will see you all when you get there. I will wait for you.', 'David Stoker': 'I am ready, Warden.', 'Richard Williams': 'Written: Hello to all: Tonight I take my last walk as well breath in this world called Earth.  I state that to show I\\'m not saddened or enjoied to see this moment.  Because I leave behind alot of people that loved me, that believe I could had been that someone.  If I been given a real chance in life instead of denial or incarceration everytime I was arrested for something the community believed I did.  To be here on Texas death Row show all people that we people of American don\\'t care about helping.  This is about destroying lives to show they can kill, but they hide behind laws of American.  I\\'m not disappointed of the system or nobody because this is how it\\'s supposed to be.  Texans was breed that way to live, think, act.  But someone is mad that a system that\\'s supposed to protect and uphold what is just and right, has shown it\\'s just as crooked as I am said to be. Now I lay here dead.  But we have gave all Texans the sign that in some instances, and in some cases \"KILLING IS ALRIGHT TO DO AS LONG IT\\'S FOR JUSTICE OF THE AMERICAN PEOPLE\".  So who win?  No one do! Ain\\'t no such thing as a closure!  Because we all still will remember who ain\\'t here on them special detes, occasion\\'s ect...  So no victorious, heros and happiness.  but in ALLAH\\'s (GOD) eye justice is his, and we should cry out for his forgiveness.  I leave with ALLAH\\'s blessing as well mercy for my soul.  I\\'m free now!  Let me rest in peace. Nam-myoho-renge-kyo! Salaamu! Amen! Bro. D\\'Reehcer Ali Smaillii Muhammd. (formely known as) Richard Earl Head-Williams III ', 'John Elliott': 'This offender declined to make a last statement.  ', 'Kenneth Ransom': 'Tell my brothers I love them. You all be strong.', 'John Chavez': 'To the media, I would like for you to tell all the victims and their loved ones that I am truly, truly sorry for taking their loved ones\\' lives.  And I hope they will find it in their heart to forgive me for what I did to them.  I am a different person now, but that does not change the fact of the bad things I have committed.  God can give you the same peace He gave me and you can be in His hands.  And to my beautiful family, be strong.  Remember what I said, \"God is the Way, the Truth, and the Life.\"  OK, Warden.  ', 'Oliver Cruz': 'First of all, I want to apologize to the family of Kelly Elizabeth Donovan. I am sorry for what I did to her twelve years ago. I wish they could forgive me for what I did. I am sorry. I am sorry for hurting my family, for hurting my friends. Jesus forgive me. Take me home with you. I am ready. I love you all.  ', 'Kenneth Morris': ' Yes, I have to say that I am sorry for all the pain that I have caused you and your family. I only have love in my heart. I hope that you can all forgive me. I pray that you can all forgive me. Thank you for standing by me and being there for me. I am ready to go home. My baby I will always be with you. I really am sorry.  ', 'James Richardson': \" Can they talk back? Say I pray for it, I accept it. Pray with me. This is still a statement. Ready? Dear Heavenly Father, forgive us, Lord. I ask that you watch over my Mama and over my sister. I ask this in the name of Christ. I also repent for all my sins, Lord. I pray that you will bring me home tonight. Please, I ask that I rest in your arms in the name of Christ Jesus I pray this. I truly believe that Jesus died for my sins that I may be resurrected, Lord, that you would do that much. Please, I ask that you not let me down and that I will be with you today in Heaven. Christ Jesus name I pray this.  Donna and everybody else, Mr. Johnson, I ask that y'all will pray for me and that God will bring me home tonight, that he will keep me in Heaven, that I will still be in heaven. Please Lord, I don't want to be in Heaven, I mean I don't want to be in Hell. And, please Lord, I confess my sins. This is your son, Lord Jesus, this is your servant, please, this is your slave. I love you, too. Donna and Mama and Mr. Johnson, I wrote a message. Don't give up, love you all, even the ones that are my enemies. I truly forgive all of y'all in Christ Jesus, we pray. I ask God that he take all the hate out of my heart and away from my soul. Please, please, Lord, don't fail me. I don't know is Margie here now? But if she is, I ask her forgiveness. I ask that you not hold nothing against me or my family from this day forward, and hold no hate toward them. I don't know. I can't hear you, you may forgive me, and you may not. Forgive Mike Allison, forgive McHenry, forgive us all. Whatever the cost may be I love you. Take care of my Mama. Donna, I ask you to take care of my Mama, too. Whenever you get mad at her, you remember me. Remember I may be back. Mama, I am going to try to make that promise to you. I gonna ask God to allow his child to come back to see you. Cause I am in Heaven. At time I can come (unintelligible). Okay, Mr. Johnson, you take care, let my Mama's will be done. One more prayer, then we may proceed. Heavenly Father, I confess my sins, really I do. Let me know that I will be in Heaven tonight. Please let me know. I don't want to be in Hell with Satan or anyone else. Please, that is something I need to know. I ask that Jesus give me help.  In Jesus precious name, I pray this. I ask that you give me those promises, that you assure me that those promises are real. That I am praying right. In Jesus precious name, I pray this. Goodbye, Mama. Goodbye, Donna. \", 'Christopher Swift': 'This offender declined to make a last statement.  ', 'Frederick Treesh': 'Treesh and co-conspirator Benjamin Brooks went on a multi-state crime spree that included robbing banks and businesses, committing sexual assaults, carjacking, car thefts, and were suspects in the shooting death of a video store co-owner.', 'Caruthers Alexander': 'This offender declined to make a last statement.  ', 'William Kitchens': \"Yes, sir. James Webb, I don't know which one you are out there. I can't remember from the trial. I personally just want to let you know if there has ever been any doubt in your mind at all of what happened, I want you to know that Patty was always faithful to you, that I forced her for everything that she did and I am sorry. I just don't know how to tell ya'll I am sorry for what I did. There is no way for expressing I am sorry. I just hope that in some kind of way that ya'll can move on and find peace in your life. The Lord has given me peace and that is all that I pray for is that ya'll can find that peace. I just want you to know that I am sorry for what I done. I can't change that, all I can do is say I am sorry, that's nothing for what I have done. I can't replace your loss. I am sorry. I just want you to know that I love all of ya'll. It's been a pleasure, ya'll just keep on with life, it's gonna be good. The Lord's gonna be with us. If it's alright, I just want to say a prayer first. Father, God, I just thank you for the time that you have given me on this earth, for having mercy on somebody like me for all the despicable thing's I've done in my life, Father, but you still with your love and your mercy reach down into my heart and changed it before it's too late. I ask that you bestow peace upon the family of Patricia Webb, that you let them know, Father, that you are in a place where they can obtain that peace, and you will help them move on in their life, Father. Help them, Father, to find it in their hearts, not for my sake , but for yours, and their sake to, Father, find it in their heart to forgive me for what I have done. Father, I just ask that you be with my family and comfort them to move on Father. Father, we are all here today for the mistake that I have made and I thank you for your mercy for sending your Son into this life, that we might come to know you, Father. Father, I pray for these Wardens and the officers and the people that deal with all of this, Father, I ask that you touch their hearts, Father, and if there is any wrong to it, that you will forgive them, Father. Just let them know that you love them, Father, and that You are the way. I just thank you and in Jesus' name, I pray, Amen. I love ya'll, ya'll take care. I am so sorry.  \", 'Richard Cobb': '\\xa0', 'Ramon Montoya': 'This offender declined to make a last statement.  ', 'Donald Edward Beaty': 'Victim: Christy Ann Fornoff, 13', 'William Chappell': \"Jane, Grace and all of you all, I know you think I did this, and I'm sure you think this is wonderful in you eyes.  But, let me tell you something, there were two DNA tests run and none matched me.  I wanted a third, but that never happened.  Three people at different times confessed to killing these people - your parents.  They did not know me.  My request is that you get yourselves in church and pray for forgiveness because you are murdering me.  I did not kill anyone in my life.  If you will look at your house and the police report, there are several bullet patterns shot into the West wall over the bed and the East wall and North wall and your sister was in the front bedroom while 30 shots were fired.  There's no way in hell she would have laid in that bed.  If you think I did this, you need to think again.  There were three people in the house and have confessed to it.  Larry Ashworth in Fort Worth killed seven people.  All I was asking for was a DNA and I could not get it.  But get in church and get right with God.  Jane, you know damn well I did not molest that kid of yours.  You are murdering me and I feel sorry for you.  Get in church and get saved.  I really don't know what else to tell you.  \", 'Kenneth Bruce': ' Yes sir.  I would like to thank God for all the blessings He has given me.  And I pray that through His mercy, He will allow me into His grace.  And to the family of Ms. Ayers, I would like to apologize for all the pain and suffering and that God gives you closure.  And I pray that He blesses you.  And to my family, know that I love every single one of you and pray that God gives you peace and strength.  I may not be with you in the physical, but by grace, my heart will be with you all and I know God loves every one of you all.  ', 'Jose Villegas': '\"I would like to remind my children once again I love them. Everything is OK. I love you all, and I love my children. I am at peace. It does kind of burn. Goodbye, goodbye.\"', 'Norman Green': 'This offender declined to make a last statement.  ', 'Tony Roach': \"Yes sir, I do. Go ahead? First of all I want to thank God for the love; thank God for the love from the family and friends that I have. To God I give the glory though the years. I love and care about the Lord. The Lord knows that I prayed for the victim's family. I know you all probably have bitterness and hate for what I did. There is not a day goes by that I have not prayed for Ronni Dawn Hewitt and Carol Dawson and her daughter who was left behind. I pray to God, the Lord Almighty that like he did for me, he will reach out and help you. I just pray that the Lord takes away your bitterness. There is so much hurt that I have caused you all. On the phone, I talked to my family for two hours. It was hard to see such a big man just break down and cry like a little baby. I hope this will touch your hearts like you have touched mine. I know it is hard for you all. I am to blame for this, I will take that Lord, when I get there. Back in 2003, I want to tell you this. I got down on my knees. The Lord knew my heart. I wanted to kill myself. I spoke to Ms. Ronnie Dawn Hewitt. The next day I received a letter that they had lost a friend to suicide. She said that she forgave me and that was something that I needed to hear. God helped me to forgive myself and move on. I just pray that some day you will find forgiveness in your heart. Know that your loved one is in a good place. I am sorry for what I have done. I cannot agree with this injustice. The Bible says that you shalt not kill, but it also says to obey the government. I am sorry, forgive me. Francis, I love you and thank you for being here. I have no ill will towards anyone carrying out this so called justice. Thank you. I am ready Warden. \", 'Humberto Leal': \"I am sorry for everything that I have done. I've hurt a lot of people. For years I have never thought that I deserved any type of forgiveness. Lord Jesus Christ in my life, I know He has forgiven me, I have accepted His forgiveness. I have accepted everything. Let this be final and be done. I take the full blame for this. I am sorry and forgive me. I am truly sorry. I ask for forgiveness. Life goes on and it surely does. I am sorry for the victim's family for what I had did. May they forgive me. I don't know if you believe me, life goes on. I am sure it does. To the man to the right of me, I ask for forgiveness for you. Life goes on, it surely does. I ask for forgiveness. I am truly sorry. That is all. Let's get this show on the road. One more thing, Viva Mexico, Viva Mexico.\", 'Stephen Morin': 'Heavenly Father, I give thanks for this time, for the time that we have been together, the fellowship in your world, the Christian family presented to me (He called the names of the personal witnesses.). Allow your holy spirit to flow as I know your love as been showered upon me. Forgive them for they know not what they do, as I know that you have forgiven me, as I have forgiven them. Lord Jesus, I commit my soul to you, I praise you, and I thank you.', 'Matthew Eric Wrinkles': 'Victims:', 'George Lott': 'This offender declined to make a last statement.  ', 'David Clark': 'None. But as he lay there he did praise the Lord and seemed to be praying.', 'Kimberly McCarthy': '\\xa0', 'Stephen Moody': \" Yes sir, to Joseph's mom and son. I was unable to respond to you in the courtroom. I can only ask that you have the peace that I do. To my brother, you are a good brother. You're the best. And I love you. Can't beat ya. The beautiful lady standing next to you. Kathy you are next to my heart. Amber I love you. Warden, pull the trigger. I love you brother never forget it. Ronnie, Linda, Amber, Kathy. Chaplain Hart you're the best. Love you Thomas.  \", 'Eric Nenno': 'This offender declined to make a last statement.  ', 'Michael Lockhart': 'A lot of people view what is happening here as evil, but I want you to know that I found love and compassion here. The people who work here, I thank them for the kindness they have shown me and I deeply appreciate all that has been done for me by the people who work here. That’s all, Warden, I’m ready.  ', 'James Paster': 'I hope Mrs. Howard can find peace in this.', 'Carlos Santana': 'This offender declined to make a last statement.  ', 'Adolph Hernandez': \" I want to thank my family for their help and moral support and for their struggle. It would have been a lot harder without their love. So, I am just going home. I will see ya'll one of these days. Just don't rush it. I will be there always. I 'll always be watching over you. I love you. Okay? Y'all be strong. God bless you. That is where I am going. I love y'all huh. I'll see y'all in Slayton, Texas.  Dios te mandas contigo mi espiritu. (Spanish - God, I command my spirit to go with you.) Alabamos a Dios todos. (Spanish - We all praise God.) Amen Cuida mi familia. (Take care of my family.) I love you. That's it Warden.  \", 'Doyle Skillern': 'I pray that my family will rejoice and will forgive, thank you.', 'Jaime Elizalde': ' Yes sir. Darling Kerstin, these last few years have been blessed having you in my life. And to all my friends that have been out there, thank you for your friendship and support and all you have done for me. The guys back there waiting, keep the faith and stay strong and put your faith in the Lord. Many times in life we take the wrong road and there are consequences for everything. Mistakes are made, but with God all things are possible. So put your faith and trust in Him. We talk about a reprieve or stay from the Supreme Court, but the real Supreme Court you must face up there and not down here. Keep your heads up and stay strong. I love you all. That is it. Stay strong. Thank you.  ', 'Manuel Garza': '\"Thank you for being here. I am sorry for all of the pain that I have caused my family, friends, and extended family. Especially to the Police Officers, I know you probably hate me. What happened between me and Rocky happended too fast. I didn\\'t know what happened. I wish y\\'all peace and love. I hope you have found God just like I have. God bless y\\'all. I will see you on the other side. I love you.\"', 'Terry Hankins': \"Yes, I am sorry for what I've done and for all of the pain and suffering that my actions have caused. Jesus is Lord. All glory to God.  \", 'Clarence Carter': 'Victim: Clarence Carter murdered a fellow inmate Johnny Allen', 'Charles Tuttle': 'Warden, ATW.', 'Jerry Martin': '\\xa0', 'Rodolfo Hernandez': \" Yes, sir.  I want to give thanks to Father Walsh, my spiritual advisor and Mr. Whiteside and Irene Wilcox and her husband, Jack, and Richard Lopez for being there for me through all of this.  I don't see O'Brien.  Oh, there he is. Thanks to everybody.  Everybody will be all right, because y'all are going where I am going.  Remember what I said, I want to see you all where I'm going.  I want to give thanks.  God, come and do Your will.  I'm ready Warden.  \", 'Kenneth Harris': 'I am ready, Warden.  ', 'John Sawyers': 'This offender declined to make a last statement.  ', 'Genaro Camacho': 'I love you all. We had a good service and I’ll be with you. I’ll be waiting for you in Heaven. Ok. Adios. That’s all I have to say.', 'Daroyce Mosley': ' Yes. I just want to let you all know that I appreciate the love and support over the years. I will see you when you get there. Keep your heads up. To all the fellows on the Row, the same thing. Keep your head up and continue to fight. Same thing to all my pen friends and other friends, I love you all. I can taste it.  ', 'Tyrone Fuller': 'Yes, to my family, I love you. Please do not mourn my death or my life. Continue to live as I want you to live. I hold no bitterness toward no one. Just remember the light. I’m gonna let this light shine. Let it shine. Let the light shine.', 'Gregory Wright': 'Yes I do. There has been a lot of confusion on who done this. I know you all want closure. Donna had her Christianity in tact when she died. She never went to a drug house. John Adams lied. He went to the police and told them a story. He made deals and sold stuff to keep from going to prison. I left the house, and I left him there. My only act or involvement was not telling on him. John Adams is the one that killed Donna Vick. I took a polygraph and passed. John Adams never volunteered to take one. I have done everything in my power. Donna Vick helped me; she took me off the street. I was a truck driver; my CDL was still active. Donna gave me everything I could ask for. I helped her around the yard. I helped her around the house. She asked if there were anyone else to help. I am a Christian myself, so I told her about John Adam. We picked him up at a dope house. I did not know he was a career criminal. When we got to the house he was jonesin for drugs. He has to go to Dallas. I was in the bathroom when he attacked. I am deaf in one ear and I thought the T.V. was up too loud. I ran in to the bedroom. By the time I came in, when I tried to help her, with first aid, it was too late. The veins were cut on her throat. He stabbed her in her heart, and that\\'s what killed her. I told John Adams, \"turn yourself in or hit the high road.\" I owed him a favor because he pulled someone off my back. I was in a fight downtown. Two or three days later he turned on me. I have done everything to prove my innocence. Before you is an innocent man. I love my famly. I\\'ll be waiting on ya\\'ll. I\\'m finished talking. ', 'Yokamon Hearn': 'Final Words: \"I\\'d like to tell my family that I love y\\'all and I wish y\\'all well. I\\'m ready.\"', 'Jeffery Barney': 'This offender declined to make a last statement.  ', 'James Harvey Callahan': 'Victim: Rebecca Suzanne Howell, 26', 'Steven Woods': '\"You\\'re not about to witness an execution; you\\'re about to witness a murder. I\\'ve never killed anybody, never. This whole thing is wrong ... Warden, if you\\'re going to murder someone, go ahead and do it. Pull that trigger. Goodbye.\"- Steven Woods, 31', 'Marcus Cotton': \" Yes Warden, I do. Well Mom, sometimes it works out like this. Love life; live long. When you are dealing with reality, real is not always what you want it to be. Take care of yourselves. I love you. Tell my kids I love them. God is real. He is fixing to find out some deep things that are real. Bounce back, baby. You know what I'm saying. You all take care of yourselves. That is it.  \", 'Timothy Adams': 'This offender declined to make a last statement.  ', 'Earl Wesley Berry ': 'Victims:', 'Charles Nealy': \"Ya'll know I love you, you too Ward.  You have been a good friend.  You are a good investigator.  Doug, I thank you for coming from Michigan.  Chris and David, I love you.  Thank them for their support Doug.  Debra, James, I'm not crying so you don't cry.  Don't be sad for me.  I'm going to be with God, Allah, and Momma.  I'm gonna ask dad why didn't give you away at your wedding.  Randy Greer, my little brother, I'll be watching you, stay out of trouble.  All my nieces and nephews, I love you all.  Sammie, Vincent, and Yolanda, I will be watching over you all. The reason it took them so long is because they couldn't find a vein.  You know how I hate needles - I used to stay in the Doctor's Office.  Tell the guys on Death Row that I'm not wearing a diaper.  I can't think of anything else.  You all stay strong.  Now you can put this all aside.  Don't bury me in the prison cemetery.  Bury me right beside momma.  Don't bury me to the left of dad, bury me on the right side of mom. Kim Schaeffer, you are a evil woman.  You broke the law.  The judges and courts helped you and you didn't have all the facts.  When you look at the video, you know you can't see anyone.  You overplayed your hand looking for something against me and to cover it up the State is killing me.  I'm not mad or bitter though.  I'm sad that you are stuck here and have to go through all of this.  I am going somewhere better.  My time is up.  Let me get ready to make my transition.  Doug, don't forget Marcy.  \", 'Windell Broussard': ' Yes, Warden.  I just want to let everyone know that this here is a tragedy.  What happened to Diana, Corey, and what is happening to me...it is a tragedy.  That is all Warden.  ', 'Richard Andrade': 'This offender declined to make a last statement.  ', 'Tommie Hughes': \" I love my family. You all stay strong. Watch over each other. Stay strong. I love you. I love you. It's my hour. It's my hour. I love you. Stay strong.  \", 'Yosvanis Valle': \" I am sorry, I never wanted to kill your family. I never wanted to kill your family or these people. I am sorry for the way I talk in English. I did it to myself. I was forced to do it. I was a gang member. I never wanted to kill your brother. I was forced to do this. I blame myself. I am not going to blame nobody. I got my mother and my family too. I was forced. I tell you from my heart. I am sorry with all my heart. That's the reality of life, I am sorry. I got to pay for it. To my family, I love you, be strong. They have family too; the way they suffer is the way I am suffering. I am asking you to go and give them hugs. Please accept their hugs. Be strong in the Lord. I love you sister. I love you all, please go and try and talk to the family. I love my family. I understand why I am paying this price. Do not have any excuses for not extending your love. I am ready Warden, I am sorry everybody, I did it. Thank you brother, don't hate nobody, I feel good. I love my family, I love you Jesus. Be strong mama, I love you sister. I love Jesus. Warden I am ready. \", 'Robert Harris': \"I want to tell ya'll, know that I love you. Billy, I love you, English, Hart and Eloise. Dwight, take care of Dwight. I'm going home, I'm going home. I'll be alright, don't worry.  I love ya'll. God bless and the Texas Rangers, Texas Rangers. \\n\", 'Troy Farris': 'I have nothing but love for all of you. Like they say in the song, I guess, I just want to go out like Elijah, on fire with the spirit of God. I love you. I’m done.', 'Michael Rodriguez': \" Yes I do, I know this no way makes up for all the pain and suffering I gave you. I am so so sorry. My punishment is nothing compared to the pain and sorrow I have caused. I hope that someday you can find peace. I am not strong enough to ask for forgiveness because I don't if I am worth. I realize what I've done to you and the pain I've given. Please Lord forgive me. I have done some horrible things. I ask the Lord to please forgive me. I have gained nothing, but just brought sorrow and pain to these wonderful people. I am sorry. So so sorry. To the Sanchez family who showed me love. To the Hawkings' family, I am sorry. I know I have affected them for so long. Please forgive me. Irene, I want to thank you and thank your husband Jack. I'll be waiting for you. I am so sorry. To these families I ask forgiveness. Father God I ask you too for forgiveness. I ask you for forgiveness Lord. I am ready to go Lord. Thank you. I am ready to go. My Jesus my Savior there is none like you. All of my days I want to praise, let every breath. Shout to the Lord let us sing.   \", 'Ignacio Cuevas': 'I’m going to a beautiful place. O.K., Warden, roll ‘em.', 'Ramon Hernandez': 'This offender declined to make a last statement.  ', 'Dorsie Johnson': 'That’s it.  ', 'David Castillo': 'Keep it brief here. Just want to say, uh, family, take care of yourselves. Uh, look at this as a learning experience. Everything happens for a reason. We all know what really happened, but there are some things you just can’t fight. Little people always seem to get squashed. It happens. Even so, just got to take the good with the bad. There is no man that is free from all evil, nor any man that is so evil to be worth nothing. But it’s all part of life, and my family, take care of yourselves. Tell my wife I love her. I’ll keep an eye on everybody, especially my nieces and nephews. I’m pretty good. I love ya’ll. Take care. I’m ready.', 'Richard Wilkerson': 'Written through his sister Michelle Winn', 'Carlton Turner': \"First of all I would like to tell my Uncle Kyle that I am sorry. I have been sorry for the last 10 years for what I did. I wish you could accept my apology. I know you can't accept my apology, I know you can't give your forgiveness; it's okay and I understand. I have done what I could to heal the rest of the family. I wish that someday you could come to terms and understand. I know I was wrong; I accept responsibility as a man. I take this penalty as a man. This doesn't solve anything, 'cause it hurts others that love me. I am sorry. I love you Kjersti. I love you too Roland. I love you too Uncle Kyle; I am still your nephew, no matter what you believe. \", 'Thomas Mason': \" I understand that Michael Skains is supposed to be here somewhere. They did everything but make sure I got a fair trial to prove I was innocent. I wasn't the one who had the gun to give to police and all these altered records from the District Attorney's office and the Attorney General's office, that's why Michael Sputnick got fired and ran off when I filed these appeals. Not one of my sell out lawyers would use this evidence, because they all work as a conspiracy with the court. No doubt about it. Jack King did everything he could to keep me from making arms and showing this evidence. They wait till the hearing was over and then make the arguments in the court or on paper where nobody can rebut it or contradict the testimony or arguments. There's more than 30 altered and falsified records saying I told so and so this or that, but you go look in their record, it does not say Thomas Mason called them at all and told them anything. But that's okay. All this evidence is being saved, so Jack King can laugh all he wants like he's the big hero, after this is over with, that's fine. But the person that had the gun, they know was not Thomas Mason, so who's getting the last laugh after all? The guy that got away. But Jack King knows he illegally convicted me of all these falsified altered records. My sister's got the document that my lawyer filed, but he didn't file with the court. It's got the signature on it. He put this all in one record. So it's going to be saved. It ain't going to be destroyed just because I'm dead. Everybody's got to go sooner or later and sooner or later everyone of ya'll will be along behind me. That's all I got to say.  \", 'Leon Dorsey': \" Yeah, I love all ya'll. I forgive all ya'll. See you when you get there. Do what your are going to do.  \", 'Curtis Moore. LEN': '\"Yes, Sir. I love you Irene and I want to thank you for all the beautiful years of friendship and ministry. I love you.\"- Curtis Moore, 40', 'Dale Scheanette': 'Is the mic on? My only statement is that no cases have ever tried have been error free. Those are my words. No cases are error free. You may proceed Warden. ', 'Last Words of Executed': 'He then thanked his supporters and added, \"And if this takes the pain away, so be it.', 'Marvallous Keene': 'Victims:', 'Shannon Johnson ': 'Victim Cameron Hamlin, 26', 'Charlie Livingston': 'You all brought me here to be executed, not to make a speech. That’s it.  ', 'Eddie Johnson': 'Goodbye, sun, I love you.', 'Benjamin Boyle': 'This offender declined to make a last statement.  ', 'Kevin Kincy': \"Yes. I would like to thank all my friends and supporters, Anne West, who I love and respect. Gabrielle Uhl from Germany, and so many countless other friends. And of course my family, my mother and father, brothers and sisters, nieces and nephews, my wife Barbara and my children - Nadia, Amenia, Kira, and Noemi. I love my children. I love my family. That's it.  \", 'Paul Howell': \"Paul Howell apologized to the victim's family and then spoke for two minutes, during which time he went into details about the crime and blamed his friend for allowing the bomb that killed the victim, Trooper Jimmy Fulford, to explode. Crime Summary\", 'Vincent Cooks': ' Tell my family I love y\\'all. Watch out for Momma. Don\\'t want to talk too much, I will cry. I\\'ll just cry everywhere. I\\'m sorry, Teach, for not being a better son and not doing better things. It wasn\\'t your fault. You raised me the way you should, at least I won\\'t be there no more. I miss you, too. I see you there, you doing alright? I sent you a letter. Neckbone, there\\'s a sheet, I got your name on it. Keep on writing, now. Write to the, hun. Charles, keep the right, now. You people over there. You know what these people are doing. By them executing me ain\\'t doing nothing right. I don\\'t weigh 180 pounds and 5\\'7\". Take care, love y\\'all. Did Roger come up here yet? Tell Pat and them I love them. I\\'m gonna go ahead and let them do what their gonna do. Help your sister, see ya later Pat, love ya Becca. Do what you do, Warden.  ', 'John Marek. LCZ': '\"Jesus, remember the sinners.\"- John Marek, 47', 'Robert Morrow': 'Yes I do. Mike and Ms. Allison, I would like to tell you that I am responsible and I am sorry for what I did and the pain I caused you all. I love you Earline and all of my friends that stood by me. I feel blessed to have had you all. Stay strong and take care of them kids. Set me free Warden. Father, accept me.  ', 'Toronto Patterson': 'I am sorry for the pain: sorry for what I caused my friends, family and loved ones.  I feel a great deal of responsibility and guilt for all this crime.  I should be punished for the crime, but I do not think I should die for a crime I did not commit.  I am sorry, but nothing can bring Kim, Ollie, and Gigi back.  But I pray my death brings peace for my family that may unite the family.  I ask for your forgiveness and that you will all forgive me.  I have no animosity;  I am at peace and invite you all to my funeral.  We are still family.  I love you all, Momma, Aunt Deidra, family and everybody.  I love you.  I am ready, Warden.  ', 'Melvin White': \" Tell Beth and them I am sorry, truly sorry for the pain that I caused your family.  I truly mean that too.  She was a friend of mine and I betrayed her trust.  I love you all.  Tell momma I love her. The Lord is my shepherd; I shall not want,  He maketh me to lie down in green pastures; he leadeth me beside the still waters.  He restoreth my soul; he leadeth me in the paths of righeousness for his name's sake.  Yea, though I walk through the valley of the shadow of death, I will fear no evil; for thou art with me.  Thou preparest a table before me in the presence of mine enemies; thou anointest my head with oil; my cup runneth over.  Surely goodness and mercy shall follow me all the days of my life; and I will dwell in the house of the Lord for ever.   Our Father, who are in heaven, Hallowed be thy Name.  Thy kingdom come.  Thy will be done, On earth as it is in heaven.  Give us this day our daily bread.  And forgive us our trespasses, As we forgive those who trespass against us.  And lead us not into temptation, But deliver us from evil.  For thine is the kingdom, and the power, and the glory, for ever and ever.  Amen  All right Warden, let's give them what they want. \", 'Jesus Aguilar': \" Yes sir.  I would like to say to my family, I am alright. (Spanish) Where are you Leo; are you there Leo? (Spanish) Don't lie man.  Be happy.  Are you happy?  Are you all happy? (Spanish)  \", 'Andrew Flores': \" Yes sir.  Today I go home to the Lord.  But first, I have to say something.  I am real sorry.  I took family member's life and I shouldn't have.  I hope that you can move on.  I am just sorry.  I don't know what else to say.  I can't bring anyone back.  I would if I could.  I hope you will be fine.  I won't ask for your forgiveness.  God will be my judge.  To my family and friends, I love you all.  You all take care and somebody find Void.  Be strong and I will see you all; hopefully not soon.  Keep your head up.  That is all I have to say.  \", 'Robert Perez': ' Yes sir, Ernest, Christopher, Ochente, Mary and Jennifer tell all the kids I love them and never forget.  Tell Bobby, Mr. Bear will be dancing for them.  Tell Bear not to feel bad.  My love always, I love you all.  Stay strong Mary, take care of them.  I love you too.  I am ready Warden.  ', 'Daniel E  Wilson': 'Victim: Carol Lutz, 24', 'Jack Clark': ' First, I would like to say to the family that I am sorry, and I do ask for forgiveness. There will be also a funeral mass at St. Thomas and I would like to invite all of those from the State and the family to be there if they would like to come. My last words will be: And He was the light that shineth in the hearts of all man from the foundations of the world. If we confess our sins He is just and true to forgive us of our sins and cleanse us from all unrighteousness. Peace and goodness.  ', 'Carlos De Luna': 'I want to say I hold no grudges. I hate no one. I love my family. Tell everyone on death row to keep the faith and don’t give up.', \"Derrick O'Brien\": ' I do.  I am sorry.  I have always been sorry.  It is the worst mistake that I ever made in my whole life.  Not because I am here, but because of what I did and I hurt a lot of people - you, and my family.  I am sorry; I have always been sorry.  I am sorry.  You look after each other.  I love you all.  Be there for one another.  Alright.  But I am sorry; very sorry.  I love you too.  Alright. ', 'Christopher Coleman. LCX': '\"Yes. Ain’t no way fo fo, I love all y’all.\"- Christopher Coleman, 37', 'James Moreland': \" Dad, I love you both. You've been the best. All of you, all of you have truly been the best. And ah, I believe I'm going home. I'm sorry, and I really mean that, it's not just words. My life is all I can give. I stole 2 lives and I know it was precious to ya'll. That's the story of my whole life, that's what alcohol will do for you. Oh Jesus, Lord God, take me home. Precious Lord. Take me home Lord. Take me home. Yes, sir. Take me home oh Lord.  \", 'Jesse Joe Hernandez': '- Jesse Joe Hernandez, 47', 'Eliseo Moreno': 'This offender declined to make a last statement.  ', 'Jessie Gutierrez': 'I just love everybody, and that’s it.', 'David Holland': 'This offender declined to make a last statement.  ', 'Cedric Ransom': ' I just want to address Katrina and Rebecca. You have been beautiful to me. Without you in my life, I would not have been able to make it like this. Probably, I would have put up a good fight; you have calmed me. I love you. I respect you. Big brother, you put up the best fight you could and I love you. That is it. ', 'Harold Lane': 'This offender declined to make a last statement.  ', 'Justin Fuller': \" Yes I do, I would like to tell my family thank you for your support, and my friends. And let everyone know that you must stay strong for each other. Take care of yourselves. That's it, Warden.  \", 'Michael P  DeLozier': 'Victims', 'Johnnie Roy Baston': 'I hope my execution, that it will be the last, that people will open up. The victims in my case didn’t want me to be executed. They wanted life without parole. That should have been respected.', 'Guadalupe Esparza': \"I don't know why all of this happened. I don't know. Jesus, take me home, take me away from this place. Goodbye my friends. Jung and Arthur, tell my family I love them. I love everybody. Tell Emmanuel and Joseph I love them. \", 'Jermarr Arnold': \" Yes sir, members of Mrs. Sanchez's family, I don't know who you are and other people present.  As I said, I'm taking responsibility fro the death of your daughter in 1983.  I'm deeply sorry for the loss of your loved one.  I am a human being also.  I know how it feels, I've been there.  I cannot explain and can't give you answers.  I can give you one thing, and I'm going to give that today.  I'm give a life for a life.  I pray you will have no ill will or animosity.  You have the right to see this, I am glad you are here.  All I can do is ask the Lord for forgiveness.  I am not saying this to be facetious.  I am giving my life.  I hope you find comfort in my execution.  As for me, I am happy, that is why you see me smiling.  I am glad I am leaving this world.  I am going to a better place.  I have made peace with God, I am born again.  Thank you for being here, I'm sorry.  I hope you get over any malice or hatred you feel.  Because it yields sorrow and suffering.  I take responsibility for the loss of your daughter.  I can't give answers.  I hope you can find peace in the days to come.  God bless all of you.  Thank you all for being here. Begins singing:  Amazing Grace  \", 'James Colburn': \"The statement that I would like to make is, none of this should have happened and now that I'm dying, there is nothing left to worry about. I know it was a mistake. I have no one to blame but myself. It's no big deal about choosing right from wrong. I pray that everyone involved overlooks the stupidity. Everybody has problems and I won't be a part of the problem anymore. I can quit worrying now, it was all a mistake. That's all I want to say.  \", 'Daniel Wayne Cook': 'Final Words: \"I\\'d like to say sorry to the victim\\'s family. I know that\\'s not enough...(long pause)...Where am I? To my lawyers, thank you. Red Robin, yum. I\\'m done. I love you.\"', 'Ernest Baldree': 'This offender declined to make a last statement.  ', 'Milton Mathis': '\"The system has failed me. This is what you call a miscarriage of justice. Life is not supposed to end this way ... I just ask the Lord, when I knock at the -gates, you just let me in.\"- Milton Wuzael Mathis, 32', 'Final Statement of Michael Lee Wilson': 'Crime Summary', 'Peter Cantu': 'No', 'Elroy Chester': '\\xa0', 'Kenneth Granviel': 'This offender declined to make a last statement.  ', 'Clydell Coleman': 'This offender declined to make a last statement.  ', 'James Davis': 'Well, my friends in my heart, I’m ready –', 'Mario Swain': 'This offender declined to make a last statement.  \\n', 'Johnny James': 'This offender declined to make a last statement.  ', 'Kevin Zimmerman': \" Yes. Connie, Nanny, Bea, Kathy and Richard - I love you all and I thank you all very much for supporting me with your love. In the name of Jesus, I am sorry for the pain I caused you all. I am sorry. Gilbert didn't deserve to die and I want you all to know I am sorry. I pray that the good Lord will give you all peace. Okay. \", 'Daniel Lee Bedford': 'Victims:', 'Dominique Green': \" Yes.  Man, there is a lot of people there.  There was a lot of people that got me to this point, and I can't thank them all.  But thank you for your love and support; they have allowed me to do a lot more than I could have on my own.  Sheila, I wish I would have met you seven years ago; it would have been a lot easier.  But I have overcame a lot.  I am not angry, but I am disappointed that I was denied justice.  But I am happy that I was afforded you all as family and friends.  You all have been there for me; it's a miracle.  I love you.  And I have to tell Jessica I am sorry.  I never knew it would come to this.  Lorna, you know you have to keep my struggle going.  I know you just lost your baby; but you have to keep running.  Andy, I love you man.  Tell Andre and them that I didn't get a chance to reach my full potential, but you can help them reach theirs.  You needed me, but I just did not know how to be there for them.  There is so much I have to say, but I just can't say it all.  I love you all.  Please just keep the struggle going.  If you turn your back on me, you turn your back on them.  I love you all and I'll miss you all.  Thanks for allowing me to touch so many hearts.  I never knew I could do it, but you made it possible.  I am just sorry.  And I am not as strong as I thought I was going to be.  But I guess it only hurts for a little while.  You all are my family.  Please keep my memory alive.  \", 'George Jones': \"Yes, I do, uh at this time I would like to thank my parents who have been my pillar of strength throughout this. To my brothers and sisters and all my family members who have supported me and who have loved me despite my faults and imperfections. I would like to thank Pastor Williams for counseling me and guiding me. As I look to my right and I see the family of Forest Hall. I hope this brings you closure or some type of peace. I hope it helps his family, son and loved ones. This has been a long journey, one of enlightenment. It's not the end, it's only the beginning.  \", 'John Quintanilla': '\\xa0', 'Robert Salazar': ' Yes.  Yes, I do.  Do I just talk to the front?  O.K.  To everybody on both sides of that wall--I want you to know I love you.  I am sorry that the child had to lose her life, but I should not have to be here.  Tell my family I love them all and I will see them in Heaven.  Come home when you can.  I am done.  Love you all. ', 'Joseph Nichols': ' Profanity directed toward staff.  ', 'Noble Mays': 'This offender declined to make a last statement.  ', 'Frank Garcia': \"Thank you, Jesus Christ. Thank you for your blessing. You are above the president. And know it is you, Jesus Christ, that is performing this miracle in my life. Hallelujah, Holy, Holy, Holy. For this reason I was born and raised. Thank you for this, my God is a God of Salvation. Only through you, Jesus Christ, people will see that you're still on the throne. Hallelujah, Holy, Holy, Holy. I invoke Your name. Thank you, Yahweh, thank you Jesus Christ. Hallelujah, Amen. Thank you, Warden. \", 'Gerald Mitchell': \" Yes, sir. Where's Mr. Marino's mother? Did you get my letter? Just wanted to let you know, I sincerely meant everything I wrote. I am sorry for the pain. I am sorry for the life I took from you. I ask God for forgiveness and I ask you for the same. I know it maybe hard, but I'm sorry for what I did. To my family I love each and every one of you. Be strong. Know my love is always with you...always. I know I am going home to be with the Lord. Shed tears of happiness for me. I love each and everyone of you. Keep on living.  Betty, you have been wonderful. You guided me to the Lord. You have been like a mother to me. Sean, Rusty, Jenny, Marsha, God Bless each and every one of y'all. Jesus, I confess you as my Lord and Savior. I know when I die, I'll have life in heaven and life eternal everlasting. I am ready for that mansion that you promised me. Take care. It's alright Sean, it's alright. I'm going to a better place.  \", 'Stanley Baker': \" Well, I don't have anything to say.  I am just sorry about what I did to Mr. Peters.  That's all.  \", 'Jose Santellan': \"First of all, I would like to apologize to the Guajardo family even though they are not present. I loved Yolanda a lot. I hope and pray they can forgive me for all the pain. To my family, stay strong. Tom, Orlando, Celia, stay strong. Michael, thank you for your friendship. Thank you for the support you have given me. I thank all of you and I love all of you. To the guys on death row, stay strong and I hope to see you someday. Bye bye, I love you guys, don't worry about me. It's going to be alright. \", 'Farley Matchett': \" To my family and my mother and my three precious daughters, I love you all.  And to my brother and sister for standing with me throughout this situation.  Stay strong and know that I'm in a better place.  I ask for forgiveness.  And to the victim's family, find peace and cancellation with my death and move on.  Our Lord Jesus Christ, I commend myself to you.  I am ready.  \", 'Gregory Summers': 'This offender declined to make a last statement.  ', 'Roy Blankenship': 'Victim: Sara Mims Bowen, 78', 'Kenneth McDuff': 'I’m ready to be released. Release me.  ', 'Heliberto Chi': ' Jesus receive my spirit. I love you Edgardo; I appreciate your hard work. Thank you. Okay, Receive my spirit. Thanks sir.  ', 'Joseph Ries': \"Laura, I love you, stay strong. Jesus is coming back soon. Danny, something will pull us through. I will see you, keep your head up. For all of you, I am really sorry for what I've done. I wish you could have seen the videotape at the end of trial, so you could know the truth. I pray you find the peace through salvation. As my Lord, King of my life, find salvation through Christ. I hope He heals your heart. The truth is that you are going to feel empty after tonight. Standing with Christ in your heart, He can only give you peace. I pray you can find it, I really do. I love you Laura. I love you Danny. I love you Irene. (singing) Our god is an awesome God. Lord, I lift your name on high. \", 'Willie Pondexter': \" Well, first I want to say. They may execute me but they can't punish me because they can't execute an innocent man. I am not mad. Jack Herrington, I am not mad. You were given a job to do but that's neither here nor there. I am not mad. I am disappointed by the courts. I feel like I was upset and let down by them. But that's O.K. I just played the hand that life dealt me. Look at my life and learn from it. I am very remorseful about what I did. I apologize. To my kids, Daddy loves you. Irene Wilcox, Thank you. It's been a long journey. Thank you for being there. Tell Jack hello. I know I am wrong but I am asking ya'll to forgive me.  \", 'Michael Griffith': 'This offender declined to make a last statement.  ', 'Freddie Webb': 'Peace.', 'Marvin Wilson': \"Bohannon, Peg and Kim, I love ya'll. Son, get your life right with Christ, also your mother. Give mom a hug for me and tell her that I love her. Ya'll do understand that I came here a sinner and leaving a saint. Take me home Jesus, take me home Lord, take me home Lord. I ain't left yet, must be a miracle. I am a miracle. I see you, Rich. Don't cry son, don't cry baby. I love ya'll. I'm ready. \\n\", 'Jerome Butler': 'I wish everybody a good life. Everything is O.K.', 'Kenneth Hogan': '\"I am guilty for what I\\'m here for, and I take full responsibility for my actions. And to Lisa\\'s family, I say I\\'m sorry that I can\\'t undo it. And I\\'m sorry to my family for all the pain I\\'ve caused.\" He thanked his family members who were there. \"There\\'s a chemical taste in my mouth. I\\'m going. I\\'m going. I\\'m going.\"', 'Samuel Bustamante': 'This offender declined to make a last statement.  ', 'James Jackson': \" You know, once upon a time diamonds were priceless.  I never knew until I ran across my own.  I just want Eve to know that.  One of these days I'm going to return and get that for myself.  Thank you to my family, I love you.  Each and every one of you.  This is not the end, but the beginning of a new chapter for you and I together forever.  I love you all.  Remember what I told you Brad.  Ms. Irene, God bless you, I love you.  See you on the other side.  Warden, murder me.  Saddam and Gomorrah which is Harris County.  \", 'Bobby Wayne Woods. LCG': '\"Bye. I\\'m ready.\"- Bobby Wayne Woods, 44', 'Jasen Busby': \" Yes I do.  I want to tell everyone, my family, thanks for standing by me.  I want to tell Mr. and Ms. Gray and everyone that I didn't do what I did to hurt you all.  I am sorry that I did what I did.  I don't think you know the true reason for doing what I did, but Brandy and I had a suicide pact and I just didn't follow through with it.  That did not come out in the trial.  I am not trying to hurt you by telling you this.  I am trying to tell you the truth.  I want Cindy to know that I know she is out there -- and Vicente Hernandez that I love them.  Thank you for all you have done and I want to make sure you are alright.  That is all I want to say.  I am ready.  See you later.  I am ready.  \", 'Karl Hammond': 'This offender declined to make a last statement.  ', 'Carl Johnson': 'I want the world to know that I’m innocent and that I’ve found peace. Let’s ride.  ', 'Roy Pippin': ' Yes sir,  I charge the people of the jury.  Trial Judge, the Prosecutor that cheated to get this conviction.  I charge each and every one of you with the murder of an innocent man.  All the way to the CCA, Federal Court, 5th Circuit and Supreme Court.  You will answer to your Maker when God has found out that you executed an innocent man.  May God have mercy on you. My love to my son, my daughter, Nancy, Kathy, Randy, and my future grandchildren.  I ask for forgiveness for all of the poison that I brought into the US, the country I love.  Please forgive me for my sins.  If my murder makes it easier for everyone else let the forgiveness please be a part of the healing.  Go ahead Warden, murder me.  Jesus take me home.  ', 'Ynobe Matthews': 'This offender declined to make a last statement.  ', 'Derrick Jackson': 'No last statement.', 'Charlie Brooks': 'Yes, I do. \\r\\n  I love you. \\r\\n  Asdadu an la ilah illa Allah, \\r\\n  Asdadu an la ilah illa Allah, \\r\\n  Asdadu anna Muhammadan Rasul Allah,\\r\\n  Asdadu anna Muhammadan Rasul Allah. \\r\\n  I bear witness that there is no God but Allah. \\r\\n  I bear witness that Muhammad is the messenger of Allah. \\r\\n  Inna li-Allah wa-inna ilayhi rajiun. \\r\\n  Verily unto Allah do we belong, Verily unto him do we return.\\r\\n  Be strong.  ', 'Aaron Fuller': 'Jesus, the Lord, is everything to me. I am nothing without him. Praise Jesus. Praise God', 'Ricky Lewis': '\\xa0 ', 'Timothy Gribble': 'Last Verbal Statement: No sir, I just want to pray a chant, do what you have to do.  ', 'George Rivas': '- George Rivas, 41', 'Michael Perry': \"Yes, I want to start off by saying to everyone know that's involved in this atrocity that they are all forgiven by me. Mom, I love you.....(crying) I am ready to go Warden. Coming home dad, coming home dad.  \", 'Danny Barber': 'I want to talk to my friends over here for a second. Well, it’s good to see you guys. Look after Mary Lynn for me. Like I said, I’ve called my mother already, so she knows. Goodbye.', 'John Amador': \" God forgive them, God forgive them for they know not what they do. After all these years my people are still lost in hatred and anger. Give them peace God for people seeking revenge towards me. I love you guys, I love you guys. God give them peace. I love you Chiquita. Peace, Freedom, I'm ready.  \", 'Jack Trawick': 'Victim: Stephanie Alexis Gach, 21', 'Garry Miller': \" Maggie, I am sorry. I always wanted to tell you but I just didn't know how. I have been praying for y'all. I hope that y'all find the peace that y'all have been wanting. Lord, thank you for all my family, all my friends, and all my brothers on the row. Thank you for my spiritual family. Lord, be merciful with those who are actively involved with the taking of my life, forgive them as I am forgiving them. Be merciful to me a sinner. Protect us Lord as we stay awake and watch over us as we sleep as we wake may we may keep watch with Christ and sleep rest in His peace. All right, Warden. I am ready to go home.  \", 'Tommy Sells': 'This offender declined to make a last statement.  \\n', 'Carlos Granados': \"Yes, Love you mom, love you pop, love you Sara, and Amanda.  Um, Cathy you know I never meant to hurt you.  I gave you everything and that's what made me so angry.  But I didn't mean to hurt you.  I am sorry.  That's it.  \", 'Ricardo Ortiz': 'I love my family. Thank you for all of your support. Stay strong. I am at peace. I love you and my kids. See you. ', 'Anthony Cook': 'I just want to tell my family I love them, and I thank the Lord Jesus for giving me another chance and for saving me.', 'Ponchai Wilkerson': 'This offender declined to make a last statement.  ', 'Michael F  Rosales': 'To the witnesses he said, \"I love you.\" Then, \"May the Lord be with you. Peace. I\\'m done.\"- Michael Rosales, 35', 'Karl Eugene Chamberlain': '\"We are here to honor the life of Felecia Prechtl, a woman I didn\\'t even know, and to celebrate my death,\" then added, \"I wish I could die more than once to tell you how sorry I am.\"- Curtis Moore, 40', 'Luis Cervantes Salazar': 'Salazar expressed love to his friends and family. \"My heart is going ba-bump, ba-bump, ba-bump. \"Hah, hah!\" He then recite the Lord\\'s Prayer and asked for forgiveness for the \"sins that I can remember.\" - Luis Salazar, 38', 'Benny Joe Stevens': 'Victims:', 'Irineo Montoya': 'Fight for the good.  ', 'Mark Howard McClain': 'Victim: Kevin Scott Brown, 28', 'Rudy Esquivel': 'Goodbye to all my friends; be cool. Thank you for being my friends. Give my love to everybody.', 'Anthony Williams': 'Mother, I am sorry for all the pain I’ve caused you. Please forgive me. Take good care of yourself. Ernest and Otis, watch out for the family. Thank all of you who have helped me.', 'John Alba': \"Yes, first I want to tell the victim's family, Wendy's family, I am sorry for taking something so precious to you and to my kids. I wish I could take it all back and change it, but I know I can't. I hope you can find it in your heart to forgive me. Please tell Robert and Eric, I love them. I hope they forgive me. To my family, thanks for being beside me, Sabrina, you are a wonderful daughter, I am proud of you. Jr., John, you turned out to be a great young man. Hector, you too. Amy, thank you for always being there. Tell your family I love them. To my family, I appreciate you always standing by me and everything ya'll have done. Tell, everyone I love them. I'll be OK. You will too. Remember what asked you. Give my love to the grandchildren. Tell Jake and Mia, Papa Alba loves them. Okay Warden, let's do it, I love yall. I can taste it already. I am starting to go.  \", 'Anthony Westley': 'I want you to know that I did not kill anyone. I love you all. (Offender’s words were not clear)', 'Lamont Reese': \" Yeah.  Momma, I just want you to know I love you.  I want all of you to know I love you all.  I am at peace; we know what it is.  We know the truth.  Stay out of crime; there is no point in it.  I am at peace.  We know the truth and I know it.  I have some peace.  I am glad it didn't take that long - no 10 or 20 years.  I am at peace.  And I want everyone to know I did not walk to this because this is straight up murder.  I just want everybody to know I didn't walk to this.  The reason is because it's murder.  I am not going to play a part in my own murder.  No one should have to do that.  I love you all.  I do not know all of your names.  And I don't know how you feel about me.  And whether you believe it or not, I did not kill them.  I just want you all to have peace; you know what I'm saying.  There is no point in that.  It is neither here nor there.  You have to move past it.  It is time to move on.  You know what I'm saying.  I want each one of my loved ones to move on.  I am glad it didn't last long.  I am glad it didn't last long.  I am at peace.  I am at peace to the fullest.  The people that did this - they know.  I am not here to point fingers.  God will let them know.  If this is what it takes, just do what you got to do to get past it.  What it takes.  I am ready, Warden.  Love you all.  Let my son know I love him. \", 'Reginald Perkins': 'I already gave my statement. (talked to family) Love you all, take care. Bobby Nell Love ya.  ', 'James Collier': ' The only thing I want to say is that I appreciate the hospitality that you guys have shown me and the respect; and the last meal was really good. That is about it. Thank you guys for being there and giving me a little bit of spiritual guidance and support.  ', 'Jason Oric Williams': 'Victims:', 'David Long': \" Ah, just ah sorry ya'll. I think of tried everything I could to get in touch with ya'll to express how sorry I am. I, I never was right after that incident happened. I sent a letter to somebody, you know a letter outlining what I feel about everything. But anyway I just wanted, right after that apologize to you. I'm real sorry for it. I was raised by the California Youth Authority, I can't really pin point where it started, what happened but really believe that's just the bottom line, what happened to me was in California. I was in their reformatory schools and penitentiary, but ah they create monsters in there. That's it, I have nothing else to say. Thanks for coming Jack.  \", 'Terry Washington': 'This offender declined to make a last statement.  ', 'Randy Woolls': 'Goodbye to my family; I love all of you, I’m sorry for the victim’s family. I wish I could make it up to them. I want those out there to keep fighting the death penalty.', 'Robert Anderson': \" Yes, I would like to make a short brief one please.  To Audrey's grandmother, I am sorry for the pain I have caused you for the last 15 years and your family.  I have regretted this for a long time.  I am sorry.  I only ask that you remember the Lord because He remembers us and He forgives us if we ask Him.  I am sorry.  And to my family, and my loved ones - I am sorry for the pain for all those years and for putting you through all the things we had to go through.  I ask the Lord to bless you all.  Tammy, Irene, Betty, Dan Judy - I love you all.  And Jack, thank you.  Warden...  \", 'Markum Duff-Smith': 'I am the sinner of all sinners.  I was responsible for the ’75 and ’79 cases. My trial was not just; it was not fair; they lied against me. I love all of those on Death Row, and I will always hold them in my hands. Those who stood by me, I will always love you. Jim and Judy Peterson and Chaplain Lopez, I thank you for staying by my side.', 'Samuel Gallamore': \" Written: There are many things I would like to say, but none more important that how I feel toward Mr. & Mrs. Kenney, and Ms. Arnott.  I would like to apologize and say I'm sorry but words seem so hollow and cheap.  Their death should not have happened, but it did.  I'm so sorry that all of this took place.  Now I have devastated my family as well, but my heart has grown in the last few minutes because I was forgiven by the family of Mr. & Mrs. Kenney, and Ms. Arnott.  Thank You.  You have given me more hope then I have had in a long time.  If I could change things I would, not for my sake but for all those who have loved me over the years, and for those who have forgiven me.  Thank you for all that you have given me.  \", 'Clarence Lackey': 'I would like to thank my Lord Jesus Christ for keeping me strong all these years. I would also like to thank my mother for standing by me all these years. I would also like to thank my pen pals, Joe and Camille Tilling and JoAnn for helping me stay strong all these years. I also thank my two lawyers, Rita and Brent, for fighting to keep me alive. I love you, Mom -', 'Angel Resendiz': \" Yes sir. I want to ask if it is in your heart to forgive me. You don't have to. I know I allowed the devil to rule my life. I just ask you to forgive me and ask the Lord to forgive me for allowing the devil to deceive me. I thank God for having patience with me. I don't deserve to cause you pain. You did not deserve this. I deserve what I am getting. \", 'David Powell': 'This offender declined to make a last statement.  ', 'Emerson Rudd': \" Ok. I guess I'll address the Morgan family. Mrs. Morgan, the sister from the trial. Thirteen or fourteen years ago, I had a non-caring attitude at the time. I'm sorry for shooting your son down at that particular robbery. Politicians say that this brings closure. But my death doesn't bring your son back - it doesn't bring closure. I wish that I could do more, but I can't. I hope this brings you peace. Ursula, Manon, and Irene, I love y'all - take it easy. They've gotta do this thing. I'm still warm from the pepper gas. I love you. I'm ready to go. Call my mom and tell her that this particular process is over. Tell all the brothers to keep their heads up, eyes toward the sky. \", 'Alva Curry': ' I pray with the help of God that you will forgive me for the pain I caused your family. I am truly sorry. I wish I could take it back, but I just pray and ask that you forgive me.  ', 'William Burns': \" I just want to tell my Mom that I am sorry that I caused her so much pain and my family and stuff.  I love them and I hurt for the the fact that they are going to be hurting.  I really hate that; and that I'm hoping they are going to be O.K.  \", 'Billy Vickers': 'Yes.  I would just like to say to my family that I am sorry for all the grief I have caused.  I love you all.  Tell Mama and the kids I love you; I love all of you.  And I would like to clear some things up if I could.  Tommy Perkins, the man that got a capital life sentence for murdering Kinslow -- he did not do it.  I did it.  He would not even have had anything to do with it if he had known I was going to shoot the man.  He would not have gone with me if he had known.  I was paid to shoot the man.  And Martin, the younger boy, did not know what it was about.  He thought it was just a robbery.  I am sorry for that.  It was nothing personal.  I was trying to make a living.  A boy on Eastham doing a life sentence for killing Jamie Kent - I did not do it, but I was with his daddy when it was done.  I was there with him and down through the years there were several more that I had done or had a part of.  And I am sorry and I am not sure how many - there must be a dozen or 14 I believe all total.  One I would like to clear up is Cullen Davis - where he was charged with shooting his wife.  And all of these it was never nothing personal.  It was just something I did to make a living.  I am sorry for all the grief I have caused.  I love you all.  That is all I have to say. ', 'Gary Johnson': \"Tell my family goodbye. I can't see them. Jenny, you keep your promise to me, O.K.? Dell, you take care of Gaylene always. Dixie watch over all the kids. Tell them thank you for coming down. Jennie talk to them O.K.? Talk to Jennie, O.K. Dell. Dell you tell the rest of them what they did was wrong for letting me fall for what they did. I never done anything in my life to anybody.  \", 'Jeffery Motley': 'I love you, Mom. Goodbye.', 'Ronford Styron': \" Yes sir, Thank you.  I love y'all and I want y'all to know that.  Y'all always told me not to worry about myself.  I worry more about you all because I know where I am going.  I want to see you there, so get your heart right.  You know I love you and care for you.  I am going to go with my little boy and play with him.  Y'all take care and I love y'all.  I love y'all.  Chaplain Wilcox, Roger, Robin, Sarah, Grandma.  I love you.  Y'all be careful.  Lord Jesus, I see your Spirit, it's o.k.  I love you. \", 'Lawrence Brewer': 'No, I have no final statement. ', 'Franklin Alix': \"Yes I do, I would like to thank my family for their support, love and understanding. I would like to point out some things, I got your letter. It touched me and changed me. What happened was I been wanting to apologize to yall for your son. They told me not to do it in court. I wrote him a letter but they told me that they tore it up in court. I am not the monster they made me out to be. I made lots of mistakes that took your son. I'll take it to the grave, I will be at peace. You have test and drug results to show it. I am not just taking. I messed up, made poor choices. No rapes, I don't do drugs, I am not an alcoholic. Back to my family, Thank yall for being here. It is what it is. I got peace in my heart. Thank you. Bye bye yall. Bye bye peanut.  \", 'Ron Shamburger': ' A lot of people have always asked if there is a Heaven, and I say there is.  There is a Heaven and a Hell.  They ask, \"Who goes to Heaven?\"  I believe that it is those who have placed their faith in Jesus Christ. Romans 3:25:  For all have sinned and come short of the glory of God. Romans 6:23:  The wages of sin is death, but the gift of God is eternal life. Romans 5:8:  While we were yet sinners, Christ died for us. Romans 10:9:  If you confess with your mouth the Lord Jesus Christ, and that He was raised from the dead, thou shalt be saved. John 3:16:  For God so loved the world, that He gave his only begotten Son, that whosoever believeth in Him shall have everlasting life. A lot of people forget about: John3:36:  If you have the Son, you have life and if you have not the Son, the wrath of God lies on you. In this life, we sin and we make mistakes: 1 John 1:19:  If we confess our sins, He is faithful and just to forgive our sins. I had a verse that jumped out at me a few days ago.  Psalm 99:8 speaks of the holiness of God and He was to the people a God who forgave, but He took vengeance on his deeds.  I am not here because of my faith in the Lord Jesus, but I am here for not other reason than my own actions.  To the Bakers, I am really sorry for the pain and sorrow I caused you.  I really do not know what to say, but I am sorry - forgive me.  And to my parents, I am sorry for the pain I have caused you.  Forgive me; thank you for your love. ', 'Bruce Callins': 'I want to let all of my people know and everybody who is here and supported me that I love them and wish them all the best.', 'Elkie Taylor': \" Hello, ain't got to worry about nothing. I am going home. I hope to see all of ya'll one day. Lord have mercy on my soul. For the Flake family, stay strong. It's bad to see a man get murdered for something he didn't do, but I am taking it like a man, like a warrior. I am going home to Jesus. I love ya'll, peace. Iam ready sir... Don't forget to tell my daughter,,, I am ready, Warden. \", 'Dennis Dowthitt': \" I am so sorry for what y'all had to go through. I am so sorry for what all of you had to go through. I can't imagine losing two children. If I was y'all, I would have killed me. You know? I am really so sorry about it, I really am. I got to go sister, I love you. Y'all take care and God bless you. Gracie was beautiful and Tiffany was beautiful. You had some lovely girls and I am sorry. I don't know what to say. All right, Warden, let's do it.  \", 'Henry Dunn': ' Written: The Death Penalty in Texas is broke.  When an attorney can be forced to represent you, who is not qualified to represent you under Texas laws, the system does not work.  When an attorney can dismiss your appeal process, by missing a filing deadline or for failing to file documents on behalf of a client, thats not Due Process of Law as guaranteed under the Unites States Constitution, the system does not work.  When officials of any state, such as the State of Texas, has so much confidence in their justice system, mistakes will be made, and innocent people will be executed.  Texas has executed innocent people, and tonight, Texas has shown just how broke and unfair its system is.  There is no clemency in Texas, a process that needs to be reviewed, and fixed.  Most importantly, the Texas Justice System need to be fixed.  I hope the politicians such as Elliot Nashtat, Harold Dutton, Rodney Ellis, and others, continue to do their part in trying to fix the Texas Justice System, and until so is done, continue to work for a moratorium on the death penalty in Texas. The victim of this case is NOT forgotten.  To the West family, I hope you find in your hearts forgiveness and peace, and find the strength to move forward and the closure they are looking for.  Nicholas West is not forgotten, and never will be forgotten.  To my family and friends, Anne Dolatschko, Debbie Bilodeau, and the many supporters around the world, as well as my attorneys, Michael Charlton, who has always been there for me and done everything in their will and power to help me and stand by my side, I love you dearly, and you will always be in my heart forever.  Please continue to struggle and fight against the death penalty, as its only use has been for revenge, and it does not deter crime.  Its time for a moratorium in the State of Texas.  ', 'Robert Rowell': \"Yes sir. I would like to apologize to the victim's family and all the grief I have caused them. I would like to say I love the girls next to them. Praise the Lord. Let's go, Warden. That's it. \", 'Allen Janecka': \" First of all, I want to say God bless everyone here today.  For many years I have done things my way, which caused a lot of pain to me, my family and many others.  Today I have come to realize that for peace and happiness, one has to do things God's way.  I want to thank my family for their support.  I love you.  I am taking you with me.  You all stay strong.  I love you.  I also want to say thanks to the Chaplains who I have met through the years and who have brought me a long way.  And I cherish you as my family and at this time...oh, Ken, my little son, I am coming to see you.  Oh Lord, into your hands I commit my spirit.  Thy will be done.  \", 'Donald Miller': 'This offender declined to make a last statement.  ', 'Robert Coulson': \" I'm innocent. I had nothing to do with my family's murders. I want to thank everyone who has supported me. I hope they continue to fight. You know who you are. That's all. Thank you, Warden.  \", 'Richard Smith': 'This offender declined to make a last statement.  ', 'Carroll Parr': '\\xa0', 'Fletcher Mann': \"I would like to tell my family I love them. My attorneys did their best. All of my brothers on death row, those who died and those who are still there, to hang in there. And that's all I have to say.\", 'James Powell': 'I am ready for the final blessing.  ', 'James Smith': 'This offender declined to make a last statement.  ', 'Jerry McFadden': 'This offender declined to make a last statement.  ', 'Danielle Simpson': \" Yeah, I want to tell my family I love ya'll. Tell Kate I love her too. Tell brother, my kids I live ya'll. I'm gonna miss ya'll. I'm ready, ready. \", 'Edward Ellis': 'I just want everyone to know that the prosecutor and Bill Scott are sorry sons of bitches. To his family he added that he loved them all.', 'Ray Jasper III': 'Ray Jasper told his family to, \"take care of each other, stay strong and faithful to God.\" He then thanked his supporters and told his daughter that he loved her and told her to, \"be strong, be positive, have a great life.\" His final words were, \"Lord God almighty in heaven Jesus Christ see my spirit. Amen\"', 'Andrew Cantu': 'This offender declined to make a last statement.  ', 'Joseph Jernigan': 'This offender declined to make a last statement.  ', 'Reginald Perkins. LB4': 'I already gave my statement. (talked to family) Love you all, take care. Bobby Nell Love ya.- Reginald Perkins, 53', 'Steven Renfro': 'Take my hand, Lord Jesus, I’m coming home.', 'Excell White': 'This offender declined to make a last statement.  ', 'Kenneth Gentry': 'Sweet Jesus, here I come. Take me home. I am going your way.', 'Robert Thompson': \"Yes, I bear witness that there is no God, but Allah. From Allah we came and from Allah we will return. To my mother, friends I would like to thank you for all that you have done for me. For you love. This is another testimony of faith. We all have to walk this path. Smile, be happy don't cry. To the family of any victims, AsSalaam Alaikum, unto Allah I belong, unto Allah we return. I just want you to know that I never meant any of your family to get hurt. I hope you forgive me. I know Allah will forgive me, Allah is the forgiver. Go ahead Warden. I love you, love you too. \", 'Cecil C  Johnson Jr': 'Victims:', 'Jose De La Cruz': 'This offender declined to make a last statement.  ', 'Donnie Roberts': '\\xa0 ', 'Yokamon Hearn. P7j': 'Final words of Marvin Lee Wilson: Speaking to his family, Wilson said \"Give mom a hug for me and tell her that I love her. Take me home, Jesus. Take me home, Lord. I ain\\'t left yet, must be a miracle. I am a miracle. Y’all do understand that I came here a sinner and leaving a saint?\" He told his son not to cry and told his family he would see them again. He then told the warden that he was ready.', 'Leonel Herrera': 'I am innocent, innocent, innocent. Make no mistake about this; I owe society nothing. Continue the struggle for human rights, helping those who are innocent, especially Mr. Graham. I am an innocent man, and something very wrong is taking place tonight. May God bless you all. I am ready.  ', 'Michael Sigala': \" Yes sir, I would like to ask forgiveness of the family. I have no reason for why I did it, I don't understand why I did it. I hope that you can live the rest of your lives without hate. I pray the Lord grant me forgiveness. All powerful and almighty Lord I commit myself to thee, Amen. \", 'Robert West': 'I will wait for you –', 'Desmond Jennings': 'This offender declined to make a last statement.  ', 'Reginald Reeves': \" I pray that we all may learn to love and forgive so that we can have peace in the world.  It is with loving and forgiveness and living to learn to love and loving to live that we can learn the power of forgiveness and learn to live as brothers and sisters on this earth.  Until then, this will continue to happen -- capital punishment; and if we don't forgive, sooner or later we will all self-destruct.  You need to open up your heart and let God in.  I apologize for taking the life of your daughter and I know how much pain you must be in because I saw my family today.  And although my pain is not as deep as yours, I am very sorry.  Today, this does not bring you peace because this is not really the way.  We should forgive and love and I do apologize with all my heart and soul and I love you and I know your spirit and God dwells within us and we are all one big family of humanity; we must all learn to love and live together.  I will see you on the other side.  Thank you for your hospitality. \", 'Eddie Powell III': 'Victim: Mattie Lee \"Polly\" Wesson, 70', 'Leon King': 'I would like to tell Mr. Richard that I appreciate all he has done for me. I love you all. God bless. Goodbye, David.  ', 'Richard Drinkard': 'This offender declined to make a last statement.  ', 'David Spence': 'I love you all – (names of children) – Corey, Steve (garbled) – This is very important. I love ya’ll and I miss ya’ll. O.K., now I’m finished.', 'Douglas Roberts': \"Yes sir, Warden Okay I've been hanging around this popsicle stand way too long.  Before I leave, I want to tell you all.  When I die, bury me deep, lay two speakers at my feet, put some headphones on my head and rock and roll me when I'm dead.  I'll see you in Heaven someday.  That's all Warden. \", 'James Edward Martinez': 'Martinez told his mother and sister that he loved them and thanked them for everything they had done for him. He then told them, \"I hope y’all can move on after this. I’ll be fine. I’m fine,\" and added, \"Take care, OK?\"-James Martinez, 34', 'Michael Lynn Riley': '\"I know I hurt you very bad. I want you to know I\\'m sorry. I hope one day you can move on and, if not, I understand.\"', 'Spencer Goodman': \" To my family, I love them. To Kami, I love you and will always be with you. That's it Warden.  \", 'Andrew Cook': 'More: The Crimes of Andrew Cook', 'Monty Delk': ' \"I\\'ve got one thing to say, get your Warden off this gurney and shut up. I am from the island of Barbados. I am the Warden of this unit. People are seeing you do this.\"  ', 'Patrick Rogers': 'Praise Allah –  (some more Allah mumbling)', 'Clifford Kimmel': 'This offender declined to make a last statement.  ', 'Richard Dinkins': \" Written  To the families of Ms. Thompson and Ms. Cutler. I am sorry for what happened and that it was because of me that they are gone.  If there were any way I could change things and bring them back I would. But I can't.  Because of what I caused to happen many people were affected and I am very sorry that I did.  I have made my peace with God and I pray that soon everyone will be able to have closure in their hearts and lives.  To my family and friends, I love you and some day we will all be together again.  \", 'Jonathan Nobles': 'And now these three remain: faith, hope and love. But the greatest of these is love.', 'Robert Lee Thompson': '\"I know Allah will forgive me,\" he said. \"Allah is the forgiver.\"Robert Lee Thompson, 34', 'Daniel Reneau': 'This offender declined to make a last statement.  ', 'Mark Wiles': \"Mark Wiles worked for Mark Kilma's parents on their horse farm in Roostown, Ohio until he was suspected of stealing money.\", 'Charles Thacker': \"Jack and Irene, I love you guys.  Tell my family I love them.  I am sorry for the things I have done.  I know God will forgive me.  Keep track of Danielle for me.  I will miss you guys.  I love you.  I guess that's all. \", 'Cornelius Goss': \" I'd like to apologize to the victim's family. Ah, no ah, I really can't say, I don’t think I can say anything that will help, but I hope through your God, you can forgive me. I'm definitely not the person now that I was then. I was sick, afraid, and looking for love in all the wrong ways. I've caused you pain and grief beyond ever dreaming to cause someone of. I hope you will be able to forgive me. To my mother, I love you very much. Thanks, Jones.  \", 'Kelsey Patterson': \"Statement to what.  State What.  I am not guilty of the charge of capital murder.  Steal me and my family's money.  My truth will always be my truth.  There is no kin and no friend; no fear what you do to me.  No kin to you undertaker.  Murderer.  [Portion of statement omitted due to profanity] Get my money.  Give me my rights.  Give me my rights.  Give me my rights.  Give me my life back.\", 'Christopher Coleman': \"Yes, Ain't no way fo' fo', I Love all yall.  \", 'Danny Harris': 'I would like to tell my family I love them very dearly, and I know they love me. I love all of the people who supported me all of these years. I would like to tell the Merka family I love them, too. I plead with all the teenagers to stop the violence and to accept Jesus Christ and find victory. Today I have victory in Christ and I thank Jesus for taking my spirit into His precious hands. Thank you, Jesus.  ', 'Gayland Bradford': 'Victim:Brian Edward Williams, 29', 'Jose Gutierrez': ' Mama Isabel told me to tell you hello. Holy, holy, holy! Lord God Almighty! Early in the morning our song shall rise to Thee; Holy, holy, holy, merciful and mighty! God in three Persons, blessed Trinity. Holy, holy, holy! Merciful and mighty. All Thy works shall praise Thy name, in earth, and sky, and sea; Holy, holy, holy, merciful and mighty! God in three Persons, blessed Trinity. Oh, our Father who art in heaven, holy, holy, holy be Thy name. Thy kingdom come, Thy will be done, on earth as it is in heaven. Give us this day our daily bread and forgive us our sin as we forgive our debtors. Lead us not into temptation, but deliver us from evil, for Thine is the kingdom and the power and the glory forever and ever. Now, Father, into Thy hands I commit my spirit. Amen.  ', 'Jeffery Doughtie': \"For almost nine years I have thought about the death penalty, whether it is right or wrong and I don't have any answers. But I don't think the world will be a better or safer place without me. If you had wanted to punish me you would have killed me the day after, instead of killing me now. You are not hurting me now. I have had time to get ready, to tell my family goodbye, to get my life where it needed to be.  It started with a needle and it is ending with a needle.  Carl, you have been a good friend, man. I am going to look for you. You go back and tell your daughter I love her. Tell her I came in here like a man and I will leave like a man. It's been good, dude. Thank you, Shorty. I appreciate you. I came in like a man and I will leave like a man. I will be with you. I will be with you every time you take a shower. If you leave crying you don't do me justice. If you don't see peace in my eyes you don't see me. I will be the first one you see when you cross over.  They got these numbers that I called today. Calling my family.  That is it. Ready, Warden.  \", 'John Moody': 'I’d like to apologize and ask forgiveness for any pain and suffering I have inflicted upon all of you, including my family. All of you, I am very sorry. There is a point where a man wants to die in judgment. Though my judgment is merciful, I hope and pray that all those involved as well as the judgment upon ya’ll, will one day be more merciful than mine. God bless you all. God speed. I love you. Remain strong. Ask God to have mercy. I love you all, too. I’m very sorry. I’ve got to go now. I love you.  ', 'Michael Hall': \"As for my family, I am sorry I let you down. I caused a lot of heartache, and I ask for your   forgiveness. I am not crying for myself, I am crying for the lost and   those that are dying for their sins, those that are committing suicide,   those that don't know God and have never been set free. I've been locked   up 13 years. I am not locked up inside, all of these years I have been   free. Christ has changed me. Even though I have to die for my mistake,   he paid for mine by wages I could never pay. Here I am a big strong   youngster, crying like a baby. I am man enough to show my emotions and I   am sorry. I am sorry for everything. I wish I could take it back, but I can't.  \", 'G.W. Green': 'Let’s do it, man. Lock and load. Ain’t life a [expletive deleted] ?', 'Clifton Russell': 'I would like to thank my friends and family for sticking with me through all of this. I would like to encourage my brothers to continue to run the race. I thank my Father, God in Heaven, for the grace he has granted me –  I am ready.', 'Ricky Green': 'I want to thank all of my friends for supporting me and for being here for me. Thank all of my friends on the row. Thank you Lord. I am finished.  ', 'Richard Beavers': 'This offender declined to make a last statement.  ', 'Charles Bass': 'I deserve this. Tell everyone I said goodbye.', 'Ricky Blackmon': 'This offender declined to make a last statement.  ', 'William Wyatt': \"Yes I do. I would like to say to my two brother-in-laws and the rest of my family that I would like to thank you for supporting me through all of this. I went home to be with my Father and I went home as a trooper. I would like to say to Damien's family I did not murder your son. I did not do it. I just want you to know that -- I did not murder Damien and would ask for all of your forgiveness and I will see all of you soon. I love you guys. I love you guys. That's it. \", 'Michael Wayne Hall': '\"I am sorry for everything. I wish I could take it back, but I can\\'t.\"- Michael Wayne Hall, 31', 'David Mark Hill': 'Victims:', 'Yosvanis Valle. LCB': 'I am sorry, I never wanted to kill your family. I never wanted to kill your family or these people. I am sorry for the way I talk in English. I did it to myself. I was forced to do it. I was a gang member. I never wanted to kill your brother. I was forced to do this. I blame myself. I am not going to blame nobody. I got my mother and my family too. I was forced. I tell you from my heart. I am sorry with all my heart.', 'James Martinez': \"Yes sir, I want to tell my mom that I love her and thank her for everything that she has done for me. Tell my sister that I love her too thank her for everything that she has done for me. I hope you can move on after this. I'll be fine. I'll be O.K. I love you too. I love you too. Take care O.K. That's all I have to say Warden. Thank you sir.  \", 'Billy Hughes': \" Yes, I do. I want to tell you all how much I love you all, how much I appreciate everything. I love you all and my family. I treasure every moment that I have had. I want the guys to know out there not to give up, not to give in, that I hope someday the madness in the system, something will come about, something will be resolved.  I would gladly trade the last 24 years if it would bring back Mark Fredericks. Give him back his life, give back my father his life, and my mother her health. All I ask is that I have one day and all the memories of you and my family and all the things that have happened. They are executing an innocent man because things did not happen as they say they happen and there's. The truth will come out someday. I am not the same person as I was 24 years ago. Who would have thought it would have taken 24 years to get to this moment? Don't give up, don't give in. If I am paying my debt to society, I am due a rebate and a refund, but I love you all and you all watch out for Mom and you all keep up, keep going.  Thank you, Warden.  \", 'Richard Hinojosa': ' Yes sir, to my family and children, I love you very much.  Dianne, Virginia, Toby and Irene I love all of you.  I apologize for not being the man you wanted me to be.  I am going to be free, I am going to Heaven.  Please be strong and I love you all. To the Wright family, I pray for you, please find peace in your heart.  I know you may hate me for whatever reason, the Lord says hate no one.  I hope you find peace in your heart.  I know my words cannot help you, I truly mean what I say.  God Bless you all.  I love you Dianne, Mary Virginia. Kick the tires and light the fire, I am going home to see my son and my mom, I love you and God Bless you.  ', 'David Martinez': ' Only the sky and the green grass goes on forever and today is a good day to die.  ', 'Troy Kunkle': ' Yes sir.  I would like to ask you to forgive me.  I made a mistake and I am sorry for what I did.  All I can do is ask you to forgive me.  I love you and I will see all of you in Heaven.  I love you very much.  Praise Jesus.  I love you.  Our Father, who art in Heaven, hallowed be thy name.  Thy kingdom come, Thy will be done, on earth as it is in Heaven.  Give us this day our daily bread, and forgive us our trespasses as we forgive those who have trespassed against us.  And lead us not into temptation, but deliver us from evil.  Amen.  ', 'Stephen McCoy': 'This offender declined to make a last statement.  ', 'Larry Anderson': 'This offender declined to make a last statement.  ', 'Gary Sterling': \"I would like the Chaplain to say a prayer, not only for me but for the victim's family.  For them being misled, I am sorry.  That is all I have to say. \", 'Odell Barnes': \" I'd like to send great love to all my family members, my supporters, my attorneys. They have all supported me throughout this. I thank you for proving my innocence, although it has not been acknowledged by the courts. May you continue in the struggle and may you change all that's being done here today and in the past. Life has not been that good to me, but I believe that now, after meeting so many people who support me in this, that all things will come to an end, and may this be fruit of better judgments for the future. That's all I have to say.  \", 'Cameron Willingham': \"Yeah. The only statement I want to make is that I am an innocent man - convicted of a crime I did not commit. I have been persecuted for 12 years for something I did not do. From God's dust I came and to dust I will return - so the earth shall become my throne. I gotta go, road dog. I love you Gabby. [Remaining portion of statement omitted due to profanity.] \", 'Vernon Sattiewhite': 'I would like to say – I just hope Ms. Fielder is happy now. I would like to thank my lawyer, Nancy, for her help on my case and for being with me now.', 'Virgil Martinez': ' Yes I do. Um Abel, Love ya\\'ll, Evelyn love ya\\'ll, Armando and Delia I love ya\\'ll. Do what I told you and you will see me one day. Do that and promise me. First, Veronica\\'s sister. I know what you\\'ve been told and that\\'s all a lie. John Gomez killed your kids and sister. I know ya\\'ll love John Gomez but he was a violent man. I wish I would have shot him in the leg, then he would be here. Those investigators were just trying to convict somebody. My gun had a hair trigger. Veronica told me to come and get my herb book and she went to the back of the closet. Her kids had asthma and I lent her the book. She said she would give it to me next time. She didn\\'t want to break up, we still talked. She told me to come over. John Gomez said Veronica does not have the money for your book so don\\'t come over. Me being a hot shot I went over there and I had my gun. I had children and nephews where I lived so I had to keep my gun in my truck for self defense. Veronica invited me in her house, the kids were still awake fixing to go to bed. I put the gun under my shirt and said Hi to Josh and Cassandra. John Gomez was there he told Veronica that \"he doesn\\'t love you\" I didn\\'t care.  ', 'Earl Heiselbetz': \"Love ya'll, see you on the other side.  \", 'Jamie McCoskey': '\\xa0', 'Michael McBride': \"Spoken: Thank you, um, I anticipated that I would try to memorize and recite beatitudes New Testament, more or less, Luke's beatitudes, I should say, and a , a chapter on love in 1st Corinthians chapter 13, ah, I pretty much knew that I would not be able to memorize so much. There was also a poem that went along with it and in anticipation of not being able to, um, fulfill that desire, I provided a written statement that will be made available to anybody that wants it, I believe. Isn't that correct? So, uh, I wanted you to hear me say that and I apologize and for any other grief I have caused you know, including the, ah, what you're about to witness now. It won't be very long. As soon as you realize that appear I am falling asleep. I would leave because I won't be here after that point. I will be dead at that point. It's irreversible. God bless all of you. Thank you.  \", 'Clifford Phillips': 'I want to express my feelings regarding the mishap of the deceased Mrs. Iris Siff. That was a very unfortunate incident and only God knows why it was an unintentional situation that took place. I want to express my remorse to the family and the discomfort and pain I caused in their lives. Only God will determine if I am truly guilty or innocent of being the type of person I have been drawn up to be by the press and media. I have given my wife the power and energy to be a disciple of Islam. I rescued her from a wretched life in Ireland. I thank Allah for sending her to me. Certainly murder cannot be an instrument of Allah. My wife is very devoted.', 'Robert Towery': 'Lowery then began to cry and looked at his family and said, \"I love my family. Potato, potato, potato.\" - Robert Towery, 47', 'Jason Massey': \" Yes, first I would like to speak to the victims' family.  First of all, I would like to say that I do not know any of y'all and that is unfortunate, because I would like to apologize to each and every one of you individually.  I can't imagine what I have taken from y'all, but I do want to apologize and I want to let you know that I did do it.  You guys know that I am guilty and I am sorry for what I have done.  I apologize and I know that you may not be able to forgive me and I know that may not be able to forgive me in this life and in this world, but I hope sometime in the future you will be able to find it in you to forgive me.  And I want you to know that Christina, she did not suffer as much as you think she did.  I promise you that.  I give you my word.  I know you guys want to know where the rest of her remains are.  I put her remains in the Trinity River.  I have said that since I have come to death row.  I want to apologize to you again.  I hope sometime in the future you can forgive me.  Okay, now I want to speak to my mom and my family.  Brother Anderson, Kathy, I want you to know that I appreciate all these years that you have been coming to see me on death row and Daddy, I love you.  I appreciate y'all being here and being strong for me, and Mama, you know I love you, and I appreciate all of these visits, the letters and everything y'all have done for me.  Y'all have been wonderful.  You too, Granny.  I love y'all and you know, I want to apologize to y'all too for what I have done.  For all of the pain that I have caused, but all of this pain has brought us closer together and all of this suffering that we have been through has brought us all closer to the Lord and in the end that is what counts.  Isn't it?  That's what counts in the end; where you stand with Almighty God.  I know that God has used this to change my life.  And it's all been worth it because of that.  If I lie here today where I lie, I can say in the face of death, Jesus is Lord.  He has changed my life and I know that when I leave this body, I am going home to be with the Lord forever.  That is all I want to say.  I love y'all and I won't say goodbye, I will say I will see you again.  I love you, Daddy. Tonight I dance on the streets of gold.  Let those without sin cast the first stone.  \", 'Max Landon Payne': 'Victim: Braxton Brown, 58', 'David Gibbs': \" Mr. Bryant, I have wronged you and your family and for that I am truly sorry. I forgive and I have been forgiven. Death is but a brief moments slumber and a short journey home. I'll see you when you get there. I am done, Warden.  \", 'Lawrence Buxton': 'I’m ready, Warden.', 'Alvin Crane': \" I would like to say a little something. I just want to say I'm sorry to the family. I know I caused you a lot of pain and suffering and I hope that you will find some peace and comfort in this. That if there is any anger you can let it go. Not let it come between you and God. Sorry for causing everybody such trouble tonight, Bruce, Joe, ya'll all treat me with respect I appreciate it. I really do. I just want to tell my family, everybody I love and I want you to know that I love you, and that God loves you too. Everything is going to be just fine, just fine. I love ya'll. That's it.  \", 'Clifton Belyeu': 'Amen.', 'Lisa Coleman': '\\n', 'James Allridge': \" Yeah.  I want to thank my family and friends; my family for all loving me and giving me so much love.  I am sorry; I really am.  You, Brian's sister, thanks for your love --  it meant a lot.  Shane -- I hope he finds peace.  I am sorry I destroyed you all's life.  Thank you for forgiving me.  To the moon and back -- I love you all.  \", 'Jose Medellin': \" I am sorry my actions caused pain. I hope this brings closure to what you seek. Don't ever hate them for what they do. Never harbor hate. I love you. Alright Warden.  \", 'Michael Riley': \"Yes I do. To the Harris family. I have been trying to tell you for years that I am sorry. I know that I hurt your family bad. I am sorry. Wynona should not of even have happened. I am sorry. I truly am sorry for the hurt and pain I caused you. I hope you can forgive me. One day I hope you can move on and if not I understand. Tim Jackson, Bobby Dan Spade and Mr. Segal thank you for your lies. Your lies set me free. I couldn't do a life sentence. To my mom, I'm sorry. I love you. I'm not the big son that you wanted me to be. But, I love you. To my friends, Synnova, Kay I thank you for everything. I'm ready. I told you years ago that I was ready. Synnova tell everyone I got full on Chicken and Pork Chops. Rodney, take care of my mom. To the fellas on the row, stay strong. Renee, I love you baby. Fleetwood is up out of here. I'm ready Warden. \", 'Ivan Murphy': ' Yes sir, I do.  I would like to thank everybody for coming out tonight and celebrating life.  This is a celebration of life, not death.  Through Jesus Christ, we have victory over death.  I would like to thank the Holy Father and Pope John Paul for their angelic blessings and all the prayers and support.  And thanks to Father (name unknown) and Guido Todeschini for your love and support.  I want to thank everybody around the world and Father, let your will be done.  I am going to keep this statement short.  I love you all.  I am ready, Warden.  ', 'Bobby Woods': \" Bye, I'm Ready. \", 'Calvin King': ' I want to say God forgives as I forgive. God is the greatest. Thank you.  ', 'Frank Moore. LEJ': '\"I would like to say that Capital self defense is not Capital Murder.\"', 'David Goff': \" I want to give all the praise to God and glory and thank him for all that he done for me. With this let all debts be paid that I owed - real or imagined. The slate is wiped clean, all marked erased other than that there is no justice. That's not justice. Praise the Lord. Glory to Jesus Christ. Praise the Lord God.  \", 'Betty Beets': 'This offender declined to make a last statement.  ', 'Edgar Tamayo': 'This offender declined to make a last statement.  \\n', 'William Little': 'This offender declined to make a last statement.  ', 'Gary Carl Simmons Jr ': '“I’ve been blessed to be loved by some good people, by some amazing people. I thank them for their support. Now, let’s get it on so these people can go home. That’s it.\"', 'Darryl Stewart': 'This offender declined to make a last statement.  ', 'Jimmy Lee Dill': 'Victim: Leon Shaw, 33', 'Steven Thacker': 'Thacker then fled to Missouri where he killed Forrest Reed Boyd and stole his car and credit cards. Next he drove to Tennessee, but the car he had stolen broke down and he called a tow-truck. He attempted to pay for the tow with a stolen credit card, but the tow-truck driver Ray Patterson confronted him about the stolen card. Thacker in turn knifed Patterson to death.', 'John Lamb': \" I'm sorry, I wish I could bring them back. I'm done, let's do it.  \", 'Troy Davis': '\"I\\'d like to address the MacPhail family. Let you know, despite the situation you are in, I\\'m not the one who personally killed your son, your father, your brother. I am innocent. The incident that happened that night is not my fault. I did not have a gun. All I can ask ... is that you look deeper into this case so that you really can finally see the truth. I ask my family and friends to continue to fight this fight.', 'Preston Hughes': \"Yes, Warden. Mom, Celeste: Please know I'm innocent and I love you both. Please continue to fight for my innocence even though I'm gone. John, Cort, Allen, Barbara, Louis, and Anna: Thank you for helping me and trying to save my life. I love you. Give everybody my love. Jason, thank you for your friendship. Thank Laura, too. I love all of you. Bye. Ok, Warden.\", 'John Burks': \"Hey, how are ya'll doing? Alright, it's gong to be alright. There's some guys I didn't get a chance to visit with, ah I met when I first drove up here…Lester Byers, Chris Black, Alba, John Alba, and Rosales Rock. You know who you are. The Raiders are going all the way, ya'll (mumbles…Mo-B). Ya'll pray for me. And it's going to be alright. That's it and it's time to roll up out of her. It's going down, let's get it over with. That's it.  \", 'Jeffrey Matthews': \"Victim: Otis Earl Short, 77, Matthew's great uncle\", 'Johnny Martinez': \"First of all, I want to say that I want to apologize to Clay Peterson's father.  I am sorry.  And I want to thank you for everything you tried to do; it meant a lot to me.  I want to thank David Dow; you have been great to me and I know that I am fixing to die - but not for my mistakes.  My trial lawyers - they are the ones that are killing me.  I love my family and I know where I am going.  You all take care - Celina, David and tell Mama I love her, too.  I didn't call her 'cause I just couldn't.  I am going to heaven and I'll see you there.  Tom Crouch, and everybody, I love you.  Chiara, thank you for everything.  Fred, Rachel, Daniel, Oralia - thank you for being there for me.  I will be there with you all in spirit.  David Dow, you have been great.  Mary Moreno, from the Corpus Christi Caller Times, thank you for what you wrote.  You have been sincere and I wanted to talk to you, but they wouldn't let me.  David Dow, let them know what happened.  I am fine; I am happy; I will see you on the other side.  \", 'Keith Clay': 'I would like to say first and foremost to the Lord God Almighty that I am sorry and forgive me of every single solitary sin I have committed these 35 years I have lived upon this Earth.  To the Varghese family, I would ask that you forgive me because I know you have suffered a great loss and I am truly, truly sorry.  I know what you have suffered, but please grant me your forgiveness.  I am truly sorry, and there is not a day that I have not prayed for you.  And to my Mom, I love you.  I am going to see the Lord.  The Lord is my Shepherd.  Let everyone know that I love them; this is not goodbye.  I will see you later.  ', 'Raymond Jones': 'This offender declined to make a last statement.  ', 'Billy Gardner': 'I forgive all of you – hope God forgives all of you too.', 'Walter Williams': '(Mumbled something about he wished his whole life would have been spent as Islamic.)', 'Stephen Nethery': 'Well, I just wanted to ask people to pray for two families: my family and the family of Officer McCarthy. I appreciate the prayers. Lord Jesus, receive my spirit.', 'Jonathan Moore': \" Jennifer, where are you at?  I'm sorry, I did not know the man but for a few seconds before I shot him.  It was done out of fear, stupidity, and immaturity.  It wasn't until I got locked up and saw the newspaper.  I saw his face and his smile and I knew he was a good man.  I am sorry for all your family and my disrespect - he deserved better.  Sorry Gus.  I hope all the best for you and your daughters.  I hope you have happiness from here on out.  Quit the heroin and methadone.  I love you dad, Devin, and Walt.  We're done Warden.  \", 'Curtis Harris': 'This offender declined to make a last statement.  ', 'Gary Welch': 'Final Words:\"I was just going to ask everybody if they could hear my brothers out there.\"', 'Kenneth Dunn': 'This offender declined to make a last statement.  ', 'Rogelio Cannady': \"Yes, I do, Victor, Gary Hey bros, I know you can hear me, I can't hear you. I was in there right now thinking how we grew up... You know how we grew up in the same house. We need to love each other like we use to. Deena, Bob we were raised in the same house, we need to take care of each other and love each other like we use to. Adela I love you, Mijta, I need you to take care of your mom. We need to love each other like we use to. Juana, all the kindness that you showed me. Taking the time to show me the friendship that you did. I can never repay that. Take of yourself OK; you see I am doing good. I am OK. Thank you for showing me that I can be loved again. You showed me a love that I sometimes didn't deserve. I love you for that. You need to take care of yourself. I am going to be OK; I know where I'll be. I love you, I love you, I love you, I love you , I love you, I love you too bro. Take care of yall. May God have mercy on my soul. I thought it was going to be harder than this. I am ready to go. I am going to sleep now. I can feel it, it's affecting me now.  \", 'Lesley Gosch': 'This offender declined to make a last statement.  ', 'William Rousan': '\"My trials and transgressions have been many. But thanks be to my Lord and savior, Jesus Christ, I have a new home in his heavenly kingdom.\"', 'Richard Foster': \" I have been crucified with Christ. It is no longer I who lives, but Christ who lives in me. So for the life for which I live now in the flesh, I live by faith in the Son of God who loved me and gave himself for me. I love you, Annie. You have been the best friend I have ever had in the world. I'll see you when you get there, okay?  I am ready, Warden.  \", 'Luis Salazar': \" Yes, I do. Thank you for your friendship Reverend Whiteside and thank you for your fellowship. God help me to say this statement correctly. I would like to say goodbye to mom and my brother, brother, sister, Chelsea, Danny, Johnny, Tito and Sylvia. My heart goes is going ba bump ba bump ba bump. I love my children, Roxanne, Roseanne, Melissa, and Louis. I miss them; I will take them with me in my heart. I will keep them in my heart. Thank you Mrs. Dyson for praying for me and everyone that has been praying for me. God loves everybody and myself. I can't say this correctly. Let's see. That's all right. I guess that's it. Our Father, who art in heaven, Hallowed by thy Name. Thy kingdom come. Thy will be done, On earth as it is in heaven. Give us this day our daily bread. And forgive us our trespasses, As we forgive those who trespass against us. And lead us not into temptation, But deliver us from evil. For thine is the kingdom, and the power, and the glory, for ever and ever. Amen. Lord Jesus forgive of my sins, please forgive me for the sins that I can remember. \", 'Jonathan Green': '\\xa0 ', 'Edward Lagrone': \"Yes.  I just want to say I am not sad today or bitter with anybody.  Like I've said from day one, I did not go in there and kill them - but I am no better than those that did.  Jesus is Lord.  \", 'Jesse De La Rosa': 'This offender declined to make a last statement.  ', 'Robert Streetman': 'This offender declined to make a last statement.  ', 'Derrick Lamone Johnson': 'Johnson told his mother, \"Don\\'t cry. It\\'s my situation. I got it. Hold tight. It\\'s going to shine on the golden child.\" After telling her he loved her, Johnson said, \"That concludes the statement.\" - Derrick Lamone Johnson, 28', 'Robert Madden': '(There were some unintelligible sentences.)', 'Robert Neville': \" Yes.  Ms. Carolyn Barker, and Tina, I would like to apologize to you all.  To Amy's sister, and everybody else here.  I love you all.  I hope you can find it in yourselves to forgive me and I hope all this here will kinda settle your pain and I hope the Lord will give you comfort and peace.  And I just want you to know I am very sorry for what I have done.  And if I see Amy on the other side, I will tell her how much you love and miss her and we will have a lot to talk about.  Mom, Dad, and Charlotte - I am sorry for putting you through all this pain and stuff.  I did talk to Brandon and I think I got a little stuff stopped.  I love you all and I will see you on the other side.  O.K. \", 'George Cordova': 'For the pain I have caused you. I am ashamed to even look at your faces. You are great people. To my brothers on Death Row. Mexico, Mexico…(Spanish).', 'Jay Pinkerton': '\"Be strong for me,\" Pinkerton told his father, Gene Pinkerton, as witnesses entered the execution chamber. \"I want you to know I’m at peace with myself and with my God,\" Pinkerton said. He recited a prayer to Allah, the supreme being of Islam. \"I bear witness that there is no God but Allah. With your praise I ask for forgiveness and I return unto you,\" Pinkerton said. \"I love you, Dad.\"', 'Frank Moore': \" I would like to say that Capital self defense is not Capital Murder. I would like to make a statement to my wife and family, thank you for your support. I love you Roxanne, Kaye. Thank you Saint Gabriel's Church. Sylvia I appreciate you and thank you. All right Warden. (After the official last statement ended, he said I love you Mom.)  \", 'Manuel Vasquez': 'Yes sir, I want to say I love you to all my family and friends. Thank you Lord for your mercy and unconditional love. In Jesus name I pray, Amen.', 'Ryan Dickson': \"Yes, Sir I do. I'd like to say I love my mother, brother, sister, grandmother, cousins, and nieces, and my brothers and sisters I have never met. I do apologize to the Surace family. I am responsible for them losing their mother, their father, and their grandmother. I never meant for them to be taken. I am sorry for what I did and I take responsibility for what I did. That is all Warden.  \", 'James Earhart': 'This offender declined to make a last statement.  ', 'Jesse Jacobs': 'Eden, if they want proof of them, give it to them. Thanks for being my friend.  ', 'Steve Henley': 'Victims:', 'Arturo Diaz': '\\xa0', 'Clifford Boggess': 'Lord Jesus Christ, son of Almighty God, [have] mercy on me as a sinner, forgive me of my sins. I would like to offer up my death for the conversion of sinners on Death Row. Lord Jesus, into your hands I command my spirit.', 'Joseph Starvaggi': 'This offender declined to make a last statement.  ', 'Anthony Fuentes': \"Yes sir.  Sorry that I have to put my family through this.  All of you know I got my peace.  And I hope you find peace.  And to the family, the truth will come out and I hope you find peace.  I got my peace.  I hope everybody has their peace.  I am tired.  I am going to be in your heart.  I love you all.  To everybody else, the truth will be known.  It didn't come out in time to save my life.  It is wrong to put the families through this.  But when it comes out, I hope it stops this.  It is wrong for the prosecutors to lie and make witnesses say what they need them to say.  The truth has always been there.  I just hope everybody has their peace.  Today I get mine.  I love you all.  \", 'Jesse Hernandez': \"Tell my son I love him very much. God bless everybody. Continue to walk with God. Go Cowboys! Love ya'll man. Don't forget the T-ball. Ms. Mary, thank you for everything that you've done. You too, Brad, thank you. I can feel it, taste it, not bad.\", 'Curtis Johnson': 'This offender declined to make a last statement.  ', 'Larry Smith': 'Tell my mother I love her and continue on without me. God bless her. Tell the guys on death row to continue their struggle to get off death row. That’s about it.', 'Jan Michael Brawner': 'Jan Brawners last words were spoken to the family members of his victims. He said, \"I can’t bring anything back. I can’t change what I’ve done. Maybe this will bring you a little peace.\"', 'Richard Bible': 'Victim: Jennifer Wilson, 9', 'Rodrigo Hernandez': '\"This stuff stings, man.\" - Rodrigo Hernandez, 38', \"Ronald O'Bryan\": 'What is about to transpire in a few moments is wrong! However, we as human beings do make mistakes and errors. This execution is one of those wrongs yet doesn’t mean our whole system of justice is wrong. Therefore, I would forgive all who have taken part in any way in my death. Also, to anyone I have offended in any way during my 39 years, I pray and ask your forgiveness, just as I forgive anyone who offended me in any way. And I pray and ask God’s forgiveness for all of us respectively as human beings. To my loved ones, I extend my undying love. To those close to me, know in your hearts I love you one and all. God bless you all and may God’s best blessings be always yours. Ronald C. O’Bryan P.S. During my time here, I have been treated well by all T.D.C. personnel. ', 'Timothy Titsworth': \" Yes, your honor.  I know you people are here to find closure for the things that you have done or that I have done.  There are no words to describe the pain and suffering that you have gone through all these years, that is something that I cannot take back from you all.  I hope that Megan, if she is here present today, know that today I hope you get peace and joy.  I am sorry that it has taken 14 years to get closure.  If it would have brought closure or brought her back, I would have done this years ago, I promise, I promise. My family all knows the sincerity in my heart when I say these words to you.  I didn't mean to inflict the pain and suffering on your family.  I pray that she is safe in Heaven.  I pray that you find closure and strength.  My family prays for you and everybody, if these words can ever touch your heart, I am sorry, I am truly sorry.  Ya'll take care.  I love ya'll.  Pastor tell Megan I am sorry. \", 'Leonard Rojas': 'This offender declined to make a last statement.  ', 'Denard Manns': \" Yes. From Allah we came and to Allah we shall return. I would like to give thanks for the unjust way my trial attorneys John Donahue and Frank Hollbrook purposely denied me a fair trial. I would like to thank Walter E. Reeves for bringing up claims that did not exist. Most importantly, I would like to thank John Hurley, who was suppose to be off my case but was granted to be back on. For those who kept agreeing with me, keep it real. Ya'll will always stay real in my heart. Barbara, I love you, Al and Paul, I love you. Jess and Chong, I love you now and forever. I am ready for the transition.  \", 'Frank G  Spisak Jr ': 'Spisak recited verses from the book of Revelations, skipping the eighth verse which mentions \"the abominable, and murderers, ... and all liars, shall have their part in the lake which burneth with fire and brimstone.\" His final words were \"Heil Herr,\" which means \"Praise God.\"', 'Johnny Ray Johnson. LDB': '“The Polunsky dungeon should be compared with the Death Row Community as existing not living. Why do I say this, the Death Row is full of isolated hearts and suppressed minds. We are filled with love looking for affection and a way to understand. I am a Death Row resident of the Polunsky dungeon. Why does my heart ache? We want pleasure love and satisfaction. It. The walls of darkness crushed in on me.', 'Robert Hudson': \"I love you all. You have been there for me through this whole thing. Take comfort in each other, I love you all. I will take you to Heaven with me. I will always be with you. I love you, Chantal. I love you, Zena. Tell Robin I love her, she is my one and only. She is a beautiful child. I will pray with this man down here and we will go: Our Father, who art in Heaven, hallowed by thy name. Thy kingdom come, thy will be done, on Earth as it is in Heaven. Give us this day our daily bread and forgive us our tresspasses, as we forgive those who trespass against us. And lead us not into temptation, but deliver us from evil. For thine is the kingdom, and the power, and the glory forever. And ever, Amen. I love you Chantal I love you baby. I am yours, and we are one. Let's go, Warden.  \", 'Ruben Cantu': 'This offender declined to make a last statement.  ', 'Larry Davis': ' Blessed are they that mourn, for they shall be comforted. It is finished.  ', 'Kenneth Brock': 'I have no last words. I am ready.', 'Newton Anderson': \" Yes, for all of those that want this to happen, I hope that you get what you want and it makes you feel better and that it gives you some kind of relief.  I don't know what else to say.  For those that I have hurt, I hope after a while it gets better.  I love you, I love you.  I am sorry.  That's it, goodbye.  I love you Irene, I love you sis.  \", 'Lonnie Johnson': \"Yes I would. Carrie it's been a joy and a blessing. Take care, give everybody my regards. I love you, and I'll see you in eternity. Father take me home. I am ready to go.  \", 'Jeffery Griffin': 'This offender declined to make a last statement.  ', 'Gerald Tigner': \" Yes.  My last statement.  I was wrongfully convicted of this crime against Michael Watkins and James Williams on 10th Street on August 31, 1993.  I got convicted on a false confession because I never admitted to it, but my lawyer did not put this out to the jury.  I did not kill those drug dealers.  I send love to my family and friends; my east side family and friends.  I am being real with the real.  That's all that counts in my heart.  I will see you later.  That's it. \", 'Martin Link': 'Victim: Elissa Self-Braun, 11', 'Leopoldo Narvaiz': 'This offender declined to make a last statement.  ', 'Reginald Blanton': \"Yes I do. I know ya'lls pain, believe me I shed plenty of tears behind Carlos. Carlos was my friend. I didn't murder him. This what is happening right now is an injustice. This doesn't solve anything. This will not bring back Carlos. Ya'll fought real hard here to prove my innocence. This is only the beginning. I love each and everyone dearly. Dre My queen. I love you. Yaws, Junie I love yall. Stay strong, continue to fight. They are fixing to pump my veins with a lethal drug the American Veterinary Association won't even allow to be used on dogs. I say I am worse off than a dog. They want to kill me for this; I am not the man that did this. Fight on. I will see ya'll again. That's all I can say.  \", 'Gerald Casey': 'This offender declined to make a last statement.  ', 'Kia Johnson': \"Tell Mama I love her and tell the kids I love them, too.  I'll see you all.  \", 'Richard Kutzner': \" Well, yes, sir.  Rebecca, I understand that you wanted this day to come, you got what you wanted.  I didn't kill your mother.  The two guys that worked for me killed your mother and they are still out there.  If Mr. McDougal had allowed the DNA evidence, I would be exonerated.  Mr. Tolson, I understand you are out there.  If there is any justice in this world, please use this to keep other people from being where I'm at.  Warden, this is murder just as surely as the people that killed Rebecca's mother.  Send me home.  \", 'Henry Porter': 'I want to thank Father Walsh for his spiritual help. I want to thank Bob Ray (Sanders) and Steve Blow for their friendship. What I want people to know is that they call me a cold-blooded killer when I shot a man that shot me first. The only thing that convicted me was that I am a Mexican and that he was a police officer. People hollered for my life, and they are to have my life tonight. The people never hollered for the life of the policeman that killed a thirteen-year-old boy who was handcuffed in the back seat of a police car. The people never hollered for the life of a Houston police officer who beat up and drowned Jose Campo Torres and threw his body in the river. You call that equal justice. This is your equal justice. This is America’s equal justice. A Mexican’s life is worth nothing. When a policeman kills someone he gets a suspended sentence or probation. When a Mexican kills a police officer this is what you get. From there you call me a cold-blooded murderer. I didn’t tie anyone to a stretcher. I didn’t pump any poison into anybody’s veins from behind a locked door. You call this justice. I call this and your society a bunch of cold-blooded murderers. I don’t say this with any bitterness or anger. I just say this with truthfulness. I hope God forgives me for all my sins. I hope that God will be as merciful to society as he has been to me. I’m ready, Warden.  ', 'Mark Stroman': '\"The Lord Jesus Christ be with me. I am at peace. Hate is going on in this world, and it has to stop. One second of hate will cause a lifetime of pain. Even though I lay on this gurney, seconds away from my death, I am at total peace. I\\'m still a proud American, Texas loud, Texas proud. God bless America. God bless everyone. Let\\'s do this damn thing.\"- Mark Stroman, 41', 'Richard Duncan': 'I did have, but now I see my family here and everything - all I want to say is I love you all so much. I am innocent. I love you all so much. You are beautiful. Okay Warden, I am through.  ', 'Randall Hafdahl': 'Written: Over the last few days we\\'ve had a chance to say it all.  If I lived to be a 100, the love we all share couldn\\'t be more beautiful.  Than you for loving me. II Timothy 1.7 tells us that God DID NOT instill in us the spirit of fear: but of power, love, and of sound mind...For those of you who seek to find fear in my eyes?  Look into yourself, thats where you\\'ll find the fear you so desperately search for. I leave this life with a clear conscience and heart;  I can say that only because I have spoke the truth over the last 16+ years.  I am the only one that can say that truthfully. Chief Neal:  as to what you said to me when you had me in the back seat of your car on the night of Nov 11?  Thank you for being so determined to only seek a specific conclusion, truth be damned!  I say that because the thought of having to die of old age in prison is the worst death any person could endure. To Modina Holmes:  I thank you for planting that bullet in the ground, and the cigarette butt, also the knives Danny Helgren had packed in his suit case in the trunk of the car; which you placed in the cab for your photo shoot.  I also want to thank you and Chief Neal, because of your actions, it shows me that you are human and can love, the same as I love my Club Brothers.  We\\'re a lot more alike than you think.   To Wes Clayton:  You were nothing but a paid chump.  You were brought in to do all the dirty work on this case so as to shield Randy Sherrod, \"AKA Daffy Duck\" from possibly soiling his reputation if the bottom fell out of this conviction through the appeals.  For 16 years now you have been the one I have dreamed of having the chance to meet again: UNrestrained!  I really would have loved to have had the chance to take your lying ass to school, boy! James Farren:  You ain\\'t as slick as you think you are.  I read that article the Globe printed on the 27th, where you expressed how Eardmann wasn\\'t important because there was at least one witness at trial who testified the first shot diarmed Mitchell and rendered him defenseless.  Your sure right about that. Just wonder how many people out there other than me and you know that one witness you used to justify Eardmann was actually Eardmann himself!  You know as well as I do the only witness to testify about sequence of shots was Eardmann himself.  I have to admit, when it comes to walking the line between a lie and a deception, your good!  You sure your not related to Clayton? And to the Mitchell family:  I truely am sorry for the tragedy that took place on Nov 11, 85.  Thats all I can give you.  Thats all I will give you.  Because today your making my family and loved ones a victim just as you have cried to the world you were in this tragedy.  I did not deliberately shoot James Mitchell.  I had no premeditation in my thoughts when I spun around and fired, no matter how many fantasy motives Clayton and Sherrod fabricated.  So today my family becomes a victim.  You know, the truth sets you free, and the truth is, if your loved one had acted with any professionalism at all, he would be alive today!  And thats all I got to say about it.  Scooter, get the beer and get in the truck, take me home baby, we got a party to get ready for.  I love ya\\'ll.  Remember Wet Willy Boocub.  ', 'Willis Barnes': ' Yes, I would like to give love to my mother, sisters and brothers and let them know that I am thinking of them right now and I want to thank God for giving me such a loving family. To the victim’s family: I hope you will find it in your heart to forgive me as I have forgiven you. I’m ready, Warden.  ', 'Gilberto Reyes': \" I love ya'll and I'm gonna miss ya'll. \", 'James Clayton': \"I would like to take this time to, ah, to use this moment an example for Christ. I would like to follow his example and leave with peace in my heart and forgiveness. There is no anger in my heart about this entire situation. I just want to testify to all of y'all that I have loved you. I appreciate your concern and genuine love for me. God bless you. I love all of all. Jesus is Lord.  \", 'Robert Drew': '(First two or three words not understood.) I don’t know why Marta Glass wasn’t allowed in here. I love you all. Keep the faith. Remember the death penalty is murder. They are taking the life of an innocent man. My attorney, Ron Kuley [unintelligible], will read my letter at a press conference after this is over. That is all I have to say. I love you all.', 'Frederick McWilliams': \" Yes.  Well here we are again folks, in the catacombs of justice.  You know there is a lot I wanted to say - a lot I thought I'd say - but there is not a whole lot to say.  There are people that will be mad thinking I try to seek freedom from this, but as long as I see - freedom belongs to me and I'll keep on keeping on.  The shackles and chains that just might hold my body can't hold my mind, but will kill me otherwise.  I love you momma, and Misty and Annette, Brenda and Anthony - and all my friends and everybody that supported me.  I leave my love here; I am never going to stop loving you.  My love is going to stay here.  \", 'Paul Rougeau': 'This offender declined to make a last statement.  ', 'Tommy Jackson': \" Yes sir, I would like to address the Robinson family. There is nothing I can say here or anything I could probably do. Now you are all probably mad at me and I would probably be in the same situation you all in if anybody I thought killed anybody in my family ahh. If I knew who killed Rosalyn I would let you know, but, I am going to say this: I am going to heaven with God as my witness. Ros was a personal friend of mine. She was a beautiful person, very educated, her. I'm very tight with the Robinson family. She was proud that she had a father that was a doctor. My family is not here present and that is by my wish and my wish only. Now the tables is turned. You are all here, the Robinson family is her to see me executed. That is something that I would not want for my family. In no form or fashion would I have ever want to see Rosalyn dead. I left the scene of where the incident happened. I guarantee you if I would have been there you would not be standing where you are if I would have been there. You all have some very serious look on your face and something very serious fixin' to happen now. I will say this on my own behalf but then again I know it is not going to make any difference but what you fixing to witness is not a nice thing. It's not nice. It's not nice. The media. I would just like to address to the media with everybody's permission. I would like to say before I go that it has been said that I have shown no remorse, but if you look at my record and my background, ask anybody that know me that in order for me to show any kind of remorse for killing that ever been done, this one time I can't show no remorse for something that I did not do and if I did I would be faking. I would totally be faking and believe me there is nothing fake about me. Nothing fake. I've done wrong, sure, I've paid the time. This is one time that I know I cannot show no remorse for something that I did not do. I am at peace, please believe me. Wherefore, I figure that what I am dying for now is what I have done in my past. This is what I am dying for. Not for killing Rosalyn. I don't know what ya'll call her but I call her Ros, I call her Ros. That's it.  \", 'Robert Yarbrough': 'Victim: Cyril Hugh Hamby, 77', 'Willie Trottie': '\\n', 'Bobby Hines': '\\xa0 ', 'Tony Chambers': \"Mom, I just want y'all to know that I love you. No matter what in life, I want you to stay strong. Doreen, you have been a very special part of my life, too. I want you to keep doing what you are doing. Stay strong. Dad, I want you to stay strong.  \", 'Jeffrey Motts': \"He apologized to his victims' families, his family and those he had hurt.\", 'Aua Lauti': 'That is about all I have to say.  ', 'Daniel Corwin': 'I guess the first thing I want to do is thank some very special people, Sara and Sabrina. And for affording me the opportunity that ya’ll did. It made a real big difference in my life. I thank you. Thank you again from the deepest part of my heart. I’m sorry. The biggest thing I wanted to say was to you and family and I know I haven’t had a chance to talk with ya’ll in any form or fashion or way or manner. And I regret what happened and I want you to know that I’m sorry. I just ask and hope that sometime down the line that you can forgive me. I think in a lot of ways that without that it becomes very empty and hollow and the only thing we have is hatred and anger. I guess the only thing I have to say about the Death Penalty is that a lot of times people think of it as one sided, but it’s not. It’s two sided. There pain on both sides and it’s not an issue that people just sit there and voice off and say, well, this is a good thing, or this is a bad thing. But it’s something that’s, you know, needs to be looked at and desired in each heart. I just hope that all of you can understand that and someday forgive me. I want to thank ya’ll for affording me the opportunity to talk and meet with ya’ll. It meant so much. Thank you so much for being with me and my family. Thank you. I love you.', 'Charles Rector': 'Tell the kids I love them and I’ll be there. That’s all I have to say.', 'Michael Yowell': '\\xa0', 'Lorenzo Morris': 'This offender declined to make a last statement.  ', 'Frank McFarland': 'I owe no apologies for a crime I did not commit. Those who lied and fabricated evidence against me will have to answer for what they have done. I know in my heart what I did and I call upon the spirit of my ancestors and all of my people and I swear to them and now I am coming home.  ', 'Larry White': 'I would like to apologize for all of the hurt, pain and disappointment I caused to my family and all my friends.  I hope all the veterans and teenagers out there who have a drug problem will get help.  I hope the lord will forgive me of all of my sins.  I thank Jack and Kathy for being with me.  I hope that those who support the Death Row inmates will continue to work and maybe we can get this resolved and do away with the Death Penalty.  I hope this is a lot better place where I am going.', 'Vaughn Ross': '\\xa0', 'Jeffery Tucker': \" I'd like to tell the Humphrey family, I am sorry for the pain and suffering that I have caused you. I never intended for your husband and father to be killed, it was just an accident. I sincerely regret any pain and sorrow. I realize that my actions have caused this death and a lot of pain and grief. I pray that Jesus will give you peace. I just ask that my death bring you peace and solace. If my death brings you that, then I will gladly give it. I know that I leave this world for the crime that I committed.  To my friends, Jack and Irene Wilcox. Bless you both, you've been my rock. Irene, you have been like a mother and Jack, you have been like a father. To my lawyers, Danalyn and Robert Owen, you are not just my lawyers but you are my friends. I know you weren't happy when I stopped my appeals, but you know the reason why. Thank you for understanding. Have a happy heart knowing I leave this world in peace. Father Walsh, you have helped me so much to come to a knowledge of the Lord. I would never have understood that without you. You give me patience and diligence. Someday I will see you there. I'll be there waiting for you but don't be in a hurry. You have a lot of work left to do. Just know that I'll be watching over you. I love you all and thank you for being a part of my life. (recites the Lord's Prayer) \", 'Charles Smith': 'This offender declined to make a last statement.  ', 'David Gore': 'After Gore was arrested for the murder of Lynn Elliott he admitted to more murders and led police to the bodies of his victims.', 'Warren Bridge': \"I'll see you.\", 'Shannon Thomas': \"Yes.  Man, I just want you to know how much I love them.  I want you to be strong and get through this time.  Do not fall back.  Keep going forward.  Don't let this hinder you.  Let everybody know I love them (several names listed), Kevin - as well as everyone else in the family.  Tell them that I love them and stay strong.  This is kind of hard to put words together; I am nervous and it is hard to put my thoughts together.  Sometimes you don't know what to say; I hope these words give you comfort.  I don't know what to say.  I want you to know I love you; just stay strong and don't give up.  Let everybody know I love them...and love is unconditional, as Mama has always told us.  I may be gone in the flesh, but I am always with you in spirit.  I love you. \", 'Charles Milton': ' There’s no God but Allah, and unto thy I belong and unto thy I return. I want to continue to tell my brothers and sisters to be strong.  ', 'Charles Boyd': 'I want you all to know I did not do this crime. I wanted to wait for a thirty day stay for a DNA test so you know who did the crime.', 'Robert Shields': 'This offender declined to make a last statement.  ', 'Jeffrey Ferguson ': '\"I\\'m sorry to have to be the cause that brings you all into this dark business of execution. I pray for the victim\\'s family to have peace in their hearts one day and lose the anger, hate and need for revenge that has driven them.\"', 'Johnny Conner': \" Could you please tell that lady right there, can I see her, she is not looking at me. I want you to understand something, hold no animosity towards me. I want you to understand please forgive me. When I get to the gates of Heaven I will open my arms for you. Please forgive me, do not worry about what is going to happen. I don't want you to worry. I don't want you to suffer, I am not mad at you. Shed no tears for me. Even though you don't know me, I love you, I love all of ya'll. I ask ya'll in your heart to forgive me. To my family, I love all of you. What's happening now, you are suffering. I didn't mean to hurt you. Stephanie, Felicia, Carlos and my Father. I love my Father. I want you to understand that life goes on. Continue to live your life and don't be angry at what is happening to me. This is destiny, this is life. This is something I have to do and I am going to be with my momma and your momma. I want everyone to continue to live your life. Thank you and I love all of you. What is happening to me now is unjust and the system is broken. At the same time I bear witness there is no God but Allah and the Prophet Mohammad. Unto Allah, I belong unto Allah I return. I love you.  \", 'Michael Evans': 'I want to say I’m sorry for the things I’ve done and I hope I’m forgiven. I don’t hold nothing against no one – Everyone has treated me well and I know it’s not easy for them – That’s all, I’m sorry.', 'Kevin Varga': \"I am going to start with the victim's family. I know I took someone very precious to you. Myself and Mr. Galloway who you will see tomorrow. Please forgive me. God has given me peace. I love each and every one of you. You have to forgive me for you to gain the kingdom of Heaven. I wish what was torn from you was not. I do know how it feels to have lost loved ones. This was the only way God could save me; I would pay it back a thousand times to bring back your loved ones. I would pay it gladly. I love each and every one of you and hope you can find forgiveness for me. I don't require your forgiveness, because God has forgiven me. Sorry, I hope you find peace. God's love is infinite. If you hate me, please give it up. I forgive you and I hope you can forgive me. Mom, you are my strength. Kathy we've had some good memories, you are still the monkey. Mom, this is nothing, I am going to go to sleep and wake up with Jesus. This is the only way God could save me. Stefanie, she is my heart, say goodbye to Stefanie. I do not want anybody to mourn my death, celebrate my life. God loves me and God loves you. Mom, you didn't do anything wrong. Thank you, Warden, Thank you Chaplain, Thank you God, I am ready to go. God please take me home. I am ready Warden. Thank you Jesus. I am going mom. \", 'Willie Williams': 'There’s love and peace in Islam.', 'Chester Wicker': 'This offender declined to make a last statement.  ', 'Donald Newbury': \"That each new indignity defeats only the body. Pampering the spirit with obscure merit. I love you all, that's it. \", 'Ramiro Hernandez': 'Ramiro Hernandez spoke for nearly five minutes, during which time he asked for forgiveness and said that he was at peace and happy to see his relatives, urging them not to be sad.', 'Anthony Rozelle Banks': '\"This is justified. I\\'ve done one good thing in my life and that is to become a Jehovah\\'s Witness. For that, I\\'m eternally grateful.\"', 'Ricky Morrow': ' Yes, I do.  I want to say first that I love you Pam.  I love you, Ann, Jenny, Carla, Fran, Mom and Dad.  What a blessing, what a blessing you have been in my life.  And I am so sorry you are going through what you are now.  But we are both headed to a better place.  Thank you, baby girl - love you people.  Sister, Blackie, Dixie, Rusty, Andy, Buster, Milo - we got so many - Grace and Sonny man.   I love you all.  You have a treat coming to you.  Thank you for having been there for me -- and our Father and Mother.  Give them a hug and give them my love.  I am ready Warden.  ', 'Anthony Doyle': 'This offender declined to make a last statement.  \\n', 'Joseph Faulder': 'This offender declined to make a last statement.  ', 'Karl Chamberlain': \" I want you all to know, everyone with all my heart, soul, mind and strength. Thank you for being here today to honor Falicia Prechtl, whom I didn't even know. To celebrate my death. My death began on August 2, 1991 and continued when I began to see the beautiful and innocent life that I had taken. I am so terribly sorry. I wish I could die more than once to tell you how sorry I am. I have said in interviews, if you want to hurt me and choke me, that's how terrible I felt before this crime. I am sorry, it is her innocence and her life which began the remorse every since December 1, 1991. I have embraced life. Thank you for being a part of my life. I love you. May God be with us all. May God have mercy on us all. I am ready. Please do not hate anybody because.......(end of statement)  \", 'William Berkley': 'Samantha, I love you with all my heart and soul. Cori, thanks for everything, make sure my princess is all right. Death before dishonor. Cori, I think you should continue with criminal law. It’s your decision; they need lawyers out there that will fight. Death before dishonor. Warden let her rip. Thank you for coming Irene.  ', 'John Barefield': '(Mumbled.) Tell Mama I love her.', 'Michael Sharp': 'Yes, I do. I would like to tell the surviving victims here, society, my family and friends, that I ask that they forgive me for anything I have done. I beg for your forgiveness. I would like to ask the Lord Jesus Christ for forgiveness and say that in spite of my circumstances, I have been blessed by Him. My first thought is that Jesus Christ came down and separated the humans from God. I would like to see that wall that separates these groups here tonight brought down and that we would all have love and compassion for one another and that you all build a future for all of us. There are a lot of men on the Row who need to be remembered. I love all…', 'Humberto Leal Jr ': 'Victim: Adria Sauceda, 16', 'Esequel Banda': 'This offender declined to make a last statement.  ', 'Darwin Demond Brown': 'Victim: Richard Yost, 30', 'Ronald Howard': \" Yes sir, I do.  To the victim's family.  I hope it helps a little.  I do not know how, but I hope it helps.  I love you all, all of you.  You know I love you.  Thank you for bringing my children back to my life.  Thank you.  I love you all.  I love you all very much.  Thank you very much.  (Statement amended 01/09/06)  \", 'Terry Lee Hankins': '\"Yes, I am sorry for what I\\'ve done and for all of the pain and suffering that my actions have caused. Jesus is Lord. All glory to God.\"- Terry Lee Hankins, 34', 'Derrick Johnson': \"Don't cry, it's my situation. I got it. Hold tight, It's going to shine on the golden child. Hold tight. I love you , I'm through with my statement.  \", 'Robert Moorman ': \"Victim - Moorman's Adoptive Mother - Roberta Maude Moorman, 74\", 'Carl Kelly': 'I’m an African warrior, born to breathe, and born to die.', 'Javier Cruz': 'Thank you for setting me free. God bless you all. I love you, Miguel. Take care of my angel, Leslie. Love, Javier Cruz', 'Robert Gleason Jr ': 'Crime Summary', 'Glen McGinnis': 'This offender declined to make a last statement.  ', 'David Hicks': \" Hey, how y'all doing out there? I done lost my voice. Y'all be strong now, alright? Don, thanks man. I love you, Gloria, always baby. That's all I got to say. Hey, don't y'all worry about me, okay?  \", 'Tony Walker': 'Written: I wish to tell the family how sorry I am about what I done.  I know that nothing I say will bring Mr. and Mr. Bo Simmons back.  I ask that if Linda and Gary and their family can find it in their hearts to forgive me, but if not, I will understand.  I am truly sorry. ', 'Hilton Crawford': \" First of all, I would like to ask Sister Teresa to send Connie a yellow rose. I want to thank the Lord, Jesus Christ, for the years I have spent on death row. They have been a blessing in my life. I have had the opportunity to serve Jesus Christ and I am thankful for the opportunity. I would like to thank Father Walsh for having become a Franciscan, and all the people all over the world who have become my friends. It has been a wonderful experience in my life. I would like to thank Chaplain Lopez, and my witnesses for giving me their support and love. I would like to thank the Nuns in England for their support. I want to tell my sons I love them; I have always loved them - they were my greatest gift from God. I want to tell my witnesses, Tannie, Rebecca, Al, Leo, and Dr. Blackwell that I love all of you and I am thankful for your support. I want to ask Paulette for forgiveness from your heart. One day, I hope you will. It is a tragedy for my family and your family. I am sorry. My special angel, I love you. And I love you, Connie. May God pass me over to the Kindom's shore softly and gently. I am ready.  \", 'Raymond Kinnamon': '(I gave Warden Hodges the phone at this time and he listened for 5-10 minutes. When he returned the phone to me, I could hear Kinnamon talking but evidently the phone was not close to the mike, because I could not understand him.)', 'Johnny Anderson': 'I would like to point out that I have written a statement and the Warden will give you a copy. I still proclaim I am innocent, and that’s all I have to say.', 'James Demouchette': 'This offender declined to make a last statement.  ', 'Patrick Knight': \" Yes, I do.  I thank the Lord for giving me my friends, for getting me the ones I love.  Lord reach down and help innocent men on death row.  Lee Taylor needs help, Bobby Hines, Steve Woods.  Not all of us are innocent, but those are.  Cleve Foster needs help.  Melyssa, I love you girl.  I know I wasn't going to say anything, but I've got to.  Jack, Irene, Danny, Doreen, I love you guys.  I said I was going to tell a joke.  Death has set me free.  That's the biggest joke, I deserve this.  And the other joke is I am not Patrick Bryan Knight, and ya'll can't stop this execution now.  Go ahead, I'm finished.  Come on, tell me Lord.  I love you Melyssa, take care of that little monster for me.  \", 'Jeff Emery': 'I just want to tell Catharina I love you. Take care of yourself. That’s all I have to say.', 'Willie Shannon': \"All praises be to God. I would like to say to the Garza family, see my smile, it is not from happiness. I took a father, it wasn't my fault, it was an accident... God knows the truth. If my life could bring your father back, then let it be. Don't take my smile for Disrespect. If I see your father I will ask him forgiveness. I told the Judge the truth it was an accident. I'll smile and I am not sad. If my life could make you happy, be free. I'll say when I see him I'm sorry. I have no anger nor fear. Mom have no fear. Mommy I will be home when I get there. \", 'Curtis Moore': 'Yes, Sir. I love you Irene and I want to thank you for all the beautiful years of friendship and ministry. I love you.  ', 'Arnold Prieto': 'There are no endings, only beginnings. Love yall, see you soon. ', 'Martin Vega': 'I am being charged under article 19.83 of the Texas Penal Code of murder with the promise of remuneration. That means they got to have three people, the one that paid, the one that killed, and the deceased. And the alleged remunerator is out on the streets, so how come I’m being executed today, without a remunerator? This is a great American justice. So if you don’t think they won’t, believe me they will. Ain’t no telling who gonna be next. That’s all I have to say. Especially for the people of the deceased, Sims is innocent and so am I. So the murder is still not there. Today you are a witness, the state (cough). Bye.', 'Dwight Adanandus': 'I am finished.', 'Luis Ramirez': ' Yes I do. I would like to address you first. I did not kill your loved one, but I hope that one day you find out who did. I wish I could tell you the reason why, or give some kind of solace; you lost someone you love very much. The same as my family and friends are going to lose in a few minutes. I am sure he died unjustly, just like I am. I did not murder him; I did not have anything to do with his death. And to you my family and friends, I love you dearly. Even though I die, that love for you will never die. Into Your hands, Lord, I commit my spirit. Thank you. Thank you all. ', 'Derrick Charles': \" I'm ready to go home. \", 'T.J. Jones': \" I would like to say to the family, I regret the pain I've put you through and I hope you can get over it someday.  Mom and Dad, I love you.  Take care.  I'm ready.  \", 'Peter Miniel': ' Into your hands Oh Lord, I commence my spirit.  Amen.  ', 'James Beathard': \" I want to start out by acknowledging the love that I've had in my family. No man in this world has had a better family than me. I had the best parents in the world. I had the best brothers and sisters in the world. I've had the most wonderful life any man could have ever had. I've never been more proud of anybody than I have of my daughter and my son. I've got no complaints and no regrets about that. I love everyone of them and have always been loved all of my life. I've never had any doubts about that. Couple of matters that I want to talk about since this is one of the few times people will listen to what I have to say. The Unites States has gotten to a now where they zero respect for human life. My death is just a symptom of a bigger illness. At some point the government has got to wake up and stop doing things to destroy other countries and killing innocent children. The ongoing embargo and sanctions against places like Iran and Iraq, Cuba and other places. They are not doing anything to change the world, but they are harming innocent children. That's got to stop at some point. Perhaps more important in a lot of ways is what we are doing to the environment is even more devastating because as long as we keep going the direction we're going the end result is it won't matter how we treat other people because everybody on the planet will be on their way out. We have got to wake up and stop doing that. Ah, one of the few ways in the world the truth is ever going to get out, or people are ever going to know what's happening as long as we support a free press out there. I see the press struggling to stay existent as a free institution One of the few truly free institutions is the press in Texas. People like the Texas Observer and I want to thank them for the job they've done in keeping me and everybody else informed. I hope people out there will support them, listen to them and be there for them. Without it, things like this are going to happen and nobody will even know. I love all of you. I always have I always will. I would like to address the State of Texas and specially Joe Price, the District Attorney who put me here. I want to remind Mr. Price of the mistake he made at Gene Hawthorn's trial when he said that Gene Hawthorn was telling the truth at my trial. Mr. Price is a one-eyed hunting dog. He in fact is not a one-eyed hunting dog, and in fact Gene Hawthorn lied at my trial. Everybody knew it. I'm dying tonight based on testimony, that all parties, me, the man who gave the testimony, the prosecutor he used knew it was a lie. I am hoping somebody will call him to the floor for recent comments he's made in the newspaper. It's bad enough that a prosecutor can take truth and spin on it and try to re-doctor it. But when they actually make facts up and present to the public as trial's evidence. That goes beyond fail, that's completely unforgivable and I hope somebody makes Mr. Price account for or explain the tennis shoes he is talking about that put me here. I'm still completely lost on that and I'm hoping that somebody will go back and verify the trial record and make him accountable for lying to the public and the press that way. That's really all I have to say except that I love my family. and nobody, nobody has got a better family than me. I love you booger bear. I love doodle bug, too. Don't let them ever forget me. I'll never forget them. I'll see you on the other side, okay. Bye bye Debbie. Bye bro, bye booger bear. Father Mike, Father Walsh, love you all. That's all, sir.  \", 'Edward Nathaniel Bell': 'Victim: Officer Ricky L. Timbrook, 32', 'Gary Graham': \" I would like to say that I did not kill Bobby Lambert. That I'm an innocent black man that is being murdered. This is a lynching that is happening in America tonight. There's overwhelming and compelling evidence of my defense that has never been heard in any court of America. What is happening here is an outrage for any civilized country to anybody anywhere to look at what's happening here is wrong.  I thank all of the people that have rallied to my cause. They've been standing in support of me. Who have finished with me.  I say to Mr. Lambert's family, I did not kill Bobby Lambert. You are pursuing the execution of an innocent man.  I want to express my sincere thanks to all of ya'll. We must continue to move forward and do everything we can to outlaw legal lynching in America. We must continue to stay strong all around the world, and people must come together to stop the systematic killing of poor and innocent black people. We must continue to stand together in unity and to demand a moratorium on all executions. We must not let this murder/lynching be forgotten tonight, my brothers. We must take it to the nation. We must keep our faith. We must go forward. We recognize that many leaders have died. Malcom X, Martin Luther King, and others who stood up for what was right. They stood up for what was just. We must, you must brothers, that's why I have called you today. You must carry on that condition. What is here is just a lynching that is taking place. But they're going to keep on lynching us for the next 100 years, if you do not carry on that tradition, and that period of resistance. We will prevail. We may loose this battle, but we will win the war. This death, this lynching will be avenged. It will be avenged, it must be avenged. The people must avenge this murder. So my brothers, all of ya'll stay strong, continue to move forward.  Know that I love all of you. I love the people, I love all of you for your blessing, strength, for your courage, for your dignity, the way you have come here tonight, and the way you have protested and kept this nation together. Keep moving forward, my brothers. Slavery couldn't stop us. The lynching couldn't stop us in the south. This lynching will not stop us tonight. We will go forward. Our destiny in this country is freedom and liberation. We will gain our freedom and liberation by any means necessary. By any means necessary, we keep marching forward.  I love you, Mr. Jackson. Bianca, make sure that the state does not get my body. Make sure that we get my name as Shaka Sankofa. My name is not Gary Graham. Make sure that it is properly presented on my grave. Shaka Sankofa.  I died fighting for what I believe in. I died fighting for what was just and what was right. I did not kill Bobby Lambert, and the truth is going to come out. It will be brought out.  I want you to take this thing off into international court, Mr. Robert Mohammed and all ya'll. I want you, I want to get my family and take this down to international court and file a law suit. Get all the video tapes of all the beatings. They have beat me up in the back. They have beat me up at the unit over there. Get all the video tapes supporting that law suit. And make the public exposed to the genocide and this brutality world, and let the world see what is really happening here behind closed doors. Let the world see the barbarity and injustice of what is really happening here. You must get those video tapes. You must make it exposed, this injustice, to the world. You must continue to demand a moratorium on all executions. We must move forward Minister Robert Mohammed.  Ashanti Chimurenga, I love you for standing with me, my sister. You are a strong warrior queen. You will continue to be string in everything that you do. Believe in yourself, you must hold your head up, in the spirit of Winnie Mandela, in the spirit of Nelson Mandela. Ya'll must move forward. We will stop this lynching.  Reverend Al Sharpton, I love you, my brother.  Bianca Jagger, I love all of you. Ya'll make sure that we continue to stand together. Reverend Jesse Jackson and know that this murder, this lynching will not be forgotten. I love you, too, my brother. This is genocide in America. This is what happens to black men when they stand up and protest for what is right and just. We refuse to compromise, we refuse to surrender the dignity for what we know is right. But we will move on, we have been strong in the past. We will continue to be strong as a people. You can kill a revolutionary, but you cannot stop the revolution. The revolution will go on. The people will carry the revolution on. You are the people that must carry that revolutionary on, in order to liberate our children from this genocide and for what is happening here in America tonight. What has happened for the last 100 or so years in America. This is the part of the genocide, this is part of the African (unintelligible), that we as black people have endured in America. But we shall overcome, we will continue with this. We will continue, we will gain our freedom and liberation, by any means necessary. Stay strong. They cannot kill us. We will move forward.  To my sons, to my daughters, all of you. I love all of you. You have been wonderful. Keep your heads up. Keep moving forward. Keep united. Maintain the love and unity in the community.  And know that victory is assured. Victory for the people will be assured. We will gain our freedom and liberation in this country. We will gain it and we will do it by any means necessary. We will keep marching. March on black people. Keep your heads high. March on. All ya'll leaders. March on. Take your message to the people. Preach the moratorium for all executions. We're gonna stop, we are going to end the death penalty in this country. We are going to end it all across this world. Push forward people. And know that what ya'll are doing is right. What ya'll are doing is just. This is nothing more that pure and simple murder. This is what is happening tonight in America. Nothing more than state sanctioned murders, state sanctioned lynching, right here in America, and right here tonight. This is what is happening my brothers. Nothing less. They know I'm innocent. They've got the facts to prove it. They know I'm innocent. But they cannot acknowledge my innocence, because to do so would be to publicly admit their guilt. This is something these racist people will never do. We must remember brothers, this is what we're faced with. You must take this endeavor forward. You must stay strong. You must continue to hold your heads up, and to be there. And I love you, too, my brother. All of you who are standing with me in solidarity. We will prevail. We will keep marching. Keep marching black people, black power. Keep marching black people, black power. Keep marching black people. Keep marching black people. They are killing me tonight. They are murdering me tonight.  \", 'Billy Woods': 'This offender declined to make a last statement.  ', 'Joe Gonzales': 'God bless you all.', 'Mikel Derrick': 'I just ask everybody I ever hurt or done anything wrong to, to just forgive me for whatever wrongs I done to them.', 'Khristian Oliver': \"Collins family, I know your not going to get the closure you are looking for tonight. I wish you the best. I prayed for ya'll every day and every night. I have only the warmest wishes. I am sorry for what you are having to go through. Mom, Pa, Kristy, Khristopher, Tony I love all ya'll. Thank you Mr. Whiteside. The Lord is my shepherd; I shall not want. He maketh me to lie down in green pastures; He leadeth me beside the still waters. He restoreth my soul; He guides me down the right paths. Yea, though I walk through the valley of the shadow of death, I will fear no evil; for thou art with me. Thou preparest a table before me in the presence of mine enemies; Thou anointest my head with oil; my cup over runneth. \", 'Khristian Phillip Oliver': '\"I know you are not going to get the closure you are looking for. I pray for ya’ll every day and every night. I have only the warmest wishes. I am sorry for what you are having to go through.\"- Khristian Phillip Oliver, age 32', 'Stephen Moody. LCE': '\"Yes sir, to Joseph\\'s mom and son. I was unable to respond to you in the courtroom. I can only ask that you have the peace that I do. To my brother, you are a good brother. You\\'re the best. And I love you. Can\\'t beat ya. The beautiful lady standing next to you. Kathy you are next to my heart. Amber I love you. Warden, pull the trigger. I love you brother never forget it. Ronnie, Linda, Amber, Kathy.', 'Hai Vuong': 'I thank God that he died for my sins on the cross, and I thank Him for saving my soul, so I will know when my body lays back in the grave, my soul goes to be with the Lord. Praise God. I hope whoever hears my voice tonight will turn to the Lord. I give my spirit back to Him. Praise the Lord. Praise Jesus. Hallelujah.', 'Larry Wooten': \"No sir. Warden, Since I don't have nothing to say, you can go ahead and send me to my Heavenly Father.\", 'Elliot Johnson': 'This offender declined to make a last statement.  ', 'Kenneth Mosley': 'This offender declined to make a last statement.  ', 'Larry Robison': 'This offender declined to make a last statement.  ', 'Miguel Paredes': '\\n', 'Bobby Hopkins': 'This offender declined to make a last statement.  ', 'Reginald Winthrop Blanton': '\"Carlos was my friend. I didn’t murder him. What is happening right now is an injustice. This doesn’t solve anything. This will not bring back Carlos.\"', 'Cleve Foster': 'Yes, you know I sat in my cell many days wondering what my last words would be: love for my family, grandson, friends. I love you very much. Tonight when I close my eyes, I\\'ll be with my Father. Some time ago I got a letter, I read it, and stuck it in with a bunch of stuff; and I thought to myself, what a cold-hearted person. I was asked about the letter, I spent half the night looking for the letter. A little part of the letter touched me. Over the years I have learned to love. God is everything. God is my life. Tonight, I will be with Him. I am a parent myself.  I have so much for this dear lady. I understand where they\\'re coming from, I thought every person was cruel. I love you so, Susan. You know what it is girl, love ya. Maurie, appreciate it girl. Much love to you all. Mrs. Cox, love you. Momma, you are my hero. I wish this world was just like you. Another mother got hurt, as a parent I understand the pain. That letter she wrote wasn\\'t wrong, she was just hurting. She showed God\\'s love for letting me know that love will be there to welcome me home. I love you all. I don\\'t know what you are going to feel after tonight. I love you. I pray one day we will all meet in heaven. A man told me 11 years ago the hardest thing to say is, \"I forgive you.\" Hope one day we all be together again. I love you all: Susan, Mrs. Cox, momma, Maurie, Michael. Grandbabies make the world go around. I love you all. Warden, I am looking to leave this place on wings of a homesick angel. Ready to go home to meet my maker. What a friend we have in Jesus, oh my God, I lay in awe \\'cause I love you God. I love you momma. I love you Susan. \\n', 'James Autry': 'This offender declined to make a last statement.  ', 'Robert Lookingbill': \" I would like to thank all my loved ones that are standing over there for all the kindness and support you have shown me over the years.  Be strong.  Do not hate, but learn from this experience.  Just because it happens, do not think that God doesn't care.  He will be with you.  I will be there with all of you.  I love you all and appreciate all of you.  You won't be forgotten and there are a lot of people out there that love you.  It has been a blessing to know all of you.  This is not easy for any of us.  Don't be upset about my situation, because I am not.  I am still faithful and I am still strong.  Just give my love to everyone out there.  Don't forget me and burn a candle for me when you can.  I love you all.  \", 'Rex Mays': \" I would like to say a final prayer: Dear Heavenly Father, I come to you today, Lord, and thank You for this opportunity to be with You in paradise.  I ask You for forgiveness for the ones that need to be forgiven.  Dear Lord, deliver us from evil and give us the comfort and peace and joy that we need.  Dear Lord, I ask You right now to be with each of the witnesses and lift them up and be on solid ground.  Let them know what has gone on and may we all see each other again.  Amen. I would like to thank each witness:  Ms. Cox, Whiteside, Reed, Scott, and Chad.  I am going to go and see Jesus tonight and reserve a special place for each one of you.  You all have been there when no one else was.  Thank you for all of your love and support.  Just know that I am ready to go.  You all know what I've gone through.  I am going to a better place with the Lord.  I'm mad for one reason, that I'm leaving you behind, when I am going to a better place.  Y'all still have to go through this hell on earth.  Just remember the good things and not the bad.  You are all loved and respected. Warden, just give me parole and let me go home to be with the Lord.  \", 'Jerry Bird': 'I don’t think so. That’s all. Go ahead. Start things rolling. (Mouthed \"Hi, Mom\" to his mother.)', 'John Baltazar': 'This offender declined to make a last statement.  ', 'Joe Cordova': 'This offender declined to make a last statement.  ', 'Johnny Johnson': ' The Polunsky dungeon should be compared with the Death Row Community as existing not living. Why do I say this, the Death Row is full of isolated hearts and suppressed minds. We are filled with love looking for affection and a way to understand. I am a Death Row resident of the Polunsky dungeon. Why does my heart ache. We want pleasure love and satisfaction. It. The walls of darkness crushed in on me. Life without meaning is life without purpose. But the solace within the Polunsky dungeon, the unforgivesness within society, the church Pastors and Christians. It is terrifying. Does anyone care or who I am. Can you feel me people. The Polunsky dungeon is what I call the pit of hopelessness. The terrfying thing is the US is the only place, country that is the only civilized country that is free that says it will stop murder and enable justice. I ask each of you to lift up your voices to demand an end to the Death Penalty. If we live, we live to the Lord. If we die we die to the Lord. Christ rose again, in Jesus name. Bye Aunt Helen, Luise, Joanna and to all the rest of yall. You may proceed Warden. (began singing)  ', 'Charles Rumbaugh': 'D.J., Laurie, Dr. Wheat, about all I can say is goodbye, and for all the rest of you, although you don’t forgive me for my transgressions, I forgive yours against me. I am ready to begin my journey and that’s all I have to say.', 'Francis Newton': 'This offender declined to make a last statement.  ', 'Larry Hayes': ' I would like for Rosalyn\\'s family and loved ones and my wife, Mary\\'s, family to know that I am genuinely sorry for what I did.  I would like you to reach down in your hearts and forgive me.  There is no excuse for what I did.  Rosalyn\\'s mother asked me at the trial, \"Why?\" and I do not have a good reason for it.  Please forgive me.  As for my friends and family here - thanks for sticking with me and know that I love you and will take part of you with me.  I would like to thank one of the arresting officers that I would have killed if I could have.  He gave me CPR, saved my life, and gave me a chance to get my life right.  I know I will see Mary and Rosalyn tonight.  I love you all.  ', 'Jessie Patrick': 'This offender declined to make a last statement.  ', 'Juan Soria': \" I wish we could pray to Allah, the father of the universe. I ask for your protection and my salvation, my night and my day. I want you to lead me and I will follow. We give praise to Allah the divine and holy prophet. We know that you are Allah, that you are the prophet in these days that is in charge of the human race in this new era of time. These two (unintelligible) to the masters of the temple of the son we have been honored to dwell in our father's house at least for the time in which this finite time has come to it's assigned time for one. There is nothing strange, love governs all events, what is (unintelligible), who is who was his mother and father, we extend my love to all my brothers and sister extend to life and my religion, it is Allah. It is going in salvation of the nation I come from South, Central, and North America. (Unintelligible) that would save us. So, I call on to all of my brothers and sisters and to members of the human race that still have some knowledge for what love divine love is. That comes learned from your ancient forefathers. Love is brought by this prophet Allah. We extend our love to everyone who believes the faith of Islamic and chooses to love along with all their being. We come to understand what is finite and what is infinite. Again, I say it is an honor to live in my father's house. To see this divine great paradise that which I have come to see with the eye of the spirit, the spirit which was revealed by my prophet which was (unintelligible). We extend our love to everybody. Extend my love to my divine sister. Sister Dorothy, and my brother Tomas and we know that our father Allah will bless them in the following days to come. We know that Allah is with us now and forever. The say I am going to have surgery, so I guess I will see everyone after this surgery is performed. It is finished. \", 'John Wheat': \"I deeply regret what happened. I did not intentionally or knowingly harm anyone. That's it and didmau. (Vietnamese for let's get out of here.) \", 'Earl Behringer': 'I want my friends to know it is not the way to die, but I belong to Jesus Christ. I confess my sins. I have…', 'Herman Clark': 'Jesus Christ is the Lord of Lords and the King of Kings. I love all of you, those I can and can’t see. With the love of Christ, my love for you is secure and I love you purely and wholeheartedly in the name of the Almighty God.', 'Lonnie Pursley': \" Yes. I would like to address the victim's family. I received your poem and I am very grateful for your forgiveness. I still want to ask for it anyway. I have Jesus in my heart and I am sorry for any pain I caused you all. Thank you for your forgiveness. I am sorry. Ashlee, Pam -- I am going to miss you all. I love you all. Give everybody my love. Give everybody my love, O.K.? Mother, James, Justin, Corey, Brent, grand-babies and Daddy - I love you Pam. I love you Ashlee, Pammy and Irene. I will see you all on the other side. Couple friends on death row who have helped me; Shy Town and Crazy Jay...I love you all and for all your support. Uncle Ray too. I am saved and I am going home, O.K.? You all stay strong. You all stay strong. That is all.  \", 'Cary Kerr': 'Final Words:', 'Michael Rosales': \"No, I love you. May the Lord be with you. Peace, I'm done. \", 'Bobby Cook': 'I would like to say to the victim\\'s family, if this goes on record, that I know they have gotten grief and I know with this execution, it will not be any relief to them. That with my death, it will just remind them of their loved one, Mr. Holder. I would like to say to them, \"please forgive me for what happened; it was self defense...and I was never able to get up on the stand to tell them.\" I know this is wrong. I am going home to the Lord.  ', 'John Thompson': 'This offender declined to make a last statement.  ', 'Lionell Rodriguez': \" First of all, you have every right to hate me and every right to want to see this. To you and to my family, you don't deserve to see this.  I wasn't going to apologize by letter, I wanted to apologize face to face.  None of this should have happened.  It is the right thing to do.  I have a good family, just like you are a good family.  I hope that any bitterness that you have because of what I did, I hope you can learn to forgive.  I asked my family to contact you, because they did no wrong.  I am responsible and I am sorry to you all.  Thank you all my Jefe (dad), my brothers, Maria and my Grandfather.  Thank you, we will see each other again.  Thank you, Lord Jesus receive my spirit. \", 'Leo Jenkins': 'This offender declined to make a last statement.  ', 'Kenneth Biros': 'Victim: Tami L. Engstrom, 22', 'Larry Bill Elliott': 'Shortly after the execution Elliott\\'s attorney submitted a final statement handwritten by Elliott. \"In order to obtain my conviction and sentence of death, the Commonwealth assembled and presented a massive amount of false information. To all of the members of the Thrall and Finch facilities: I am deeply sorry that someone killed your loved ones.\"', 'Mario Marquez': 'Thank you for being my Lord Jesus and Savior and I am ready to come home. Amen.  ', 'Jeffery Dillingham': \" I would just like to apologize to the victim's family for what I did. I take full responsibility for that poor woman's death, for the pain and suffering inflicted on Mr. Koslow.  Father, I want to thank you for all of the beautiful people you put in my life. I could not have asked for two greater parents than you gave me. I could just ask for two greater people in their life now. It is a blessing that there are people that they love so much but even more so, people that I love so much.  I thank you for all the things you have done in my life, for the ways that you have opened my eyes, softened my heart. The ways that you have taught me. For teaching me how to love, for all of the bad things you have taken out of my life. For all the good things you have added to it.  I thank you for all of the beautiful promises that you make us in your word, and I graciously received every one of them. Thank you Heavenly Father for getting me off of death row and for bringing me home out of prison.  I love you Heavenly Father, I love you Jesus. Thank you both for loving me. Amen.  \", 'Martin Robles': 'Victims:', 'Andrew DeYoung': 'Victims:', 'Alvin Kelly': ' Yes, I would like to thank God for my salvation and all he has done in my life. I thank my family, loved ones, and friends. I give Him thanks, honor, and glory. I love you Mary Taylor with all my heart, I always have. You are my girl. I love you, Michelle. You are my little kitten. Kevin, it’s all you now. You are my boy. Sylvia, my sister, keep your eyes on Christ, forever. Everything is going to be okay. Angela Christine, keep your eyes on the prize and nothing else. I love all of you. God’s been good. I would like to address the family: I offer my sorrow and my heart goes out to ya’ll. I know you believe that you’re going to have closure tonight and as I stand before God today, the true judge, I had nothing to do with the death of your family. I ask God to hold this. I would like to address the family of John T. Ford: I ask for forgiveness, because I do stand guilty for my involvement for that. Thank you Lord Jesus Christ for coming to my life. (quiet singing) Thank you Lord Jesus for coming into my life, you walked me through prison. Thank you Lord Jesus because you died for me. Thank you Lord Jesus for remembering me... ', 'Granville Riddle': ' I would just...(speaking in French).  I love all of you.  I love you Lundy, Levi, my dad.  I have no grudges against anyone, or any of the things that have gone wrong.  I would like to say to the world, I have always been a nice person.  I have never been mean-hearted or cruel.  I wish everybody well. ', 'William Mark Mize': 'Victim: Eddie Tucker, 34', 'Denton Crank': 'To my family who has kept me strong, I give my love.', 'Virgil Martinez. LAs': '\"I know what you\\'ve been told and that\\'s all a lie. John Gomez killed your kids and sister. I know y\\'all love John Gomez, but he was a violent man. I wish I would have shot him in the leg, then he would be here. Those investigators were just trying to convict somebody. My gun had a hair trigger. Veronica told me to come and get my herb book and she went to the back of the closet. Her kids had asthma and I lent her the book.', 'Brian Roberson': ' Since I have already said all I need to say to all my loved ones, I\\'m not going to say anything to y\\'all at this time. Y\\'all know I love you and y\\'all know where we\\'re at. I will see y\\'all when you get there. So this is my statement. To all of the racist white folks in America that hate black folks and to all of the black folks in America that hate themselves: the infamous words of my famous legendary brother, Matt Turner, \"Y\\'all kiss my black ass.\" Let\\'s do it. ', 'Robert Atworth': \"Well, first, My people, you guys have heard everything I needed to say today. I hope I said the right things. I hope you heard me. And I hope you go beyond here and do what you need to do, do the right thing. Strength in numbers. Look out for each other. You still got a chance with Shawn. Edwin you know what you gotta do. You have my love. It's the right thing. And for everybody else, those people who have malice in their heart, allow ambitions to over ride what they know. Be right. Even though they just gotta do their job. For all of you with hatred in their veins, and think this is ashamed. You've done nothing. I did this, I chose this, you've done nothing. Remember this, if all you know is hatred, if all you know is blood love, you'll never be satisfied. For everybody out there that is like that and knows nothing but negative, kiss my proud white Irish ass. I'm ready Warden, send me home.  \", 'Derrick Sonnier': 'This offender declined to make a last statement.  ', 'Robert Ladd': 'Teresa I am really sorry, please don’t have hate in your  heart.\\xa0 I really feel like this.\\xa0 I hope you can find peace in your  heart and happiness.\\xa0 A revenge death won’t get you anything.\\xa0  Joanna, I love you.\\xa0 Let’s ride.', 'James Meanes': 'As the ocean always returns to itself, love always returns to itself. So does consciousness, always returns to itself. And I do so with love on my lips. May God bless all mankind.', 'Bryan Wolfe': \"Yes sir. To Edie, Tom, and and Carma - I love all you all.  I appreciate all your support.  I love you Margherita, Father Guido, and Father Angelo.  I appreciate your spiritual support and all those that were in prayer for me.  I will be O.K.  I am at peace with all of this and I won't have to wake up in prison any more.  I love you all.  I totally surrender to the Lord.  I am ready, Warden. \", 'Vincent Gutierrez': \" I do, I would like to tell everybody that I'm sorry about the situation that happened.  My bad - everybody is here because of what happened.  I'd like to thank everybody that's been here through the years.  The little kids overseas - they really changed me.  Sister Doris, mom, brothers, sister, dad; I love ya'll.  My brother... where's my stunt double when you need one?  My Lord is my life and savior, nothing shall I fear.  \", 'Davis Losada': 'O.K., Warden.', 'Jason Getsy': 'Victim: Ann R. Serafino, 66', 'Jermaine Herron': \" Yes sir.  To Mr. Jerry Nutt, I just hope this brings some kind of peace to your family.  I wish I could bring them back, but I can't.  I hope my death brings peace; don't hang on to the hate.  Momma, stay strong.  Lord forgive me for my sins because here I come.  Let's go, Warden.  \", 'Donald Aldrich': 'Yes sir, I would.  To the West Family, I would just like to apologize for your loss.  I hope that you can forgive me.  To my family and loved ones and friends, I thank all of you all for your support and I am sorry for the pain and hurt I have caused you.  I love you all and I will see you on the other side.  O.K. Warden.  ', 'Samuel Hawkins': 'This offender declined to make a last statement.  ', 'Danielle Nathaniel Simpson': '\"I want to tell my family I love y’all. I’m going to miss y’all. I’m ready, ready.\"- Danielle Nathaniel Simpson, 30', 'Gary Etheridge': \" Yes, sir. To the victim's family, I'm sorry for what was taken from you. I hope you find peace. To my sweet Claudia, I love you. Stay strong, keep building, and be careful. Be careful. I love you. I'm through.  \", 'Robert Henry': 'When asked if he had any final words, Robert Henry at first apologized then read a statement that voiced his anti-death penalty sentiments - \"Hopefully, in the not-so-distant future, this society shall truly evolve in its law and practice, in that if we are not a society who are comfortable with castrating and raping a rapist, and we do not chop off the hands of thieves, well then, why would we continue to be murderers to those who have murdered?', 'Javier Medina': \"First of all, I would like to apologize to the family members of the Cadena family for whatever hurt and suffering I have caused you.  This opportunity has never come up before.  It's not that I haven't been remorseful, things just never worked out before.  Please forgive me and I hope you find it in your heart to forgive me.  The peace you will find will be a temporary peace, true peace will come through find Christ.  I pray through this execution, that you will find the peace you seek.  Give yourself to Christ and find peace through him.  I thought about your loved one very much.  He will be waiting in heaven for me.  I will be able to talk to him and ask him for forgiveness personally.   To my family, I thank you and love you for being there for me and supporting me.  This is just a stepping stone to home.  The hardest part of all the years I was on death row.  To all people that supported me, you will always be in my heart, as I have always been in yours.  God bless you.  Keep your heads up, see you again soon.  Forgive me for the pain I caused you. (Spanish) To all the people of Mexico, I would like to thank them for the help.  I also want to carry each and every one of you in my heart.  If you are going to demonstrate, I don't want you to do anything crazy to these people.  They have suffered enough.  Long lives Mexico.  Raise the flag of Mexico with honor.  Thanks for everything.  I love you. (English) To everyone on death row, keep your heads up and I will see you again.  I am truly sorry, may you find peace in this.  Forgive me for the pain.  God bless you, I love you all, and I'm ready to go home.  \", 'Richard Jones': \" I want the victim's family to know that I didn't commit this crime. I didn't kill your loved one. Sharon Wilson, y'all convicted an innocent man and you know it. There are some lawyers hired that is gonna prove that, and I hope you can live with it. To my family and loved ones, I love you. Thank you for supporting me. Y'all stay strong. Warden, take me home.  \", 'Dennis Bagwell': \" Yes sir, can you hear me?  To you Irene, Thank You.  I love you all.  All right Warden, I'm ready.  \", 'David Herman': 'It was horrible and inexcusable for me to take the life of your loved one and to hurt so many mentally and physically. I am here because I took a life and killing is wrong by an individual and by the state, and I am sorry we are here but if my death gives you peace and closure then this is all worthwhile. To all of my friends and family, I love you and I am going home -  ', 'James Briddle': 'This offender declined to make a last statement.  ', 'Christopher Black': 'This offender declined to make a last statement.  ', 'Miguel Flores': ' I want to thank my attorneys, Father Walsh...Sylvia, te quiero mucho y a Consulado, te quiero decir muchas gracias por todo. I want to say I am sorry and I say a prayer today for you so you can have peace and I hope that you can forgive me. God is waiting and God is waiting now.  ', 'Dennis James Skillicorn': '\"The sorrow, despair and regrets of my life would most certainly have consumed me if not for the grace and mercy of a loving and living God who saved me.\"', 'Beunka Adams': 'Read more about the crimes of Beunka Adams', 'Douglas Feldman': '\\xa0', 'Jessy San Miguel': \"Be strong, brother. Be strong, my brother. Be strong, Mom. It's going to be alright. I love all of you. Don't forget that. Ironic, isn't it? I'm a cross. Ya'll take care of each other. I'll be watching over you. Thank you, Dana……Yes. \", 'Aaron Foust': 'Adios, amigos, I’ll see ya’ll on the other side. I’m ready when ya’ll are.', 'Demarco McCullum': 'I do.  I just wanted to say to all of those that have supported me over the years that I appreciate it and I love you.  And I just want to tell my mom that I love her and I will see her in Heaven.  ', 'Thomas Barefoot': ' When asked if he had a last statement, he replied, \"Yes, I do.\"I hope that one day we can look back on the evil that we’re doing right now like the witches we burned at the stake. I want everybody to know that I hold nothing against them. I forgive them all. I hope everybody I’ve done anything to will forgive me. I’ve been praying all day for Carl Levin’s wife to drive the bitterness from her heart because that bitterness that’s in her heart will send her to Hell just as surely as any other sin. I’m sorry for everything I’ve ever done to anybody. I hope they’ll forgive me. \"Sharon, tell all my friends goodbye. You know who they are: Charles Bass, David Powell…\" Then he coughed and nothing else was said.  ', 'Robert Carter': 'I love you all.', 'Craig Ogan': ' I would like to say first of all the real violent crimes in this case are acts committed by James Boswell and Clay Morgan Gaines. We have the physical evidence to prove fabrication and cover-up. The people responsible for killing me will have blood on their hands for an unprovoked murder. I am not guilty; I acted in self-defense and reflex in the face of a police officer who was out of control. James Boswell had his head beat in; possibly due to this he had problems. My jurors had not heard about that. They did not know he had suffered a head injury from the beating by a crack dealer five months earlier; that he was filled with anger and wrote an angry letter to the Houston Chronicle. He expressed his frustration at the mayor, police chief and fire chief. He was mad at the world. Three and a half months before I worked on a deal with the DEA, the informant was let off. At the moment he left the courtroom, he became angry with me; Officer Boswell was upset about this. Officer Boswell and an angry woman were in the police car and they were talking in raised voices. In other words, Officer Boswell was angry at the time I walked up. Officer Boswell may have reacted to the...(Offender stopped speaking in mid-sentence.) ', 'Michael Moore': \" I'll start by saying I love all of you.  I will be waiting for your arrival, don't disappoint me by not showing up.  I will be there with the give of Christ.  We'll all be there.  I promise I'll go up smiling.  I am sorry.  If I could think of a word in the vocabulary stronger, you need to hear something stronger, you deserve it.  I'm sorry, I can't take back what I have done.  I have asked Christ for forgiveness, and I ask that you forgive me.  And I understand your feelings.  God bless all of you.  I will be waiting for your arrival.  Do not disappoint me by not showing up.  God bless everybody.  \", 'Johnny Pyles': 'I want to tell you folks there, of a… I have a love in my heart for you. I hope you don’t look for satisfaction or comfort or peace in my execution. Jesus Christ is my Lord and Savior and I want him to be yours. I’m sorry for the pain and heartache I’ve caused your family. Too many years I’ve caused all my family problems and heartache. I’m sorry. I wanted to let you know that the Lord Jesus is my life and I just want to go. I’m gonna fall asleep and I’ll be in his presence shortly. I got reason to rejoice and I pray to see all of you there someday.  ', 'Pedro Muniz': 'That’s all I have to say.', 'Raymond Landry': 'This offender declined to make a last statement.  ', 'Bruce Jacobs': \" Can you hear me, Chris?  The Lord is my Shepherd; I shall not want.  He makes me to lie down in green pastures; He leads me beside the still waters.  He restores my soul;  He leads me in the paths of righteousness for His name's sake.  Yea, though I walk through the valley of the shadow of death, I will fear no evil; for Thou art with me;  Thy rod and Thy staff comfort me.  Thou preparest a table before me in the presence of my enemies;  Thou anointest my head with oil;  My cup runneth over.  Surely goodness and mercy shall follow me all the days of my life;  And I will dwell in the house of the Lord forever. I want to thank you for being there with me all these years and supporting me and keeping me in the Word.  Michael, you take care of her and thank you Father Don and Chris.  And I want to thank the media for being nice to me all this time.  Bye, Chris.  I will see you.  Take care of yourselves and you all stay strong.  You keep doing your ministry.  \", 'William Murray': \"First I want to say to the family, I'm sorry I hope you find it in your heart to forgive me. The Lord has forgiven me. All I can say is I'm sorry. God Bless. To my family, I'll be there waiting for ya'll, alright? God Bless.  \", 'Domingo Cantu': 'English: I love you. I will be waiting for you on the other side. Son be strong no matter what happens, know that God is looking over you. Jesus mercy, Jesus mercy, Jesus mercy! Spanish: Brother-in-law, take care of the family and let it be united. Yoli. German: Menic schone prizessin. Du list all mine herz and seele, rind ich liele dich so sehm! (Translation: My beautiful princess. You are all my heart and soul and I love you so much.  ', 'Mauriceo Brown': \" Yes, I do.  To the victim's family, I am sorry you lost a brother, loved one, and friend.  To my family, I love you all.  Keep your heads ups and know I will be in a better place.  And you all look after Aleda and make sure she is a part of this family.  I appreciate you all and love you.  I apologize that you lost a loved one this way.  God bless you all.  O.K. Warden.  \", 'Billy White': 'This offender declined to make a last statement.  ', 'Roger Vaughn': 'This offender declined to make a last statement.  ', 'Robert L  Newland': 'Victim: Carol Sanders Beatty, 27', 'Miguel Richardson': ' I love you, I love everyone, I go out with great love and respect.  This is a great day to pass on.  This so called dying.  This is a great day to approach this glorious event.  Approach the present. (mumbling)  Thy will be done.  (more mumbling)  I love you all.  Don\\'t waste your time arguing and bickering.  God loves you all.  All that really matters is love.  Love is the only thing for us.  There is no closure without love.  Forgive one another.  You got to learn how to forgive and embrace one another.  Be one.  Our love is just like...it is the nectar of God.  We have so much to give when we give out of our hearts.  The hear is the wishing well that waters the tree.  I wish and desire one thing.  I wish only the best for all of you.  (unknown tongues)  I love the love in every man and child.  Mankind is my family and tribe.  I am ready grumah.  A poet once said, \"...is my country.  There is no separation between you and me There is no enemies, only family.  I am a minister of love.  I go out loving everyone and everything.  God bless my...country.  I shed tears of love may they nourish everyone.  Stop killing start loving.  Stop the violence.  Let my death change society.  You don\\'t need any more killing.  You don\\'t need any minimum, maximum security, death row.  You don\\'t need the death penalty.  We need more loving fathers and mothers.  It is a good day to die.  Take me God, Hold me in yours and carry me home. ', 'John Cockrum': 'I would like to apologize to the victim’s family for all of the pain I have caused them. I would like to tell my family I love them and I hope to see them again soon. Lord Jesus, thank you for giving me the strength and the time in my life to find Jesus Christ and to be forgiven for all of my sins. Thank you for the changes in my life you have given me, the love and closeness of my family, and my beautiful daughter. Thank you for using me -', 'Daniel Hittle': ' Santajaib Singh Ji.  ', 'Jerry Hogue': 'O.K., I’m ready.  ', 'James Knox': 'This offender declined to make a last statement.  ', 'Keith Thurmond': '- Keith Thurmond, 52', 'Joseph Cannon': 'All right', 'James Russell': 'His final statement lasted 3 minutes. He thanked everybody that fought against his sentence. He spoke to his family and said he would carry their love with him.  ', 'Robert Waterhouse': 'Victim: Deborah Kammerer, 29', 'Gregory Russeau': '“Yes, I would like to thank my family and friends for what  y’all have done for me.\\xa0 Thank you for being here with me that I do not  have to transition alone.\\xa0 I have peace.\\xa0 To my daughter, I love you,  to my grandbabies, sisters and brothers, I love you.\\xa0 I am ready to go  home.”', 'Alvin Goodwin': ' He spoke in Irish, translating to \"Goodbye.\"  ', 'Robert Jackson III': '(Referring to co-defendant Tony Lachette) \"Tony\\'s laughing his ass off right now because you\\'re about to watch an innocent man die. This isn\\'t justice.\"- Robert Jackson III, 38', 'Sammie Felder': ' Like to tell my friends that I love them. Appreciate them being here to support me. Alison, I love you.  ', 'Edward Green': 'Yes I do.  To my family, to my friends, and people who have accepted me for being the person that I am.  To the Sullivan and Hayden families, I do not come here with the intention to make myself out to be a person that I am not.  I never claimed to be the best person.  I am not the best father, the best son, or the best friend in the world.  I did the best I could with what I had.  I come with no hate in my heart or bitterness.  To my family and to you people, I can only apologize for all the pain I caused you.  May God forgive us on this day.  I am ready when you are.  ', 'Dennis McGuire ': 'VictimJoy Stewart, 22 (30-weeks pregnant)', 'Paul Nuncio': 'Written: I wish the public to see my point of inside view that the officers of Death Row of the State of Texas. All the years of 5 or 6 years of my first time being locked up for not doing a crime of this sort. Now, officers of Texas TDCJ are of Terrell Unit, Walls Unit and some of Ellis I are just doing their job for their family. Now there are also respectful inmates death row and population that I\\'ve meet, now I say to all of you just realizing what crime is about, don\\'t do it. One way I\\'ve thought of was having your friends \"inmate\" to witness your execution talking about those of population and first timers. I just want to give those officers that respected me while in prison of TDCJ Death Row. May God bless you all of TDCJ and inmates especially the free-world population. With Gods and my words of faith, Paul Selso Nuncio.  '}\n"
     ]
    }
   ],
   "source": [
    "#scrape last word data from texas death penalty site\n",
    "import requests\n",
    "from bs4 import BeautifulSoup\n",
    "\n",
    "r = requests.get('http://www.tdcj.state.tx.us/death_row/dr_executed_offenders.html')\n",
    "soup = BeautifulSoup(r.content, 'html.parser')\n",
    "lw_data = {}\n",
    "count = 0\n",
    "for tr in soup.find_all('tr'):\n",
    "    row = tr.find_all('td')\n",
    "    if len(row) > 1:\n",
    "        name = row[4].get_text() + \" \" + row[3].get_text().split(',')[0]\n",
    "        lw = requests.get('http://www.tdcj.state.tx.us/death_row/' + row[2].find('a').get('href'))\n",
    "        lwsoup = BeautifulSoup(lw.content, 'html.parser')\n",
    "        bodyp = lwsoup.find(id=\"body\").find_all('p')\n",
    "        laststatement = bodyp[len(bodyp) - 1]\n",
    "        lw_data[name] = laststatement.get_text()\n",
    "        \n",
    "#scrape last words from other states if available crime.about.com\n",
    "\n",
    "initial_link = 'http://crime.about.com/od/anylastwords/ig/Last-Words-of-Executed/William-Rousan.htm#step-heading'\n",
    "\n",
    "count = 0\n",
    "def additional_lw(link, count):\n",
    "    count +=1\n",
    "    r2 = requests.get(link)\n",
    "    soup2 = BeautifulSoup(r2.content, 'html.parser')\n",
    "    for body in soup2.find_all('div', { \"class\" : \"expert-content-text\" }):\n",
    "        lw = body.find_all('p')[1].get_text()\n",
    "        name = link.split('Last-Words-of-Executed/')[1].split('.htm')[0].replace('-', ' ')\n",
    "        lw_data[name] = lw\n",
    "    next = soup2.find('div', {'class' : 'next'})\n",
    "    if next and count < 111:\n",
    "        next_link = 'http://crime.about.com' +  next.find('a').get('href')\n",
    "        additional_lw(next_link, count)\n",
    "        \n",
    "additional_lw(initial_link, count)\n",
    "    \n",
    "print(lw_data)"
   ]
  },
  {
   "cell_type": "code",
   "execution_count": 3,
   "metadata": {
    "collapsed": false
   },
   "outputs": [],
   "source": [
    "# match by name of offender to add last word data to dataset\n",
    "import csv\n",
    "\n",
    "origfilename = 'execution_database.csv'\n",
    "updatedfilename = 'execution_database_with_lw.csv'\n",
    "\n",
    "reader = open(origfilename)\n",
    "reader_f = csv.reader(reader)\n",
    "\n",
    "writer = open(updatedfilename,'wt')\n",
    "writer_f = csv.writer(writer, delimiter=',')\n",
    "\n",
    "count = 0\n",
    "for row in reader_f:\n",
    "    if count == 0:\n",
    "        row.append('Last_Statement')\n",
    "    count +=1\n",
    "    if row[1] in lw_data.keys():\n",
    "        row.append(lw_data[row[1]])\n",
    "        writer_f.writerow(row)\n",
    "    else:\n",
    "        writer_f.writerow(row)\n",
    "    "
   ]
  },
  {
   "cell_type": "code",
   "execution_count": 461,
   "metadata": {
    "collapsed": false
   },
   "outputs": [
    {
     "name": "stdout",
     "output_type": "stream",
     "text": [
      "         Date             Name  Age Sex    Race  \\\n",
      "0  01/10/1986      James Roach   25   m   White   \n",
      "1  01/11/1985      Joseph Shaw   29   m   White   \n",
      "2  01/08/1997        Paul Ruiz   49   m  Latino   \n",
      "3  01/08/1997  Earl Van Denton   47   m   White   \n",
      "4  01/06/1994      Keith Wells   31   m   White   \n",
      "\n",
      "     Number / Race / Sex of Victims State Region            Method Juvenile  \\\n",
      "0  1 White Male(s)1 White Female(s)    SC      S     Electrocution      Yes   \n",
      "1  1 White Male(s)1 White Female(s)    SC      S     Electrocution       No   \n",
      "2                   2 White Male(s)    AR      S  Lethal Injection       No   \n",
      "3                   2 White Male(s)    AR      S  Lethal Injection       No   \n",
      "4  1 White Male(s)1 White Female(s)    ID      W  Lethal Injection       No   \n",
      "\n",
      "  Federal Volunteer Foreign National    County Last_Statement  \n",
      "0      No        No               No  Richland            NaN  \n",
      "1      No        No               No  Richland            NaN  \n",
      "2      No        No               No     Logan            NaN  \n",
      "3      No        No               No    Nevada            NaN  \n",
      "4      No       Yes               No       Ada            NaN  \n"
     ]
    }
   ],
   "source": [
    "import numpy as np\n",
    "\n",
    "%matplotlib inline\n",
    "import matplotlib.pyplot as plt\n",
    "import pandas as pd\n",
    "\n",
    "executions = pd.read_csv(\"execution_database_with_lw.csv\")\n",
    "print(executions.head())"
   ]
  },
  {
   "cell_type": "code",
   "execution_count": 5,
   "metadata": {
    "collapsed": false
   },
   "outputs": [
    {
     "name": "stdout",
     "output_type": "stream",
     "text": [
      "               Age\n",
      "count  1407.000000\n",
      "mean     41.356787\n",
      "std       9.415526\n",
      "min      22.000000\n",
      "25%      34.000000\n",
      "50%      40.000000\n",
      "75%      47.000000\n",
      "max      77.000000\n"
     ]
    }
   ],
   "source": [
    "print(executions.describe())"
   ]
  },
  {
   "cell_type": "code",
   "execution_count": 6,
   "metadata": {
    "collapsed": false
   },
   "outputs": [
    {
     "name": "stdout",
     "output_type": "stream",
     "text": [
      "              Age\n",
      "count  405.000000\n",
      "mean    39.545679\n",
      "std      8.665455\n",
      "min     24.000000\n",
      "25%     33.000000\n",
      "50%     38.000000\n",
      "75%     45.000000\n",
      "max     67.000000\n",
      "[' First, I would like to say to the family that I am sorry, and I do ask for forgiveness. There will be also a funeral mass at St. Thomas and I would like to invite all of those from the State and the family to be there if they would like to come. My last words will be: And He was the light that shineth in the hearts of all man from the foundations of the world. If we confess our sins He is just and true to forgive us of our sins and cleanse us from all unrighteousness. Peace and goodness.  ', 'This offender declined to make a last statement.  ', 'Eden, if they want proof of them, give it to them. Thanks for being my friend.  ']\n"
     ]
    }
   ],
   "source": [
    "# make list of just statements for straigh analysis of all last statements\n",
    "lastwordsdup = executions.dropna(subset=['Last_Statement'])\n",
    "#also remove duplicated statements as these were default vals\n",
    "lastwords = lastwordsdup.drop_duplicates(subset=['Last_Statement'])\n",
    "print(lastwords.describe())\n",
    "statements = list(lastwords['Last_Statement'])\n",
    "print(statements[:3])"
   ]
  },
  {
   "cell_type": "code",
   "execution_count": 7,
   "metadata": {
    "collapsed": false
   },
   "outputs": [
    {
     "name": "stdout",
     "output_type": "stream",
     "text": [
      "[['first', 'i', 'would', 'like', 'to', 'say', 'to', 'the', 'family', 'that', 'i', 'am', 'sorry', 'and', 'i', 'do', 'ask', 'for', 'forgiveness', 'there', 'will', 'be', 'also', 'a', 'funeral', 'mass', 'at', 'st', 'thomas', 'and', 'i', 'would', 'like', 'to', 'invite', 'all', 'of', 'those', 'from', 'the', 'state', 'and', 'the', 'family', 'to', 'be', 'there', 'if', 'they', 'would', 'like', 'to', 'come', 'my', 'last', 'words', 'will', 'be', 'and', 'he', 'was', 'the', 'light', 'that', 'shineth', 'in', 'the', 'hearts', 'of', 'all', 'man', 'from', 'the', 'foundations', 'of', 'the', 'world', 'if', 'we', 'confess', 'our', 'sins', 'he', 'is', 'just', 'and', 'true', 'to', 'forgive', 'us', 'of', 'our', 'sins', 'and', 'cleanse', 'us', 'from', 'all', 'unrighteousness', 'peace', 'and', 'goodness'], ['this', 'offender', 'declined', 'to', 'make', 'a', 'last', 'statement'], ['eden', 'if', 'they', 'want', 'proof', 'of', 'them', 'give', 'it', 'to', 'them', 'thanks', 'for', 'being', 'my', 'friend']]\n"
     ]
    }
   ],
   "source": [
    "from nltk.tokenize import wordpunct_tokenize\n",
    "import string\n",
    "from collections import Counter\n",
    "\n",
    "# cleanup text\n",
    "\n",
    "last_word_list = []\n",
    "\n",
    "for statement in statements:\n",
    "    cleaned = statement.replace('-', ' ')\n",
    "    for p in string.punctuation:\n",
    "        cleaned = cleaned.replace(p, '')\n",
    "    last_word_list.append(wordpunct_tokenize(cleaned.lower()))\n",
    "\n",
    "print(last_word_list[:3])"
   ]
  },
  {
   "cell_type": "code",
   "execution_count": 8,
   "metadata": {
    "collapsed": false
   },
   "outputs": [
    {
     "name": "stdout",
     "output_type": "stream",
     "text": [
      "number of tokens: 33521\n",
      "number of unique tokens: 2957\n"
     ]
    }
   ],
   "source": [
    "# flatten list\n",
    "\n",
    "token_list = []\n",
    "for tokens in last_word_list:\n",
    "    token_list.extend(tokens)\n",
    "    \n",
    "print('number of tokens:', len(token_list))\n",
    "print('number of unique tokens:', len(set(token_list)))"
   ]
  },
  {
   "cell_type": "code",
   "execution_count": 9,
   "metadata": {
    "collapsed": false
   },
   "outputs": [
    {
     "name": "stdout",
     "output_type": "stream",
     "text": [
      "[('i', 2509), ('you', 1236), ('to', 1213), ('and', 1066), ('the', 924), ('my', 635), ('for', 585), ('that', 564), ('love', 549), ('all', 508), ('me', 496), ('of', 476), ('am', 394), ('a', 358), ('is', 353), ('in', 352), ('have', 346), ('it', 289), ('this', 276), ('know', 251), ('family', 250), ('be', 237), ('not', 232), ('your', 222), ('thank', 206), ('will', 197), ('sorry', 194), ('want', 189), ('would', 169), ('with', 165), ('god', 162), ('what', 160), ('do', 155), ('like', 154), ('there', 153), ('on', 150), ('them', 149), ('but', 141), ('say', 139), ('are', 137), ('was', 129), ('just', 128), ('yall', 127), ('’', 127), ('lord', 124), ('forgive', 119), ('he', 118), ('we', 115), ('life', 112), ('as', 112), ('going', 104), ('im', 104), ('did', 103), ('hope', 102), ('take', 99), ('tell', 99), ('no', 98), ('yes', 97), ('one', 97), ('see', 94), ('dont', 92), ('can', 92), ('they', 89), ('been', 88), ('who', 86), ('peace', 86), ('jesus', 84), ('warden', 84), ('here', 84), ('done', 81), ('give', 81), ('people', 80), ('ask', 79), ('so', 79), ('if', 78), ('up', 70), ('death', 70), ('ready', 69), ('strong', 69), ('at', 68), ('father', 65), ('heart', 64), ('out', 64), ('her', 63), ('everybody', 61), ('from', 61), ('go', 61), ('has', 61), ('thats', 60), ('or', 57), ('let', 57), ('get', 57), ('had', 57), ('us', 56), ('home', 56), ('about', 56), ('man', 55), ('keep', 55), ('now', 54), ('years', 53), ('please', 53), ('when', 53), ('through', 53), ('care', 52), ('pain', 52), ('right', 52), ('their', 52), ('stay', 51), ('friends', 51), ('pray', 50), ('his', 50), ('being', 50), ('find', 50), ('come', 49), ('forgiveness', 49), ('because', 49), ('back', 45), ('time', 45), ('christ', 45), ('its', 44), ('those', 44), ('could', 43), ('too', 43), ('sir', 42), ('never', 42), ('by', 42), ('got', 41), ('s', 41), ('always', 41), ('may', 41), ('caused', 40), ('everything', 39), ('other', 39), ('any', 39), ('only', 39), ('over', 38), ('much', 38), ('some', 38), ('nothing', 38), ('very', 38), ('everyone', 38), ('cant', 37), ('way', 37), ('first', 37), ('him', 37), ('mom', 36), ('bless', 36), ('innocent', 36), ('an', 36), ('ill', 35), ('allah', 35), ('how', 35), ('apologize', 35), ('didnt', 35), ('heaven', 34), ('loved', 34), ('she', 34), ('each', 33), ('day', 33), ('these', 33), ('support', 32), ('good', 31), ('make', 31), ('our', 31), ('said', 31), ('still', 31), ('m', 30), ('row', 30), ('lot', 30), ('wish', 29), ('things', 29), ('were', 29), ('ive', 28), ('more', 28), ('statement', 28), ('sister', 28), ('today', 28), ('something', 28), ('world', 27), ('ok', 27), ('well', 27), ('son', 27), ('think', 26), ('t', 26), ('last', 26), ('thy', 26), ('mr', 26), ('really', 26), ('thing', 25), ('mother', 25), ('victims', 25), ('thanks', 25), ('help', 24), ('holy', 24), ('continue', 24), ('spirit', 24), ('down', 24), ('again', 24), ('murder', 24), ('where', 24), ('hurt', 24), ('ever', 23), ('truly', 23), ('tonight', 23), ('texas', 23), ('happened', 23), ('every', 23), ('into', 23), ('crime', 22), ('name', 22), ('look', 22), ('wanted', 22), ('made', 22), ('brother', 22), ('truth', 22), ('hate', 22), ('long', 22), ('goodbye', 22), ('wrong', 22), ('feel', 21), ('justice', 21), ('appreciate', 21), ('need', 21), ('words', 21), ('understand', 21), ('put', 20), ('better', 20), ('after', 20), ('doing', 20), ('alright', 20), ('closure', 20), ('place', 20), ('anything', 20), ('ll', 19), ('best', 19), ('told', 19), ('ya', 19), ('mercy', 19), ('brothers', 19), ('ah', 19), ('guys', 19), ('amen', 19), ('many', 18), ('ones', 18), ('sins', 18), ('against', 18), ('kill', 18), ('mean', 18), ('free', 18), ('victim', 18), ('live', 18), ('witness', 17), ('die', 17), ('john', 17), ('talk', 17), ('believe', 17), ('else', 17), ('also', 17), ('myself', 17), ('even', 16), ('bring', 16), ('momma', 16), ('before', 16), ('baby', 16), ('side', 16), ('hold', 16), ('anyone', 16), ('anybody', 16), ('coming', 16), ('real', 16), ('hearts', 16), ('remember', 16), ('killed', 16), ('dad', 16), ('praise', 16), ('irene', 16), ('call', 16), ('killing', 15), ('kids', 15), ('fight', 15), ('than', 15), ('house', 15), ('lets', 15), ('then', 15), ('great', 15), ('letter', 15), ('okay', 15), ('soul', 15), ('should', 15), ('mama', 15), ('little', 15), ('evil', 15), ('move', 14), ('part', 14), ('thought', 14), ('system', 14), ('head', 14), ('ms', 14), ('though', 14), ('trial', 14), ('two', 14), ('children', 14), ('gonna', 14), ('shall', 14), ('person', 14), ('forgiven', 13), ('earth', 13), ('suffering', 13), ('bye', 13), ('chance', 13), ('without', 13), ('hear', 13), ('why', 13), ('does', 13), ('friend', 13), ('state', 13), ('change', 13), ('point', 13), ('took', 13), ('three', 12), ('days', 12), ('which', 12), ('address', 12), ('fear', 12), ('don', 12), ('wont', 12), ('–', 12), ('end', 12), ('same', 12), ('beautiful', 12), ('gave', 12), ('mad', 12), ('forever', 12), ('kingdom', 11), ('loving', 11), ('taking', 11), ('written', 11), ('rest', 11), ('brought', 11), ('wife', 11), ('thou', 11), ('reason', 11), ('faith', 11), ('asked', 11), ('happy', 11), ('lie', 11), ('happen', 11), ('commit', 11), ('penalty', 11), ('daughter', 11), ('waiting', 11), ('off', 11), ('lost', 11), ('someone', 11), ('sure', 11), ('execution', 11), ('show', 10), ('forget', 10), ('final', 10), ('given', 10), ('police', 10), ('saying', 10), ('ve', 10), ('deserve', 10), ('id', 10), ('mrs', 10), ('nobody', 10), ('power', 10), ('cause', 10), ('cry', 10), ('stop', 10), ('mistake', 10), ('able', 10), ('guess', 10), ('mine', 10), ('goes', 10), ('heads', 10), ('ago', 10), ('comfort', 10), ('almighty', 9), ('face', 9), ('looking', 9), ('society', 9), ('aint', 9), ('unto', 9), ('walk', 9), ('bad', 9), ('few', 9), ('glory', 9), ('miss', 9), ('helped', 9), ('grace', 9), ('return', 9), ('gone', 9), ('jack', 9), ('standing', 9), ('situation', 9), ('yours', 9), ('strength', 9), ('work', 9), ('youre', 9), ('leave', 9), ('loves', 9), ('having', 9), ('bear', 9), ('learn', 9), ('officer', 9), ('meant', 9), ('knew', 9), ('lives', 9), ('yourselves', 9), ('went', 9), ('toward', 8), ('bitterness', 8), ('mary', 8), ('worry', 8), ('struggle', 8), ('families', 8), ('merciful', 8), ('happening', 8), ('hard', 8), ('together', 8), ('spanish', 8), ('blessing', 8), ('hands', 8), ('ahead', 8), ('kathy', 8), ('knows', 8), ('someday', 8), ('law', 8), ('human', 8), ('art', 8), ('left', 8), ('supported', 8), ('giving', 8), ('oh', 8), ('sisters', 8), ('case', 8), ('james', 8), ('yourself', 8), ('donna', 8), ('brings', 8), ('promise', 8), ('watch', 8), ('prayer', 8), ('precious', 8), ('wasnt', 8), ('upon', 7), ('american', 7), ('david', 7), ('friendship', 7), ('another', 7), ('paid', 7), ('honor', 7), ('future', 7), ('shot', 7), ('fine', 7), ('names', 7), ('must', 7), ('around', 7), ('guilty', 7), ('wonderful', 7), ('unintelligible', 7), ('members', 7), ('extend', 7), ('shown', 7), ('later', 7), ('loss', 7), ('angry', 7), ('none', 7), ('…', 7), ('surely', 7), ('sake', 7), ('whole', 7), ('mexico', 7), ('taken', 7), ('trying', 7), ('somebody', 7), ('times', 7), ('use', 7), ('supporting', 7), ('came', 7), ('kind', 7), ('died', 7), ('finished', 7), ('send', 7), ('soon', 7), ('away', 7), ('save', 7), ('eyes', 7), ('big', 7), ('chaplain', 7), ('accept', 7), ('blessed', 7), ('heavenly', 7), ('anger', 7), ('used', 6), ('opportunity', 6), ('sad', 6), ('job', 6), ('enemies', 6), ('prison', 6), ('men', 6), ('salvation', 6), ('follow', 6), ('next', 6), ('minutes', 6), ('attorney', 6), ('beside', 6), ('proud', 6), ('dying', 6), ('boswell', 6), ('telling', 6), ('attorneys', 6), ('doesnt', 6), ('until', 6), ('press', 6), ('remorse', 6), ('polunsky', 6), ('boy', 6), ('gods', 6), ('talking', 6), ('praying', 6), ('touch', 6), ('wrote', 6), ('both', 6), ('sentence', 6), ('happiness', 6), ('reach', 6), ('mistakes', 6), ('glad', 6), ('such', 6), ('matter', 6), ('deliver', 6), ('grief', 6), ('cannot', 6), ('witnesses', 6), ('innocence', 6), ('executed', 6), ('court', 6), ('stand', 6), ('past', 6), ('respect', 6), ('behind', 6), ('self', 6), ('meet', 6), ('night', 6), ('spoke', 6), ('responsibility', 6), ('lead', 6), ('changed', 6), ('savior', 6), ('theres', 6), ('needs', 6), ('start', 6), ('probably', 5), ('capital', 5), ('dear', 5), ('uncle', 5), ('mind', 5), ('dearly', 5), ('supposed', 5), ('prophet', 5), ('tragedy', 5), ('daddy', 5), ('bury', 5), ('hey', 5), ('true', 5), ('chris', 5), ('convicted', 5), ('smile', 5), ('forced', 5), ('process', 5), ('tried', 5), ('car', 5), ('read', 5), ('due', 5), ('sleep', 5), ('prove', 5), ('paul', 5), ('during', 5), ('new', 5), ('danny', 5), ('own', 5), ('veins', 5), ('presence', 5), ('nice', 5), ('hell', 5), ('takes', 5), ('seek', 5), ('gun', 5), ('uh', 5), ('receive', 5), ('youve', 5), ('um', 5), ('try', 5), ('wall', 5), ('bread', 5), ('leadeth', 5), ('isnt', 5), ('confess', 5), ('began', 5), ('present', 5), ('moment', 5), ('lay', 5), ('actions', 5), ('full', 5), ('especially', 5), ('yet', 5), ('shepherd', 5), ('allow', 5), ('girl', 5), ('child', 5), ('hatred', 5), ('daily', 5), ('makes', 5), ('church', 5), ('stuff', 5), ('west', 5), ('temptation', 5), ('raised', 5), ('spiritual', 5), ('body', 5), ('green', 5), ('helping', 5), ('called', 5), ('adams', 5), ('light', 5), ('worth', 5), ('wake', 5), ('waters', 5), ('mike', 5), ('blame', 5), ('michael', 5), ('drug', 5), ('belong', 5), ('unit', 5), ('price', 5), ('living', 5), ('fixing', 5), ('special', 5), ('yeah', 5), ('showed', 5), ('officers', 5), ('committed', 5), ('locked', 5), ('while', 4), ('prayers', 4), ('asdadu', 4), ('10', 4), ('lived', 4), ('charge', 4), ('public', 4), ('important', 4), ('disappointed', 4), ('under', 4), ('em', 4), ('gets', 4), ('says', 4), ('joe', 4), ('williams', 4), ('hi', 4), ('met', 4), ('miracle', 4), ('pastures', 4), ('nor', 4), ('country', 4), ('rosalyn', 4), ('thine', 4), ('forgotten', 4), ('oil', 4), ('judge', 4), ('dungeon', 4), ('gene', 4), ('crying', 4), ('goodness', 4), ('angel', 4), ('runneth', 4), ('experience', 4), ('dead', 4), ('dna', 4), ('saved', 4), ('whatever', 4), ('short', 4), ('veronica', 4), ('hello', 4), ('dog', 4), ('prayed', 4), ('roll', 4), ('putting', 4), ('tears', 4), ('worked', 4), ('mark', 4), ('asking', 4), ('shine', 4), ('shed', 4), ('daughters', 4), ('forgives', 4), ('cases', 4), ('clayton', 4), ('born', 4), ('dwell', 4), ('keeping', 4), ('supreme', 4), ('pinkerton', 4), ('ways', 4), ('cold', 4), ('couldnt', 4), ('others', 4), ('enough', 4), ('nieces', 4), ('gives', 4), ('act', 4), ('offender', 4), ('yea', 4), ('watching', 4), ('divine', 4), ('whiteside', 4), ('faithful', 4), ('valley', 4), ('road', 4), ('suffered', 4), ('incident', 4), ('english', 4), ('since', 4), ('rights', 4), ('animosity', 4), ('upset', 4), ('murdered', 4), ('parents', 4), ('thinking', 4), ('didn', 4), ('suffer', 4), ('paths', 4), ('evidence', 4), ('bobby', 4), ('second', 4), ('known', 4), ('responsible', 4), ('table', 4), ('sorrow', 4), ('eardmann', 4), ('happens', 4), ('throughout', 4), ('singing', 4), ('nephews', 4), ('chief', 4), ('carlos', 4), ('journey', 4), ('preparest', 4), ('stopped', 4), ('phone', 4), ('gomez', 4), ('clear', 4), ('media', 4), ('laura', 4), ('gotta', 4), ('protect', 4), ('walsh', 4), ('lawyers', 4), ('cup', 4), ('set', 4), ('profanity', 4), ('sin', 4), ('prosecutor', 4), ('allowed', 4), ('shadow', 4), ('showing', 4), ('11', 4), ('ride', 4), ('richard', 4), ('realize', 4), ('once', 4), ('hallowed', 4), ('involved', 4), ('trouble', 4), ('personal', 4), ('pay', 4), ('deal', 4), ('money', 4), ('shoot', 4), ('mighty', 3), ('joke', 3), ('blooded', 3), ('dow', 3), ('declined', 3), ('proceed', 3), ('treat', 3), ('hour', 3), ('rebecca', 3), ('robin', 3), ('counts', 3), ('fathers', 3), ('saw', 3), ('hunting', 3), ('trespass', 3), ('sky', 3), ('steve', 3), ('high', 3), ('towards', 3), ('taste', 3), ('truck', 3), ('hallelujah', 3), ('freedom', 3), ('morgan', 3), ('lied', 3), ('couple', 3), ('ba', 3), ('turned', 3), ('tight', 3), ('least', 3), ('fought', 3), ('apology', 3), ('shooting', 3), ('lift', 3), ('ros', 3), ('america', 3), ('cox', 3), ('kindness', 3), ('remind', 3), ('word', 3), ('beyond', 3), ('breath', 3), ('randy', 3), ('fall', 3), ('careful', 3), ('chapter', 3), ('sara', 3), ('courts', 3), ('grandmother', 3), ('te', 3), ('problem', 3), ('mumbling', 3), ('supporters', 3), ('touched', 3), ('hand', 3), ('bro', 3), ('maria', 3), ('beat', 3), ('between', 3), ('seem', 3), ('carry', 3), ('pass', 3), ('within', 3), ('spent', 3), ('leo', 3), ('inmates', 3), ('sweet', 3), ('jenny', 3), ('wait', 3), ('debbie', 3), ('restoreth', 3), ('pam', 3), ('alba', 3), ('saddened', 3), ('hollered', 3), ('killer', 3), ('fault', 3), ('fighting', 3), ('bitter', 3), ('mumbled', 3), ('equal', 3), ('beginning', 3), ('joy', 3), ('turn', 3), ('brief', 3), ('found', 3), ('24', 3), ('suicide', 3), ('population', 3), ('become', 3), ('several', 3), ('feelings', 3), ('hart', 3), ('islam', 3), ('deep', 3), ('speak', 3), ('book', 3), ('deeply', 3), ('although', 3), ('returns', 3), ('tdcj', 3), ('personally', 3), ('christian', 3), ('already', 3), ('leaving', 3), ('record', 3), ('crimes', 3), ('deceased', 3), ('defense', 3), ('wrongs', 3), ('race', 3), ('barbara', 3), ('murdering', 3), ('thanked', 3), ('potato', 3), ('sylvia', 3), ('corey', 3), ('itself', 3), ('line', 3), ('lopez', 3), ('sometimes', 3), ('type', 3), ('johnson', 3), ('lady', 3), ('accepted', 3), ('feels', 3), ('heartache', 3), ('heard', 3), ('received', 3), ('apologized', 3), ('himself', 3), ('bottom', 3), ('most', 3), ('allowing', 3), ('robert', 3), ('greatest', 3), ('sides', 3), ('jennifer', 3), ('blessings', 3), ('unjust', 3), ('hurting', 3), ('comes', 3), ('dell', 3), ('sometime', 3), ('bed', 3), ('thankful', 3), ('needed', 3), ('eye', 3), ('blood', 3), ('testimony', 3), ('inside', 3), ('problems', 3), ('maketh', 3), ('easy', 3), ('connie', 3), ('regret', 3), ('fire', 3), ('mitchell', 3), ('doreen', 3), ('robinson', 3), ('susan', 3), ('hurts', 3), ('mourn', 3), ('victory', 3), ('damn', 3), ('doug', 3), ('anna', 3), ('trespasses', 3), ('forward', 3), ('close', 3), ('monster', 3), ('poem', 3), ('laws', 3), ('re', 3), ('express', 3), ('ray', 3), ('anointest', 3), ('talked', 3), ('broke', 3), ('staff', 3), ('gary', 3), ('anyway', 3), ('alive', 3), ('mexican', 3), ('trinity', 3), ('pull', 3), ('sinner', 3), ('trigger', 3), ('won', 3), ('judgment', 3), ('michelle', 3), ('bump', 3), ('helps', 3), ('kim', 3), ('revenge', 3), ('whats', 3), ('wilcox', 3), ('hernandez', 3), ('illa', 2), ('arrival', 2), ('answers', 2), ('relief', 2), ('physical', 2), ('inna', 2), ('co', 2), ('fired', 2), ('teresa', 2), ('afforded', 2), ('acted', 2), ('jury', 2), ('25', 2), ('hug', 2), ('correctly', 2), ('affording', 2), ('unconditional', 2), ('hero', 2), ('empty', 2), ('getting', 2), ('ran', 2), ('works', 2), ('2', 2), ('command', 2), ('uphold', 2), ('persons', 2), ('rangers', 2), ('allen', 2), ('nancy', 2), ('teenagers', 2), ('webb', 2), ('represent', 2), ('four', 2), ('five', 2), ('rusty', 2), ('accident', 2), ('wheres', 2), ('verily', 2), ('ass', 2), ('ashamed', 2), ('ronnie', 2), ('drugs', 2), ('melyssa', 2), ('bringing', 2), ('lying', 2), ('hoping', 2), ('cover', 2), ('houston', 2), ('wants', 2), ('throne', 2), ('explain', 2), ('cori', 2), ('ground', 2), ('test', 2), ('criminal', 2), ('east', 2), ('compared', 2), ('stephanie', 2), ('longer', 2), ('begin', 2), ('saint', 2), ('ain', 2), ('transition', 2), ('thirteen', 2), ('wilson', 2), ('warrior', 2), ('murderers', 2), ('owe', 2), ('view', 2), ('stronger', 2), ('parties', 2), ('affected', 2), ('letting', 2), ('lies', 2), ('owed', 2), ('fail', 2), ('rodney', 2), ('stefanie', 2), ('deserved', 2), ('confessed', 2), ('carrying', 2), ('johnny', 2), ('fo', 2), ('wishes', 2), ('serious', 2), ('voices', 2), ('victorious', 2), ('trooper', 2), ('worst', 2), ('making', 2), ('compassion', 2), ('moreno', 2), ('righteousness', 2), ('paradise', 2), ('omitted', 2), ('harder', 2), ('remorseful', 2), ('viva', 2), ('bunch', 2), ('difference', 2), ('respected', 2), ('texans', 2), ('bob', 2), ('tim', 2), ('lords', 2), ('unknown', 2), ('desire', 2), ('paying', 2), ('bedroom', 2), ('gates', 2), ('walls', 2), ('sent', 2), ('parent', 2), ('hollow', 2), ('offended', 2), ('hearted', 2), ('rasul', 2), ('jennie', 2), ('29', 2), ('policeman', 2), ('betty', 2), ('promises', 2), ('quiero', 2), ('sharon', 2), ('stone', 2), ('wanting', 2), ('government', 2), ('earl', 2), ('correct', 2), ('moratorium', 2), ('pump', 2), ('stores', 2), ('testify', 2), ('punished', 2), ('gotten', 2), ('admitted', 2), ('arrested', 2), ('ashlee', 2), ('video', 2), ('form', 2), ('surgery', 2), ('seeing', 2), ('allahs', 2), ('husband', 2), ('sheila', 2), ('imagine', 2), ('misery', 2), ('kenney', 2), ('thee', 2), ('expressed', 2), ('roger', 2), ('ministry', 2), ('emotions', 2), ('importantly', 2), ('celina', 2), ('dianne', 2), ('brad', 2), ('punishment', 2), ('fact', 2), ('wronged', 2), ('dust', 2), ('unites', 2), ('eyed', 2), ('moments', 2), ('grew', 2), ('flesh', 2), ('clay', 2), ('tommy', 2), ('ideals', 2), ('newspaper', 2), ('rejoice', 2), ('5', 2), ('hawthorn', 2), ('kills', 2), ('closer', 2), ('celebrate', 2), ('seat', 2), ('al', 2), ('shots', 2), ('14', 2), ('woman', 2), ('louis', 2), ('booger', 2), ('error', 2), ('approach', 2), ('facts', 2), ('executing', 2), ('folks', 2), ('ilah', 2), ('store', 2), ('answer', 2), ('walked', 2), ('fixed', 2), ('otis', 2), ('infinite', 2), ('quit', 2), ('stupidity', 2), ('garbled', 2), ('front', 2), ('despite', 2), ('including', 2), ('loud', 2), ('jane', 2), ('song', 2), ('harold', 2), ('dan', 2), ('sean', 2), ('murders', 2), ('gift', 2), ('gladly', 2), ('trust', 2), ('grant', 2), ('charles', 2), ('dr', 2), ('community', 2), ('doctor', 2), ('maurie', 2), ('ellis', 2), ('memories', 2), ('possibly', 2), ('above', 2), ('adam', 2), ('ernest', 2), ('invite', 2), ('north', 2), ('pretty', 2), ('seconds', 2), ('offer', 2), ('states', 2), ('31', 2), ('agree', 2), ('tom', 2), ('nov', 2), ('fell', 2), ('brent', 2), ('cowboys', 2), ('river', 2), ('hardest', 2), ('easier', 2), ('august', 2), ('official', 2), ('13', 2), ('mi', 2), ('total', 2), ('christine', 2), ('cross', 2), ('room', 2), ('sending', 2), ('smiling', 2), ('vick', 2), ('hopefully', 2), ('ann', 2), ('example', 2), ('hang', 2), ('sonny', 2), ('bryan', 2), ('harris', 2), ('allison', 2), ('aunt', 2), ('synnova', 2), ('whom', 2), ('politicians', 2), ('injustice', 2), ('control', 2), ('leads', 2), ('undo', 2), ('bullet', 2), ('might', 2), ('losing', 2), ('humanity', 2), ('looked', 2), ('maybe', 2), ('seven', 2), ('disrespect', 2), ('megan', 2), ('grudges', 2), ('sentences', 2), ('sherrod', 2), ('foremost', 2), ('anne', 2), ('funeral', 2), ('cruel', 2), ('lynn', 2), ('rose', 2), ('message', 2), ('committing', 2), ('arnott', 2), ('trials', 2), ('woods', 2), ('story', 2), ('malice', 2), ('kin', 2), ('danielle', 2), ('pat', 2), ('beg', 2), ('pastor', 2), ('officials', 2), ('robbery', 2), ('asleep', 2), ('execute', 2), ('pleasure', 2), ('hewitt', 2), ('fix', 2), ('pop', 2), ('arms', 2), ('roxanne', 2), ('joanna', 2), ('lawyer', 2), ('kyle', 2), ('single', 2), ('building', 2), ('familys', 2), ('memorize', 2), ('summary', 2), ('dishonor', 2), ('charged', 2), ('islamic', 2), ('fashion', 2), ('solace', 2), ('chantal', 2), ('dixie', 2), ('involvement', 2), ('behalf', 2), ('learned', 2), ('violent', 2), ('clean', 2), ('listen', 2), ('virginia', 2), ('disappoint', 2), ('irish', 2), ('treated', 2), ('transgressions', 2), ('becomes', 2), ('resolved', 2), ('dwight', 2), ('satisfaction', 2), ('neal', 2), ('remunerator', 2), ('county', 2), ('girls', 2), ('scott', 2), ('41', 2), ('forgiving', 2), ('letters', 2), ('kevin', 2), ('burn', 2), ('denied', 2), ('open', 2), ('rock', 2), ('princess', 2), ('actually', 2), ('reality', 2), ('sticking', 2), ('maker', 2), ('sabrina', 2), ('along', 2), ('finite', 2), ('murderer', 2), ('16', 2), ('devil', 2), ('atrocity', 2), ('youll', 2), ('thoughts', 2), ('instances', 2), ('streets', 2), ('decisions', 2), ('run', 2), ('guido', 2), ('conviction', 2), ('linda', 2), ('andy', 2), ('faking', 2), ('physically', 2), ('california', 2), ('poison', 2), ('completely', 2), ('hector', 2), ('street', 2), ('saving', 2), ('kept', 2), ('neither', 2), ('king', 2), ('half', 2), ('places', 2), ('voice', 2), ('fabricated', 2), ('violence', 2), ('months', 2), ('courtroom', 2), ('break', 2), ('taylor', 2), ('amber', 2), ('play', 2), ('solve', 2), ('stuck', 2), ('shout', 2), ('biggest', 2), ('weve', 2), ('sons', 2), ('started', 2), ('mankind', 2), ('lose', 2), ('filled', 2), ('1991', 2), ('crazy', 2), ('theyve', 2), ('dios', 2), ('totally', 2), ('muhammadan', 2), ('77', 2), ('remains', 2), ('remain', 2), ('fellowship', 2), ('old', 2), ('portion', 2), ('inmate', 2), ('amy', 2), ('thomas', 2), ('granted', 2), ('beings', 2), ('spoken', 2), ('hugs', 2), ('particular', 2), ('1983', 2), ('decision', 2), ('rod', 2), ('sided', 2), ('sooner', 2), ('possible', 2), ('fake', 2), ('awake', 2), ('hospitality', 2), ('matters', 2), ('dawn', 2), ('horrible', 2), ('late', 2), ('la', 2), ('beatitudes', 2), ('grandchildren', 2), ('article', 2), ('rosalyns', 2), ('unfortunate', 2), ('gurney', 2), ('endure', 2), ('means', 1), ('st', 1), ('mentally', 1), ('truthfulness', 1), ('conversion', 1), ('hot', 1), ('kinnamon', 1), ('affecting', 1), ('felicia', 1), ('pounds', 1), ('definitely', 1), ('third', 1), ('contigo', 1), ('devin', 1), ('serve', 1), ('dealer', 1), ('reed', 1), ('reverend', 1), ('moral', 1), ('understanding', 1), ('despicable', 1), ('hall', 1), ('minds', 1), ('gold', 1), ('deborah', 1), ('dozen', 1), ('sing', 1), ('hef', 1), ('informed', 1), ('martin', 1), ('22', 1), ('disciple', 1), ('l', 1), ('tony', 1), ('fantasy', 1), ('association', 1), ('”', 1), ('todo', 1), ('graham', 1), ('suspects', 1), ('powerful', 1), ('seen', 1), ('inflict', 1), ('aviation', 1), ('eric', 1), ('gain', 1), ('alexis', 1), ('party', 1), ('tie', 1), ('career', 1), ('chamber', 1), ('nervous', 1), ('list', 1), ('cassandra', 1), ('schools', 1), ('hodges', 1), ('soto', 1), ('annie', 1), ('beginnings', 1), ('wiped', 1), ('afraid', 1), ('gabby', 1), ('o', 1), ('comments', 1), ('hollbrook', 1), ('juana', 1), ('ron', 1), ('gray', 1), ('thefts', 1), ('proof', 1), ('translation', 1), ('debt', 1), ('demand', 1), ('yields', 1), ('dutton', 1), ('warm', 1), ('timothy', 1), ('reeves', 1), ('grand', 1), ('sullivan', 1), ('daffy', 1), ('creating', 1), ('patrick', 1), ('slick', 1), ('liele', 1), ('headphones', 1), ('bill', 1), ('santajaib', 1), ('bigger', 1), ('spite', 1), ('wasn', 1), ('2003', 1), ('speed', 1), ('pictures', 1), ('gas', 1), ('facetious', 1), ('stake', 1), ('mansion', 1), ('bodies', 1), ('alls', 1), ('magnificent', 1), ('office', 1), ('wuzael', 1), ('dealt', 1), ('judgments', 1), ('showered', 1), ('milton', 1), ('cleve', 1), ('cheated', 1), ('junie', 1), ('elliott', 1), ('shut', 1), ('enjoyed', 1), ('separated', 1), ('mamas', 1), ('commence', 1), ('environment', 1), ('15', 1), ('gabriels', 1), ('wearing', 1), ('beer', 1), ('writing', 1), ('load', 1), ('honey', 1), ('justify', 1), ('hours', 1), ('thousand', 1), ('grave', 1), ('brandy', 1), ('inexcusable', 1), ('finally', 1), ('stroman', 1), ('priceless', 1), ('crucified', 1), ('instead', 1), ('lethal', 1), ('gigi', 1), ('documents', 1), ('unfair', 1), ('dwells', 1), ('ended', 1), ('german', 1), ('lopes', 1), ('asthma', 1), ('angelo', 1), ('frustration', 1), ('calmness', 1), ('observer', 1), ('attacked', 1), ('caller', 1), ('wonder', 1), ('directed', 1), ('‘', 1), ('powell', 1), ('falicia', 1), ('overcame', 1), ('meeting', 1), ('however', 1), ('muhammad', 1), ('share', 1), ('carolyn', 1), ('shackles', 1), ('missing', 1), ('tami', 1), ('youalways', 1), ('ramiro', 1), ('rita', 1), ('pact', 1), ('listed', 1), ('knight', 1), ('fruit', 1), ('soiling', 1), ('helen', 1), ('persecuted', 1), ('amigos', 1), ('alison', 1), ('genuinely', 1), ('hamby', 1), ('respectively', 1), ('anti', 1), ('salaamu', 1), ('bo', 1), ('mo', 1), ('servant', 1), ('federal', 1), ('multi', 1), ('doi', 1), ('pa', 1), ('slayton', 1), ('yellow', 1), ('mithas', 1), ('presented', 1), ('groups', 1), ('germany', 1), ('grown', 1), ('javier', 1), ('suspended', 1), ('starting', 1), ('sacrifice', 1), ('failed', 1), ('heros', 1), ('ronni', 1), ('bros', 1), ('instrument', 1), ('clemency', 1), ('diana', 1), ('wet', 1), ('forest', 1), ('selso', 1), ('laid', 1), ('encourage', 1), ('neckbone', 1), ('wages', 1), ('tilling', 1), ('e', 1), ('tdc', 1), ('shoe', 1), ('kent', 1), ('exonerated', 1), ('aid', 1), ('donovan', 1), ('ball', 1), ('wright', 1), ('muchas', 1), ('leslie', 1), ('becauseend', 1), ('sis', 1), ('nell', 1), ('prays', 1), ('recite', 1), ('blackie', 1), ('bible', 1), ('club', 1), ('kiss', 1), ('proving', 1), ('attitude', 1), ('desired', 1), ('varghese', 1), ('alaikum', 1), ('justspeaking', 1), ('countless', 1), ('travis', 1), ('informant', 1), ('gerard', 1), ('juanita', 1), ('chuckie', 1), ('marsha', 1), ('wes', 1), ('nuns', 1), ('blamed', 1), ('visit', 1), ('realizing', 1), ('marinos', 1), ('wings', 1), ('sanchezs', 1), ('worthwhile', 1), ('saddam', 1), ('calmed', 1), ('ii', 1), ('shameful', 1), ('wondering', 1), ('decir', 1), ('nourish', 1), ('unwavering', 1), ('tito', 1), ('across', 1), ('existent', 1), ('jose', 1), ('meal', 1), ('fred', 1), ('gang', 1), ('refund', 1), ('based', 1), ('satisfied', 1), ('personnel', 1), ('forgave', 1), ('todos', 1), ('walt', 1), ('dreamed', 1), ('negative', 1), ('ancient', 1), ('repay', 1), ('school', 1), ('lesson', 1), ('galloway', 1), ('understood', 1), ('matched', 1), ('shy', 1), ('chances', 1), ('unrighteousness', 1), ('2008', 1), ('terms', 1), ('assaults', 1), ('genuine', 1), ('iii', 1), ('young', 1), ('elijah', 1), ('faults', 1), ('marta', 1), ('terribly', 1), ('regards', 1), ('rodrigo', 1), ('sincerity', 1), ('enlightenment', 1), ('cyril', 1), ('terrible', 1), ('rind', 1), ('appeal', 1), ('purely', 1), ('george', 1), ('governs', 1), ('authority', 1), ('describe', 1), ('toby', 1), ('grateful', 1), ('elizabeth', 1), ('juarez', 1), ('instill', 1), ('caught', 1), ('alabamos', 1), ('relatives', 1), ('willy', 1), ('amended', 1), ('mouthed', 1), ('arent', 1), ('gaylene', 1), ('admit', 1), ('owner', 1), ('gracie', 1), ('double', 1), ('purpose', 1), ('lester', 1), ('destroy', 1), ('benjamin', 1), ('rapist', 1), ('determined', 1), ('ursula', 1), ('reputation', 1), ('dealing', 1), ('mass', 1), ('plenty', 1), ('outlining', 1), ('ward', 1), ('hugh', 1), ('schone', 1), ('amazing', 1), ('pork', 1), ('fair', 1), ('obscure', 1), ('intentionally', 1), ('packed', 1), ('strange', 1), ('madness', 1), ('related', 1), ('devastated', 1), ('drowned', 1), ('resurrected', 1), ('circuit', 1), ('hawthorns', 1), ('jamie', 1), ('theyll', 1), ('wheat', 1), ('tomas', 1), ('serafino', 1), ('certainly', 1), ('falling', 1), ('scooter', 1), ('cort', 1), ('laurie', 1), ('crouch', 1), ('frank', 1), ('intention', 1), ('events', 1), ('everlasting', 1), ('misled', 1), ('mijta', 1), ('energy', 1), ('transpire', 1), ('duck', 1), ('wa', 1), ('peters', 1), ('weigh', 1), ('repent', 1), ('crack', 1), ('kjersti', 1), ('penal', 1), ('illness', 1), ('comfortable', 1), ('babies', 1), ('shoes', 1), ('evidently', 1), ('pen', 1), ('carter', 1), ('jr', 1), ('guidance', 1), ('180', 1), ('greer', 1), ('devoted', 1), ('jessica', 1), ('deaf', 1), ('patterns', 1), ('hanging', 1), ('squashed', 1), ('year', 1), ('seele', 1), ('england', 1), ('17', 1), ('larry', 1), ('spree', 1), ('bryant', 1), ('cough', 1), ('debts', 1), ('eight', 1), ('teaching', 1), ('void', 1), ('tongues', 1), ('segal', 1), ('kings', 1), ('gore', 1), ('tolson', 1), ('sick', 1), ('whose', 1), ('grandbabies', 1), ('sequence', 1), ('chump', 1), ('therefore', 1), ('seeking', 1), ('darling', 1), ('ilayhi', 1), ('kami', 1), ('handcuffed', 1), ('jayi', 1), ('carma', 1), ('counseling', 1), ('speakers', 1), ('june', 1), ('except', 1), ('respond', 1), ('evolve', 1), ('investigators', 1), ('kyo', 1), ('imperfections', 1), ('proclaim', 1), ('search', 1), ('attempted', 1), ('andre', 1), ('remembering', 1), ('wynona', 1), ('aleda', 1), ('amenia', 1), ('fingers', 1), ('unprovoked', 1), ('justicetonight', 1), ('guided', 1), ('bass', 1), ('overplayed', 1), ('permission', 1), ('active', 1), ('build', 1), ('iraq', 1), ('spade', 1), ('forgiver', 1), ('inserted', 1), ('cleanse', 1), ('steven', 1), ('oth', 1), ('mcdougal', 1), ('pammy', 1), ('leg', 1), ('consciousness', 1), ('gently', 1), ('win', 1), ('actively', 1), ('wished', 1), ('resident', 1), ('bickering', 1), ('vincent', 1), ('write', 1), ('corpus', 1), ('burden', 1), ('endings', 1), ('quarter', 1), ('instrumental', 1), ('terrfying', 1), ('victor', 1), ('molest', 1), ('yoli', 1), ('destroyed', 1), ('doesn', 1), ('47', 1), ('remembered', 1), ('dogs', 1), ('kate', 1), ('fielder', 1), ('doris', 1), ('fullest', 1), ('wouldnt', 1), ('damned', 1), ('fulford', 1), ('knees', 1), ('cousins', 1), ('slave', 1), ('jurors', 1), ('yard', 1), ('lovel', 1), ('calvary', 1), ('maximum', 1), ('edward', 1), ('district', 1), ('parole', 1), ('cruz', 1), ('misguided', 1), ('betrayed', 1), ('5th', 1), ('rich', 1), ('seemed', 1), ('excuses', 1), ('chandler', 1), ('yahweh', 1), ('held', 1), ('nuncio', 1), ('institution', 1), ('invested', 1), ('complaints', 1), ('expressing', 1), ('tv', 1), ('failing', 1), ('guarantee', 1), ('doubt', 1), ('celebration', 1), ('michigan', 1), ('indignity', 1), ('injury', 1), ('roseanne', 1), ('idle', 1), ('assure', 1), ('denial', 1), ('heal', 1), ('modina', 1), ('meand', 1), ('hide', 1), ('stops', 1), ('perhaps', 1), ('hinder', 1), ('thirty', 1), ('ford', 1), ('thompson', 1), ('claimed', 1), ('butt', 1), ('fixin', 1), ('celebrating', 1), ('unable', 1), ('judy', 1), ('damiens', 1), ('bit', 1), ('nation', 1), ('foundations', 1), ('imagined', 1), ('josephs', 1), ('exist', 1), ('defenseless', 1), ('guiding', 1), ('joseph', 1), ('farm', 1), ('peaceful', 1), ('reacted', 1), ('tact', 1), ('shortly', 1), ('led', 1), ('comforted', 1), ('penitentiary', 1), ('moon', 1), ('pope', 1), ('affection', 1), ('carl', 1), ('invoke', 1), ('prize', 1), ('meit', 1), ('carrier', 1), ('matthews', 1), ('closing', 1), ('sign', 1), ('campo', 1), ('cindy', 1), ('iris', 1), ('included', 1), ('code', 1), ('shield', 1), ('settle', 1), ('12', 1), ('havent', 1), ('010906', 1), ('acts', 1), ('sat', 1), ('arresting', 1), ('maggie', 1), ('acknowledging', 1), ('veterinary', 1), ('pals', 1), ('glass', 1), ('direction', 1), ('popsicle', 1), ('tired', 1), ('confession', 1), ('atw', 1), ('sanctions', 1), ('uhl', 1), ('otherwise', 1), ('irreversible', 1), ('jones', 1), ('dich', 1), ('theirs', 1), ('inhuman', 1), ('added', 1), ('iam', 1), ('kira', 1), ('dreaming', 1), ('false', 1), ('temple', 1), ('donahue', 1), ('plead', 1), ('senseless', 1), ('drive', 1), ('spin', 1), ('du', 1), ('stole', 1), ('tires', 1), ('deepest', 1), ('sort', 1), ('treesh', 1), ('rajiun', 1), ('siff', 1), ('mchenry', 1), ('tree', 1), ('towery', 1), ('yalls', 1), ('fro', 1), ('simmons', 1), ('sun', 1), ('younger', 1), ('ear', 1), ('release', 1), ('details', 1), ('raise', 1), ('patience', 1), ('sound', 1), ('claudia', 1), ('roland', 1), ('flight', 1), ('crushed', 1), ('1st', 1), ('broken', 1), ('100', 1), ('protection', 1), ('universe', 1), ('cemetery', 1), ('finds', 1), ('unforgivable', 1), ('fort', 1), ('hawkings', 1), ('everywhere', 1), ('breed', 1), ('torres', 1), ('hit', 1), ('deadline', 1), ('blackwell', 1), ('becca', 1), ('united', 1), ('camille', 1), ('katrina', 1), ('poor', 1), ('amys', 1), ('planet', 1), ('harm', 1), ('mishap', 1), ('believes', 1), ('agreeing', 1), ('south', 1), ('jermaine', 1), ('clarence', 1), ('dyson', 1), ('truthfully', 1), ('scream', 1), ('whenever', 1), ('clerks', 1), ('knowledge', 1), ('businesses', 1), ('grandfather', 1), ('walking', 1), ('confusion', 1), ('bruno', 1), ('regarding', 1), ('solid', 1), ('suspected', 1), ('positive', 1), ('spun', 1), ('require', 1), ('welcome', 1), ('jefe', 1), ('kinslow', 1), ('mandas', 1), ('burned', 1), ('herrington', 1), ('whether', 1), ('suppose', 1), ('advisor', 1), ('57', 1), ('softly', 1), ('anticipated', 1), ('prizessin', 1), ('baggett', 1), ('lorna', 1), ('teach', 1), ('kay', 1), ('testified', 1), ('margherita', 1), ('dj', 1), ('clash', 1), ('eve', 1), ('raiders', 1), ('wardens', 1), ('detes', 1), ('queen', 1), ('translating', 1), ('li', 1), ('individually', 1), ('nashtat', 1), ('dispose', 1), ('sims', 1), ('reviewed', 1), ('alcohol', 1), ('dawson', 1), ('recovered', 1), ('ashworth', 1), ('ware', 1), ('discomfort', 1), ('individual', 1), ('honored', 1), ('respectful', 1), ('edie', 1), ('entered', 1), ('speaking', 1), ('mothers', 1), ('sentiments', 1), ('suit', 1), ('create', 1), ('wendys', 1), ('trunk', 1), ('reserve', 1), ('est', 1), ('occasions', 1), ('righeousness', 1), ('small', 1), ('assigned', 1), ('praises', 1), ('thurmond', 1), ('1975', 1), ('fellow', 1), ('everybodys', 1), ('qualified', 1), ('dismiss', 1), ('gracias', 1), ('slate', 1), ('harming', 1), ('chaplains', 1), ('interviews', 1), ('institutions', 1), ('minimum', 1), ('mess', 1), ('myoho', 1), ('tammy', 1), ('eloise', 1), ('stretcher', 1), ('kitten', 1), ('rush', 1), ('tore', 1), ('noemi', 1), ('accountable', 1), ('satan', 1), ('waste', 1), ('chooses', 1), ('central', 1), ('alike', 1), ('destiny', 1), ('tribe', 1), ('dope', 1), ('byers', 1), ('eternity', 1), ('tests', 1), ('lukes', 1), ('d', 1), ('lots', 1), ('cried', 1), ('available', 1), ('pillar', 1), ('adonya', 1), ('parts', 1), ('luttig', 1), ('endured', 1), ('december', 1), ('huh', 1), ('pit', 1), ('hes', 1), ('veronicas', 1), ('fran', 1), ('difficult', 1), ('pin', 1), ('howdy', 1), ('downtown', 1), ('replied', 1), ('promised', 1), ('ironic', 1), ('cutler', 1), ('kindoms', 1), ('raping', 1), ('guaranteed', 1), ('mucho', 1), ('beunka', 1), ('bitches', 1), ('dea', 1), ('interacted', 1), ('lee', 1), ('twelve', 1), ('grandma', 1), ('lovely', 1), ('harbor', 1), ('investigator', 1), ('worrying', 1), ('tennis', 1), ('circumstances', 1), ('rapes', 1), ('passed', 1), ('marcy', 1), ('sarah', 1), ('continued', 1), ('compromise', 1), ('separation', 1), ('repentant', 1), ('1', 1), ('donating', 1), ('professionalism', 1), ('eden', 1), ('regretted', 1), ('cherish', 1), ('victimbrian', 1), ('christina', 1), ('issue', 1), ('century', 1), ('knowingly', 1), ('arthur', 1), ('distant', 1), ('howard', 1), ('ahh', 1), ('dance', 1), ('shore', 1), ('catharina', 1), ('theoffender', 1), ('manon', 1), ('carol', 1), ('billy', 1), ('temporary', 1), ('veterans', 1), ('stealing', 1), ('white', 1), ('carrie', 1), ('anderson', 1), ('deter', 1), ('sets', 1), ('disappointment', 1), ('farren', 1), ('66', 1), ('account', 1), ('sea', 1), ('christi', 1), ('hayden', 1), ('causing', 1), ('barker', 1), ('wealth', 1), ('affect', 1), ('terrifying', 1), ('chose', 1), ('jonesin', 1), ('extending', 1), ('doodle', 1), ('nam', 1), ('ayers', 1), ('shannon', 1), ('coughed', 1), ('performed', 1), ('immaturity', 1), ('released', 1), ('chad', 1), ('rivas', 1), ('marios', 1), ('kaneisha', 1), ('convict', 1), ('rise', 1), ('globe', 1), ('kerstin', 1), ('mic', 1), ('cigarette', 1), ('merit', 1), ('barbados', 1), ('travesties', 1), ('howell', 1), ('espiritu', 1), ('stunt', 1), ('knock', 1), ('boocub', 1), ('luise', 1), ('cab', 1), ('castrating', 1), ('b', 1), ('restores', 1), ('guides', 1), ('samantha', 1), ('guilt', 1), ('robbed', 1), ('bea', 1), ('obtain', 1), ('pampering', 1), ('dana', 1), ('wrongfully', 1), ('zero', 1), ('black', 1), ('ollie', 1), ('miscarriage', 1), ('lang', 1), ('anointeth', 1), ('unjustly', 1), ('marys', 1), ('educated', 1), ('different', 1), ('ochente', 1), ('lips', 1), ('“', 1), ('lisas', 1), ('ich', 1), ('tannie', 1), ('cheap', 1), ('fabrication', 1), ('needles', 1), ('adela', 1), ('chant', 1), ('sexual', 1), ('levi', 1), ('flag', 1), ('youcrying', 1), ('countries', 1), ('awesome', 1), ('solitary', 1), ('step', 1), ('andrew', 1), ('por', 1), ('bohannon', 1), ('rolling', 1), ('purposely', 1), ('todeschini', 1), ('hopelessness', 1), ('famly', 1), ('threats', 1), ('choke', 1), ('gus', 1), ('remembers', 1), ('iv', 1), ('wholeheartedly', 1), ('robbing', 1), ('polygraph', 1), ('hines', 1), ('beth', 1), ('charlotte', 1), ('vein', 1), ('debtors', 1), ('verify', 1), ('sold', 1), ('surviving', 1), ('beating', 1), ('terrell', 1), ('charlton', 1), ('85', 1), ('banks', 1), ('deidra', 1), ('tiffany', 1), ('recent', 1), ('french', 1), ('replace', 1), ('rosales', 1), ('island', 1), ('schaeffer', 1), ('alcoholic', 1), ('sincerely', 1), ('background', 1), ('closet', 1), ('conscience', 1), ('kilmas', 1), ('ken', 1), ('urging', 1), ('shows', 1), ('dre', 1), ('ali', 1), ('wordsi', 1), ('theyre', 1), ('3', 1), ('sinners', 1), ('39', 1), ('driver', 1), ('deals', 1), ('revealed', 1), ('picked', 1), ('jason', 1), ('hired', 1), ('cell', 1), ('premeditation', 1), ('security', 1), ('confidence', 1), ('punish', 1), ('fulfill', 1), ('tina', 1), ('khristopher', 1), ('placed', 1), ('cullen', 1), ('whoever', 1), ('drove', 1), ('rachel', 1), ('gilbert', 1), ('27th', 1), ('slumber', 1), ('rip', 1), ('catacombs', 1), ('walter', 1), ('acknowledged', 1), ('succeeded', 1), ('dancing', 1), ('torn', 1), ('undertaker', 1), ('safe', 1), ('mia', 1), ('fellas', 1), ('monkey', 1), ('paulette', 1), ('nephew', 1), ('21', 1), ('chops', 1), ('defenseand', 1), ('setting', 1), ('choosing', 1), ('chiquita', 1), ('constitution', 1), ('rendered', 1), ('dolatschko', 1), ('commend', 1), ('crooked', 1), ('returned', 1), ('heroin', 1), ('wishing', 1), ('following', 1), ('keith', 1), ('planting', 1), ('numbers', 1), ('struggling', 1), ('sanchez', 1), ('davis', 1), ('nine', 1), ('pepper', 1), ('sammie', 1), ('deeper', 1), ('caring', 1), ('walks', 1), ('professed', 1), ('cadena', 1), ('pastors', 1), ('ailsa', 1), ('feet', 1), ('lundy', 1), ('ache', 1), ('bestow', 1), ('lorrell', 1), ('debra', 1), ('motives', 1), ('request', 1), ('bomb', 1), ('treasure', 1), ('marked', 1), ('watkins', 1), ('wherefore', 1), ('isabel', 1), ('thieves', 1), ('vietnamese', 1), ('reformatory', 1), ('destroying', 1), ('steinfeldt', 1), ('tells', 1), ('menic', 1), ('mumbles', 1), ('unite', 1), ('nutt', 1), ('scene', 1), ('efforts', 1), ('gained', 1), ('sincere', 1), ('felt', 1), ('photo', 1), ('weeks', 1), ('early', 1), ('20', 1), ('mohammad', 1), ('specific', 1), ('stood', 1), ('fredericks', 1), ('jess', 1), ('cpr', 1), ('probation', 1), ('familia', 1), ('flow', 1), ('breathe', 1), ('faces', 1), ('healing', 1), ('candle', 1), ('mycountry', 1), ('cathy', 1), ('messenger', 1), ('truely', 1), ('sit', 1), ('merka', 1), ('anticipation', 1), ('angelic', 1), ('demonstrate', 1), ('conflict', 1), ('obey', 1), ('hun', 1), ('appeals', 1), ('deena', 1), ('chiara', 1), ('non', 1), ('headed', 1), ('client', 1), ('masters', 1), ('singh', 1), ('patty', 1), ('perkins', 1), ('health', 1), ('messed', 1), ('nadia', 1), ('francis', 1), ('mayor', 1), ('anthony', 1), ('30', 1), ('shay', 1), ('kick', 1), ('pauses', 1), ('listening', 1), ('youth', 1), ('bruce', 1), ('joann', 1), ('worse', 1), ('less', 1), ('justin', 1), ('accomplice', 1), ('path', 1), ('monsters', 1), ('chains', 1), ('tomorrow', 1), ('damien', 1), ('floor', 1), ('inflicted', 1), ('buster', 1), ('holder', 1), ('destruct', 1), ('swear', 1), ('mouth', 1), ('shawn', 1), ('herz', 1), ('methadone', 1), ('changes', 1), ('35', 1), ('chicken', 1), ('thier', 1), ('key', 1), ('reflex', 1), ('adios', 1), ('ji', 1), ('visits', 1), ('track', 1), ('……', 1), ('renge', 1), ('winn', 1), ('aside', 1), ('enable', 1), ('report', 1), ('overlooks', 1), ('meaning', 1), ('lock', 1), ('bug', 1), ('peg', 1), ('renee', 1), ('wedding', 1), ('course', 1), ('milo', 1), ('doubts', 1), ('surrender', 1), ('corinthians', 1), ('amanda', 1), ('diamonds', 1), ('dirty', 1), ('grass', 1), ('anymore', 1), ('mid', 1), ('rule', 1), ('restraints', 1), ('file', 1), ('fourteen', 1), ('kaye', 1), ('devastating', 1), ('ricky', 1), ('participating', 1), ('became', 1), ('garza', 1), ('everytime', 1), ('worthy', 1), ('heals', 1), ('herb', 1), ('walshsylvia', 1), ('sularus', 1), ('witnessed', 1), ('elliot', 1), ('ocean', 1), ('chong', 1), ('forefathers', 1), ('stabbed', 1), ('knives', 1), ('petersons', 1), ('lasted', 1), ('kelly', 1), ('chelsea', 1), ('melissa', 1), ('emmanuel', 1), ('straight', 1), ('delia', 1), ('overseas', 1), ('haven', 1), ('shouldnt', 1), ('timers', 1), ('eastham', 1), ('manner', 1), ('steal', 1), ('remaining', 1), ('margie', 1), ('prosecutors', 1), ('ireland', 1), ('timeoh', 1), ('christianity', 1), ('vocabulary', 1), ('cca', 1), ('trespassed', 1), ('ancestors', 1), ('shirt', 1), ('separates', 1), ('examined', 1), ('potential', 1), ('cuba', 1), ('resounding', 1), ('unforgivesness', 1), ('melodee', 1), ('vicente', 1), ('deliberately', 1), ('deceive', 1), ('recited', 1), ('lowery', 1), ('tresspasses', 1), ('1993', 1), ('kristy', 1), ('holmes', 1), ('reprieve', 1), ('alleged', 1), ('drawn', 1), ('consequences', 1), ('6', 1), ('roostown', 1), ('r', 1), ('grandson', 1), ('poet', 1), ('wiles', 1), ('voiced', 1), ('ronald', 1), ('aka', 1), ('sanders', 1), ('desperately', 1), ('mccarthy', 1), ('jackson', 1), ('unrestrained', 1), ('zena', 1), ('incarcerated', 1), ('oralia', 1), ('abel', 1), ('wins', 1), ('whos', 1), ('prechtl', 1), ('willing', 1), ('golden', 1), ('smaillii', 1), ('judges', 1), ('testament', 1), ('bilodeau', 1), ('assalaam', 1), ('stepping', 1), ('cook', 1), ('kinda', 1), ('regrets', 1), ('teri', 1), ('heinous', 1), ('civilized', 1), ('annette', 1), ('daniel', 1), ('homesick', 1), ('determine', 1), ('300', 1), ('blow', 1), ('yolanda', 1), ('provided', 1), ('engstrom', 1), ('muhammd', 1), ('throat', 1), ('nicholas', 1), ('audreys', 1), ('conference', 1), ('stings', 1), ('hurley', 1), ('president', 1), ('kid', 1), ('lifetime', 1), ('gloria', 1), ('likeit', 1), ('choices', 1), ('running', 1), ('dealers', 1), ('brenda', 1), ('performing', 1), ('celeste', 1), ('remuneration', 1), ('carjacking', 1), ('erased', 1), ('order', 1), ('gabrielle', 1), ('concern', 1), ('bounce', 1), ('results', 1), ('listened', 1), ('macphail', 1), ('38', 1), ('foster', 1), ('flake', 1), ('conspirator', 1), ('jerry', 1), ('cdl', 1), ('hair', 1), ('embargo', 1), ('quiet', 1), ('result', 1), ('mommy', 1), ('secure', 1), ('cancellation', 1), ('gaines', 1), ('embrace', 1), ('begins', 1), ('nearly', 1), ('christians', 1), ('kuley', 1), ('morning', 1), ('ongoing', 1), ('favor', 1), ('chemical', 1), ('minister', 1), ('specially', 1), ('convenience', 1), ('existing', 1), ('african', 1), ('surace', 1), ('rebate', 1), ('32', 1), ('armando', 1), ('evelyn', 1), ('dorothy', 1), ('sehm', 1), ('doctors', 1), ('9', 1), ('levin', 1), ('jake', 1), ('dallas', 1), ('rescued', 1), ('copy', 1), ('jimmy', 1), ('peanut', 1), ('town', 1), ('volunteered', 1), ('c', 1), ('arguing', 1), ('earlier', 1), ('brooks', 1), ('collins', 1), ('angela', 1), ('science', 1), ('helgren', 1), ('trade', 1), ('iran', 1), ('carla', 1), ('mims', 1), ('papa', 1), ('gach', 1), ('filing', 1), ('diarmed', 1), ('excuse', 1), ('ups', 1), ('glorious', 1), ('selsor', 1), ('bowen', 1), ('shane', 1), ('shedding', 1), ('errors', 1), ('gong', 1), ('sandy', 1), ('learning', 1), ('y', 1), ('felonies', 1), ('wretched', 1), ('peter', 1), ('threw', 1), ('formely', 1), ('chop', 1), ('apologies', 1), ('ect', 1), ('shalt', 1), ('verbal', 1), ('speech', 1), ('patricia', 1), ('jung', 1), ('humans', 1), ('invited', 1), ('event', 1), ('grumah', 1), ('consulado', 1), ('witches', 1), ('awe', 1), ('ohio', 1), ('mathis', 1), ('played', 1), ('dreehcer', 1), ('bathroom', 1), ('nectar', 1), ('printed', 1), ('entire', 1), ('mindfor', 1), ('era', 1), ('granny', 1), ('52', 1), ('earline', 1), ('member', 1), ('youngster', 1), ('belongs', 1), ('cuida', 1), ('appear', 1), ('horse', 1), ('yaws', 1), ('themand', 1), ('franciscan', 1), ('gomorrah', 1), ('unintentional', 1), ('edgardo', 1), ('misty', 1), ('incarceration', 1), ('didmau', 1), ('fleetwood', 1), ('miguel', 1), ('78', 1), ('edwin', 1), ('tables', 1), ('proceeding', 1), ('defeats', 1), ('10th', 1), ('brians', 1), ('warmest', 1), ('shineth', 1), ('pulled', 1), ('isolated', 1), ('lubbock', 1), ('videotape', 1), ('ambitions', 1), ('darkness', 1), ('door', 1), ('undying', 1), ('contact', 1), ('cast', 1), ('josh', 1), ('obrien', 1), ('18', 1), ('rebeccas', 1), ('ieisha', 1), ('blesses', 1), ('cool', 1), ('expletive', 1), ('simply', 1), ('enjoied', 1), ('believed', 1), ('cut', 1), ('embraced', 1), ('elissa', 1), ('practice', 1), ('figure', 1), ('braun', 1), ('offered', 1), ('kammerer', 1), ('ps', 1), ('henry', 1), ('brandon', 1), ('deleted', 1), ('deception', 1), ('suppressed', 1), ('chronicle', 1), ('claims', 1), ('cost', 1), ('symptom', 1), ('lines', 1), ('eternal', 1), ('age', 1), ('lent', 1), ('somewhere', 1), ('alot', 1), ('christopher', 1), ('memory', 1), ('nanny', 1), ('diaper', 1), ('sheet', 1), ('conclusion', 1), ('religion', 1), ('explode', 1)]\n"
     ]
    }
   ],
   "source": [
    "df = Counter()\n",
    "\n",
    "# count word occurences\n",
    "for w in token_list:\n",
    "    df[w] +=1\n",
    "print(df.most_common())\n",
    "    "
   ]
  },
  {
   "cell_type": "code",
   "execution_count": 10,
   "metadata": {
    "collapsed": false
   },
   "outputs": [
    {
     "name": "stdout",
     "output_type": "stream",
     "text": [
      "['first', 'would', 'like', 'say', 'family', 'sorry', 'ask', 'forgiveness', 'also', 'funeral']\n"
     ]
    }
   ],
   "source": [
    "from nltk.corpus import stopwords\n",
    "\n",
    "filtered_words = [word for word in token_list if word not in stopwords.words('english')]\n",
    "\n",
    "print(filtered_words[:10])"
   ]
  },
  {
   "cell_type": "code",
   "execution_count": 11,
   "metadata": {
    "collapsed": false
   },
   "outputs": [
    {
     "name": "stdout",
     "output_type": "stream",
     "text": [
      "{'got': 41, 'innocent': 36, 'something': 28, 'said': 31, 'please': 53, 'mom': 36, 'give': 81, 'family': 250, 'everything': 39, 'allah': 35, 'heart': 64, 'peace': 86, 'thats': 60, 'ready': 69, 'let': 57, 'god': 162, 'everyone': 38, 'support': 32, 'sister': 28, 'christ': 45, 'sir': 42, 'years': 53, 'ask': 79, 'dont': 92, 'going': 104, 'life': 112, 'always': 41, 'yall': 127, 'take': 99, 'bless': 36, 'way': 37, 'may': 41, 'lot': 30, 'us': 56, 'home': 56, 'heaven': 34, 'right': 52, 'wish': 29, 'care': 52, 'father': 65, 'death': 70, 'm': 30, 'would': 169, 'still': 31, 'didnt': 35, 'people': 80, 'world': 27, 'could': 43, 'forgive': 119, 'sorry': 194, 'one': 97, 'see': 94, 'man': 55, 'ok': 27, 'ive': 28, 'friends': 51, 'know': 251, 'hope': 102, 'everybody': 61, 'first': 37, 'statement': 28, 'keep': 55, 'thank': 206, 'row': 30, 'ill': 35, 'like': 154, 'lord': 124, 'caused': 40, 'loved': 34, 'today': 28, 'nothing': 38, 'strong': 69, 'forgiveness': 49, 'pray': 50, 'jesus': 84, 'stay': 51, 'make': 31, 'apologize': 35, 'back': 45, 'say': 139, 'time': 45, 'done': 81, 'cant': 37, 'find': 50, 'want': 189, 'im': 104, 'things': 29, 'yes': 97, 'tell': 99, 'warden': 84, '’': 127, 'day': 33, 'get': 57, 'much': 38, 'go': 61, 'love': 549, 'pain': 52, 'good': 31, 'never': 42, 'come': 49}\n"
     ]
    }
   ],
   "source": [
    "df = Counter()\n",
    "\n",
    "# count word occurences\n",
    "for w in filtered_words:\n",
    "    df[w] +=1\n",
    "\n",
    "# convert to format for word cloud\n",
    "word_frequency = {}\n",
    "\n",
    "for word in df.most_common()[:100]:\n",
    "    word_frequency[word[0]] = word[1]\n",
    "\n",
    "print(word_frequency)\n"
   ]
  },
  {
   "cell_type": "code",
   "execution_count": 659,
   "metadata": {
    "collapsed": false
   },
   "outputs": [
    {
     "data": {
      "text/html": [
       "<div>\n",
       "<table border=\"1\" class=\"dataframe\">\n",
       "  <thead>\n",
       "    <tr style=\"text-align: right;\">\n",
       "      <th></th>\n",
       "      <th>sentiment</th>\n",
       "      <th>text</th>\n",
       "    </tr>\n",
       "  </thead>\n",
       "  <tbody>\n",
       "    <tr>\n",
       "      <th>0</th>\n",
       "      <td>1</td>\n",
       "      <td>The Da Vinci Code book is just awesome.</td>\n",
       "    </tr>\n",
       "    <tr>\n",
       "      <th>1</th>\n",
       "      <td>1</td>\n",
       "      <td>this was the first clive cussler i've ever rea...</td>\n",
       "    </tr>\n",
       "    <tr>\n",
       "      <th>2</th>\n",
       "      <td>1</td>\n",
       "      <td>i liked the Da Vinci Code a lot.</td>\n",
       "    </tr>\n",
       "    <tr>\n",
       "      <th>3</th>\n",
       "      <td>1</td>\n",
       "      <td>i liked the Da Vinci Code a lot.</td>\n",
       "    </tr>\n",
       "    <tr>\n",
       "      <th>4</th>\n",
       "      <td>1</td>\n",
       "      <td>I liked the Da Vinci Code but it ultimatly did...</td>\n",
       "    </tr>\n",
       "  </tbody>\n",
       "</table>\n",
       "</div>"
      ],
      "text/plain": [
       "   sentiment                                               text\n",
       "0          1            The Da Vinci Code book is just awesome.\n",
       "1          1  this was the first clive cussler i've ever rea...\n",
       "2          1                   i liked the Da Vinci Code a lot.\n",
       "3          1                   i liked the Da Vinci Code a lot.\n",
       "4          1  I liked the Da Vinci Code but it ultimatly did..."
      ]
     },
     "execution_count": 659,
     "metadata": {},
     "output_type": "execute_result"
    }
   ],
   "source": [
    "# use kaggle michigan training data\n",
    "\n",
    "try:\n",
    "    df = pd.read_csv('training_data_michigan.csv')\n",
    "except:\n",
    "    print('Error opening file!')\n",
    "\n",
    "df.head()\n"
   ]
  },
  {
   "cell_type": "code",
   "execution_count": 660,
   "metadata": {
    "collapsed": false
   },
   "outputs": [
    {
     "name": "stdout",
     "output_type": "stream",
     "text": [
      "7085 samples, 2132 features\n"
     ]
    }
   ],
   "source": [
    "from sklearn.cross_validation import train_test_split\n",
    "from sklearn.feature_extraction.text import CountVectorizer, TfidfVectorizer\n",
    "from sklearn.linear_model import LogisticRegression\n",
    "vectorizer = CountVectorizer()\n",
    "\n",
    "df = df.dropna()\n",
    "\n",
    "Xcv = vectorizer.fit_transform(df['text'])\n",
    "\n",
    "print('{} samples, {} features'.format(Xcv.shape[0], Xcv.shape[1]))"
   ]
  },
  {
   "cell_type": "code",
   "execution_count": 661,
   "metadata": {
    "collapsed": false
   },
   "outputs": [],
   "source": [
    "Xcv = vectorizer.fit_transform(df['text'])\n",
    "Y = df['sentiment']\n",
    "# split the converted data into training and test sets\n",
    "xtrain, xtest, ytrain, ytest = train_test_split(Xcv, Y)"
   ]
  },
  {
   "cell_type": "code",
   "execution_count": 662,
   "metadata": {
    "collapsed": false
   },
   "outputs": [
    {
     "name": "stdout",
     "output_type": "stream",
     "text": [
      "Accuracy:  99.10\n"
     ]
    }
   ],
   "source": [
    "logr = LogisticRegression(C=2.5).fit(xtrain, ytrain)\n",
    "\n",
    "print(\"Accuracy: {: 0.2f}\".format(100 * logr.score(xtest, ytest)))"
   ]
  },
  {
   "cell_type": "code",
   "execution_count": 664,
   "metadata": {
    "collapsed": false
   },
   "outputs": [
    {
     "name": "stdout",
     "output_type": "stream",
     "text": [
      "            Date              Name  Age Sex    Race  \\\n",
      "13    01/09/2001        Jack Clark   37   m   White   \n",
      "15    01/07/1988  Robert Streetman   27   m   White   \n",
      "17    01/04/1995      Jesse Jacobs   44   m   White   \n",
      "21    01/05/1999        John Moody   46   m   White   \n",
      "27    01/09/2002     Michael Moore   38   m   White   \n",
      "29    02/09/1998     Steven Renfro   40   m   White   \n",
      "31    02/02/1994    Harold Barnard   51   m   White   \n",
      "35    02/10/1999    George Cordova   39   m  Latino   \n",
      "36    02/08/2001  Adolph Hernandez   50   m  Latino   \n",
      "38    02/06/2003        Henry Dunn   28   m   Black   \n",
      "42    02/10/1997   Richard Brimage   41   m   White   \n",
      "43    02/03/1998      Karla Tucker   38   f   White   \n",
      "47    02/11/1999      Danny Barber   43   m   White   \n",
      "53    03/07/2002     Gerald Tigner   29   m   Black   \n",
      "58    03/01/2000      Odell Barnes   31   m   Black   \n",
      "61    03/12/1986      Charles Bass   29   m   White   \n",
      "63    03/03/1992      Edward Ellis   38   m   White   \n",
      "69    03/12/1997    John Barefield   32   m   Black   \n",
      "70    03/11/1998       Jerry Hogue   47   m   White   \n",
      "75    03/07/2001   Dennis Dowthitt   55   m   White   \n",
      "78    03/11/2003        Bobby Cook   41   m   White   \n",
      "81    04/03/1997      David Spence   40   m   White   \n",
      "83    04/03/2001      Jason Massey   27   m   White   \n",
      "92    04/02/1997      David Herman   39   m   White   \n",
      "101   05/11/2000   Michael McBride   38   m   White   \n",
      "113   05/12/1993    Leonel Herrera   44   m  Latino   \n",
      "118   05/07/1992        Justin May   46   m   White   \n",
      "131   05/04/2000     Tommy Jackson   43   m   Black   \n",
      "132   05/09/2000  William Kitchens   37   m   White   \n",
      "134   05/09/2002   Reginald Reeves   28   m   Black   \n",
      "...          ...               ...  ...  ..     ...   \n",
      "1288  03/27/2012   Jesse Hernandez   47   m  Latino   \n",
      "1289  04/11/2012        David Gore   58   m   White   \n",
      "1290  04/17/2012        Mark Wiles   49   m   White   \n",
      "1292  04/24/2012       Thomas Kemp   63   m   White   \n",
      "1293  04/25/2012      Beunka Adams   29   m   Black   \n",
      "1294  04/30/2012    Michael Selsor   57   m   White   \n",
      "1299  06/26/2012      Samuel Lopez   49   m  Latino   \n",
      "1300  07/17/2012     Yokamon Hearn   33   m   Black   \n",
      "1301  08/06/2012     Marvin Wilson   54   m   Black   \n",
      "1306  09/24/2012      Cleve Foster   47   m   White   \n",
      "1307  10/09/2012    Jonathan Green   44   m   Black   \n",
      "1313  11/07/2012       Mario Swain   33   m   Black   \n",
      "1316  11/14/2012    Preston Hughes   46   m   Black   \n",
      "1321  02/20/2013         Carl Blue   48   m   Black   \n",
      "1322  02/20/2013       Andrew Cook   38   m   White   \n",
      "1323  03/05/2013  Frederick Treesh   48   m   White   \n",
      "1328  04/24/2013      Richard Cobb   29   m   White   \n",
      "1363  01/22/2014     Kenneth Hogan   52   m   White   \n",
      "1368  02/25/2014       Paul Howell   48   m   Black   \n",
      "1369  03/18/2014        Ray Jasper   33   m   Black   \n",
      "1374  04/08/2014  Ramiro Hernandez   44   m  Latino   \n",
      "1375  04/15/2014     Jose Villegas   39   m  Latino   \n",
      "1376  04/22/2014    William Rousan   57   m   White   \n",
      "1387  09/09/2014    Willie Trottie   45   m   Black   \n",
      "1395  06/03/2015      Lester Bower   67   m   White   \n",
      "1398  01/21/2015     Arnold Prieto   41   m  Latino   \n",
      "1400  01/29/2015       Robert Ladd   57   m   Black   \n",
      "1401  02/04/2015    Donald Newbury   52   m   White   \n",
      "1403  03/11/2015    Manuel Vasquez   46   m  Latino   \n",
      "1405  04/09/2015      Kent Sprouse   42   m   White   \n",
      "\n",
      "                         Number / Race / Sex of Victims State Region  \\\n",
      "13                                   1 Latino Female(s)    TX      S   \n",
      "15                                    1 White Female(s)    TX      S   \n",
      "17                                    1 White Female(s)    TX      S   \n",
      "21                                    1 White Female(s)    TX      S   \n",
      "27                                    1 White Female(s)    TX      S   \n",
      "29                     1 White Male(s)2 White Female(s)    TX      S   \n",
      "31                                      1 Asian Male(s)    TX      S   \n",
      "35                                     1 Latino Male(s)    TX      S   \n",
      "36                                   1 Latino Female(s)    TX      S   \n",
      "38                                     1 Latino Male(s)    TX      S   \n",
      "42                                    1 White Female(s)    TX      S   \n",
      "43                     1 White Male(s)1 White Female(s)    TX      S   \n",
      "47                                    1 White Female(s)    TX      S   \n",
      "53                                      2 Black Male(s)    TX      S   \n",
      "58                                    1 Black Female(s)    TX      S   \n",
      "61                                      1 White Male(s)    TX      S   \n",
      "63                                    1 White Female(s)    TX      S   \n",
      "69                                    1 White Female(s)    TX      S   \n",
      "70                                    1 White Female(s)    TX      S   \n",
      "75                                    1 White Female(s)    TX      S   \n",
      "78                                      1 White Male(s)    TX      S   \n",
      "81                     1 White Male(s)2 White Female(s)    TX      S   \n",
      "83                     1 White Male(s)1 White Female(s)    TX      S   \n",
      "92                                    1 White Female(s)    TX      S   \n",
      "101                    1 White Male(s)1 White Female(s)    TX      S   \n",
      "113                                    1 Latino Male(s)    TX      S   \n",
      "118                                   1 White Female(s)    TX      S   \n",
      "131                                   1 White Female(s)    TX      S   \n",
      "132                                   1 White Female(s)    TX      S   \n",
      "134                                   1 White Female(s)    TX      S   \n",
      "...                                                 ...   ...    ...   \n",
      "1288                                   1 Latino Male(s)    TX      S   \n",
      "1289                                  1 White Female(s)    FL      S   \n",
      "1290                                    1 White Male(s)    OH      M   \n",
      "1292                                   1 Latino Male(s)    AZ      W   \n",
      "1293                                    1 White Male(s)    TX      S   \n",
      "1294                                    1 White Male(s)    OK      S   \n",
      "1299                                 1 Latino Female(s)    AZ      W   \n",
      "1300                                    1 White Male(s)    TX      S   \n",
      "1301                                    1 Black Male(s)    TX      S   \n",
      "1306                                  1 Black Female(s)    TX      S   \n",
      "1307                                  1 White Female(s)    TX      S   \n",
      "1313                                  1 White Female(s)    TX      S   \n",
      "1316                   1 Black Male(s)1 Black Female(s)    TX      S   \n",
      "1321                                  1 Black Female(s)    TX      S   \n",
      "1322                   1 White Female(s)1 White Male(s)    GA      S   \n",
      "1323                                    1 Black Male(s)    OH      M   \n",
      "1328                                    1 White Male(s)    TX      S   \n",
      "1363                                  1 White Female(s)    OK      S   \n",
      "1368                                    1 White Male(s)    FL      S   \n",
      "1369                                   1 Latino Male(s)    TX      S   \n",
      "1374                                    1 White Male(s)    TX      S   \n",
      "1375                 1 Latino Male(s)2 Latino Female(s)    TX      S   \n",
      "1376                                  1 White Female(s)    MO      M   \n",
      "1387                   1 Black Male(s)1 Black Female(s)    TX      S   \n",
      "1395                                    4 White Male(s)    TX      S   \n",
      "1398  1 Latino Male(s)1 Latino Female(s)1 White Fema...    TX      S   \n",
      "1400                                  1 White Female(s)    TX      S   \n",
      "1401                                    1 White Male(s)    TX      S   \n",
      "1403                                 1 Latino Female(s)    TX      S   \n",
      "1405                    1 White Male(s)1 Latino Male(s)    TX      S   \n",
      "\n",
      "                Method  Juvenile  Federal  Volunteer  Foreign National  \\\n",
      "13    Lethal Injection         0        0          0                 0   \n",
      "15    Lethal Injection         0        0          0                 0   \n",
      "17    Lethal Injection         0        0          0                 0   \n",
      "21    Lethal Injection         0        0          0                 0   \n",
      "27    Lethal Injection         0        0          0                 0   \n",
      "29    Lethal Injection         0        0          1                 0   \n",
      "31    Lethal Injection         0        0          0                 0   \n",
      "35    Lethal Injection         0        0          0                 0   \n",
      "36    Lethal Injection         0        0          0                 0   \n",
      "38    Lethal Injection         0        0          0                 0   \n",
      "42    Lethal Injection         0        0          1                 0   \n",
      "43    Lethal Injection         0        0          0                 0   \n",
      "47    Lethal Injection         0        0          0                 0   \n",
      "53    Lethal Injection         0        0          0                 0   \n",
      "58    Lethal Injection         0        0          0                 0   \n",
      "61    Lethal Injection         0        0          0                 0   \n",
      "63    Lethal Injection         0        0          0                 0   \n",
      "69    Lethal Injection         0        0          0                 0   \n",
      "70    Lethal Injection         0        0          0                 0   \n",
      "75    Lethal Injection         0        0          0                 0   \n",
      "78    Lethal Injection         0        0          0                 0   \n",
      "81    Lethal Injection         0        0          0                 0   \n",
      "83    Lethal Injection         0        0          0                 0   \n",
      "92    Lethal Injection         0        0          0                 0   \n",
      "101   Lethal Injection         0        0          0                 0   \n",
      "113   Lethal Injection         0        0          0                 0   \n",
      "118   Lethal Injection         0        0          0                 0   \n",
      "131   Lethal Injection         0        0          0                 0   \n",
      "132   Lethal Injection         0        0          0                 0   \n",
      "134   Lethal Injection         0        0          0                 0   \n",
      "...                ...       ...      ...        ...               ...   \n",
      "1288  Lethal Injection         0        0          0                 0   \n",
      "1289  Lethal Injection         0        0          0                 0   \n",
      "1290  Lethal Injection         0        0          0                 0   \n",
      "1292  Lethal Injection         0        0          0                 0   \n",
      "1293  Lethal Injection         0        0          0                 0   \n",
      "1294  Lethal Injection         0        0          0                 0   \n",
      "1299  Lethal Injection         0        0          0                 0   \n",
      "1300  Lethal Injection         0        0          0                 0   \n",
      "1301  Lethal Injection         0        0          0                 0   \n",
      "1306  Lethal Injection         0        0          0                 0   \n",
      "1307  Lethal Injection         0        0          0                 0   \n",
      "1313  Lethal Injection         0        0          0                 0   \n",
      "1316  Lethal Injection         0        0          0                 0   \n",
      "1321  Lethal Injection         0        0          0                 0   \n",
      "1322  Lethal Injection         0        0          0                 0   \n",
      "1323  Lethal Injection         0        0          0                 0   \n",
      "1328  Lethal Injection         0        0          0                 0   \n",
      "1363  Lethal Injection         0        0          0                 0   \n",
      "1368  Lethal Injection         0        0          0                 0   \n",
      "1369  Lethal Injection         0        0          0                 0   \n",
      "1374  Lethal Injection         0        0          0                 1   \n",
      "1375  Lethal Injection         0        0          0                 0   \n",
      "1376  Lethal Injection         0        0          0                 0   \n",
      "1387  Lethal Injection         0        0          0                 0   \n",
      "1395  Lethal Injection         0        0          0                 0   \n",
      "1398  Lethal Injection         0        0          0                 0   \n",
      "1400  Lethal Injection         0        0          0                 0   \n",
      "1401  Lethal Injection         0        0          0                 0   \n",
      "1403  Lethal Injection         0        0          0                 0   \n",
      "1405  Lethal Injection         0        0          0                 0   \n",
      "\n",
      "          County                                     Last_Statement  \\\n",
      "13       Lubbock   First, I would like to say to the family that...   \n",
      "15        Hardin  This offender declined to make a last statemen...   \n",
      "17    Montgomery  Eden, if they want proof of them, give it to t...   \n",
      "21        Taylor  I’d like to apologize and ask forgiveness for ...   \n",
      "27       Coryell   I'll start by saying I love all of you.  I wi...   \n",
      "29      Harrison         Take my hand, Lord Jesus, I’m coming home.   \n",
      "31     Galveston  God, please forgive me of my sins. Look after ...   \n",
      "35         Bexar  For the pain I have caused you. I am ashamed t...   \n",
      "36       Lubbock   I want to thank my family for their help and ...   \n",
      "38         Smith   Written: The Death Penalty in Texas is broke....   \n",
      "42       Kleberg  Not from me but I have a message to you from G...   \n",
      "43        Harris  I love all of you very much. I am going to be ...   \n",
      "47        Dallas  I want to talk to my friends over here for a s...   \n",
      "53      McLennan   Yes.  My last statement.  I was wrongfully co...   \n",
      "58       Lubbock   I'd like to send great love to all my family ...   \n",
      "61        Harris      I deserve this. Tell everyone I said goodbye.   \n",
      "63        Harris  I just want everyone to know that the prosecut...   \n",
      "69        Harris                   (Mumbled.) Tell Mama I love her.   \n",
      "70       Tarrant                                 O.K., I’m ready.     \n",
      "75    Montgomery   I am so sorry for what y'all had to go throug...   \n",
      "78      Anderson  I would like to say to the victim's family, if...   \n",
      "81      McLennan  I love you all – (names of children) – Corey, ...   \n",
      "83         Ellis   Yes, first I would like to speak to the victi...   \n",
      "92       Tarrant  It was horrible and inexcusable for me to take...   \n",
      "101      Lubbock  Spoken: Thank you, um, I anticipated that I wo...   \n",
      "113      Cameron  I am innocent, innocent, innocent. Make no mis...   \n",
      "118     Brazoria                                Thanked his family.   \n",
      "131   Williamson   Yes sir, I would like to address the Robinson...   \n",
      "132       Taylor  Yes, sir. James Webb, I don't know which one y...   \n",
      "134    Red River   I pray that we all may learn to love and forg...   \n",
      "...          ...                                                ...   \n",
      "1288      Dallas  Tell my son I love him very much. God bless ev...   \n",
      "1289    Pinellas  After Gore was arrested for the murder of Lynn...   \n",
      "1290     Portage  Mark Wiles worked for Mark Kilma's parents on ...   \n",
      "1292        Pima                      Victim Hector Soto Juarez, 25   \n",
      "1293    Cherokee         Read more about the crimes of Beunka Adams   \n",
      "1294       Tulsa  In 1975 Michael Selsor and an accomplice robbe...   \n",
      "1299    Maricopa  During the execution process Lopez interacted ...   \n",
      "1300      Dallas  Final Words: \"I'd like to tell my family that ...   \n",
      "1301   Jefferson  Bohannon, Peg and Kim, I love ya'll. Son, get ...   \n",
      "1306     Tarrant  Yes, you know I sat in my cell many days wonde...   \n",
      "1307  Montgomery                                                      \n",
      "1313       Gregg  This offender declined to make a last statemen...   \n",
      "1316      Harris  Yes, Warden. Mom, Celeste: Please know I'm inn...   \n",
      "1321      Brazos  \"I'm talking to each and every soul in this bu...   \n",
      "1322      Monroe                    More: The Crimes of Andrew Cook   \n",
      "1323        Lake  Treesh and co-conspirator Benjamin Brooks went...   \n",
      "1328    Cherokee                                                      \n",
      "1363    Oklahoma  \"I am guilty for what I'm here for, and I take...   \n",
      "1368   Jefferson  Paul Howell apologized to the victim's family ...   \n",
      "1369       Bexar  (Spoken statement)\\r\\n  I want to say to my fa...   \n",
      "1374     Bandera  Ramiro Hernandez spoke for nearly five minutes...   \n",
      "1375      Nueces  \"I would like to remind my children once again...   \n",
      "1376  Washington  \"My trials and transgressions have been many. ...   \n",
      "1387      Harris                                                 \\n   \n",
      "1395     Grayson  \"Much has been written about this case, not al...   \n",
      "1398       Bexar  There are no endings, only beginnings. Love ya...   \n",
      "1400       Smith  Teresa I am really sorry, please don’t have ha...   \n",
      "1401      Dallas  That each new indignity defeats only the body....   \n",
      "1403       Bexar  Yes sir, I want to say I love you to all my fa...   \n",
      "1405       Ellis  “I would like to apologize to the Moreno famil...   \n",
      "\n",
      "      Michigan_Logistic_Sentiment  Race_Factorized  Juvi_Factorized  \\\n",
      "13                              0                4                0   \n",
      "15                              0                4                0   \n",
      "17                              0                4                0   \n",
      "21                              0                4                0   \n",
      "27                              1                4                0   \n",
      "29                              0                4                0   \n",
      "31                              1                4                0   \n",
      "35                              0                2                0   \n",
      "36                              1                2                0   \n",
      "38                              0                1                0   \n",
      "42                              1                4                0   \n",
      "43                              0                4                0   \n",
      "47                              0                4                0   \n",
      "53                              0                1                0   \n",
      "58                              0                1                0   \n",
      "61                              0                4                0   \n",
      "63                              0                4                0   \n",
      "69                              1                1                0   \n",
      "70                              1                4                0   \n",
      "75                              0                4                0   \n",
      "78                              0                4                0   \n",
      "81                              0                4                0   \n",
      "83                              0                4                0   \n",
      "92                              0                4                0   \n",
      "101                             0                4                0   \n",
      "113                             1                2                0   \n",
      "118                             1                4                0   \n",
      "131                             0                1                0   \n",
      "132                             0                4                0   \n",
      "134                             0                1                0   \n",
      "...                           ...              ...              ...   \n",
      "1288                            1                2                0   \n",
      "1289                            0                4                0   \n",
      "1290                            1                4                0   \n",
      "1292                            0                4                0   \n",
      "1293                            0                1                0   \n",
      "1294                            0                4                0   \n",
      "1299                            0                2                0   \n",
      "1300                            0                1                0   \n",
      "1301                            0                1                0   \n",
      "1306                            0                4                0   \n",
      "1307                            1                1                0   \n",
      "1313                            0                1                0   \n",
      "1316                            0                1                0   \n",
      "1321                            0                1                0   \n",
      "1322                            0                4                0   \n",
      "1323                            0                4                0   \n",
      "1328                            1                4                0   \n",
      "1363                            0                4                0   \n",
      "1368                            0                1                0   \n",
      "1369                            0                1                0   \n",
      "1374                            0                2                0   \n",
      "1375                            0                2                0   \n",
      "1376                            1                4                0   \n",
      "1387                            1                1                0   \n",
      "1395                            0                4                0   \n",
      "1398                            0                2                0   \n",
      "1400                            0                1                0   \n",
      "1401                            0                4                0   \n",
      "1403                            0                2                0   \n",
      "1405                            0                4                0   \n",
      "\n",
      "      Include_Love  \n",
      "13               0  \n",
      "15               0  \n",
      "17               0  \n",
      "21               1  \n",
      "27               1  \n",
      "29               0  \n",
      "31               0  \n",
      "35               0  \n",
      "36               1  \n",
      "38               1  \n",
      "42               0  \n",
      "43               1  \n",
      "47               0  \n",
      "53               1  \n",
      "58               1  \n",
      "61               0  \n",
      "63               1  \n",
      "69               1  \n",
      "70               0  \n",
      "75               1  \n",
      "78               1  \n",
      "81               1  \n",
      "83               1  \n",
      "92               1  \n",
      "101              1  \n",
      "113              0  \n",
      "118              0  \n",
      "131              0  \n",
      "132              1  \n",
      "134              1  \n",
      "...            ...  \n",
      "1288             1  \n",
      "1289             0  \n",
      "1290             0  \n",
      "1292             0  \n",
      "1293             0  \n",
      "1294             0  \n",
      "1299             0  \n",
      "1300             1  \n",
      "1301             1  \n",
      "1306             1  \n",
      "1307             0  \n",
      "1313             0  \n",
      "1316             1  \n",
      "1321             1  \n",
      "1322             0  \n",
      "1323             0  \n",
      "1328             0  \n",
      "1363             0  \n",
      "1368             0  \n",
      "1369             1  \n",
      "1374             0  \n",
      "1375             1  \n",
      "1376             0  \n",
      "1387             0  \n",
      "1395             1  \n",
      "1398             0  \n",
      "1400             1  \n",
      "1401             1  \n",
      "1403             1  \n",
      "1405             0  \n",
      "\n",
      "[405 rows x 19 columns]\n"
     ]
    },
    {
     "name": "stderr",
     "output_type": "stream",
     "text": [
      "/Users/melanie/anaconda/lib/python3.4/site-packages/IPython/kernel/__main__.py:4: SettingWithCopyWarning: \n",
      "A value is trying to be set on a copy of a slice from a DataFrame.\n",
      "Try using .loc[row_indexer,col_indexer] = value instead\n",
      "\n",
      "See the the caveats in the documentation: http://pandas.pydata.org/pandas-docs/stable/indexing.html#indexing-view-versus-copy\n"
     ]
    }
   ],
   "source": [
    "vectorizer = CountVectorizer(max_features=2132)\n",
    "LWcv = vectorizer.fit_transform(lastwords['Last_Statement'])\n",
    "\n",
    "lastwords['Michigan_Logistic_Sentiment'] = logr.predict(LWcv)\n",
    "\n",
    "print(lastwords)"
   ]
  },
  {
   "cell_type": "code",
   "execution_count": 666,
   "metadata": {
    "collapsed": false
   },
   "outputs": [
    {
     "name": "stdout",
     "output_type": "stream",
     "text": [
      "27       I'll start by saying I love all of you.  I wi...\n",
      "31      God, please forgive me of my sins. Look after ...\n",
      "36       I want to thank my family for their help and ...\n",
      "42      Not from me but I have a message to you from G...\n",
      "69                       (Mumbled.) Tell Mama I love her.\n",
      "70                                     O.K., I’m ready.  \n",
      "113     I am innocent, innocent, innocent. Make no mis...\n",
      "118                                   Thanked his family.\n",
      "148                                         O.K., Warden.\n",
      "156            Praise Allah –  (some more Allah mumbling)\n",
      "157                                 I am ready, Warden.  \n",
      "185                                          Warden, ATW.\n",
      "215     First of all, I want to apologize to the famil...\n",
      "228             Well, my friends in my heart, I’m ready –\n",
      "294        He spoke in Irish, translating to \"Goodbye.\"  \n",
      "303      Tell my brothers I love them. You all be strong.\n",
      "307     Thank you for setting me free. God bless you a...\n",
      "330                                        I am finished.\n",
      "331     I want to thank all of my friends for supporti...\n",
      "344                  I am ready for the final blessing.  \n",
      "434     As the ocean always returns to itself, love al...\n",
      "467      Like to tell my friends that I love them. App...\n",
      "469                                 Santajaib Singh Ji.  \n",
      "483     None. But as he lay there he did praise the Lo...\n",
      "493                                    I’m ready, Warden.\n",
      "494     I forgive all of you – hope God forgives all o...\n",
      "537     I would like to tell Mr. Richard that I apprec...\n",
      "540                                                Peace.\n",
      "568     I want to tell ya'll, know that I love you. Bi...\n",
      "569     Uh, I don't know, Um, I don't know what to say...\n",
      "                              ...                        \n",
      "1116     Yeah, I love all ya'll. I forgive all ya'll. ...\n",
      "1118    First I want to say to the family, I'm sorry I...\n",
      "1124     Yes. I appreciate everybody for their love an...\n",
      "1127     Jesus receive my spirit. I love you Edgardo; ...\n",
      "1128     Hello, ain't got to worry about nothing. I am...\n",
      "1144                                             Victims:\n",
      "1167                    Victim: Stephanie Alexis Gach, 21\n",
      "1171                          Victim: Ann R. Serafino, 66\n",
      "1174        Yes, Ain't no way fo' fo', I Love all yall.  \n",
      "1185                                     Bye, I'm Ready. \n",
      "1186                         Victim: Tami L. Engstrom, 22\n",
      "1219                                   No last statement.\n",
      "1223                                                   No\n",
      "1235    Victim: Otis Earl Short, 77, Matthew's great u...\n",
      "1238                        Victim: Elissa Self-Braun, 11\n",
      "1246                                         Final Words:\n",
      "1253                     Victim:Brian Edward Williams, 29\n",
      "1258                           Victim: Jennifer Wilson, 9\n",
      "1261    \"The Lord Jesus Christ be with me. I am at pea...\n",
      "1268                      No, I have no final statement. \n",
      "1275    I don't know why all of this happened. I don't...\n",
      "1277    Final Words:\"I was just going to ask everybody...\n",
      "1283                                 - Keith Thurmond, 52\n",
      "1284    Lowery then began to cry and looked at his fam...\n",
      "1288    Tell my son I love him very much. God bless ev...\n",
      "1290    Mark Wiles worked for Mark Kilma's parents on ...\n",
      "1307                                                     \n",
      "1328                                                     \n",
      "1376    \"My trials and transgressions have been many. ...\n",
      "1387                                                   \\n\n",
      "Name: Last_Statement, dtype: object\n"
     ]
    }
   ],
   "source": [
    "print((lastwords[lastwords['Michigan_Logistic_Sentiment'] == 1]['Last_Statement']))"
   ]
  },
  {
   "cell_type": "code",
   "execution_count": 654,
   "metadata": {
    "collapsed": false
   },
   "outputs": [
    {
     "name": "stdout",
     "output_type": "stream",
     "text": [
      "113\n",
      "292\n"
     ]
    },
    {
     "data": {
      "image/png": "[encoded data removed]",
      "text/plain": [
       "<matplotlib.figure.Figure at 0x12798ee10>"
      ]
     },
     "metadata": {},
     "output_type": "display_data"
    }
   ],
   "source": [
    "X = lastwords['Age'].values\n",
    "y = lastwords['Michigan_Logistic_Sentiment'].values\n",
    "fig, axes = plt.subplots(1,1, figsize=(12, 8))\n",
    "axes.set_ylim((-0.2, 1.2))\n",
    "plt.plot(X, y, 'o')\n",
    "\n",
    "print(len(lastwords[lastwords['Michigan_Logistic_Sentiment'] == 1]))\n",
    "print(len(lastwords[lastwords['Michigan_Logistic_Sentiment'] == 0]))"
   ]
  },
  {
   "cell_type": "code",
   "execution_count": 18,
   "metadata": {
    "collapsed": false
   },
   "outputs": [
    {
     "name": "stderr",
     "output_type": "stream",
     "text": [
      "/Users/melanie/anaconda/lib/python3.4/site-packages/IPython/kernel/__main__.py:1: SettingWithCopyWarning: \n",
      "A value is trying to be set on a copy of a slice from a DataFrame.\n",
      "Try using .loc[row_indexer,col_indexer] = value instead\n",
      "\n",
      "See the the caveats in the documentation: http://pandas.pydata.org/pandas-docs/stable/indexing.html#indexing-view-versus-copy\n",
      "  if __name__ == '__main__':\n"
     ]
    },
    {
     "data": {
      "text/plain": [
       "<matplotlib.text.Text at 0x112baa048>"
      ]
     },
     "execution_count": 18,
     "metadata": {},
     "output_type": "execute_result"
    },
    {
     "data": {
      "image/png": "[encoded data removed]",
      "text/plain": [
       "<matplotlib.figure.Figure at 0x113e35f28>"
      ]
     },
     "metadata": {},
     "output_type": "display_data"
    }
   ],
   "source": [
    "lastwords['Race_Factorized'] = pd.Categorical.from_array(lastwords['Race']).codes\n",
    "fig, axes = plt.subplots(1,1, figsize=(12, 8))\n",
    "axes.set_ylim((-0.2, 1.2))\n",
    "axes.boxplot([lastwords['Michigan_Logistic_Sentiment'][lastwords['Race'] == 'White'], lastwords['Michigan_Logistic_Sentiment'][lastwords['Race'] == 'Latino'], lastwords['Michigan_Logistic_Sentiment'][lastwords['Race'] == 'Black'], lastwords['Michigan_Logistic_Sentiment'][lastwords['Race'] == 'Native American'], lastwords['Michigan_Logistic_Sentiment'][lastwords['Race'] == 'Asian']], showmeans=True)\n",
    "axes.set_xticklabels(('White', 'Latino', 'Black', 'Native American', 'Asian'))\n",
    "axes.set_ylabel('sentiment')"
   ]
  },
  {
   "cell_type": "code",
   "execution_count": 19,
   "metadata": {
    "collapsed": false
   },
   "outputs": [
    {
     "name": "stdout",
     "output_type": "stream",
     "text": [
      "7\n"
     ]
    },
    {
     "name": "stderr",
     "output_type": "stream",
     "text": [
      "/Users/melanie/anaconda/lib/python3.4/site-packages/IPython/kernel/__main__.py:1: SettingWithCopyWarning: \n",
      "A value is trying to be set on a copy of a slice from a DataFrame.\n",
      "Try using .loc[row_indexer,col_indexer] = value instead\n",
      "\n",
      "See the the caveats in the documentation: http://pandas.pydata.org/pandas-docs/stable/indexing.html#indexing-view-versus-copy\n",
      "  if __name__ == '__main__':\n"
     ]
    }
   ],
   "source": [
    "lastwords['Juvi_Factorized'] = pd.Categorical.from_array(lastwords['Juvenile']).codes\n",
    "print(sum(lastwords['Juvi_Factorized']))"
   ]
  },
  {
   "cell_type": "code",
   "execution_count": 20,
   "metadata": {
    "collapsed": false
   },
   "outputs": [
    {
     "name": "stdout",
     "output_type": "stream",
     "text": [
      "             Age  Michigan_Logistic_Sentiment  Race_Factorized  \\\n",
      "count   7.000000                     7.000000         7.000000   \n",
      "mean   28.571429                     0.285714         2.285714   \n",
      "std     5.126960                     0.487950         1.603567   \n",
      "min    24.000000                     0.000000         1.000000   \n",
      "25%    25.000000                     0.000000         1.000000   \n",
      "50%    27.000000                     0.000000         1.000000   \n",
      "75%    30.500000                     0.500000         4.000000   \n",
      "max    38.000000                     1.000000         4.000000   \n",
      "\n",
      "       Juvi_Factorized  \n",
      "count                7  \n",
      "mean                 1  \n",
      "std                  0  \n",
      "min                  1  \n",
      "25%                  1  \n",
      "50%                  1  \n",
      "75%                  1  \n",
      "max                  1  \n"
     ]
    }
   ],
   "source": [
    "print(lastwords[lastwords['Juvenile'] == 'Yes'].describe())"
   ]
  },
  {
   "cell_type": "code",
   "execution_count": 21,
   "metadata": {
    "collapsed": false
   },
   "outputs": [
    {
     "data": {
      "text/html": [
       "<div>\n",
       "<table border=\"1\" class=\"dataframe\">\n",
       "  <thead>\n",
       "    <tr style=\"text-align: right;\">\n",
       "      <th></th>\n",
       "      <th>Age</th>\n",
       "      <th>Michigan_Logistic_Sentiment</th>\n",
       "      <th>Race_Factorized</th>\n",
       "      <th>Juvi_Factorized</th>\n",
       "    </tr>\n",
       "  </thead>\n",
       "  <tbody>\n",
       "    <tr>\n",
       "      <th>Age</th>\n",
       "      <td>1.000000</td>\n",
       "      <td>0.110258</td>\n",
       "      <td>0.246957</td>\n",
       "      <td>-0.168162</td>\n",
       "    </tr>\n",
       "    <tr>\n",
       "      <th>Michigan_Logistic_Sentiment</th>\n",
       "      <td>0.110258</td>\n",
       "      <td>1.000000</td>\n",
       "      <td>0.067704</td>\n",
       "      <td>0.001982</td>\n",
       "    </tr>\n",
       "    <tr>\n",
       "      <th>Race_Factorized</th>\n",
       "      <td>0.246957</td>\n",
       "      <td>0.067704</td>\n",
       "      <td>1.000000</td>\n",
       "      <td>-0.027800</td>\n",
       "    </tr>\n",
       "    <tr>\n",
       "      <th>Juvi_Factorized</th>\n",
       "      <td>-0.168162</td>\n",
       "      <td>0.001982</td>\n",
       "      <td>-0.027800</td>\n",
       "      <td>1.000000</td>\n",
       "    </tr>\n",
       "  </tbody>\n",
       "</table>\n",
       "</div>"
      ],
      "text/plain": [
       "                                  Age  Michigan_Logistic_Sentiment  \\\n",
       "Age                          1.000000                     0.110258   \n",
       "Michigan_Logistic_Sentiment  0.110258                     1.000000   \n",
       "Race_Factorized              0.246957                     0.067704   \n",
       "Juvi_Factorized             -0.168162                     0.001982   \n",
       "\n",
       "                             Race_Factorized  Juvi_Factorized  \n",
       "Age                                 0.246957        -0.168162  \n",
       "Michigan_Logistic_Sentiment         0.067704         0.001982  \n",
       "Race_Factorized                     1.000000        -0.027800  \n",
       "Juvi_Factorized                    -0.027800         1.000000  "
      ]
     },
     "execution_count": 21,
     "metadata": {},
     "output_type": "execute_result"
    }
   ],
   "source": [
    "lastwords.corr()"
   ]
  },
  {
   "cell_type": "code",
   "execution_count": 22,
   "metadata": {
    "collapsed": false
   },
   "outputs": [
    {
     "data": {
      "text/html": [
       "<table class=\"simpletable\">\n",
       "<caption>OLS Regression Results</caption>\n",
       "<tr>\n",
       "  <th>Dep. Variable:</th>    <td>Michigan_Logistic_Sentiment</td> <th>  R-squared:         </th> <td>   0.014</td>\n",
       "</tr>\n",
       "<tr>\n",
       "  <th>Model:</th>                        <td>OLS</td>             <th>  Adj. R-squared:    </th> <td>   0.007</td>\n",
       "</tr>\n",
       "<tr>\n",
       "  <th>Method:</th>                  <td>Least Squares</td>        <th>  F-statistic:       </th> <td>   1.941</td>\n",
       "</tr>\n",
       "<tr>\n",
       "  <th>Date:</th>                  <td>Tue, 11 Aug 2015</td>       <th>  Prob (F-statistic):</th>  <td> 0.122</td> \n",
       "</tr>\n",
       "<tr>\n",
       "  <th>Time:</th>                      <td>10:21:04</td>           <th>  Log-Likelihood:    </th> <td> -247.02</td>\n",
       "</tr>\n",
       "<tr>\n",
       "  <th>No. Observations:</th>           <td>   405</td>            <th>  AIC:               </th> <td>   502.0</td>\n",
       "</tr>\n",
       "<tr>\n",
       "  <th>Df Residuals:</th>               <td>   401</td>            <th>  BIC:               </th> <td>   518.0</td>\n",
       "</tr>\n",
       "<tr>\n",
       "  <th>Df Model:</th>                   <td>     3</td>            <th>                     </th>     <td> </td>   \n",
       "</tr>\n",
       "<tr>\n",
       "  <th>Covariance Type:</th>           <td>nonrobust</td>          <th>                     </th>     <td> </td>   \n",
       "</tr>\n",
       "</table>\n",
       "<table class=\"simpletable\">\n",
       "<tr>\n",
       "         <td></td>            <th>coef</th>     <th>std err</th>      <th>t</th>      <th>P>|t|</th> <th>[95.0% Conf. Int.]</th> \n",
       "</tr>\n",
       "<tr>\n",
       "  <th>Intercept</th>       <td>    0.0306</td> <td>    0.107</td> <td>    0.286</td> <td> 0.775</td> <td>   -0.180     0.242</td>\n",
       "</tr>\n",
       "<tr>\n",
       "  <th>Age</th>             <td>    0.0053</td> <td>    0.003</td> <td>    1.988</td> <td> 0.048</td> <td> 5.86e-05     0.011</td>\n",
       "</tr>\n",
       "<tr>\n",
       "  <th>Race_Factorized</th> <td>    0.0139</td> <td>    0.017</td> <td>    0.837</td> <td> 0.403</td> <td>   -0.019     0.047</td>\n",
       "</tr>\n",
       "<tr>\n",
       "  <th>Juvi_Factorized</th> <td>    0.0706</td> <td>    0.173</td> <td>    0.408</td> <td> 0.684</td> <td>   -0.270     0.411</td>\n",
       "</tr>\n",
       "</table>\n",
       "<table class=\"simpletable\">\n",
       "<tr>\n",
       "  <th>Omnibus:</th>       <td>128.730</td> <th>  Durbin-Watson:     </th> <td>   1.983</td>\n",
       "</tr>\n",
       "<tr>\n",
       "  <th>Prob(Omnibus):</th> <td> 0.000</td>  <th>  Jarque-Bera (JB):  </th> <td>  79.082</td>\n",
       "</tr>\n",
       "<tr>\n",
       "  <th>Skew:</th>          <td> 0.958</td>  <th>  Prob(JB):          </th> <td>6.72e-18</td>\n",
       "</tr>\n",
       "<tr>\n",
       "  <th>Kurtosis:</th>      <td> 1.993</td>  <th>  Cond. No.          </th> <td>    319.</td>\n",
       "</tr>\n",
       "</table>"
      ],
      "text/plain": [
       "<class 'statsmodels.iolib.summary.Summary'>\n",
       "\"\"\"\n",
       "                                 OLS Regression Results                                \n",
       "=======================================================================================\n",
       "Dep. Variable:     Michigan_Logistic_Sentiment   R-squared:                       0.014\n",
       "Model:                                     OLS   Adj. R-squared:                  0.007\n",
       "Method:                          Least Squares   F-statistic:                     1.941\n",
       "Date:                         Tue, 11 Aug 2015   Prob (F-statistic):              0.122\n",
       "Time:                                 10:21:04   Log-Likelihood:                -247.02\n",
       "No. Observations:                          405   AIC:                             502.0\n",
       "Df Residuals:                              401   BIC:                             518.0\n",
       "Df Model:                                    3                                         \n",
       "Covariance Type:                     nonrobust                                         \n",
       "===================================================================================\n",
       "                      coef    std err          t      P>|t|      [95.0% Conf. Int.]\n",
       "-----------------------------------------------------------------------------------\n",
       "Intercept           0.0306      0.107      0.286      0.775        -0.180     0.242\n",
       "Age                 0.0053      0.003      1.988      0.048      5.86e-05     0.011\n",
       "Race_Factorized     0.0139      0.017      0.837      0.403        -0.019     0.047\n",
       "Juvi_Factorized     0.0706      0.173      0.408      0.684        -0.270     0.411\n",
       "==============================================================================\n",
       "Omnibus:                      128.730   Durbin-Watson:                   1.983\n",
       "Prob(Omnibus):                  0.000   Jarque-Bera (JB):               79.082\n",
       "Skew:                           0.958   Prob(JB):                     6.72e-18\n",
       "Kurtosis:                       1.993   Cond. No.                         319.\n",
       "==============================================================================\n",
       "\n",
       "Warnings:\n",
       "[1] Standard Errors assume that the covariance matrix of the errors is correctly specified.\n",
       "\"\"\""
      ]
     },
     "execution_count": 22,
     "metadata": {},
     "output_type": "execute_result"
    }
   ],
   "source": [
    "import statsmodels.formula.api as smf\n",
    "\n",
    "lm = smf.ols(formula='Michigan_Logistic_Sentiment ~ Age + Race_Factorized + Juvi_Factorized', data=lastwords).fit()\n",
    "\n",
    "# print the coefficients\n",
    "lm.summary()"
   ]
  },
  {
   "cell_type": "code",
   "execution_count": 23,
   "metadata": {
    "collapsed": false
   },
   "outputs": [
    {
     "data": {
      "image/png": "[encoded data removed]",
      "text/plain": [
       "<matplotlib.figure.Figure at 0x11360d550>"
      ]
     },
     "metadata": {},
     "output_type": "display_data"
    }
   ],
   "source": [
    "from pandas.tools.plotting import scatter_matrix\n",
    "scat = scatter_matrix(lastwords, figsize = (5,5))"
   ]
  },
  {
   "cell_type": "code",
   "execution_count": 24,
   "metadata": {
    "collapsed": false
   },
   "outputs": [
    {
     "data": {
      "text/plain": [
       "LogisticRegression(C=10.0, class_weight=None, dual=False, fit_intercept=True,\n",
       "          intercept_scaling=1, max_iter=100, multi_class='ovr',\n",
       "          penalty='l2', random_state=None, solver='liblinear', tol=0.0001,\n",
       "          verbose=0)"
      ]
     },
     "execution_count": 24,
     "metadata": {},
     "output_type": "execute_result"
    }
   ],
   "source": [
    "reg=10.\n",
    "x = lastwords['Age'].values\n",
    "Y = lastwords['Michigan_Logistic_Sentiment'].values\n",
    "lr_clf = LogisticRegression(C=reg)\n",
    "lr_clf.fit(x.reshape(-1,1), Y)"
   ]
  },
  {
   "cell_type": "code",
   "execution_count": 26,
   "metadata": {
    "collapsed": false
   },
   "outputs": [
    {
     "data": {
      "text/plain": [
       "[<matplotlib.lines.Line2D at 0x10b4c0c50>]"
      ]
     },
     "execution_count": 26,
     "metadata": {},
     "output_type": "execute_result"
    },
    {
     "data": {
      "image/png": "[encoded data removed]",
      "text/plain": [
       "<matplotlib.figure.Figure at 0x10df47cf8>"
      ]
     },
     "metadata": {},
     "output_type": "display_data"
    }
   ],
   "source": [
    "sentinew=np.linspace(20., 90., 10)\n",
    "fig, axes = plt.subplots(1, 1, figsize=(14, 8))\n",
    "\n",
    "# training data\n",
    "plt.scatter(x, Y, color='aqua', label=\"Training Sentiments\") \n",
    "\n",
    "probs=lr_clf.predict_proba(sentinew.reshape(-1,1))[:,1]\n",
    "predicts=lr_clf.predict(sentinew.reshape(-1,1))\n",
    "\n",
    "# # new test temps, as blue squares\n",
    "plt.plot(sentinew, probs, marker='s', color='green', label=\"Test Senti Probabilities\") "
   ]
  },
  {
   "cell_type": "code",
   "execution_count": 27,
   "metadata": {
    "collapsed": false
   },
   "outputs": [
    {
     "name": "stdout",
     "output_type": "stream",
     "text": [
      "                                  Age  Michigan_Logistic_Sentiment  \\\n",
      "Age                          1.000000                     0.110258   \n",
      "Michigan_Logistic_Sentiment  0.110258                     1.000000   \n",
      "Race_Factorized              0.246957                     0.067704   \n",
      "Juvi_Factorized             -0.168162                     0.001982   \n",
      "Include_Love                -0.139000                    -0.204835   \n",
      "\n",
      "                             Race_Factorized  Juvi_Factorized  Include_Love  \n",
      "Age                                 0.246957        -0.168162     -0.139000  \n",
      "Michigan_Logistic_Sentiment         0.067704         0.001982     -0.204835  \n",
      "Race_Factorized                     1.000000        -0.027800     -0.125351  \n",
      "Juvi_Factorized                    -0.027800         1.000000      0.004893  \n",
      "Include_Love                       -0.125351         0.004893      1.000000  \n"
     ]
    },
    {
     "name": "stderr",
     "output_type": "stream",
     "text": [
      "/Users/melanie/anaconda/lib/python3.4/site-packages/IPython/kernel/__main__.py:7: SettingWithCopyWarning: \n",
      "A value is trying to be set on a copy of a slice from a DataFrame.\n",
      "Try using .loc[row_indexer,col_indexer] = value instead\n",
      "\n",
      "See the the caveats in the documentation: http://pandas.pydata.org/pandas-docs/stable/indexing.html#indexing-view-versus-copy\n"
     ]
    }
   ],
   "source": [
    "def include_love(a):\n",
    "    if len(a.split('love')) > 1:\n",
    "        return 1\n",
    "    else:\n",
    "        return 0\n",
    "    \n",
    "lastwords['Include_Love'] = lastwords.apply(lambda row: include_love(row['Last_Statement']), axis=1)\n",
    "print(lastwords.corr())"
   ]
  },
  {
   "cell_type": "code",
   "execution_count": 28,
   "metadata": {
    "collapsed": false
   },
   "outputs": [
    {
     "name": "stderr",
     "output_type": "stream",
     "text": [
      "/Users/melanie/anaconda/lib/python3.4/site-packages/IPython/kernel/__main__.py:2: SettingWithCopyWarning: \n",
      "A value is trying to be set on a copy of a slice from a DataFrame.\n",
      "Try using .loc[row_indexer,col_indexer] = value instead\n",
      "\n",
      "See the the caveats in the documentation: http://pandas.pydata.org/pandas-docs/stable/indexing.html#indexing-view-versus-copy\n",
      "  from IPython.kernel.zmq import kernelapp as app\n",
      "/Users/melanie/anaconda/lib/python3.4/site-packages/IPython/kernel/__main__.py:3: SettingWithCopyWarning: \n",
      "A value is trying to be set on a copy of a slice from a DataFrame.\n",
      "Try using .loc[row_indexer,col_indexer] = value instead\n",
      "\n",
      "See the the caveats in the documentation: http://pandas.pydata.org/pandas-docs/stable/indexing.html#indexing-view-versus-copy\n",
      "  app.launch_new_instance()\n",
      "/Users/melanie/anaconda/lib/python3.4/site-packages/IPython/kernel/__main__.py:4: SettingWithCopyWarning: \n",
      "A value is trying to be set on a copy of a slice from a DataFrame.\n",
      "Try using .loc[row_indexer,col_indexer] = value instead\n",
      "\n",
      "See the the caveats in the documentation: http://pandas.pydata.org/pandas-docs/stable/indexing.html#indexing-view-versus-copy\n",
      "/Users/melanie/anaconda/lib/python3.4/site-packages/IPython/kernel/__main__.py:5: SettingWithCopyWarning: \n",
      "A value is trying to be set on a copy of a slice from a DataFrame.\n",
      "Try using .loc[row_indexer,col_indexer] = value instead\n",
      "\n",
      "See the the caveats in the documentation: http://pandas.pydata.org/pandas-docs/stable/indexing.html#indexing-view-versus-copy\n"
     ]
    },
    {
     "name": "stdout",
     "output_type": "stream",
     "text": [
      "                                  Age  Juvenile  Federal  Volunteer  \\\n",
      "Age                          1.000000 -0.168162      NaN  -0.011290   \n",
      "Juvenile                    -0.168162  1.000000      NaN   0.060174   \n",
      "Federal                           NaN       NaN      NaN        NaN   \n",
      "Volunteer                   -0.011290  0.060174      NaN   1.000000   \n",
      "Foreign National            -0.073374 -0.019993      NaN  -0.033447   \n",
      "Michigan_Logistic_Sentiment  0.110258  0.001982      NaN   0.018192   \n",
      "Race_Factorized              0.246957 -0.027800      NaN   0.135823   \n",
      "Juvi_Factorized             -0.168162  1.000000      NaN   0.060174   \n",
      "Include_Love                -0.139000  0.004893      NaN  -0.082406   \n",
      "\n",
      "                             Foreign National  Michigan_Logistic_Sentiment  \\\n",
      "Age                                 -0.073374                     0.110258   \n",
      "Juvenile                            -0.019993                     0.001982   \n",
      "Federal                                   NaN                          NaN   \n",
      "Volunteer                           -0.033447                     0.018192   \n",
      "Foreign National                     1.000000                    -0.056435   \n",
      "Michigan_Logistic_Sentiment         -0.056435                     1.000000   \n",
      "Race_Factorized                     -0.062781                     0.067704   \n",
      "Juvi_Factorized                     -0.019993                     0.001982   \n",
      "Include_Love                        -0.032943                    -0.204835   \n",
      "\n",
      "                             Race_Factorized  Juvi_Factorized  Include_Love  \n",
      "Age                                 0.246957        -0.168162     -0.139000  \n",
      "Juvenile                           -0.027800         1.000000      0.004893  \n",
      "Federal                                  NaN              NaN           NaN  \n",
      "Volunteer                           0.135823         0.060174     -0.082406  \n",
      "Foreign National                   -0.062781        -0.019993     -0.032943  \n",
      "Michigan_Logistic_Sentiment         0.067704         0.001982     -0.204835  \n",
      "Race_Factorized                     1.000000        -0.027800     -0.125351  \n",
      "Juvi_Factorized                    -0.027800         1.000000      0.004893  \n",
      "Include_Love                       -0.125351         0.004893      1.000000  \n"
     ]
    }
   ],
   "source": [
    "d = {'Yes': 1, 'No': 0}\n",
    "lastwords['Federal'] = lastwords['Federal'].map(d)\n",
    "lastwords['Volunteer'] = lastwords['Volunteer'].map(d)\n",
    "lastwords['Juvenile'] = lastwords['Juvenile'].map(d)\n",
    "lastwords['Foreign National'] = lastwords['Foreign National'].map(d)\n",
    "print(lastwords.corr())"
   ]
  },
  {
   "cell_type": "code",
   "execution_count": 676,
   "metadata": {
    "collapsed": false
   },
   "outputs": [
    {
     "name": "stdout",
     "output_type": "stream",
     "text": [
      "         Date             Name  Age Sex    Race  \\\n",
      "0  01/10/1986      James Roach   25   m   White   \n",
      "1  01/11/1985      Joseph Shaw   29   m   White   \n",
      "2  01/08/1997        Paul Ruiz   49   m  Latino   \n",
      "3  01/08/1997  Earl Van Denton   47   m   White   \n",
      "4  01/06/1994      Keith Wells   31   m   White   \n",
      "\n",
      "     Number / Race / Sex of Victims State Region            Method Juvenile  \\\n",
      "0  1 White Male(s)1 White Female(s)    SC      S     Electrocution      Yes   \n",
      "1  1 White Male(s)1 White Female(s)    SC      S     Electrocution       No   \n",
      "2                   2 White Male(s)    AR      S  Lethal Injection       No   \n",
      "3                   2 White Male(s)    AR      S  Lethal Injection       No   \n",
      "4  1 White Male(s)1 White Female(s)    ID      W  Lethal Injection       No   \n",
      "\n",
      "  Federal Volunteer Foreign National    County Last_Statement  \n",
      "0      No        No               No  Richland            NaN  \n",
      "1      No        No               No  Richland            NaN  \n",
      "2      No        No               No     Logan            NaN  \n",
      "3      No        No               No    Nevada            NaN  \n",
      "4      No       Yes               No       Ada            NaN  \n"
     ]
    }
   ],
   "source": [
    "d = {'Yes': 1, 'No': 0}\n",
    "print(executions.head())"
   ]
  },
  {
   "cell_type": "code",
   "execution_count": 677,
   "metadata": {
    "collapsed": false
   },
   "outputs": [
    {
     "name": "stdout",
     "output_type": "stream",
     "text": [
      "         Date             Name  Age Sex    Race  \\\n",
      "0  01/10/1986      James Roach   25   m   White   \n",
      "1  01/11/1985      Joseph Shaw   29   m   White   \n",
      "2  01/08/1997        Paul Ruiz   49   m  Latino   \n",
      "3  01/08/1997  Earl Van Denton   47   m   White   \n",
      "4  01/06/1994      Keith Wells   31   m   White   \n",
      "\n",
      "     Number / Race / Sex of Victims State Region            Method  Juvenile  \\\n",
      "0  1 White Male(s)1 White Female(s)    SC      S     Electrocution         1   \n",
      "1  1 White Male(s)1 White Female(s)    SC      S     Electrocution         0   \n",
      "2                   2 White Male(s)    AR      S  Lethal Injection         0   \n",
      "3                   2 White Male(s)    AR      S  Lethal Injection         0   \n",
      "4  1 White Male(s)1 White Female(s)    ID      W  Lethal Injection         0   \n",
      "\n",
      "   Federal  Volunteer  Foreign National    County Last_Statement  \n",
      "0        0          0                 0  Richland            NaN  \n",
      "1        0          0                 0  Richland            NaN  \n",
      "2        0          0                 0     Logan            NaN  \n",
      "3        0          0                 0    Nevada            NaN  \n",
      "4        0          1                 0       Ada            NaN  \n"
     ]
    }
   ],
   "source": [
    "executions['Federal'] = executions['Federal'].map(d)\n",
    "executions['Volunteer'] = executions['Volunteer'].map(d)\n",
    "executions['Juvenile'] = executions['Juvenile'].map(d)\n",
    "executions['Foreign National'] = executions['Foreign National'].map(d)\n",
    "print(executions.head())"
   ]
  },
  {
   "cell_type": "code",
   "execution_count": 678,
   "metadata": {
    "collapsed": false
   },
   "outputs": [
    {
     "data": {
      "text/html": [
       "<div>\n",
       "<table border=\"1\" class=\"dataframe\">\n",
       "  <thead>\n",
       "    <tr style=\"text-align: right;\">\n",
       "      <th></th>\n",
       "      <th>Age</th>\n",
       "      <th>Juvenile</th>\n",
       "      <th>Federal</th>\n",
       "      <th>Volunteer</th>\n",
       "      <th>Foreign National</th>\n",
       "    </tr>\n",
       "  </thead>\n",
       "  <tbody>\n",
       "    <tr>\n",
       "      <th>count</th>\n",
       "      <td>1407.000000</td>\n",
       "      <td>1407.000000</td>\n",
       "      <td>1407.000000</td>\n",
       "      <td>1407.000000</td>\n",
       "      <td>1407.000000</td>\n",
       "    </tr>\n",
       "    <tr>\n",
       "      <th>mean</th>\n",
       "      <td>41.356787</td>\n",
       "      <td>0.015636</td>\n",
       "      <td>0.002132</td>\n",
       "      <td>0.100924</td>\n",
       "      <td>0.024876</td>\n",
       "    </tr>\n",
       "    <tr>\n",
       "      <th>std</th>\n",
       "      <td>9.415526</td>\n",
       "      <td>0.124107</td>\n",
       "      <td>0.046143</td>\n",
       "      <td>0.301335</td>\n",
       "      <td>0.155801</td>\n",
       "    </tr>\n",
       "    <tr>\n",
       "      <th>min</th>\n",
       "      <td>22.000000</td>\n",
       "      <td>0.000000</td>\n",
       "      <td>0.000000</td>\n",
       "      <td>0.000000</td>\n",
       "      <td>0.000000</td>\n",
       "    </tr>\n",
       "    <tr>\n",
       "      <th>25%</th>\n",
       "      <td>34.000000</td>\n",
       "      <td>0.000000</td>\n",
       "      <td>0.000000</td>\n",
       "      <td>0.000000</td>\n",
       "      <td>0.000000</td>\n",
       "    </tr>\n",
       "    <tr>\n",
       "      <th>50%</th>\n",
       "      <td>40.000000</td>\n",
       "      <td>0.000000</td>\n",
       "      <td>0.000000</td>\n",
       "      <td>0.000000</td>\n",
       "      <td>0.000000</td>\n",
       "    </tr>\n",
       "    <tr>\n",
       "      <th>75%</th>\n",
       "      <td>47.000000</td>\n",
       "      <td>0.000000</td>\n",
       "      <td>0.000000</td>\n",
       "      <td>0.000000</td>\n",
       "      <td>0.000000</td>\n",
       "    </tr>\n",
       "    <tr>\n",
       "      <th>max</th>\n",
       "      <td>77.000000</td>\n",
       "      <td>1.000000</td>\n",
       "      <td>1.000000</td>\n",
       "      <td>1.000000</td>\n",
       "      <td>1.000000</td>\n",
       "    </tr>\n",
       "  </tbody>\n",
       "</table>\n",
       "</div>"
      ],
      "text/plain": [
       "               Age     Juvenile      Federal    Volunteer  Foreign National\n",
       "count  1407.000000  1407.000000  1407.000000  1407.000000       1407.000000\n",
       "mean     41.356787     0.015636     0.002132     0.100924          0.024876\n",
       "std       9.415526     0.124107     0.046143     0.301335          0.155801\n",
       "min      22.000000     0.000000     0.000000     0.000000          0.000000\n",
       "25%      34.000000     0.000000     0.000000     0.000000          0.000000\n",
       "50%      40.000000     0.000000     0.000000     0.000000          0.000000\n",
       "75%      47.000000     0.000000     0.000000     0.000000          0.000000\n",
       "max      77.000000     1.000000     1.000000     1.000000          1.000000"
      ]
     },
     "execution_count": 678,
     "metadata": {},
     "output_type": "execute_result"
    }
   ],
   "source": [
    "executions.describe()"
   ]
  },
  {
   "cell_type": "code",
   "execution_count": 679,
   "metadata": {
    "collapsed": false
   },
   "outputs": [
    {
     "data": {
      "text/html": [
       "<div>\n",
       "<table border=\"1\" class=\"dataframe\">\n",
       "  <thead>\n",
       "    <tr style=\"text-align: right;\">\n",
       "      <th></th>\n",
       "      <th>Age</th>\n",
       "      <th>Juvenile</th>\n",
       "      <th>Federal</th>\n",
       "      <th>Volunteer</th>\n",
       "      <th>Foreign National</th>\n",
       "    </tr>\n",
       "  </thead>\n",
       "  <tbody>\n",
       "    <tr>\n",
       "      <th>Age</th>\n",
       "      <td>1.000000</td>\n",
       "      <td>-0.168507</td>\n",
       "      <td>0.009707</td>\n",
       "      <td>-0.060831</td>\n",
       "      <td>-0.034660</td>\n",
       "    </tr>\n",
       "    <tr>\n",
       "      <th>Juvenile</th>\n",
       "      <td>-0.168507</td>\n",
       "      <td>1.000000</td>\n",
       "      <td>-0.005826</td>\n",
       "      <td>-0.023208</td>\n",
       "      <td>-0.020130</td>\n",
       "    </tr>\n",
       "    <tr>\n",
       "      <th>Federal</th>\n",
       "      <td>0.009707</td>\n",
       "      <td>-0.005826</td>\n",
       "      <td>1.000000</td>\n",
       "      <td>0.035664</td>\n",
       "      <td>-0.007383</td>\n",
       "    </tr>\n",
       "    <tr>\n",
       "      <th>Volunteer</th>\n",
       "      <td>-0.060831</td>\n",
       "      <td>-0.023208</td>\n",
       "      <td>0.035664</td>\n",
       "      <td>1.000000</td>\n",
       "      <td>-0.008065</td>\n",
       "    </tr>\n",
       "    <tr>\n",
       "      <th>Foreign National</th>\n",
       "      <td>-0.034660</td>\n",
       "      <td>-0.020130</td>\n",
       "      <td>-0.007383</td>\n",
       "      <td>-0.008065</td>\n",
       "      <td>1.000000</td>\n",
       "    </tr>\n",
       "  </tbody>\n",
       "</table>\n",
       "</div>"
      ],
      "text/plain": [
       "                       Age  Juvenile   Federal  Volunteer  Foreign National\n",
       "Age               1.000000 -0.168507  0.009707  -0.060831         -0.034660\n",
       "Juvenile         -0.168507  1.000000 -0.005826  -0.023208         -0.020130\n",
       "Federal           0.009707 -0.005826  1.000000   0.035664         -0.007383\n",
       "Volunteer        -0.060831 -0.023208  0.035664   1.000000         -0.008065\n",
       "Foreign National -0.034660 -0.020130 -0.007383  -0.008065          1.000000"
      ]
     },
     "execution_count": 679,
     "metadata": {},
     "output_type": "execute_result"
    }
   ],
   "source": [
    "executions.corr()"
   ]
  },
  {
   "cell_type": "code",
   "execution_count": 680,
   "metadata": {
    "collapsed": false,
    "scrolled": true
   },
   "outputs": [
    {
     "name": "stdout",
     "output_type": "stream",
     "text": [
      "                       Age  Juvenile   Federal  Volunteer  Foreign National  \\\n",
      "Age               1.000000 -0.168507  0.009707  -0.060831         -0.034660   \n",
      "Juvenile         -0.168507  1.000000 -0.005826  -0.023208         -0.020130   \n",
      "Federal           0.009707 -0.005826  1.000000   0.035664         -0.007383   \n",
      "Volunteer        -0.060831 -0.023208  0.035664   1.000000         -0.008065   \n",
      "Foreign National -0.034660 -0.020130 -0.007383  -0.008065          1.000000   \n",
      "Asian            -0.024498 -0.008248 -0.003025   0.014283          0.269670   \n",
      "Black            -0.147101  0.040765 -0.001243  -0.209047         -0.097021   \n",
      "Latino           -0.087609 -0.016165  0.043035  -0.003511          0.322203   \n",
      "Native American   0.019436 -0.013517 -0.004958   0.008572         -0.017130   \n",
      "Other             0.016608 -0.004755 -0.001744  -0.012641          0.236222   \n",
      "White             0.186598 -0.025866 -0.020765   0.199360         -0.132986   \n",
      "\n",
      "                     Asian     Black    Latino  Native American     Other  \\\n",
      "Age              -0.024498 -0.147101 -0.087609         0.019436  0.016608   \n",
      "Juvenile         -0.008248  0.040765 -0.016165        -0.013517 -0.004755   \n",
      "Federal          -0.003025 -0.001243  0.043035        -0.004958 -0.001744   \n",
      "Volunteer         0.014283 -0.209047 -0.003511         0.008572 -0.012641   \n",
      "Foreign National  0.269670 -0.097021  0.322203        -0.017130  0.236222   \n",
      "Asian             1.000000 -0.047613 -0.019339        -0.007019 -0.002469   \n",
      "Black            -0.047613  1.000000 -0.215002        -0.078031 -0.027450   \n",
      "Latino           -0.019339 -0.215002  1.000000        -0.031693 -0.011149   \n",
      "Native American  -0.007019 -0.078031 -0.031693         1.000000 -0.004046   \n",
      "Other            -0.002469 -0.027450 -0.011149        -0.004046  1.000000   \n",
      "White            -0.073307 -0.815003 -0.331025        -0.120139 -0.042263   \n",
      "\n",
      "                     White  \n",
      "Age               0.186598  \n",
      "Juvenile         -0.025866  \n",
      "Federal          -0.020765  \n",
      "Volunteer         0.199360  \n",
      "Foreign National -0.132986  \n",
      "Asian            -0.073307  \n",
      "Black            -0.815003  \n",
      "Latino           -0.331025  \n",
      "Native American  -0.120139  \n",
      "Other            -0.042263  \n",
      "White             1.000000  \n"
     ]
    }
   ],
   "source": [
    "dummies = pd.get_dummies(executions['Race'])\n",
    "executions = executions.join(dummies)\n",
    "print(executions.corr())"
   ]
  },
  {
   "cell_type": "code",
   "execution_count": 681,
   "metadata": {
    "collapsed": false
   },
   "outputs": [],
   "source": [
    "executions['Race_Factorized'] = pd.Categorical.from_array(executions['Race']).codes"
   ]
  },
  {
   "cell_type": "code",
   "execution_count": 682,
   "metadata": {
    "collapsed": false
   },
   "outputs": [
    {
     "data": {
      "text/plain": [
       "<matplotlib.collections.PathCollection at 0x118819d30>"
      ]
     },
     "execution_count": 682,
     "metadata": {},
     "output_type": "execute_result"
    },
    {
     "data": {
      "image/png": "[encoded data removed]",
      "text/plain": [
       "<matplotlib.figure.Figure at 0x1187a7748>"
      ]
     },
     "metadata": {},
     "output_type": "display_data"
    }
   ],
   "source": [
    "age = executions['Age']\n",
    "race = executions['Race_Factorized']\n",
    "fig, axes = plt.subplots(1, 1, figsize=(14, 8))\n",
    "\n",
    "# training data\n",
    "plt.scatter(age, race, s=40, color='aqua', label=\"Age v Race\")"
   ]
  },
  {
   "cell_type": "code",
   "execution_count": 683,
   "metadata": {
    "collapsed": false
   },
   "outputs": [
    {
     "name": "stdout",
     "output_type": "stream",
     "text": [
      "2\n",
      "[White, White, Latino, White, White, ..., White, Latino, White, White, Black]\n",
      "Name: Race, Length: 1407\n",
      "Categories (6, object): [Asian, Black, Latino, Native American, Other, White]\n"
     ]
    }
   ],
   "source": [
    "print(len(executions[executions['Race'] == \"Other\"]))\n",
    "print(pd.Categorical.from_array(executions['Race']))"
   ]
  },
  {
   "cell_type": "code",
   "execution_count": 684,
   "metadata": {
    "collapsed": false
   },
   "outputs": [
    {
     "name": "stdout",
     "output_type": "stream",
     "text": [
      "One-way ANOVA P = 1.92202541053e-10\n"
     ]
    }
   ],
   "source": [
    "# anova of race and age\n",
    "\n",
    "Asian = executions[executions['Race'] == \"Asian\"]['Age']\n",
    "Black = executions[executions['Race'] == \"Black\"]['Age']\n",
    "Latino = executions[executions['Race'] == \"Latino\"]['Age']\n",
    "Native_American = executions[executions['Race'] == \"Native American\"]['Age']\n",
    "Other =  executions[executions['Race'] == \"Other\"]['Age']\n",
    "White =  executions[executions['Race'] == \"White\"]['Age']\n",
    "\n",
    "from scipy import stats  \n",
    "      \n",
    "f_val, p_val = stats.f_oneway(Asian, Black, Latino, Native_American, Other, White)  \n",
    "  \n",
    "print(\"One-way ANOVA P =\", p_val) "
   ]
  },
  {
   "cell_type": "code",
   "execution_count": 685,
   "metadata": {
    "collapsed": false
   },
   "outputs": [
    {
     "name": "stdout",
     "output_type": "stream",
     "text": [
      "One-way ANOVA P = 0.640791948763\n"
     ]
    }
   ],
   "source": [
    "f_val, p_val = stats.f_oneway(Asian, Black)  \n",
    "  \n",
    "print(\"One-way ANOVA P =\", p_val) "
   ]
  },
  {
   "cell_type": "code",
   "execution_count": 686,
   "metadata": {
    "collapsed": false
   },
   "outputs": [
    {
     "name": "stdout",
     "output_type": "stream",
     "text": [
      "One-way ANOVA P = 0.312398707842\n"
     ]
    }
   ],
   "source": [
    "f_val, p_val = stats.f_oneway(Black, Latino)\n",
    "print(\"One-way ANOVA P =\", p_val) "
   ]
  },
  {
   "cell_type": "code",
   "execution_count": 687,
   "metadata": {
    "collapsed": false
   },
   "outputs": [
    {
     "name": "stdout",
     "output_type": "stream",
     "text": [
      "One-way ANOVA P = 0.237308556149\n"
     ]
    }
   ],
   "source": [
    "f_val, p_val = stats.f_oneway(Asian, Black, Latino, Native_American)  \n",
    "  \n",
    "print(\"One-way ANOVA P =\", p_val) "
   ]
  },
  {
   "cell_type": "code",
   "execution_count": 688,
   "metadata": {
    "collapsed": false
   },
   "outputs": [
    {
     "name": "stdout",
     "output_type": "stream",
     "text": [
      "One-way ANOVA P = 0.261985008185\n"
     ]
    }
   ],
   "source": [
    "f_val, p_val = stats.f_oneway(Asian, Black, Latino, Native_American, Other)  \n",
    "  \n",
    "print(\"One-way ANOVA P =\", p_val) "
   ]
  },
  {
   "cell_type": "code",
   "execution_count": 689,
   "metadata": {
    "collapsed": false
   },
   "outputs": [
    {
     "name": "stdout",
     "output_type": "stream",
     "text": [
      "One-way ANOVA P = 0.203785491441\n"
     ]
    }
   ],
   "source": [
    "f_val, p_val = stats.f_oneway(Asian, White)  \n",
    "  \n",
    "print(\"One-way ANOVA P =\", p_val) "
   ]
  },
  {
   "cell_type": "code",
   "execution_count": 690,
   "metadata": {
    "collapsed": false
   },
   "outputs": [
    {
     "name": "stdout",
     "output_type": "stream",
     "text": [
      "One-way ANOVA P = 1.43146891569e-10\n"
     ]
    }
   ],
   "source": [
    "f_val, p_val = stats.f_oneway(Black, White)  \n",
    "  \n",
    "print(\"One-way ANOVA P =\", p_val) "
   ]
  },
  {
   "cell_type": "code",
   "execution_count": 691,
   "metadata": {
    "collapsed": false
   },
   "outputs": [
    {
     "name": "stdout",
     "output_type": "stream",
     "text": [
      "One-way ANOVA P = 7.20158350934e-06\n"
     ]
    }
   ],
   "source": [
    "f_val, p_val = stats.f_oneway(Latino, White)  \n",
    "  \n",
    "print(\"One-way ANOVA P =\", p_val) "
   ]
  },
  {
   "cell_type": "code",
   "execution_count": 692,
   "metadata": {
    "collapsed": false
   },
   "outputs": [
    {
     "name": "stdout",
     "output_type": "stream",
     "text": [
      "One-way ANOVA P = 0.710199306135\n"
     ]
    }
   ],
   "source": [
    "f_val, p_val = stats.f_oneway(Other, White)  \n",
    "  \n",
    "print(\"One-way ANOVA P =\", p_val) "
   ]
  },
  {
   "cell_type": "code",
   "execution_count": 693,
   "metadata": {
    "collapsed": false
   },
   "outputs": [
    {
     "name": "stdout",
     "output_type": "stream",
     "text": [
      "One-way ANOVA P = 0.357647667317\n"
     ]
    }
   ],
   "source": [
    "f_val, p_val = stats.f_oneway(Asian, Native_American)  \n",
    "  \n",
    "print(\"One-way ANOVA P =\", p_val) "
   ]
  },
  {
   "cell_type": "code",
   "execution_count": 694,
   "metadata": {
    "collapsed": false
   },
   "outputs": [
    {
     "name": "stdout",
     "output_type": "stream",
     "text": [
      "One-way ANOVA P = 0.955820990172\n"
     ]
    }
   ],
   "source": [
    "f_val, p_val = stats.f_oneway(Native_American, White)  \n",
    "  \n",
    "print(\"One-way ANOVA P =\", p_val) "
   ]
  },
  {
   "cell_type": "code",
   "execution_count": 695,
   "metadata": {
    "collapsed": false
   },
   "outputs": [
    {
     "data": {
      "text/plain": [
       "<matplotlib.text.Text at 0x1290040f0>"
      ]
     },
     "execution_count": 695,
     "metadata": {},
     "output_type": "execute_result"
    },
    {
     "data": {
      "image/png": "[encoded data removed]",
      "text/plain": [
       "<matplotlib.figure.Figure at 0x128e467b8>"
      ]
     },
     "metadata": {},
     "output_type": "display_data"
    }
   ],
   "source": [
    "fig, axes = plt.subplots(1,1, figsize=(12, 8))\n",
    "axes.set_ylim((0, 80))\n",
    "axes.boxplot([executions['Age'][executions['Race'] == 'White'], executions['Age'][executions['Race'] == 'Latino'], executions['Age'][executions['Race'] == 'Black'], executions['Age'][executions['Race'] == 'Native American'], executions['Age'][executions['Race'] == 'Asian']], showmeans=True)\n",
    "axes.set_xticklabels(('White', 'Latino', 'Black', 'Native American', 'Asian'))\n",
    "axes.set_ylabel('Age')\n",
    "\n",
    "#statistically sign different distribution in age with whites being older and latinos/ blacks being younger"
   ]
  },
  {
   "cell_type": "code",
   "execution_count": 697,
   "metadata": {
    "collapsed": false
   },
   "outputs": [
    {
     "data": {
      "text/plain": [
       "<matplotlib.text.Text at 0x12925c0b8>"
      ]
     },
     "execution_count": 697,
     "metadata": {},
     "output_type": "execute_result"
    },
    {
     "data": {
      "image/png": "[encoded data removed]",
      "text/plain": [
       "<matplotlib.figure.Figure at 0x129412be0>"
      ]
     },
     "metadata": {},
     "output_type": "display_data"
    }
   ],
   "source": [
    "fig, axes = plt.subplots(1,1, figsize=(12, 8))\n",
    "axes.set_ylim((0, 80))\n",
    "axes.boxplot([executions['Age'][executions['Volunteer'] == 0], executions['Age'][executions['Volunteer'] == 1]], showmeans=True)\n",
    "axes.set_xticklabels(('Not Volunteer', 'Volunteer'))\n",
    "axes.set_ylabel('Age')"
   ]
  },
  {
   "cell_type": "code",
   "execution_count": 698,
   "metadata": {
    "collapsed": false
   },
   "outputs": [
    {
     "name": "stdout",
     "output_type": "stream",
     "text": [
      "One-way ANOVA P = 0.0224976973518\n"
     ]
    }
   ],
   "source": [
    "#volunteers are actually a little younger\n",
    "Volunteer = executions[executions['Volunteer'] == 1]['Age']\n",
    "Not_Volunteer = executions[executions['Volunteer'] == 0]['Age']\n",
    "\n",
    "from scipy import stats  \n",
    "      \n",
    "f_val, p_val = stats.f_oneway(Volunteer, Not_Volunteer)  \n",
    "  \n",
    "print(\"One-way ANOVA P =\", p_val) "
   ]
  },
  {
   "cell_type": "code",
   "execution_count": 54,
   "metadata": {
    "collapsed": false
   },
   "outputs": [
    {
     "data": {
      "text/plain": [
       "<matplotlib.text.Text at 0x113d5fd30>"
      ]
     },
     "execution_count": 54,
     "metadata": {},
     "output_type": "execute_result"
    },
    {
     "data": {
      "image/png": "[encoded data removed]",
      "text/plain": [
       "<matplotlib.figure.Figure at 0x10dad1198>"
      ]
     },
     "metadata": {},
     "output_type": "display_data"
    }
   ],
   "source": [
    "fig, axes = plt.subplots(1,1, figsize=(12, 8))\n",
    "axes.set_ylim((0, 80))\n",
    "axes.boxplot([executions['Age'][executions['Volunteer'] == 1], executions['Age'][executions['Volunteer'] == 0]], showmeans=True)\n",
    "axes.set_xticklabels(('Volunteer', 'Not'))\n",
    "axes.set_ylabel('Age')"
   ]
  },
  {
   "cell_type": "code",
   "execution_count": 55,
   "metadata": {
    "collapsed": false
   },
   "outputs": [
    {
     "name": "stdout",
     "output_type": "stream",
     "text": [
      "['James', 'Joseph', 'Paul']\n"
     ]
    }
   ],
   "source": [
    "name_list = []\n",
    "\n",
    "for name in executions['Name']:\n",
    "    name_list.append(name.split(' ')[0])\n",
    "\n",
    "print(name_list[:3])"
   ]
  },
  {
   "cell_type": "code",
   "execution_count": 93,
   "metadata": {
    "collapsed": false
   },
   "outputs": [
    {
     "name": "stdout",
     "output_type": "stream",
     "text": [
      "       name  births\n",
      "0     Aaron       3\n",
      "1  Abdullah       1\n",
      "2    Adolph       1\n",
      "3    Adremy       1\n",
      "4    Aileen       1\n",
      "            name  births\n",
      "357       Robert      62\n",
      "227         John      59\n",
      "199        James      54\n",
      "310      Michael      44\n",
      "98         David      39\n",
      "431      William      35\n",
      "351      Richard      32\n",
      "248      Kenneth      20\n",
      "258        Larry      20\n",
      "235       Joseph      20\n",
      "59       Charles      18\n",
      "366       Ronald      17\n",
      "402       Thomas      17\n",
      "116       Donald      16\n",
      "165       George      15\n",
      "129       Edward      14\n",
      "209      Jeffrey      14\n",
      "432       Willie      14\n",
      "20       Anthony      13\n",
      "231       Johnny      13\n",
      "403      Timothy      12\n",
      "162         Gary      12\n",
      "390      Stephen      11\n",
      "87        Daniel      11\n",
      "17        Andrew      10\n",
      "39         Bobby      10\n",
      "38         Billy      10\n",
      "295         Mark      10\n",
      "126         Earl      10\n",
      "332         Paul      10\n",
      "23        Arthur       9\n",
      "155        Frank       9\n",
      "215        Jerry       9\n",
      "251        Kevin       9\n",
      "63   Christopher       9\n",
      "422       Walter       8\n",
      "393       Steven       8\n",
      "400        Terry       8\n",
      "234         Jose       8\n",
      "166       Gerald       8\n",
      "370          Roy       7\n",
      "378       Samuel       7\n",
      "144         Eric       7\n",
      "104       Dennis       7\n",
      "353        Ricky       7\n",
      "347      Raymond       6\n",
      "224        Jimmy       6\n",
      "50          Carl       6\n",
      "108      Derrick       6\n",
      "181        Henry       6\n",
      "145       Ernest       6\n",
      "120      Douglas       6\n",
      "174      Gregory       6\n"
     ]
    }
   ],
   "source": [
    "name_token_list = name_list\n",
    "\n",
    "dfn = Counter()\n",
    "\n",
    "# count word occurences\n",
    "for w in name_token_list:\n",
    "    dfn[w] +=1\n",
    "\n",
    "# convert to format for word cloud\n",
    "word_frequency = {}\n",
    "\n",
    "for word in dfn.most_common():\n",
    "    word_frequency[word[0]] = word[1]\n",
    "\n",
    "name_executed_frequency = pd.Series(word_frequency)\n",
    "name_executed_frequency = name_executed_frequency.reset_index()\n",
    "name_executed_frequency.rename(columns={'index': 'name', 0: 'births'}, inplace=True)\n",
    "print(name_executed_frequency.head())\n",
    "\n",
    "most_common = name_executed_frequency.sort(['births'], ascending=[0])\n",
    "print(most_common[:53])"
   ]
  },
  {
   "cell_type": "code",
   "execution_count": 94,
   "metadata": {
    "collapsed": false
   },
   "outputs": [
    {
     "name": "stdout",
     "output_type": "stream",
     "text": [
      "['Robert', 'John', 'James', 'Michael', 'David', 'William', 'Richard', 'Kenneth', 'Larry', 'Joseph', 'Charles', 'Ronald', 'Thomas', 'Donald', 'George', 'Edward', 'Jeffrey', 'Willie', 'Anthony', 'Johnny', 'Timothy', 'Gary', 'Stephen', 'Daniel', 'Andrew', 'Bobby', 'Billy', 'Mark', 'Earl', 'Paul', 'Arthur', 'Frank', 'Jerry', 'Kevin', 'Christopher', 'Walter', 'Steven', 'Terry', 'Jose', 'Gerald', 'Roy', 'Samuel', 'Eric', 'Dennis', 'Ricky', 'Raymond', 'Jimmy', 'Carl', 'Derrick', 'Henry', 'Ernest', 'Douglas', 'Gregory']\n"
     ]
    }
   ],
   "source": [
    "top_50_executed = list(most_common[:53]['name'])\n",
    "print(top_50_executed)"
   ]
  },
  {
   "cell_type": "code",
   "execution_count": 706,
   "metadata": {
    "collapsed": false
   },
   "outputs": [
    {
     "name": "stdout",
     "output_type": "stream",
     "text": [
      "       name sex  births\n",
      "0      Mary   F   67375\n",
      "1     Helen   F   36152\n",
      "2   Dorothy   F   32031\n",
      "3  Margaret   F   27136\n",
      "4      Ruth   F   25538\n",
      "         name  births\n",
      "5586     John   56562\n",
      "5587  William   45296\n",
      "5588    James   42132\n",
      "5589   Robert   40635\n",
      "5590  Charles   26930\n"
     ]
    }
   ],
   "source": [
    "# initialize variables\n",
    "all_names = None # main dataframe\n",
    "names_year_list = [] # empty list\n",
    " \n",
    "# the years range in the data to match range of birth year of executed\n",
    "years_range = range(1918, 1988)\n",
    " \n",
    "# a list of the headers of the dataframe we are about to build\n",
    "cols = ['name', 'sex', 'births']\n",
    " \n",
    "# loop through the files\n",
    "for year in years_range:\n",
    "\n",
    "    file_path = 'names/yob%d.txt' % year\n",
    "\n",
    "    # read the current file into a dataframe\n",
    "    names_year = pd.read_csv(file_path, names=cols)\n",
    "\n",
    "\n",
    "    # add this dataframe to the list we created above\n",
    "    names_year_list.append(names_year)\n",
    " \n",
    "    # concatenate the dataframe in the list into one dataframe\n",
    "    all_names = pd.concat(names_year_list, ignore_index=True)\n",
    "print(all_names.head())\n",
    "\n",
    "all_male_names = all_names[all_names['sex'] == 'M']\n",
    "all_male_names = all_male_names.drop('sex', 1)\n",
    "print(all_male_names.head())"
   ]
  },
  {
   "cell_type": "code",
   "execution_count": 707,
   "metadata": {
    "collapsed": false
   },
   "outputs": [
    {
     "name": "stdout",
     "output_type": "stream",
     "text": [
      "     name  births\n",
      "0   Aadam       5\n",
      "1   Aadil       6\n",
      "2  Aakash      55\n",
      "3   Aalok       5\n",
      "4   Aalon       5\n"
     ]
    }
   ],
   "source": [
    "name_grouped = all_male_names.groupby('name').sum()\n",
    "name_grouped = name_grouped.reset_index()\n",
    "print(name_grouped.head())\n",
    "# name_grouped = name_grouped.reset_index()"
   ]
  },
  {
   "cell_type": "code",
   "execution_count": 708,
   "metadata": {
    "collapsed": false
   },
   "outputs": [
    {
     "name": "stdout",
     "output_type": "stream",
     "text": [
      "1407\n",
      "Robert Executed 357    0.044065\n",
      "Name: births, dtype: float64\n",
      "15648    4144820\n",
      "Name: births, dtype: int64\n",
      "Robert Not Executed 15648    0.038043\n",
      "Name: births, dtype: float64\n"
     ]
    }
   ],
   "source": [
    "#total births \n",
    "print(sum(name_executed_frequency['births']))\n",
    "percent_robert = (name_executed_frequency[name_executed_frequency['name'] == 'Robert']['births'])/(sum(name_executed_frequency['births']))\n",
    "print('Robert Executed', percent_robert)\n",
    "\n",
    "percent_robert_overall = (name_grouped[name_grouped['name'] == 'Robert']['births'])/(sum(name_grouped['births']))\n",
    "print(name_grouped[name_grouped['name'] == 'Robert']['births'])\n",
    "print('Robert Not Executed', percent_robert_overall)"
   ]
  },
  {
   "cell_type": "code",
   "execution_count": 709,
   "metadata": {
    "collapsed": false
   },
   "outputs": [
    {
     "name": "stdout",
     "output_type": "stream",
     "text": [
      "Larry Executed 258    0.014215\n",
      "Name: births, dtype: float64\n",
      "Larry Not Executed 11223    0.007045\n",
      "Name: births, dtype: float64\n"
     ]
    }
   ],
   "source": [
    "percent_robert = (name_executed_frequency[name_executed_frequency['name'] == 'Larry']['births'])/(sum(name_executed_frequency['births']))\n",
    "print('Larry Executed', percent_robert)\n",
    "\n",
    "percent_robert_overall = (name_grouped[name_grouped['name'] == 'Larry']['births'])/(sum(name_grouped['births']))\n",
    "print('Larry Not Executed', percent_robert_overall)"
   ]
  },
  {
   "cell_type": "code",
   "execution_count": 710,
   "metadata": {
    "collapsed": false
   },
   "outputs": [
    {
     "name": "stdout",
     "output_type": "stream",
     "text": [
      "0.00224079325037\n"
     ]
    }
   ],
   "source": [
    "Larry_Executed =  sum(name_executed_frequency[name_executed_frequency['name'] == 'Larry']['births'])\n",
    "Larry_Normal = sum(name_grouped[name_grouped['name'] == 'Larry']['births'])\n",
    "\n",
    "NonLarry_Executed = sum(name_executed_frequency['births']) - Larry_Executed\n",
    "NonLarry_Normal = sum(name_grouped['births']) - Larry_Normal\n",
    "# z_stat, p_val = stats.ranksums(Larry_Executed, Larry_Random)  \n",
    "  \n",
    "# print(\"MWW RankSum P for treatments 1 and 2 =\", p_val) \n",
    "# import scipy\n",
    " \n",
    "# observed_values=scipy.array([18,21,16,7,15])\n",
    "# expected_values=scipy.array([22,19,44,8,16])\n",
    "\n",
    "chi2, p, dof, expected = stats.chi2_contingency([[Larry_Executed, NonLarry_Executed], [Larry_Normal, NonLarry_Normal]])\n",
    "print(p)"
   ]
  },
  {
   "cell_type": "code",
   "execution_count": 711,
   "metadata": {
    "collapsed": false
   },
   "outputs": [
    {
     "name": "stdout",
     "output_type": "stream",
     "text": [
      "0.380171931997\n"
     ]
    }
   ],
   "source": [
    "Larry_Executed =  sum(name_executed_frequency[name_executed_frequency['name'] == 'John']['births'])\n",
    "Larry_Normal = sum(name_grouped[name_grouped['name'] == 'John']['births'])\n",
    "\n",
    "NonLarry_Executed = sum(name_executed_frequency['births']) - Larry_Executed\n",
    "NonLarry_Normal = sum(name_grouped['births']) - Larry_Normal\n",
    "# z_stat, p_val = stats.ranksums(Larry_Executed, Larry_Random)  \n",
    "  \n",
    "# print(\"MWW RankSum P for treatments 1 and 2 =\", p_val) \n",
    "# import scipy\n",
    " \n",
    "# observed_values=scipy.array([18,21,16,7,15])\n",
    "# expected_values=scipy.array([22,19,44,8,16])\n",
    "\n",
    "chi2, p, dof, expected = stats.chi2_contingency([[Larry_Executed, NonLarry_Executed], [Larry_Normal, NonLarry_Normal]])\n",
    "print(p)"
   ]
  },
  {
   "cell_type": "code",
   "execution_count": 712,
   "metadata": {
    "collapsed": false
   },
   "outputs": [
    {
     "name": "stdout",
     "output_type": "stream",
     "text": [
      "Robert 0.266522946864 1.15829443128\n",
      "John 0.380171931997 1.12866891222\n",
      "James 0.979430760363 0.994224351043\n",
      "Michael 0.970206277288 1.0171494614\n",
      "David 0.955112759597 1.02209179295\n",
      "William 0.50529688262 0.883068403055\n",
      "Richard 0.725590974949 1.08070767406\n",
      "Kenneth 0.170387218181 1.39512201636\n",
      "Larry 0.00224079325037 2.01781944045\n",
      "Joseph 0.613869697198 0.87357169109\n",
      "Charles 0.222999030649 0.735409658588\n",
      "Ronald 0.352905281373 1.29303478203\n",
      "Thomas 0.20237263982 0.71890926679\n",
      "Donald 0.910445775086 0.943372844074\n",
      "George 0.964500249061 1.0465828709\n",
      "Edward 0.9350669664 1.06017848061\n",
      "Jeffrey 0.432471501209 1.28246189187\n",
      "Willie 3.99882543657e-05 3.00842281428\n",
      "Anthony 0.630945005094 1.1906123937\n",
      "Johnny 6.31551085126e-07 3.85939086642\n",
      "Timothy 0.867407620278 1.09592111994\n",
      "Gary 0.907278816166 1.07979201007\n",
      "Stephen 0.630787317583 1.21437742619\n",
      "Daniel 0.284878978023 0.699931854192\n",
      "Andrew 0.558776038508 1.27146871158\n",
      "Bobby 0.00284535926035 2.67507149687\n",
      "Billy 0.0231797810185 2.16211560786\n",
      "Mark 0.211543866173 0.650560163587\n",
      "Earl 0.00014980036992 3.36550554113\n",
      "Paul 0.220021746311 0.65505092243\n",
      "Arthur 0.140463747658 1.74478254016\n",
      "Frank 0.906024280277 1.01693859816\n",
      "Jerry 0.661566078758 1.22970892693\n",
      "Kevin 0.784845006535 0.867370638083\n",
      "Christopher 0.0906596945857 0.552522332794\n",
      "Walter 0.555189557229 1.32194456076\n",
      "Steven 0.173485603588 0.59383383331\n",
      "Terry 0.284926880723 1.57124760747\n",
      "Jose 0.0186590428954 2.45503391114\n",
      "Gerald 0.345769476131 1.50154353262\n",
      "Roy 0.272112377054 1.65032066903\n",
      "Samuel 0.269156487403 1.65462290521\n",
      "Eric 0.920019912431 0.899825480034\n",
      "Dennis 0.968198900943 0.946982581928\n",
      "Ricky 0.0101245278408 2.83909266782\n",
      "Raymond 0.568014226181 0.738678831909\n",
      "Jimmy 0.212427227075 1.84419160775\n",
      "Carl 0.948864879877 1.1210950882\n",
      "Derrick 5.88414849475e-05 5.14952226758\n",
      "Henry 0.931328977603 1.13166017349\n",
      "Ernest 0.166015948129 1.95180347568\n",
      "Douglas 0.975364823291 0.911988700476\n",
      "Gregory 0.631120906021 0.765233417467\n",
      "significant names are:  ['Larry', 'Willie', 'Johnny', 'Bobby', 'Earl', 'Jose', 'Ricky', 'Derrick']\n"
     ]
    }
   ],
   "source": [
    "# loop through top 50 names and see if any are statistically significant\n",
    "\n",
    "significant_names = []\n",
    "for name in top_50_executed:\n",
    "    Name_Executed =  sum(name_executed_frequency[name_executed_frequency['name'] == name]['births'])\n",
    "    Name_Normal = sum(name_grouped[name_grouped['name'] == name]['births'])\n",
    "\n",
    "    NonName_Executed = sum(name_executed_frequency['births']) - Name_Executed\n",
    "    NonName_Normal = sum(name_grouped['births']) - Name_Normal\n",
    "\n",
    "\n",
    "    chi2, p, dof, expected = stats.chi2_contingency([[Name_Executed, NonName_Executed], [Name_Normal, NonName_Normal]])\n",
    "    more_likely = (Name_Executed/(NonName_Executed + Name_Executed))/(Name_Normal/(NonName_Normal + Name_Normal))\n",
    "    print(name, p, more_likely)\n",
    "    if p < 0.02:\n",
    "        significant_names.append(name)\n",
    "\n",
    "print('significant names are: ', significant_names)"
   ]
  },
  {
   "cell_type": "code",
   "execution_count": 713,
   "metadata": {
    "collapsed": false
   },
   "outputs": [
    {
     "name": "stdout",
     "output_type": "stream",
     "text": [
      "['', 'Sy', 'Mees', 'Fran', 'Calep', 'Van', 'Feltie', 'Gerry', 'Jeb', 'Jos', 'Natius', 'Eli', 'Ora', 'Leet', 'Lonzo', 'Sully', 'Phil', 'Patsy', 'Day', 'Rube', 'Drew', 'Rick', 'Jake', 'Wilber', 'Chan', 'Lanny', 'Erin', 'Manny', 'Laffie', 'Lynn', 'Ron', 'Andy', 'Asa', 'Renny', 'Jess', 'Barney', 'Theo', 'Iggy', 'Scott', 'Eleck', 'Thad', 'Cal', 'Wally', 'Robin', 'Jimmy', 'Clum', 'Donny', 'Biel', 'Tom', 'Hez', 'Leon', 'Ezry', 'Larry', 'L.R.', 'Thias', 'Sid', 'Syd', 'Thom', 'Bill', 'Zeb', 'Ebbie', 'Fritz', 'Vince', 'Field', 'Clare', 'John', 'Lineau', 'Claes', 'Brad', 'OftenseenasG.W.orWash', 'Tony', 'Dite', 'Eddie', 'Hiel', 'Rob', 'Riah', 'Dal', 'Alex', 'Dyche', 'sometimesBellorBela', 'Sion', 'Mitch', 'Pate', 'Meus', 'Jed', 'Rolly', 'Court', 'Nappy', 'Obie', 'Felty', 'Cale', 'Rupert', 'Luke', 'Fred', 'See', 'Lon', 'Horry', 'Joe', 'Danny', 'Toby', 'Baldo', 'Ezrie', 'Jack', 'Elsie', 'Nat', 'Lige', 'Randy', 'Corny', 'Albert', 'Mark', 'Nap', 'Con', 'Serene', 'Josh', 'Rudy', 'Ned', 'Brody', 'Cy', 'Gus', 'Mick', 'Mal', 'Jaap', 'Manuel', 'Herb', 'Bird', 'Woody', 'Len', 'Dennie', 'Perry', 'Steph', 'Charles', 'Nace', 'Izzy', 'Renius', 'Jesse', 'Ray', 'Del', 'Winny', 'Percy', 'Roy', 'Birt', 'Sal', 'Ab', 'Chris', 'Ford', 'Solly', 'Geoff', 'Berney', 'Ronny', 'Carl', 'Hal', 'Freddy', 'Eben', 'Tommy', 'Charley', 'Pete', 'Morey', 'Luie', 'Junie', 'Dennis', 'Lonas', 'Gene', 'Ossy', 'Quique', 'Robby', 'Baz', 'Archie', 'Tuck', 'Biah', 'Bert', 'Win', 'Ike', 'Micah', 'Timmy', 'Si', 'Ferdie', 'Vet', 'Zeke', 'Olph', 'Left', 'Mike', 'Ken', 'Lazar', 'Willie', 'Sandy', 'Chet', 'Dob', 'Hopp', 'Cene', 'Nick', 'Steve', 'Jem', 'Lonny', 'Lars', 'Lem', 'Trey', 'Mickey', 'Pie', 'Paddy', 'Sam', 'Bennie', 'Shelly', 'Pepe', 'Elsey', 'Vin', 'Gera', 'Joey', 'Dan', 'Wash', 'Denny', 'Ash', 'Newt', 'King', 'Delbert', 'Sammy', 'Benjy', 'Hobkin', 'Ollie', 'Jessie', 'Lindy', 'Dolph', 'Richie', 'Pi', 'Conny', 'Quince', 'Nate', 'Dawse', 'Zeph', 'Rusty', 'Pat', 'Link', 'Bama', 'Ditus', 'Zolly', 'Jules', 'Ozzy', 'Jereme', 'Brady', 'Dave', 'Hub', 'Bobby', 'Gil', 'K.C.', 'Roge', 'Sonny', 'Syl', 'Cam', 'Lias', 'Bias', 'Johnny', 'Jep', 'couldbeshortforJacobus.', 'Abe', 'Russ', 'Jud', 'Tim', 'Teddy', 'Connie', 'Jeff', 'Tucker', 'Norby', 'Ander', 'Ziggy', 'Marv', 'Lorne', 'Nacho', 'Kiah', 'Lish', 'Jim', 'Sly', 'Lonson', 'OftenfoundasB.F.', 'Vester', 'Doss', 'Eric', 'Waldo', 'Ad', 'Smitty', 'Quint', 'Scotty', 'Sol', 'Thys', 'Jay', 'Saul', 'Merv', 'Nickie', 'Jody', 'Rod', 'June', 'Loren', 'Salmon', 'seealsoAdelbert', 'Shel', 'Ade', 'Swene', 'Vessie', 'Claas', 'Ronnie', 'Iron', 'Ez', 'Elbert', 'Bartel', 'Kenny', 'Terry', 'Cliff', 'Ced', 'Dickon', 'Vinny', 'Niel', 'Jock', 'Billy', 'Elze', 'Than', 'Dyce', 'Eph', 'Ernie', 'Art', 'Diah', 'Rollo', 'Tunis', 'Jerry', 'Al', 'Ben', 'Obbie', 'Hugh', 'Obby', 'Fate', 'Rolf', 'Chuck', 'Will', 'Vinnie', 'Zach', 'Hob', 'Hank', 'Naldo', 'Bob', 'Ted', 'Natty', 'Pres', 'Gabe', 'Derrick', 'Zed', 'Jule', 'Ed', 'Bart', 'Dos', 'Seb', 'Sher', 'Hy', 'Charlie', 'Harry', 'Reg', 'Topher', 'Gabby', 'Dick', 'Frank', 'Nep', 'Obed', 'Marty', 'Davey', 'Ricky', 'Nathan', 'Rich', 'Gum', 'Clem', 'Les', 'Don', 'Dobbin', 'Lorry', 'Zachy', 'Austin', 'Chick', 'Lenny', 'Hop', 'JR', 'Leo', 'Aze', 'Jamie', 'Eppa', 'Ivy(fromIV)', 'Lee', 'August', 'Bat', 'Eb', 'Dyer', 'Reggie', 'Clair', 'Kit', 'Alan', 'Jon', 'Curt', 'Hodge', 'Matt', 'A.B.', 'Monty', 'Wood']\n"
     ]
    }
   ],
   "source": [
    "# scrape nicknames from censusdiggins nickname list\n",
    "\n",
    "rn = requests.get('http://www.censusdiggins.com/nicknames.htm')\n",
    "soupn = BeautifulSoup(rn.content, 'html.parser')\n",
    "nicknamerow = soupn.find_all('tr')[6]\n",
    "nicknameps = nicknamerow.find_all('p')\n",
    "nicknames = []\n",
    "for p in nicknameps:\n",
    "    try:\n",
    "        names = str(p).split('--')[1].split('</font>')[0]\n",
    "    except:\n",
    "        if len(str(p)) is 8:\n",
    "            break; \n",
    "    names = names.replace(' ', '')\n",
    "    names = names.replace('\\r\\n', '')\n",
    "    names = names.replace('/', ',')\n",
    "    nicknames = nicknames + names.split(',')\n",
    "\n",
    "nicknames = list(set(nicknames))\n",
    "print(nicknames)"
   ]
  },
  {
   "cell_type": "code",
   "execution_count": 714,
   "metadata": {
    "collapsed": false
   },
   "outputs": [
    {
     "name": "stdout",
     "output_type": "stream",
     "text": [
      "319\n"
     ]
    }
   ],
   "source": [
    "# remove black first from list\n",
    "nicknames.pop(0)\n",
    "\n",
    "# see if deathrows names are nicknames\n",
    "def is_nickname(a):\n",
    "    nn = 0\n",
    "    if a.split(' ')[0] in nicknames:\n",
    "        nn = 1\n",
    "    return nn\n",
    "    \n",
    "executions['Is_Nickname'] = executions.apply(lambda row: is_nickname(row['Name']), axis=1)\n",
    "total_nicknames_executed = sum(executions['Is_Nickname'])\n",
    "print(total_nicknames_executed)"
   ]
  },
  {
   "cell_type": "code",
   "execution_count": 715,
   "metadata": {
    "collapsed": false
   },
   "outputs": [
    {
     "name": "stdout",
     "output_type": "stream",
     "text": [
      "     name  births  Is_Nickname\n",
      "0   Aadam       5            0\n",
      "1   Aadil       6            0\n",
      "2  Aakash      55            0\n",
      "3   Aalok       5            0\n",
      "4   Aalon       5            0\n",
      "22824531\n"
     ]
    }
   ],
   "source": [
    "name_grouped['Is_Nickname'] = name_grouped.apply(lambda row: is_nickname(row['name']), axis=1)\n",
    "print(name_grouped.head())\n",
    "total_nicknames = sum(name_grouped[name_grouped['Is_Nickname']==1]['births'])\n",
    "print(total_nicknames)"
   ]
  },
  {
   "cell_type": "code",
   "execution_count": 716,
   "metadata": {
    "collapsed": false
   },
   "outputs": [
    {
     "name": "stdout",
     "output_type": "stream",
     "text": [
      "Nicknames Executed 0.226723525231\n",
      "Nicknames Not Executed 0.209495554262\n"
     ]
    }
   ],
   "source": [
    "percent_nickname = sum(executions['Is_Nickname'])/len(executions)\n",
    "print('Nicknames Executed', percent_nickname)\n",
    "\n",
    "percent_nicknames_overall = sum(name_grouped[name_grouped['Is_Nickname'] == 1]['births'])/(sum(name_grouped['births']))\n",
    "print('Nicknames Not Executed', percent_nicknames_overall)"
   ]
  },
  {
   "cell_type": "code",
   "execution_count": 717,
   "metadata": {
    "collapsed": false
   },
   "outputs": [
    {
     "name": "stdout",
     "output_type": "stream",
     "text": [
      "0.11989820277\n"
     ]
    }
   ],
   "source": [
    "Nicknames_Executed =  sum(executions['Is_Nickname'])\n",
    "Nicknames_Normal = sum(name_grouped[name_grouped['Is_Nickname'] == 1]['births'])\n",
    "\n",
    "NonNicknames_Executed = len(executions) - Nicknames_Executed\n",
    "NonNicknames_Normal = (sum(name_grouped['births'])) - Nicknames_Normal\n",
    "# z_stat, p_val = stats.ranksums(Larry_Executed, Larry_Random)  \n",
    "  \n",
    "# print(\"MWW RankSum P for treatments 1 and 2 =\", p_val) \n",
    "# import scipy\n",
    " \n",
    "# observed_values=scipy.array([18,21,16,7,15])\n",
    "# expected_values=scipy.array([22,19,44,8,16])\n",
    "\n",
    "chi2, p, dof, expected = stats.chi2_contingency([[Nicknames_Executed, NonNicknames_Executed], [Nicknames_Normal, NonNicknames_Normal]])\n",
    "print(p)"
   ]
  },
  {
   "cell_type": "code",
   "execution_count": 720,
   "metadata": {
    "collapsed": false
   },
   "outputs": [
    {
     "name": "stdout",
     "output_type": "stream",
     "text": [
      "         Date             Name  Age Sex    Race  \\\n",
      "0  01/10/1986      James Roach   25   m   White   \n",
      "1  01/11/1985      Joseph Shaw   29   m   White   \n",
      "2  01/08/1997        Paul Ruiz   49   m  Latino   \n",
      "3  01/08/1997  Earl Van Denton   47   m   White   \n",
      "4  01/06/1994      Keith Wells   31   m   White   \n",
      "\n",
      "     Number / Race / Sex of Victims State Region            Method  Juvenile  \\\n",
      "0  1 White Male(s)1 White Female(s)    SC      S     Electrocution         1   \n",
      "1  1 White Male(s)1 White Female(s)    SC      S     Electrocution         0   \n",
      "2                   2 White Male(s)    AR      S  Lethal Injection         0   \n",
      "3                   2 White Male(s)    AR      S  Lethal Injection         0   \n",
      "4  1 White Male(s)1 White Female(s)    ID      W  Lethal Injection         0   \n",
      "\n",
      "      ...      Asian  Black  Latino Native American Other  White  \\\n",
      "0     ...          0      0       0               0     0      1   \n",
      "1     ...          0      0       0               0     0      1   \n",
      "2     ...          0      0       1               0     0      0   \n",
      "3     ...          0      0       0               0     0      1   \n",
      "4     ...          0      0       0               0     0      1   \n",
      "\n",
      "   Race_Factorized  Year  Is_Nickname  Num_Killed  \n",
      "0                5  1986            0           2  \n",
      "1                5  1985            0           2  \n",
      "2                2  1997            0           2  \n",
      "3                5  1997            0           2  \n",
      "4                5  1994            0           2  \n",
      "\n",
      "[5 rows x 25 columns]\n"
     ]
    },
    {
     "name": "stderr",
     "output_type": "stream",
     "text": [
      "/Users/melanie/anaconda/lib/python3.4/site-packages/IPython/kernel/__main__.py:11: SettingWithCopyWarning: \n",
      "A value is trying to be set on a copy of a slice from a DataFrame.\n",
      "Try using .loc[row_indexer,col_indexer] = value instead\n",
      "\n",
      "See the the caveats in the documentation: http://pandas.pydata.org/pandas-docs/stable/indexing.html#indexing-view-versus-copy\n"
     ]
    }
   ],
   "source": [
    "# convert string in num race sex of victims to total count killed integer in another field\n",
    "\n",
    "import re\n",
    "def num_killed(a):\n",
    "    string_a = re.split(r'(\\s|\\))', a)\n",
    "    digits = list(int(s) for s in string_a if s.isdigit())\n",
    "    total_killed = sum(digits)\n",
    "    return total_killed\n",
    "\n",
    "executions = executions.dropna(subset=['Number / Race / Sex of Victims'])\n",
    "executions['Num_Killed'] = executions.apply(lambda row: num_killed(row['Number / Race / Sex of Victims']), axis=1)\n",
    "print(executions.head())"
   ]
  },
  {
   "cell_type": "code",
   "execution_count": 719,
   "metadata": {
    "collapsed": false
   },
   "outputs": [
    {
     "ename": "ValueError",
     "evalue": "No axis named Number / Race / Sex of Victims for object type <class 'pandas.core.frame.DataFrame'>",
     "output_type": "error",
     "traceback": [
      "\u001b[0;31m---------------------------------------------------------------------------\u001b[0m",
      "\u001b[0;31mValueError\u001b[0m                                Traceback (most recent call last)",
      "\u001b[0;32m<ipython-input-719-a3722045de49>\u001b[0m in \u001b[0;36m<module>\u001b[0;34m()\u001b[0m\n\u001b[0;32m----> 1\u001b[0;31m \u001b[0mexecutions\u001b[0m \u001b[0;34m=\u001b[0m \u001b[0mexecutions\u001b[0m\u001b[0;34m.\u001b[0m\u001b[0mdropna\u001b[0m\u001b[0;34m(\u001b[0m\u001b[0;34m'Number / Race / Sex of Victims'\u001b[0m\u001b[0;34m)\u001b[0m\u001b[0;34m\u001b[0m\u001b[0m\n\u001b[0m",
      "\u001b[0;32m/Users/melanie/anaconda/lib/python3.4/site-packages/pandas/core/frame.py\u001b[0m in \u001b[0;36mdropna\u001b[0;34m(self, axis, how, thresh, subset, inplace)\u001b[0m\n\u001b[1;32m   2772\u001b[0m                                        subset=subset, axis=ax)\n\u001b[1;32m   2773\u001b[0m         \u001b[0;32melse\u001b[0m\u001b[0;34m:\u001b[0m\u001b[0;34m\u001b[0m\u001b[0m\n\u001b[0;32m-> 2774\u001b[0;31m             \u001b[0maxis\u001b[0m \u001b[0;34m=\u001b[0m \u001b[0mself\u001b[0m\u001b[0;34m.\u001b[0m\u001b[0m_get_axis_number\u001b[0m\u001b[0;34m(\u001b[0m\u001b[0maxis\u001b[0m\u001b[0;34m)\u001b[0m\u001b[0;34m\u001b[0m\u001b[0m\n\u001b[0m\u001b[1;32m   2775\u001b[0m             \u001b[0magg_axis\u001b[0m \u001b[0;34m=\u001b[0m \u001b[0;36m1\u001b[0m \u001b[0;34m-\u001b[0m \u001b[0maxis\u001b[0m\u001b[0;34m\u001b[0m\u001b[0m\n\u001b[1;32m   2776\u001b[0m \u001b[0;34m\u001b[0m\u001b[0m\n",
      "\u001b[0;32m/Users/melanie/anaconda/lib/python3.4/site-packages/pandas/core/generic.py\u001b[0m in \u001b[0;36m_get_axis_number\u001b[0;34m(self, axis)\u001b[0m\n\u001b[1;32m    301\u001b[0m                 \u001b[0;32mpass\u001b[0m\u001b[0;34m\u001b[0m\u001b[0m\n\u001b[1;32m    302\u001b[0m         raise ValueError('No axis named {0} for object type {1}'\n\u001b[0;32m--> 303\u001b[0;31m                          .format(axis, type(self)))\n\u001b[0m\u001b[1;32m    304\u001b[0m \u001b[0;34m\u001b[0m\u001b[0m\n\u001b[1;32m    305\u001b[0m     \u001b[0;32mdef\u001b[0m \u001b[0m_get_axis_name\u001b[0m\u001b[0;34m(\u001b[0m\u001b[0mself\u001b[0m\u001b[0;34m,\u001b[0m \u001b[0maxis\u001b[0m\u001b[0;34m)\u001b[0m\u001b[0;34m:\u001b[0m\u001b[0;34m\u001b[0m\u001b[0m\n",
      "\u001b[0;31mValueError\u001b[0m: No axis named Number / Race / Sex of Victims for object type <class 'pandas.core.frame.DataFrame'>"
     ]
    }
   ],
   "source": []
  },
  {
   "cell_type": "code",
   "execution_count": 721,
   "metadata": {
    "collapsed": false
   },
   "outputs": [
    {
     "name": "stderr",
     "output_type": "stream",
     "text": [
      "/Users/melanie/anaconda/lib/python3.4/site-packages/IPython/kernel/__main__.py:53: SettingWithCopyWarning: \n",
      "A value is trying to be set on a copy of a slice from a DataFrame.\n",
      "Try using .loc[row_indexer,col_indexer] = value instead\n",
      "\n",
      "See the the caveats in the documentation: http://pandas.pydata.org/pandas-docs/stable/indexing.html#indexing-view-versus-copy\n",
      "/Users/melanie/anaconda/lib/python3.4/site-packages/IPython/kernel/__main__.py:54: SettingWithCopyWarning: \n",
      "A value is trying to be set on a copy of a slice from a DataFrame.\n",
      "Try using .loc[row_indexer,col_indexer] = value instead\n",
      "\n",
      "See the the caveats in the documentation: http://pandas.pydata.org/pandas-docs/stable/indexing.html#indexing-view-versus-copy\n",
      "/Users/melanie/anaconda/lib/python3.4/site-packages/IPython/kernel/__main__.py:55: SettingWithCopyWarning: \n",
      "A value is trying to be set on a copy of a slice from a DataFrame.\n",
      "Try using .loc[row_indexer,col_indexer] = value instead\n",
      "\n",
      "See the the caveats in the documentation: http://pandas.pydata.org/pandas-docs/stable/indexing.html#indexing-view-versus-copy\n",
      "/Users/melanie/anaconda/lib/python3.4/site-packages/IPython/kernel/__main__.py:56: SettingWithCopyWarning: \n",
      "A value is trying to be set on a copy of a slice from a DataFrame.\n",
      "Try using .loc[row_indexer,col_indexer] = value instead\n",
      "\n",
      "See the the caveats in the documentation: http://pandas.pydata.org/pandas-docs/stable/indexing.html#indexing-view-versus-copy\n",
      "/Users/melanie/anaconda/lib/python3.4/site-packages/IPython/kernel/__main__.py:57: SettingWithCopyWarning: \n",
      "A value is trying to be set on a copy of a slice from a DataFrame.\n",
      "Try using .loc[row_indexer,col_indexer] = value instead\n",
      "\n",
      "See the the caveats in the documentation: http://pandas.pydata.org/pandas-docs/stable/indexing.html#indexing-view-versus-copy\n",
      "/Users/melanie/anaconda/lib/python3.4/site-packages/IPython/kernel/__main__.py:58: SettingWithCopyWarning: \n",
      "A value is trying to be set on a copy of a slice from a DataFrame.\n",
      "Try using .loc[row_indexer,col_indexer] = value instead\n",
      "\n",
      "See the the caveats in the documentation: http://pandas.pydata.org/pandas-docs/stable/indexing.html#indexing-view-versus-copy\n"
     ]
    },
    {
     "name": "stdout",
     "output_type": "stream",
     "text": [
      "              Age     Juvenile      Federal    Volunteer  Foreign National  \\\n",
      "count  1406.00000  1406.000000  1406.000000  1406.000000       1406.000000   \n",
      "mean     41.35633     0.015647     0.002134     0.100996          0.024893   \n",
      "std       9.41886     0.124151     0.046159     0.301430          0.155855   \n",
      "min      22.00000     0.000000     0.000000     0.000000          0.000000   \n",
      "25%      34.00000     0.000000     0.000000     0.000000          0.000000   \n",
      "50%      40.00000     0.000000     0.000000     0.000000          0.000000   \n",
      "75%      47.00000     0.000000     0.000000     0.000000          0.000000   \n",
      "max      77.00000     1.000000     1.000000     1.000000          1.000000   \n",
      "\n",
      "             Asian        Black       Latino  Native American        Other  \\\n",
      "count  1406.000000  1406.000000  1406.000000      1406.000000  1406.000000   \n",
      "mean      0.004267     0.346373     0.080370         0.011380     0.001422   \n",
      "std       0.065209     0.475983     0.271962         0.106105     0.037702   \n",
      "min       0.000000     0.000000     0.000000         0.000000     0.000000   \n",
      "25%       0.000000     0.000000     0.000000         0.000000     0.000000   \n",
      "50%       0.000000     0.000000     0.000000         0.000000     0.000000   \n",
      "75%       0.000000     1.000000     0.000000         0.000000     0.000000   \n",
      "max       1.000000     1.000000     1.000000         1.000000     1.000000   \n",
      "\n",
      "             White  Race_Factorized  Is_Nickname   Num_Killed  Black_Victims  \\\n",
      "count  1406.000000      1406.000000  1406.000000  1406.000000    1406.000000   \n",
      "mean      0.556188         3.327881     0.226885     1.546942       0.215505   \n",
      "std       0.497010         1.904078     0.418966     4.559641       0.635656   \n",
      "min       0.000000         0.000000     0.000000     1.000000       0.000000   \n",
      "25%       0.000000         1.000000     0.000000     1.000000       0.000000   \n",
      "50%       1.000000         5.000000     0.000000     1.000000       0.000000   \n",
      "75%       1.000000         5.000000     0.000000     1.750000       0.000000   \n",
      "max       1.000000         5.000000     1.000000   168.000000       6.000000   \n",
      "\n",
      "       White_Victims  Latino_Victims  Native_American_Victims  Other_Victims  \\\n",
      "count    1406.000000     1406.000000              1406.000000    1406.000000   \n",
      "mean        1.066145        0.105263                 0.004267       0.004267   \n",
      "std         0.908970        0.456211                 0.084257       0.075337   \n",
      "min         0.000000        0.000000                 0.000000       0.000000   \n",
      "25%         1.000000        0.000000                 0.000000       0.000000   \n",
      "50%         1.000000        0.000000                 0.000000       0.000000   \n",
      "75%         1.000000        0.000000                 0.000000       0.000000   \n",
      "max         9.000000        8.000000                 2.000000       2.000000   \n",
      "\n",
      "       Asian_Victims  \n",
      "count    1406.000000  \n",
      "mean        0.023471  \n",
      "std         0.189071  \n",
      "min         0.000000  \n",
      "25%         0.000000  \n",
      "50%         0.000000  \n",
      "75%         0.000000  \n",
      "max         3.000000  \n"
     ]
    }
   ],
   "source": [
    "#tally race of victims killed\n",
    "teste = None\n",
    "import re\n",
    "def black_victims(a):\n",
    "    victims = 0\n",
    "    v = re.findall(\"(\\d)(?=\\sBlack)\", a)\n",
    "    if v:\n",
    "        v_num = [ int(x) for x in v ]\n",
    "        victims = sum(v_num)\n",
    "    return victims\n",
    "\n",
    "def white_victims(a):\n",
    "    victims = 0\n",
    "    v = re.findall(\"(\\d)(?=\\sWhite)\", a)\n",
    "    if v:\n",
    "        v_num = [ int(x) for x in v ]\n",
    "        victims = sum(v_num)\n",
    "    return victims\n",
    "\n",
    "def latino_victims(a):\n",
    "    victims = 0\n",
    "    v = re.findall(\"(\\d)(?=\\sLatino)\", a)\n",
    "    if v:\n",
    "        v_num = [ int(x) for x in v ]\n",
    "        victims = sum(v_num)\n",
    "    return victims\n",
    "\n",
    "def native_american_victims(a):\n",
    "    victims = 0\n",
    "    v = re.findall(\"(\\d)(?=\\sNative\\sAmerican)\", a)\n",
    "    if v:\n",
    "        v_num = [ int(x) for x in v ]\n",
    "        victims = sum(v_num)\n",
    "    return victims\n",
    "\n",
    "def other_victims(a):\n",
    "    victims = 0\n",
    "    v = re.findall(\"(\\d)(?=\\sOther)\", a)\n",
    "    if v:\n",
    "        v_num = [ int(x) for x in v ]\n",
    "        victims = sum(v_num)\n",
    "    return victims\n",
    "\n",
    "def asian_victims(a):\n",
    "    victims = 0\n",
    "    v = re.findall(\"(\\d)(?=\\sAsian)\", a)\n",
    "    if v:\n",
    "        v_num = [ int(x) for x in v ]\n",
    "        victims = sum(v_num)\n",
    "    return victims\n",
    "\n",
    "# executions = executions.dropna(subset=['Number / Race / Sex of Victims'])\n",
    "executions['Black_Victims'] = executions.apply(lambda row: black_victims(row['Number / Race / Sex of Victims']), axis=1)\n",
    "executions['White_Victims'] = executions.apply(lambda row: white_victims(row['Number / Race / Sex of Victims']), axis=1)\n",
    "executions['Latino_Victims'] = executions.apply(lambda row: latino_victims(row['Number / Race / Sex of Victims']), axis=1)\n",
    "executions['Native_American_Victims'] = executions.apply(lambda row: native_american_victims(row['Number / Race / Sex of Victims']), axis=1)\n",
    "executions['Other_Victims'] = executions.apply(lambda row: other_victims(row['Number / Race / Sex of Victims']), axis=1)\n",
    "executions['Asian_Victims'] = executions.apply(lambda row: asian_victims(row['Number / Race / Sex of Victims']), axis=1)\n",
    "print(executions.describe())"
   ]
  },
  {
   "cell_type": "code",
   "execution_count": 722,
   "metadata": {
    "collapsed": false
   },
   "outputs": [
    {
     "name": "stderr",
     "output_type": "stream",
     "text": [
      "/Users/melanie/anaconda/lib/python3.4/site-packages/IPython/kernel/__main__.py:17: SettingWithCopyWarning: \n",
      "A value is trying to be set on a copy of a slice from a DataFrame.\n",
      "Try using .loc[row_indexer,col_indexer] = value instead\n",
      "\n",
      "See the the caveats in the documentation: http://pandas.pydata.org/pandas-docs/stable/indexing.html#indexing-view-versus-copy\n",
      "/Users/melanie/anaconda/lib/python3.4/site-packages/IPython/kernel/__main__.py:18: SettingWithCopyWarning: \n",
      "A value is trying to be set on a copy of a slice from a DataFrame.\n",
      "Try using .loc[row_indexer,col_indexer] = value instead\n",
      "\n",
      "See the the caveats in the documentation: http://pandas.pydata.org/pandas-docs/stable/indexing.html#indexing-view-versus-copy\n"
     ]
    },
    {
     "name": "stdout",
     "output_type": "stream",
     "text": [
      "                              Age  Juvenile   Federal  Volunteer  \\\n",
      "Age                      1.000000 -0.168502  0.009709  -0.060817   \n",
      "Juvenile                -0.168502  1.000000 -0.005830  -0.023239   \n",
      "Federal                  0.009709 -0.005830  1.000000   0.035655   \n",
      "Volunteer               -0.060817 -0.023239  0.035655   1.000000   \n",
      "Foreign National        -0.034653 -0.020145 -0.007388  -0.008103   \n",
      "Asian                   -0.024495 -0.008254 -0.003027   0.014268   \n",
      "Black                   -0.147094  0.040708 -0.001267  -0.209268   \n",
      "Latino                  -0.087598 -0.016192  0.043027  -0.003582   \n",
      "Native American          0.019442 -0.013527 -0.004961   0.008547   \n",
      "Other                    0.016610 -0.004759 -0.001745  -0.012650   \n",
      "White                    0.186607 -0.025793 -0.020742   0.199637   \n",
      "Race_Factorized          0.186317 -0.030751 -0.016064   0.207641   \n",
      "Is_Nickname              0.062104 -0.013567 -0.025050  -0.029406   \n",
      "Num_Killed              -0.011419 -0.005070  0.565958   0.097012   \n",
      "Black_Victims            0.009990  0.002335  0.032832  -0.065384   \n",
      "White_Victims            0.060177 -0.002871  0.115378   0.180818   \n",
      "Latino_Victims          -0.042525 -0.003968  0.259716  -0.020430   \n",
      "Native_American_Victims  0.004361 -0.006388  0.363665   0.039066   \n",
      "Other_Victims            0.021928 -0.007144 -0.002620  -0.018992   \n",
      "Asian_Victims           -0.037073 -0.015657 -0.005742  -0.041623   \n",
      "Female_Victims           0.029270  0.001180 -0.021566   0.039166   \n",
      "Male_Victims             0.031393 -0.006795  0.015677   0.049505   \n",
      "\n",
      "                         Foreign National     Asian     Black    Latino  \\\n",
      "Age                             -0.034653 -0.024495 -0.147094 -0.087598   \n",
      "Juvenile                        -0.020145 -0.008254  0.040708 -0.016192   \n",
      "Federal                         -0.007388 -0.003027 -0.001267  0.043027   \n",
      "Volunteer                       -0.008103  0.014268 -0.209268 -0.003582   \n",
      "Foreign National                 1.000000  0.269666 -0.097123  0.322183   \n",
      "Asian                            0.269666  1.000000 -0.047656 -0.019353   \n",
      "Black                           -0.097123 -0.047656  1.000000 -0.215202   \n",
      "Latino                           0.322183 -0.019353 -0.215202  1.000000   \n",
      "Native American                 -0.017142 -0.007024 -0.078101 -0.031717   \n",
      "Other                            0.236220 -0.002471 -0.027475 -0.011158   \n",
      "White                           -0.132924 -0.073286 -0.814925 -0.330941   \n",
      "Race_Factorized                 -0.089881 -0.114459 -0.890302 -0.206238   \n",
      "Is_Nickname                     -0.064756 -0.035464 -0.023173 -0.060204   \n",
      "Num_Killed                      -0.007154  0.004113 -0.031929 -0.010793   \n",
      "Black_Victims                   -0.011083 -0.022202  0.374146 -0.083792   \n",
      "White_Victims                   -0.061871 -0.016773 -0.280011 -0.162599   \n",
      "Latino_Victims                   0.073231 -0.015110 -0.089360  0.425108   \n",
      "Native_American_Victims         -0.008095 -0.003317 -0.036883 -0.014978   \n",
      "Other_Victims                    0.112179 -0.003710  0.018295 -0.016751   \n",
      "Asian_Victims                    0.052619  0.338242  0.036141 -0.009028   \n",
      "Female_Victims                  -0.016351  0.014153 -0.066742 -0.011682   \n",
      "Male_Victims                     0.003432  0.022194  0.008675  0.000074   \n",
      "\n",
      "                         Native American     Other      ...       Is_Nickname  \\\n",
      "Age                             0.019442  0.016610      ...          0.062104   \n",
      "Juvenile                       -0.013527 -0.004759      ...         -0.013567   \n",
      "Federal                        -0.004961 -0.001745      ...         -0.025050   \n",
      "Volunteer                       0.008547 -0.012650      ...         -0.029406   \n",
      "Foreign National               -0.017142  0.236220      ...         -0.064756   \n",
      "Asian                          -0.007024 -0.002471      ...         -0.035464   \n",
      "Black                          -0.078101 -0.027475      ...         -0.023173   \n",
      "Latino                         -0.031717 -0.011158      ...         -0.060204   \n",
      "Native American                 1.000000 -0.004049      ...         -0.026100   \n",
      "Other                          -0.004049  1.000000      ...         -0.020446   \n",
      "White                          -0.120106 -0.042252      ...          0.066912   \n",
      "Race_Factorized                -0.018482  0.013327      ...          0.058355   \n",
      "Is_Nickname                    -0.026100 -0.020446      ...          1.000000   \n",
      "Num_Killed                     -0.005518 -0.000389      ...         -0.013217   \n",
      "Black_Victims                  -0.036387 -0.012800      ...         -0.015357   \n",
      "White_Victims                  -0.000430 -0.023516      ...          0.020371   \n",
      "Latino_Victims                 -0.010060 -0.008712      ...         -0.035669   \n",
      "Native_American_Victims         0.233402 -0.001912      ...         -0.027447   \n",
      "Other_Victims                  -0.006079  0.499020      ...         -0.008147   \n",
      "Asian_Victims                  -0.013323 -0.004687      ...          0.013593   \n",
      "Female_Victims                 -0.007318 -0.009015      ...          0.017819   \n",
      "Male_Victims                   -0.029871  0.012795      ...         -0.015565   \n",
      "\n",
      "                         Num_Killed  Black_Victims  White_Victims  \\\n",
      "Age                       -0.011419       0.009990       0.060177   \n",
      "Juvenile                  -0.005070       0.002335      -0.002871   \n",
      "Federal                    0.565958       0.032832       0.115378   \n",
      "Volunteer                  0.097012      -0.065384       0.180818   \n",
      "Foreign National          -0.007154      -0.011083      -0.061871   \n",
      "Asian                      0.004113      -0.022202      -0.016773   \n",
      "Black                     -0.031929       0.374146      -0.280011   \n",
      "Latino                    -0.010793      -0.083792      -0.162599   \n",
      "Native American           -0.005518      -0.036387      -0.000430   \n",
      "Other                     -0.000389      -0.012800      -0.023516   \n",
      "White                      0.037152      -0.300815       0.361214   \n",
      "Race_Factorized            0.036470      -0.330103       0.353048   \n",
      "Is_Nickname               -0.013217      -0.015357       0.020371   \n",
      "Num_Killed                 1.000000       0.134885       0.355159   \n",
      "Black_Victims              0.134885       1.000000      -0.311706   \n",
      "White_Victims              0.355159      -0.311706       1.000000   \n",
      "Latino_Victims             0.317883      -0.051283      -0.135231   \n",
      "Native_American_Victims    0.616403       0.035973       0.107831   \n",
      "Other_Victims             -0.002656      -0.019218      -0.066486   \n",
      "Asian_Victims              0.009041      -0.042116      -0.100151   \n",
      "Female_Victims             0.072202       0.138262       0.361414   \n",
      "Male_Victims               0.107159       0.228317       0.324320   \n",
      "\n",
      "                         Latino_Victims  Native_American_Victims  \\\n",
      "Age                           -0.042525                 0.004361   \n",
      "Juvenile                      -0.003968                -0.006388   \n",
      "Federal                        0.259716                 0.363665   \n",
      "Volunteer                     -0.020430                 0.039066   \n",
      "Foreign National               0.073231                -0.008095   \n",
      "Asian                         -0.015110                -0.003317   \n",
      "Black                         -0.089360                -0.036883   \n",
      "Latino                         0.425108                -0.014978   \n",
      "Native American               -0.010060                 0.233402   \n",
      "Other                         -0.008712                -0.001912   \n",
      "White                         -0.142247                -0.005730   \n",
      "Race_Factorized               -0.088922                 0.017891   \n",
      "Is_Nickname                   -0.035669                -0.027447   \n",
      "Num_Killed                     0.317883                 0.616403   \n",
      "Black_Victims                 -0.051283                 0.035973   \n",
      "White_Victims                 -0.135231                 0.107831   \n",
      "Latino_Victims                 1.000000                 0.173468   \n",
      "Native_American_Victims        0.173468                 1.000000   \n",
      "Other_Victims                 -0.013079                -0.002871   \n",
      "Asian_Victims                 -0.028663                -0.006292   \n",
      "Female_Victims                 0.036417                -0.046684   \n",
      "Male_Victims                   0.180321                -0.045389   \n",
      "\n",
      "                         Other_Victims  Asian_Victims  Female_Victims  \\\n",
      "Age                           0.021928      -0.037073        0.029270   \n",
      "Juvenile                     -0.007144      -0.015657        0.001180   \n",
      "Federal                      -0.002620      -0.005742       -0.021566   \n",
      "Volunteer                    -0.018992      -0.041623        0.039166   \n",
      "Foreign National              0.112179       0.052619       -0.016351   \n",
      "Asian                        -0.003710       0.338242        0.014153   \n",
      "Black                         0.018295       0.036141       -0.066742   \n",
      "Latino                       -0.016751      -0.009028       -0.011682   \n",
      "Native American              -0.006079      -0.013323       -0.007318   \n",
      "Other                         0.499020      -0.004687       -0.009015   \n",
      "White                        -0.044425      -0.070850        0.070700   \n",
      "Race_Factorized              -0.019684      -0.088611        0.070314   \n",
      "Is_Nickname                  -0.008147       0.013593        0.017819   \n",
      "Num_Killed                   -0.002656       0.009041        0.072202   \n",
      "Black_Victims                -0.019218      -0.042116        0.138262   \n",
      "White_Victims                -0.066486      -0.100151        0.361414   \n",
      "Latino_Victims               -0.013079      -0.028663        0.036417   \n",
      "Native_American_Victims      -0.002871      -0.006292       -0.046684   \n",
      "Other_Victims                 1.000000      -0.007037       -0.013534   \n",
      "Asian_Victims                -0.007037       1.000000       -0.001407   \n",
      "Female_Victims               -0.013534      -0.001407        1.000000   \n",
      "Male_Victims                  0.007548       0.074628       -0.355453   \n",
      "\n",
      "                         Male_Victims  \n",
      "Age                          0.031393  \n",
      "Juvenile                    -0.006795  \n",
      "Federal                      0.015677  \n",
      "Volunteer                    0.049505  \n",
      "Foreign National             0.003432  \n",
      "Asian                        0.022194  \n",
      "Black                        0.008675  \n",
      "Latino                       0.000074  \n",
      "Native American             -0.029871  \n",
      "Other                        0.012795  \n",
      "White                       -0.005854  \n",
      "Race_Factorized             -0.009431  \n",
      "Is_Nickname                 -0.015565  \n",
      "Num_Killed                   0.107159  \n",
      "Black_Victims                0.228317  \n",
      "White_Victims                0.324320  \n",
      "Latino_Victims               0.180321  \n",
      "Native_American_Victims     -0.045389  \n",
      "Other_Victims                0.007548  \n",
      "Asian_Victims                0.074628  \n",
      "Female_Victims              -0.355453  \n",
      "Male_Victims                 1.000000  \n",
      "\n",
      "[22 rows x 22 columns]\n"
     ]
    }
   ],
   "source": [
    "def female_victims(a):\n",
    "    victims = 0\n",
    "    v = re.findall(\"(\\d)(?=\\s\\w+\\sFemale)\", a)\n",
    "    if v:\n",
    "        v_num = [ int(x) for x in v ]\n",
    "        victims = sum(v_num)\n",
    "    return victims\n",
    "\n",
    "def male_victims(a):\n",
    "    victims = 0\n",
    "    v = re.findall(\"(\\d)(?=\\s\\w+\\sMale)\", a)\n",
    "    if v:\n",
    "        v_num = [ int(x) for x in v ]\n",
    "        victims = sum(v_num)\n",
    "    return victims\n",
    "\n",
    "executions['Female_Victims'] = executions.apply(lambda row: female_victims(row['Number / Race / Sex of Victims']), axis=1)\n",
    "executions['Male_Victims'] = executions.apply(lambda row: male_victims(row['Number / Race / Sex of Victims']), axis=1)\n",
    "print(executions.corr())"
   ]
  },
  {
   "cell_type": "code",
   "execution_count": 723,
   "metadata": {
    "collapsed": false
   },
   "outputs": [
    {
     "name": "stdout",
     "output_type": "stream",
     "text": [
      "   Year  White on white  Black on white  White on black  Black on black  \\\n",
      "0  1980            47.8             6.6             2.1            41.6   \n",
      "1  1981            47.1             6.9             2.4            41.6   \n",
      "2  1982            48.5             6.5             2.4            39.9   \n",
      "3  1983            48.3             6.2             2.2            40.3   \n",
      "4  1984            49.9             6.1             2.5            38.8   \n",
      "\n",
      "   Total_Victims  \n",
      "0          23040  \n",
      "1          22520  \n",
      "2          21010  \n",
      "3          19308  \n",
      "4          18692  \n"
     ]
    }
   ],
   "source": [
    "homicides_race = pd.read_csv(\"htus8008/htus8008f19_nohdr.csv\")\n",
    "print(homicides_race.head())"
   ]
  },
  {
   "cell_type": "code",
   "execution_count": 724,
   "metadata": {
    "collapsed": false
   },
   "outputs": [
    {
     "name": "stdout",
     "output_type": "stream",
     "text": [
      "   Year  White on white  Black on white  White on black  Black on black  \\\n",
      "0  1980            47.8             6.6             2.1            41.6   \n",
      "1  1981            47.1             6.9             2.4            41.6   \n",
      "2  1982            48.5             6.5             2.4            39.9   \n",
      "3  1983            48.3             6.2             2.2            40.3   \n",
      "4  1984            49.9             6.1             2.5            38.8   \n",
      "\n",
      "   Total_Victims  White_White  Black_White  White_Black  Black_Black  \n",
      "0          23040    11013.120     1520.640      483.840     9584.640  \n",
      "1          22520    10606.920     1553.880      540.480     9368.320  \n",
      "2          21010    10189.850     1365.650      504.240     8382.990  \n",
      "3          19308     9325.764     1197.096      424.776     7781.124  \n",
      "4          18692     9327.308     1140.212      467.300     7252.496  \n"
     ]
    }
   ],
   "source": [
    "homicides_race['White_White'] = homicides_race['White on white']*homicides_race['Total_Victims']/100\n",
    "homicides_race['Black_White'] = homicides_race['Black on white']*homicides_race['Total_Victims']/100\n",
    "homicides_race['White_Black'] = homicides_race['White on black']*homicides_race['Total_Victims']/100\n",
    "homicides_race['Black_Black'] = homicides_race['Black on black']*homicides_race['Total_Victims']/100\n",
    "\n",
    "print(homicides_race.head())\n"
   ]
  },
  {
   "cell_type": "code",
   "execution_count": 725,
   "metadata": {
    "collapsed": false
   },
   "outputs": [
    {
     "name": "stdout",
     "output_type": "stream",
     "text": [
      "240132.199 40619.833 17210.82 250197.614\n"
     ]
    }
   ],
   "source": [
    "total_w_w = sum(homicides_race['White_White'])\n",
    "total_b_w = sum(homicides_race['Black_White'])\n",
    "total_w_b = sum(homicides_race['White_Black'])\n",
    "total_b_b = sum(homicides_race['Black_Black'])\n",
    "\n",
    "print(total_w_w, total_b_w, total_w_b, total_b_b)"
   ]
  },
  {
   "cell_type": "code",
   "execution_count": 726,
   "metadata": {
    "collapsed": false
   },
   "outputs": [
    {
     "name": "stdout",
     "output_type": "stream",
     "text": [
      "         Date             Name  Age Sex    Race  \\\n",
      "0  01/10/1986      James Roach   25   m   White   \n",
      "1  01/11/1985      Joseph Shaw   29   m   White   \n",
      "2  01/08/1997        Paul Ruiz   49   m  Latino   \n",
      "3  01/08/1997  Earl Van Denton   47   m   White   \n",
      "4  01/06/1994      Keith Wells   31   m   White   \n",
      "\n",
      "     Number / Race / Sex of Victims State Region            Method  Juvenile  \\\n",
      "0  1 White Male(s)1 White Female(s)    SC      S     Electrocution         1   \n",
      "1  1 White Male(s)1 White Female(s)    SC      S     Electrocution         0   \n",
      "2                   2 White Male(s)    AR      S  Lethal Injection         0   \n",
      "3                   2 White Male(s)    AR      S  Lethal Injection         0   \n",
      "4  1 White Male(s)1 White Female(s)    ID      W  Lethal Injection         0   \n",
      "\n",
      "       ...       Is_Nickname  Num_Killed  Black_Victims White_Victims  \\\n",
      "0      ...                 0           2              0             2   \n",
      "1      ...                 0           2              0             2   \n",
      "2      ...                 0           2              0             2   \n",
      "3      ...                 0           2              0             2   \n",
      "4      ...                 0           2              0             2   \n",
      "\n",
      "  Latino_Victims  Native_American_Victims  Other_Victims  Asian_Victims  \\\n",
      "0              0                        0              0              0   \n",
      "1              0                        0              0              0   \n",
      "2              0                        0              0              0   \n",
      "3              0                        0              0              0   \n",
      "4              0                        0              0              0   \n",
      "\n",
      "   Female_Victims  Male_Victims  \n",
      "0               1             1  \n",
      "1               1             1  \n",
      "2               0             2  \n",
      "3               0             2  \n",
      "4               1             1  \n",
      "\n",
      "[5 rows x 33 columns]\n"
     ]
    },
    {
     "name": "stderr",
     "output_type": "stream",
     "text": [
      "/Users/melanie/anaconda/lib/python3.4/site-packages/IPython/kernel/__main__.py:9: SettingWithCopyWarning: \n",
      "A value is trying to be set on a copy of a slice from a DataFrame.\n",
      "Try using .loc[row_indexer,col_indexer] = value instead\n",
      "\n",
      "See the the caveats in the documentation: http://pandas.pydata.org/pandas-docs/stable/indexing.html#indexing-view-versus-copy\n"
     ]
    }
   ],
   "source": [
    "def year(a):\n",
    "    y = 0\n",
    "    try:\n",
    "        y = a.split('/')[2]\n",
    "    except:\n",
    "        print('no year')\n",
    "    return y\n",
    "\n",
    "executions['Year'] = executions.apply(lambda row: year(row['Date']), axis=1)\n",
    "\n",
    "print(executions.head())"
   ]
  },
  {
   "cell_type": "code",
   "execution_count": 727,
   "metadata": {
    "collapsed": false
   },
   "outputs": [
    {
     "name": "stderr",
     "output_type": "stream",
     "text": [
      "/Users/melanie/anaconda/lib/python3.4/site-packages/IPython/kernel/__main__.py:65: SettingWithCopyWarning: \n",
      "A value is trying to be set on a copy of a slice from a DataFrame.\n",
      "Try using .loc[row_indexer,col_indexer] = value instead\n",
      "\n",
      "See the the caveats in the documentation: http://pandas.pydata.org/pandas-docs/stable/indexing.html#indexing-view-versus-copy\n",
      "/Users/melanie/anaconda/lib/python3.4/site-packages/IPython/kernel/__main__.py:66: SettingWithCopyWarning: \n",
      "A value is trying to be set on a copy of a slice from a DataFrame.\n",
      "Try using .loc[row_indexer,col_indexer] = value instead\n",
      "\n",
      "See the the caveats in the documentation: http://pandas.pydata.org/pandas-docs/stable/indexing.html#indexing-view-versus-copy\n",
      "/Users/melanie/anaconda/lib/python3.4/site-packages/IPython/kernel/__main__.py:67: SettingWithCopyWarning: \n",
      "A value is trying to be set on a copy of a slice from a DataFrame.\n",
      "Try using .loc[row_indexer,col_indexer] = value instead\n",
      "\n",
      "See the the caveats in the documentation: http://pandas.pydata.org/pandas-docs/stable/indexing.html#indexing-view-versus-copy\n",
      "/Users/melanie/anaconda/lib/python3.4/site-packages/IPython/kernel/__main__.py:68: SettingWithCopyWarning: \n",
      "A value is trying to be set on a copy of a slice from a DataFrame.\n",
      "Try using .loc[row_indexer,col_indexer] = value instead\n",
      "\n",
      "See the the caveats in the documentation: http://pandas.pydata.org/pandas-docs/stable/indexing.html#indexing-view-versus-copy\n",
      "/Users/melanie/anaconda/lib/python3.4/site-packages/IPython/kernel/__main__.py:69: SettingWithCopyWarning: \n",
      "A value is trying to be set on a copy of a slice from a DataFrame.\n",
      "Try using .loc[row_indexer,col_indexer] = value instead\n",
      "\n",
      "See the the caveats in the documentation: http://pandas.pydata.org/pandas-docs/stable/indexing.html#indexing-view-versus-copy\n",
      "/Users/melanie/anaconda/lib/python3.4/site-packages/IPython/kernel/__main__.py:70: SettingWithCopyWarning: \n",
      "A value is trying to be set on a copy of a slice from a DataFrame.\n",
      "Try using .loc[row_indexer,col_indexer] = value instead\n",
      "\n",
      "See the the caveats in the documentation: http://pandas.pydata.org/pandas-docs/stable/indexing.html#indexing-view-versus-copy\n",
      "/Users/melanie/anaconda/lib/python3.4/site-packages/IPython/kernel/__main__.py:71: SettingWithCopyWarning: \n",
      "A value is trying to be set on a copy of a slice from a DataFrame.\n",
      "Try using .loc[row_indexer,col_indexer] = value instead\n",
      "\n",
      "See the the caveats in the documentation: http://pandas.pydata.org/pandas-docs/stable/indexing.html#indexing-view-versus-copy\n",
      "/Users/melanie/anaconda/lib/python3.4/site-packages/IPython/kernel/__main__.py:72: SettingWithCopyWarning: \n",
      "A value is trying to be set on a copy of a slice from a DataFrame.\n",
      "Try using .loc[row_indexer,col_indexer] = value instead\n",
      "\n",
      "See the the caveats in the documentation: http://pandas.pydata.org/pandas-docs/stable/indexing.html#indexing-view-versus-copy\n"
     ]
    },
    {
     "name": "stdout",
     "output_type": "stream",
     "text": [
      "         Date             Name  Age Sex    Race  \\\n",
      "0  01/10/1986      James Roach   25   m   White   \n",
      "1  01/11/1985      Joseph Shaw   29   m   White   \n",
      "2  01/08/1997        Paul Ruiz   49   m  Latino   \n",
      "3  01/08/1997  Earl Van Denton   47   m   White   \n",
      "4  01/06/1994      Keith Wells   31   m   White   \n",
      "\n",
      "     Number / Race / Sex of Victims State Region            Method  Juvenile  \\\n",
      "0  1 White Male(s)1 White Female(s)    SC      S     Electrocution         1   \n",
      "1  1 White Male(s)1 White Female(s)    SC      S     Electrocution         0   \n",
      "2                   2 White Male(s)    AR      S  Lethal Injection         0   \n",
      "3                   2 White Male(s)    AR      S  Lethal Injection         0   \n",
      "4  1 White Male(s)1 White Female(s)    ID      W  Lethal Injection         0   \n",
      "\n",
      "       ...        Female_Victims  Male_Victims  white_white white_black  \\\n",
      "0      ...                     1             1            1           0   \n",
      "1      ...                     1             1            1           0   \n",
      "2      ...                     0             2            1           0   \n",
      "3      ...                     0             2            1           0   \n",
      "4      ...                     1             1            1           0   \n",
      "\n",
      "  black_white  black_black  male_male  male_female  female_male  female_female  \n",
      "0           0            0          0            0            0              0  \n",
      "1           0            0          0            0            0              0  \n",
      "2           0            0          1            0            0              0  \n",
      "3           0            0          1            0            0              0  \n",
      "4           0            0          0            0            0              0  \n",
      "\n",
      "[5 rows x 41 columns]\n"
     ]
    }
   ],
   "source": [
    "def white_white(row):\n",
    "    y = 0\n",
    "    if row['White'] == 1 or row['Latino'] == 1:\n",
    "        if row['White_Victims'] > 0 or row['Latino_Victims'] > 0:\n",
    "            if row['Black_Victims'] == 0:\n",
    "                y = 1\n",
    "    return y\n",
    "\n",
    "def white_black(row):\n",
    "    y = 0\n",
    "    if row['White'] == 1 or row['Latino'] == 1:\n",
    "        if row['Black_Victims'] > 0:\n",
    "            if row['White_Victims'] == 0 and row['Latino_Victims'] == 0:\n",
    "                y = 1\n",
    "    return y\n",
    "\n",
    "def black_white(row):\n",
    "    y = 0\n",
    "    if row['Black'] == 1:\n",
    "        if row['White_Victims'] > 0 or row['Latino_Victims'] > 0:\n",
    "            if row['Black_Victims'] == 0:\n",
    "                y = 1\n",
    "    return y\n",
    "\n",
    "def black_black(row):\n",
    "    y = 0\n",
    "    if row['Black'] == 1:\n",
    "        if row['Black_Victims'] > 0:\n",
    "            if row['White_Victims'] == 0 and row['Latino_Victims'] == 0:\n",
    "                y = 1\n",
    "    return y\n",
    "\n",
    "def male_male(row):\n",
    "    y = 0\n",
    "    if row['Sex'] == 'm':\n",
    "        if row['Female_Victims'] == 0:\n",
    "            if row['Male_Victims'] > 0:\n",
    "                y = 1\n",
    "    return y\n",
    "\n",
    "def male_female(row):\n",
    "    y = 0\n",
    "    if row['Sex'] == 'm':\n",
    "        if row['Female_Victims'] > 0:\n",
    "            if row['Male_Victims'] == 0:\n",
    "                y = 1\n",
    "    return y\n",
    "\n",
    "def female_male(row):\n",
    "    y = 0\n",
    "    if row['Sex'] == 'f':\n",
    "        if row['Female_Victims'] == 0:\n",
    "            if row['Male_Victims'] > 0:\n",
    "                y = 1\n",
    "    return y\n",
    "\n",
    "def female_female(row):\n",
    "    y = 0\n",
    "    if row['Sex'] == 'f':\n",
    "        if row['Female_Victims'] > 0:\n",
    "            if row['Male_Victims'] == 0:\n",
    "                y = 1\n",
    "    return y\n",
    "\n",
    "executions['white_white'] = executions.apply(lambda row: white_white(row), axis=1)\n",
    "executions['white_black'] = executions.apply(lambda row: white_black(row), axis=1)\n",
    "executions['black_white'] = executions.apply(lambda row: black_white(row), axis=1)\n",
    "executions['black_black'] = executions.apply(lambda row: black_black(row), axis=1)\n",
    "executions['male_male'] = executions.apply(lambda row: male_male(row), axis=1)\n",
    "executions['male_female'] = executions.apply(lambda row: male_female(row), axis=1)\n",
    "executions['female_male'] = executions.apply(lambda row: female_male(row), axis=1)\n",
    "executions['female_female'] = executions.apply(lambda row: female_female(row), axis=1)\n",
    "\n",
    "print(executions.head())"
   ]
  },
  {
   "cell_type": "code",
   "execution_count": 728,
   "metadata": {
    "collapsed": false
   },
   "outputs": [
    {
     "ename": "KeyError",
     "evalue": "'male_male'",
     "output_type": "error",
     "traceback": [
      "\u001b[0;31m---------------------------------------------------------------------------\u001b[0m",
      "\u001b[0;31mKeyError\u001b[0m                                  Traceback (most recent call last)",
      "\u001b[0;32m<ipython-input-728-9cac7e0f035c>\u001b[0m in \u001b[0;36m<module>\u001b[0;34m()\u001b[0m\n\u001b[1;32m     10\u001b[0m \u001b[0myear_grouped\u001b[0m\u001b[0;34m[\u001b[0m\u001b[0;34m'black_black'\u001b[0m\u001b[0;34m]\u001b[0m \u001b[0;34m=\u001b[0m \u001b[0mbb\u001b[0m\u001b[0;34m[\u001b[0m\u001b[0;34m'black_black'\u001b[0m\u001b[0;34m]\u001b[0m\u001b[0;34m\u001b[0m\u001b[0m\n\u001b[1;32m     11\u001b[0m \u001b[0mmm\u001b[0m \u001b[0;34m=\u001b[0m \u001b[0mexecutions\u001b[0m\u001b[0;34m.\u001b[0m\u001b[0mgroupby\u001b[0m\u001b[0;34m(\u001b[0m\u001b[0;34m'Year'\u001b[0m\u001b[0;34m)\u001b[0m\u001b[0;34m[\u001b[0m\u001b[0;34m'male_male'\u001b[0m\u001b[0;34m]\u001b[0m\u001b[0;34m.\u001b[0m\u001b[0msum\u001b[0m\u001b[0;34m(\u001b[0m\u001b[0;34m)\u001b[0m\u001b[0;34m.\u001b[0m\u001b[0mreset_index\u001b[0m\u001b[0;34m(\u001b[0m\u001b[0;34m)\u001b[0m\u001b[0;34m\u001b[0m\u001b[0m\n\u001b[0;32m---> 12\u001b[0;31m \u001b[0myear_grouped\u001b[0m\u001b[0;34m[\u001b[0m\u001b[0;34m'male_male'\u001b[0m\u001b[0;34m]\u001b[0m \u001b[0;34m=\u001b[0m \u001b[0mwb\u001b[0m\u001b[0;34m[\u001b[0m\u001b[0;34m'male_male'\u001b[0m\u001b[0;34m]\u001b[0m\u001b[0;34m\u001b[0m\u001b[0m\n\u001b[0m\u001b[1;32m     13\u001b[0m \u001b[0mmf\u001b[0m \u001b[0;34m=\u001b[0m \u001b[0mexecutions\u001b[0m\u001b[0;34m.\u001b[0m\u001b[0mgroupby\u001b[0m\u001b[0;34m(\u001b[0m\u001b[0;34m'Year'\u001b[0m\u001b[0;34m)\u001b[0m\u001b[0;34m[\u001b[0m\u001b[0;34m'male_female'\u001b[0m\u001b[0;34m]\u001b[0m\u001b[0;34m.\u001b[0m\u001b[0msum\u001b[0m\u001b[0;34m(\u001b[0m\u001b[0;34m)\u001b[0m\u001b[0;34m.\u001b[0m\u001b[0mreset_index\u001b[0m\u001b[0;34m(\u001b[0m\u001b[0;34m)\u001b[0m\u001b[0;34m\u001b[0m\u001b[0m\n\u001b[1;32m     14\u001b[0m \u001b[0myear_grouped\u001b[0m\u001b[0;34m[\u001b[0m\u001b[0;34m'male_female'\u001b[0m\u001b[0;34m]\u001b[0m \u001b[0;34m=\u001b[0m \u001b[0mwb\u001b[0m\u001b[0;34m[\u001b[0m\u001b[0;34m'male_female'\u001b[0m\u001b[0;34m]\u001b[0m\u001b[0;34m\u001b[0m\u001b[0m\n",
      "\u001b[0;32m/Users/melanie/anaconda/lib/python3.4/site-packages/pandas/core/frame.py\u001b[0m in \u001b[0;36m__getitem__\u001b[0;34m(self, key)\u001b[0m\n\u001b[1;32m   1795\u001b[0m             \u001b[0;32mreturn\u001b[0m \u001b[0mself\u001b[0m\u001b[0;34m.\u001b[0m\u001b[0m_getitem_multilevel\u001b[0m\u001b[0;34m(\u001b[0m\u001b[0mkey\u001b[0m\u001b[0;34m)\u001b[0m\u001b[0;34m\u001b[0m\u001b[0m\n\u001b[1;32m   1796\u001b[0m         \u001b[0;32melse\u001b[0m\u001b[0;34m:\u001b[0m\u001b[0;34m\u001b[0m\u001b[0m\n\u001b[0;32m-> 1797\u001b[0;31m             \u001b[0;32mreturn\u001b[0m \u001b[0mself\u001b[0m\u001b[0;34m.\u001b[0m\u001b[0m_getitem_column\u001b[0m\u001b[0;34m(\u001b[0m\u001b[0mkey\u001b[0m\u001b[0;34m)\u001b[0m\u001b[0;34m\u001b[0m\u001b[0m\n\u001b[0m\u001b[1;32m   1798\u001b[0m \u001b[0;34m\u001b[0m\u001b[0m\n\u001b[1;32m   1799\u001b[0m     \u001b[0;32mdef\u001b[0m \u001b[0m_getitem_column\u001b[0m\u001b[0;34m(\u001b[0m\u001b[0mself\u001b[0m\u001b[0;34m,\u001b[0m \u001b[0mkey\u001b[0m\u001b[0;34m)\u001b[0m\u001b[0;34m:\u001b[0m\u001b[0;34m\u001b[0m\u001b[0m\n",
      "\u001b[0;32m/Users/melanie/anaconda/lib/python3.4/site-packages/pandas/core/frame.py\u001b[0m in \u001b[0;36m_getitem_column\u001b[0;34m(self, key)\u001b[0m\n\u001b[1;32m   1802\u001b[0m         \u001b[0;31m# get column\u001b[0m\u001b[0;34m\u001b[0m\u001b[0;34m\u001b[0m\u001b[0m\n\u001b[1;32m   1803\u001b[0m         \u001b[0;32mif\u001b[0m \u001b[0mself\u001b[0m\u001b[0;34m.\u001b[0m\u001b[0mcolumns\u001b[0m\u001b[0;34m.\u001b[0m\u001b[0mis_unique\u001b[0m\u001b[0;34m:\u001b[0m\u001b[0;34m\u001b[0m\u001b[0m\n\u001b[0;32m-> 1804\u001b[0;31m             \u001b[0;32mreturn\u001b[0m \u001b[0mself\u001b[0m\u001b[0;34m.\u001b[0m\u001b[0m_get_item_cache\u001b[0m\u001b[0;34m(\u001b[0m\u001b[0mkey\u001b[0m\u001b[0;34m)\u001b[0m\u001b[0;34m\u001b[0m\u001b[0m\n\u001b[0m\u001b[1;32m   1805\u001b[0m \u001b[0;34m\u001b[0m\u001b[0m\n\u001b[1;32m   1806\u001b[0m         \u001b[0;31m# duplicate columns & possible reduce dimensionaility\u001b[0m\u001b[0;34m\u001b[0m\u001b[0;34m\u001b[0m\u001b[0m\n",
      "\u001b[0;32m/Users/melanie/anaconda/lib/python3.4/site-packages/pandas/core/generic.py\u001b[0m in \u001b[0;36m_get_item_cache\u001b[0;34m(self, item)\u001b[0m\n\u001b[1;32m   1082\u001b[0m         \u001b[0mres\u001b[0m \u001b[0;34m=\u001b[0m \u001b[0mcache\u001b[0m\u001b[0;34m.\u001b[0m\u001b[0mget\u001b[0m\u001b[0;34m(\u001b[0m\u001b[0mitem\u001b[0m\u001b[0;34m)\u001b[0m\u001b[0;34m\u001b[0m\u001b[0m\n\u001b[1;32m   1083\u001b[0m         \u001b[0;32mif\u001b[0m \u001b[0mres\u001b[0m \u001b[0;32mis\u001b[0m \u001b[0;32mNone\u001b[0m\u001b[0;34m:\u001b[0m\u001b[0;34m\u001b[0m\u001b[0m\n\u001b[0;32m-> 1084\u001b[0;31m             \u001b[0mvalues\u001b[0m \u001b[0;34m=\u001b[0m \u001b[0mself\u001b[0m\u001b[0;34m.\u001b[0m\u001b[0m_data\u001b[0m\u001b[0;34m.\u001b[0m\u001b[0mget\u001b[0m\u001b[0;34m(\u001b[0m\u001b[0mitem\u001b[0m\u001b[0;34m)\u001b[0m\u001b[0;34m\u001b[0m\u001b[0m\n\u001b[0m\u001b[1;32m   1085\u001b[0m             \u001b[0mres\u001b[0m \u001b[0;34m=\u001b[0m \u001b[0mself\u001b[0m\u001b[0;34m.\u001b[0m\u001b[0m_box_item_values\u001b[0m\u001b[0;34m(\u001b[0m\u001b[0mitem\u001b[0m\u001b[0;34m,\u001b[0m \u001b[0mvalues\u001b[0m\u001b[0;34m)\u001b[0m\u001b[0;34m\u001b[0m\u001b[0m\n\u001b[1;32m   1086\u001b[0m             \u001b[0mcache\u001b[0m\u001b[0;34m[\u001b[0m\u001b[0mitem\u001b[0m\u001b[0;34m]\u001b[0m \u001b[0;34m=\u001b[0m \u001b[0mres\u001b[0m\u001b[0;34m\u001b[0m\u001b[0m\n",
      "\u001b[0;32m/Users/melanie/anaconda/lib/python3.4/site-packages/pandas/core/internals.py\u001b[0m in \u001b[0;36mget\u001b[0;34m(self, item, fastpath)\u001b[0m\n\u001b[1;32m   2849\u001b[0m \u001b[0;34m\u001b[0m\u001b[0m\n\u001b[1;32m   2850\u001b[0m             \u001b[0;32mif\u001b[0m \u001b[0;32mnot\u001b[0m \u001b[0misnull\u001b[0m\u001b[0;34m(\u001b[0m\u001b[0mitem\u001b[0m\u001b[0;34m)\u001b[0m\u001b[0;34m:\u001b[0m\u001b[0;34m\u001b[0m\u001b[0m\n\u001b[0;32m-> 2851\u001b[0;31m                 \u001b[0mloc\u001b[0m \u001b[0;34m=\u001b[0m \u001b[0mself\u001b[0m\u001b[0;34m.\u001b[0m\u001b[0mitems\u001b[0m\u001b[0;34m.\u001b[0m\u001b[0mget_loc\u001b[0m\u001b[0;34m(\u001b[0m\u001b[0mitem\u001b[0m\u001b[0;34m)\u001b[0m\u001b[0;34m\u001b[0m\u001b[0m\n\u001b[0m\u001b[1;32m   2852\u001b[0m             \u001b[0;32melse\u001b[0m\u001b[0;34m:\u001b[0m\u001b[0;34m\u001b[0m\u001b[0m\n\u001b[1;32m   2853\u001b[0m                 \u001b[0mindexer\u001b[0m \u001b[0;34m=\u001b[0m \u001b[0mnp\u001b[0m\u001b[0;34m.\u001b[0m\u001b[0marange\u001b[0m\u001b[0;34m(\u001b[0m\u001b[0mlen\u001b[0m\u001b[0;34m(\u001b[0m\u001b[0mself\u001b[0m\u001b[0;34m.\u001b[0m\u001b[0mitems\u001b[0m\u001b[0;34m)\u001b[0m\u001b[0;34m)\u001b[0m\u001b[0;34m[\u001b[0m\u001b[0misnull\u001b[0m\u001b[0;34m(\u001b[0m\u001b[0mself\u001b[0m\u001b[0;34m.\u001b[0m\u001b[0mitems\u001b[0m\u001b[0;34m)\u001b[0m\u001b[0;34m]\u001b[0m\u001b[0;34m\u001b[0m\u001b[0m\n",
      "\u001b[0;32m/Users/melanie/anaconda/lib/python3.4/site-packages/pandas/core/index.py\u001b[0m in \u001b[0;36mget_loc\u001b[0;34m(self, key, method)\u001b[0m\n\u001b[1;32m   1570\u001b[0m         \"\"\"\n\u001b[1;32m   1571\u001b[0m         \u001b[0;32mif\u001b[0m \u001b[0mmethod\u001b[0m \u001b[0;32mis\u001b[0m \u001b[0;32mNone\u001b[0m\u001b[0;34m:\u001b[0m\u001b[0;34m\u001b[0m\u001b[0m\n\u001b[0;32m-> 1572\u001b[0;31m             \u001b[0;32mreturn\u001b[0m \u001b[0mself\u001b[0m\u001b[0;34m.\u001b[0m\u001b[0m_engine\u001b[0m\u001b[0;34m.\u001b[0m\u001b[0mget_loc\u001b[0m\u001b[0;34m(\u001b[0m\u001b[0m_values_from_object\u001b[0m\u001b[0;34m(\u001b[0m\u001b[0mkey\u001b[0m\u001b[0;34m)\u001b[0m\u001b[0;34m)\u001b[0m\u001b[0;34m\u001b[0m\u001b[0m\n\u001b[0m\u001b[1;32m   1573\u001b[0m \u001b[0;34m\u001b[0m\u001b[0m\n\u001b[1;32m   1574\u001b[0m         \u001b[0mindexer\u001b[0m \u001b[0;34m=\u001b[0m \u001b[0mself\u001b[0m\u001b[0;34m.\u001b[0m\u001b[0mget_indexer\u001b[0m\u001b[0;34m(\u001b[0m\u001b[0;34m[\u001b[0m\u001b[0mkey\u001b[0m\u001b[0;34m]\u001b[0m\u001b[0;34m,\u001b[0m \u001b[0mmethod\u001b[0m\u001b[0;34m=\u001b[0m\u001b[0mmethod\u001b[0m\u001b[0;34m)\u001b[0m\u001b[0;34m\u001b[0m\u001b[0m\n",
      "\u001b[0;32mpandas/index.pyx\u001b[0m in \u001b[0;36mpandas.index.IndexEngine.get_loc (pandas/index.c:3824)\u001b[0;34m()\u001b[0m\n",
      "\u001b[0;32mpandas/index.pyx\u001b[0m in \u001b[0;36mpandas.index.IndexEngine.get_loc (pandas/index.c:3704)\u001b[0;34m()\u001b[0m\n",
      "\u001b[0;32mpandas/hashtable.pyx\u001b[0m in \u001b[0;36mpandas.hashtable.PyObjectHashTable.get_item (pandas/hashtable.c:12280)\u001b[0;34m()\u001b[0m\n",
      "\u001b[0;32mpandas/hashtable.pyx\u001b[0m in \u001b[0;36mpandas.hashtable.PyObjectHashTable.get_item (pandas/hashtable.c:12231)\u001b[0;34m()\u001b[0m\n",
      "\u001b[0;31mKeyError\u001b[0m: 'male_male'"
     ]
    }
   ],
   "source": [
    "# make death penalty dataset look like homicide dataset\n",
    "year_grouped = None\n",
    "year_grouped = executions.groupby('Year')['white_white'].sum()\n",
    "year_grouped = year_grouped.reset_index()\n",
    "wb = executions.groupby('Year')['white_black'].sum().reset_index()\n",
    "year_grouped['white_black'] = wb['white_black']\n",
    "bw = executions.groupby('Year')['black_white'].sum().reset_index()\n",
    "year_grouped['black_white'] = bw['black_white']\n",
    "bb = executions.groupby('Year')['black_black'].sum().reset_index()\n",
    "year_grouped['black_black'] = bb['black_black']\n",
    "mm = executions.groupby('Year')['male_male'].sum().reset_index()\n",
    "year_grouped['male_male'] = mm['male_male']\n",
    "mf = executions.groupby('Year')['male_female'].sum().reset_index()\n",
    "year_grouped['male_female'] = wf['male_female']\n",
    "fm = executions.groupby('Year')['female_male'].sum().reset_index()\n",
    "year_grouped['female_male'] = fm['female_male']\n",
    "ff = executions.groupby('Year')['female_female'].sum().reset_index()\n",
    "year_grouped['female_female'] = ff['female_female']\n",
    "print(year_grouped)"
   ]
  },
  {
   "cell_type": "code",
   "execution_count": 410,
   "metadata": {
    "collapsed": false
   },
   "outputs": [
    {
     "name": "stdout",
     "output_type": "stream",
     "text": [
      "240132.199 40619.833 17210.82 250197.614\n",
      "851 300 23 163\n"
     ]
    }
   ],
   "source": [
    "executed_w_w = sum(year_grouped['white_white'])\n",
    "executed_b_w = sum(year_grouped['black_white'])\n",
    "executed_w_b = sum(year_grouped['white_black'])\n",
    "executed_b_b = sum(year_grouped['black_black'])\n",
    "\n",
    "print(total_w_w, total_b_w, total_w_b, total_b_b)\n",
    "print(executed_w_w, executed_b_w, executed_w_b, executed_b_b)"
   ]
  },
  {
   "cell_type": "code",
   "execution_count": 411,
   "metadata": {
    "collapsed": false
   },
   "outputs": [
    {
     "name": "stdout",
     "output_type": "stream",
     "text": [
      "3.46453959106e-186\n"
     ]
    }
   ],
   "source": [
    "chi2, p, dof, expected = stats.chi2_contingency([[executed_w_w, executed_b_w, executed_w_b, executed_b_b], [total_w_w, total_b_w, total_w_b, total_b_b]])\n",
    "print(p)"
   ]
  },
  {
   "cell_type": "code",
   "execution_count": 703,
   "metadata": {
    "collapsed": false
   },
   "outputs": [
    {
     "name": "stdout",
     "output_type": "stream",
     "text": [
      "0.4245363592 0.0718129267335 0.0304274849107 0.442331284894\n",
      "0.636499626028 0.224382946896 0.0172026925954 0.12191473448\n",
      "1.49928177466 3.12454814338 0.565366892657 0.275618611307\n"
     ]
    }
   ],
   "source": [
    "# compare percentages\n",
    "\n",
    "total_victims = sum(homicides_race['Total_Victims'])\n",
    "total_executed = executed_w_w + executed_b_w + executed_w_b + executed_b_b\n",
    "\n",
    "print(total_w_w/total_victims, total_b_w/total_victims, total_w_b/total_victims, total_b_b/total_victims)\n",
    "print(executed_w_w/total_executed, executed_b_w/total_executed, executed_w_b/total_executed, executed_b_b/total_executed)\n",
    "\n",
    "print((executed_w_w/total_executed)/(total_w_w/total_victims), executed_b_w/total_executed/(total_b_w/total_victims), executed_w_b/total_executed/(total_w_b/total_victims), executed_b_b/total_executed/(total_b_b/total_victims))"
   ]
  },
  {
   "cell_type": "code",
   "execution_count": 413,
   "metadata": {
    "collapsed": false
   },
   "outputs": [
    {
     "data": {
      "text/plain": [
       "<matplotlib.collections.PathCollection at 0x110d27b38>"
      ]
     },
     "execution_count": 413,
     "metadata": {},
     "output_type": "execute_result"
    },
    {
     "data": {
      "image/png": "[encoded data removed]",
      "text/plain": [
       "<matplotlib.figure.Figure at 0x111b7cb00>"
      ]
     },
     "metadata": {},
     "output_type": "display_data"
    }
   ],
   "source": [
    "year_grouped['year_i'] = year_grouped.apply(lambda row: int(row['Year']), axis=1)\n",
    "years = year_grouped['year_i']\n",
    "ww = year_grouped['white_white']\n",
    "bw = year_grouped['black_white']\n",
    "wb = year_grouped['white_black']\n",
    "bb = year_grouped['black_black']\n",
    "fig, axes = plt.subplots(1, 1, figsize=(14, 8))\n",
    "axes.set_ylim((0, 60))\n",
    "\n",
    "plt.scatter(years, ww, s=40, color='aqua', label=\"Age v Volunteer\")\n",
    "plt.scatter(years, bw, s=40, color='red', label=\"Age v Volunteer\")\n",
    "plt.scatter(years, wb, s=40, color='green', label=\"Age v Volunteer\")\n",
    "plt.scatter(years, bb, s=40, color='blue', label=\"Age v Volunteer\")\n"
   ]
  },
  {
   "cell_type": "code",
   "execution_count": 414,
   "metadata": {
    "collapsed": false
   },
   "outputs": [
    {
     "data": {
      "text/plain": [
       "<matplotlib.collections.PathCollection at 0x1126f9668>"
      ]
     },
     "execution_count": 414,
     "metadata": {},
     "output_type": "execute_result"
    },
    {
     "data": {
      "image/png": "[encoded data removed]",
      "text/plain": [
       "<matplotlib.figure.Figure at 0x10e2820f0>"
      ]
     },
     "metadata": {},
     "output_type": "display_data"
    }
   ],
   "source": [
    "homicides_race['year_i'] = homicides_race.apply(lambda row: int(row['Year']), axis=1)\n",
    "years = homicides_race['year_i']\n",
    "ww = homicides_race['White_White']\n",
    "bw = homicides_race['Black_White']\n",
    "wb = homicides_race['White_Black']\n",
    "bb = homicides_race['Black_Black']\n",
    "fig, axes = plt.subplots(1, 1, figsize=(14, 8))\n",
    "axes.set_ylim((0, 15000))\n",
    "plt.scatter(years, ww, s=40, color='aqua', label=\"Age v Volunteer\")\n",
    "plt.scatter(years, bw, s=40, color='red', label=\"Age v Volunteer\")\n",
    "plt.scatter(years, wb, s=40, color='orange', label=\"Age v Volunteer\")\n",
    "plt.scatter(years, bb, s=40, color='blue', label=\"Age v Volunteer\")"
   ]
  },
  {
   "cell_type": "code",
   "execution_count": 416,
   "metadata": {
    "collapsed": false
   },
   "outputs": [
    {
     "data": {
      "text/plain": [
       "<matplotlib.collections.PathCollection at 0x11396e780>"
      ]
     },
     "execution_count": 416,
     "metadata": {},
     "output_type": "execute_result"
    },
    {
     "data": {
      "image/png": "[encoded data removed]",
      "text/plain": [
       "<matplotlib.figure.Figure at 0x10f283a20>"
      ]
     },
     "metadata": {},
     "output_type": "display_data"
    }
   ],
   "source": [
    "years = homicides_race['year_i']\n",
    "v = homicides_race['Total_Victims']\n",
    "fig, axes = plt.subplots(1, 1, figsize=(14, 8))\n",
    "axes.set_ylim((0, 30000))\n",
    "plt.scatter(years, v, s=40, color='blue', label=\"Age v Volunteer\")"
   ]
  },
  {
   "cell_type": "code",
   "execution_count": 417,
   "metadata": {
    "collapsed": false
   },
   "outputs": [
    {
     "data": {
      "text/plain": [
       "<matplotlib.collections.PathCollection at 0x1134a4390>"
      ]
     },
     "execution_count": 417,
     "metadata": {},
     "output_type": "execute_result"
    },
    {
     "data": {
      "image/png": "[encoded data removed]",
      "text/plain": [
       "<matplotlib.figure.Figure at 0x10da28668>"
      ]
     },
     "metadata": {},
     "output_type": "display_data"
    }
   ],
   "source": [
    "total_e = executions.groupby('Year').count().reset_index()\n",
    "year_grouped['total_executions'] = total_e['State']\n",
    "ww = year_grouped['black_black']\n",
    "wb = year_grouped['white_black']\n",
    "\n",
    "# percent overall\n",
    "\n",
    "years = year_grouped['year_i']\n",
    "v = year_grouped['total_executions']\n",
    "fig, axes = plt.subplots(1, 1, figsize=(14, 8))\n",
    "axes.set_ylim((0, 100))\n",
    "plt.scatter(years, v, s=40, color='blue', label=\"Age v Volunteer\")\n",
    "plt.scatter(years, ww, s=40, color='orange', label=\"Age v Volunteer\")\n",
    "plt.scatter(years, wb, s=40, color='green', label=\"Age v Volunteer\")"
   ]
  },
  {
   "cell_type": "code",
   "execution_count": 580,
   "metadata": {
    "collapsed": false
   },
   "outputs": [
    {
     "name": "stdout",
     "output_type": "stream",
     "text": [
      "    index  Year  white_white  white_black  black_white  black_black  year_i  \\\n",
      "0       0  1980            0            0            0            0    1980   \n",
      "1       2  1981            1            0            0            0    1981   \n",
      "2       3  1982            1            0            1            0    1982   \n",
      "3       4  1983            4            0            0            1    1983   \n",
      "4       5  1984           13            0            6            1    1984   \n",
      "5       6  1985           10            0            4            3    1985   \n",
      "6       7  1986           11            0            7            0    1986   \n",
      "7       8  1987           13            0            9            2    1987   \n",
      "8       9  1988            6            0            2            3    1988   \n",
      "9      10  1989            8            0            5            3    1989   \n",
      "10     11  1990           16            0            5            2    1990   \n",
      "11     12  1991            6            1            5            2    1991   \n",
      "12     13  1992           19            0            8            2    1992   \n",
      "13     14  1993           23            0           11            2    1993   \n",
      "14     15  1994           19            0            7            4    1994   \n",
      "15     16  1995           29            3           14            8    1995   \n",
      "16     17  1996           31            0            8            4    1996   \n",
      "17     18  1997           42            3           21            5    1997   \n",
      "18     19  1998           43            3           11            7    1998   \n",
      "19     20  1999           55            3           24            7    1999   \n",
      "20     21  2000           48            0           21           12    2000   \n",
      "21     22  2001           44            0            7           10    2001   \n",
      "22     23  2002           51            1           10            8    2002   \n",
      "23     24  2003           43            0            8           11    2003   \n",
      "24     25  2004           39            0           12            7    2004   \n",
      "25     26  2005           40            0           10            8    2005   \n",
      "26     27  2006           26            3           14            7    2006   \n",
      "27     28  2007           26            0           10            2    2007   \n",
      "28     29  2008           18            0            8            8    2008   \n",
      "\n",
      "    total_executions  \n",
      "0                  0  \n",
      "1                  1  \n",
      "2                  2  \n",
      "3                  5  \n",
      "4                 21  \n",
      "5                 18  \n",
      "6                 18  \n",
      "7                 25  \n",
      "8                 11  \n",
      "9                 16  \n",
      "10                23  \n",
      "11                14  \n",
      "12                31  \n",
      "13                38  \n",
      "14                31  \n",
      "15                56  \n",
      "16                45  \n",
      "17                74  \n",
      "18                68  \n",
      "19                98  \n",
      "20                85  \n",
      "21                66  \n",
      "22                71  \n",
      "23                65  \n",
      "24                59  \n",
      "25                60  \n",
      "26                52  \n",
      "27                42  \n",
      "28                37  \n"
     ]
    }
   ],
   "source": [
    "# make them the same size\n",
    "year_grouped2 = year_grouped.drop([0,1,30,31,32,33,34,35,36])\n",
    "year1980 = ['1980', 0, 0, 0, 0, 1980, 0]  \n",
    "year_grouped2.loc[0] = year1980\n",
    "year_grouped2 = year_grouped2.sort(['year_i'], ascending=[1])\n",
    "year_grouped2 = year_grouped2.reset_index()\n",
    "# year_grouped2 = year_grouped2.ix[2:]\n",
    "print(year_grouped2)"
   ]
  },
  {
   "cell_type": "code",
   "execution_count": 581,
   "metadata": {
    "collapsed": false
   },
   "outputs": [
    {
     "data": {
      "text/plain": [
       "<matplotlib.collections.PathCollection at 0x11f7dfa58>"
      ]
     },
     "execution_count": 581,
     "metadata": {},
     "output_type": "execute_result"
    },
    {
     "data": {
      "image/png": "[encoded data removed]",
      "text/plain": [
       "<matplotlib.figure.Figure at 0x11e8ffe80>"
      ]
     },
     "metadata": {},
     "output_type": "display_data"
    }
   ],
   "source": [
    "homicides_race['tv_scaled'] = homicides_race.apply(lambda row: row['Total_Victims']/300, axis=1)\n",
    "homicides_race['bw_scaled'] = homicides_race.apply(lambda row: row['Black_White']/100, axis=1)\n",
    "\n",
    "v = homicides_race['tv_scaled']\n",
    "\n",
    "homicides_race['Total_Victims']\n",
    "years = year_grouped2['year_i']\n",
    "e = year_grouped2['total_executions']\n",
    "fig, axes = plt.subplots(1, 1, figsize=(14, 8))\n",
    "axes.set_ylim((0, 100))\n",
    "plt.scatter(years, v, s=40, color='blue', label=\"Age v Volunteer\")\n",
    "plt.scatter(years, e, s=40, color='green', label=\"Age v Volunteer\")"
   ]
  },
  {
   "cell_type": "code",
   "execution_count": 582,
   "metadata": {
    "collapsed": false
   },
   "outputs": [
    {
     "name": "stdout",
     "output_type": "stream",
     "text": [
      "total (-0.69584306357469261, 2.7763542269542141e-05)\n",
      "ww X total (-0.70185608638467645, 2.2073779144065726e-05)\n",
      "wb X total (-0.23530815916024317, 0.21915532271639107)\n",
      "bw X total (-0.50452661954224198, 0.0052544871997254709)\n",
      "bb X total (-0.70369994116909873, 2.0551898566865619e-05)\n",
      "\n",
      "\n",
      "total X ww (-0.85743768503510331, 2.8391913437826599e-09)\n",
      "total X bb (-0.48646183481170358, 0.0074540556176668233)\n",
      "total X wb (-0.080009083920378476, 0.67992009177137414)\n",
      "total X bw (-0.32760462481966635, 0.082768520724379221)\n",
      "\n",
      "\n",
      "ww X ww (-0.85244260459537224, 4.3815398883141983e-09)\n",
      "bb X ww (-0.83601857395730872, 1.6437939131189808e-08)\n",
      "bw X ww (-0.68603280604030203, 3.9900616150967698e-05)\n",
      "wb X ww (-0.33010231617069768, 0.080314791733875429)\n",
      "\n",
      "\n",
      "bb X bb (-0.50622345189010176, 0.0050797996826061516)\n",
      "wb X bb (-0.1449475676643206, 0.45313009320304265)\n",
      "bw X bb (-0.31411239481268788, 0.097026002927776689)\n",
      "ww X bb (-0.31411239481268788, 0.097026002927776689)\n",
      "\n",
      "\n",
      "bb X wb (-0.059897774909973119, 0.75758923813274603)\n",
      "wb X wb (0.010286203398917849, 0.95776570108108317)\n",
      "bw X wb (-0.013759298183092914, 0.94352510859393202)\n",
      "ww X wb (-0.013759298183092914, 0.94352510859393202)\n",
      "\n",
      "\n",
      "bb X bw (-0.37792840229049407, 0.043243311552206128)\n",
      "wb X bw (-0.090492161943808491, 0.64061481431397294)\n",
      "bw X bw (-0.17374333838931, 0.36739543916440964)\n",
      "ww X bw (-0.17374333838931, 0.36739543916440964)\n"
     ]
    }
   ],
   "source": [
    "total_victims = homicides_race['Total_Victims']\n",
    "ww_total = homicides_race['White_White']\n",
    "bb_total = homicides_race['Black_Black']\n",
    "bw_total = homicides_race['Black_White']\n",
    "wb_total = homicides_race['White_Black']\n",
    "\n",
    "executed_victims = year_grouped2['total_executions']\n",
    "ww_executed = year_grouped2['white_white']\n",
    "wb_executed = year_grouped2['white_black']\n",
    "bw_executed = year_grouped2['black_white']\n",
    "bb_executed = year_grouped2['black_black']\n",
    "\n",
    "print('total', stats.pearsonr(executed_victims, total_victims))\n",
    "print('ww X total', stats.pearsonr(ww_executed, total_victims))\n",
    "print('wb X total', stats.pearsonr(wb_executed, total_victims))\n",
    "print('bw X total', stats.pearsonr(bw_executed, total_victims))\n",
    "print('bb X total', stats.pearsonr(bb_executed, total_victims))\n",
    "\n",
    "print('\\n')\n",
    "print('total X ww', stats.pearsonr(executed_victims, ww_total))\n",
    "print('total X bb', stats.pearsonr(executed_victims, bb_total))\n",
    "print('total X wb', stats.pearsonr(executed_victims, wb_total))\n",
    "print('total X bw', stats.pearsonr(executed_victims, bw_total))\n",
    "print('\\n')\n",
    "# significant relationship\n",
    "print('ww X ww', stats.pearsonr(ww_executed, ww_total))\n",
    "print('bb X ww', stats.pearsonr(bb_executed, ww_total))\n",
    "print('bw X ww', stats.pearsonr(bw_executed, ww_total))\n",
    "print('wb X ww', stats.pearsonr(wb_executed, ww_total))\n",
    "print('\\n')\n",
    "# lesser neg correlation for bb crime but only bb is statistically significant\n",
    "print('bb X bb', stats.pearsonr(bb_executed, bb_total))\n",
    "print('wb X bb', stats.pearsonr(wb_executed, bb_total))\n",
    "print('bw X bb', stats.pearsonr(bw_executed, bb_total))\n",
    "print('ww X bb', stats.pearsonr(bw_executed, bb_total))\n",
    "print('\\n')\n",
    "# not statistically significant at all some even are pos corr\n",
    "print('bb X wb', stats.pearsonr(bb_executed, wb_total))\n",
    "print('wb X wb', stats.pearsonr(wb_executed, wb_total))\n",
    "print('bw X wb', stats.pearsonr(bw_executed, wb_total))\n",
    "print('ww X wb', stats.pearsonr(bw_executed, wb_total))\n",
    "print('\\n')\n",
    "# not statistically significant\n",
    "print('bb X bw', stats.pearsonr(bb_executed, bw_total))\n",
    "print('wb X bw', stats.pearsonr(wb_executed, bw_total))\n",
    "print('bw X bw', stats.pearsonr(bw_executed, bw_total))\n",
    "print('ww X bw', stats.pearsonr(bw_executed, bw_total))"
   ]
  },
  {
   "cell_type": "code",
   "execution_count": 583,
   "metadata": {
    "collapsed": false
   },
   "outputs": [
    {
     "data": {
      "text/plain": [
       "<matplotlib.collections.PathCollection at 0x11f844f28>"
      ]
     },
     "execution_count": 583,
     "metadata": {},
     "output_type": "execute_result"
    },
    {
     "data": {
      "image/png": "[encoded data removed]",
      "text/plain": [
       "<matplotlib.figure.Figure at 0x111baec18>"
      ]
     },
     "metadata": {},
     "output_type": "display_data"
    }
   ],
   "source": [
    "homicides_race['ww_scaled'] = homicides_race.apply(lambda row: row['White_White']/100, axis=1)\n",
    "\n",
    "v = homicides_race['ww_scaled']\n",
    "\n",
    "years = year_grouped2['year_i']\n",
    "e = year_grouped2['white_white']\n",
    "fig, axes = plt.subplots(1, 1, figsize=(14, 8))\n",
    "axes.set_ylim((0, 115))\n",
    "plt.scatter(years, v, s=40, color='blue', label=\"Age v Volunteer\")\n",
    "plt.scatter(years, e, s=40, color='green', label=\"Age v Volunteer\")"
   ]
  },
  {
   "cell_type": "code",
   "execution_count": 584,
   "metadata": {
    "collapsed": false
   },
   "outputs": [
    {
     "name": "stdout",
     "output_type": "stream",
     "text": [
      "   Year   Jan   Feb   Mar   Apr   May   Jun  Jul  Aug   Sep   Oct   Nov   Dec  \\\n",
      "0  1980   6.3   6.3   6.3   6.9   7.5   7.6  7.8  7.7   7.5   7.5   7.5   7.2   \n",
      "1  1981   7.5   7.4   7.4   7.2   7.5   7.5  7.2  7.4   7.6   7.9   8.3   8.5   \n",
      "2  1982   8.6   8.9   9.0   9.3   9.4   9.6  9.8  9.8  10.1  10.4  10.8  10.8   \n",
      "3  1983  10.4  10.4  10.3  10.2  10.1  10.1  9.4  9.5   9.2   8.8   8.5   8.3   \n",
      "4  1984   8.0   7.8   7.8   7.7   7.4   7.2  7.5  7.5   7.3   7.4   7.2   7.3   \n",
      "\n",
      "   Annual  Population  \n",
      "0     7.2   227225000  \n",
      "1     7.6   229466000  \n",
      "2     9.7   231664000  \n",
      "3     9.6   233792000  \n",
      "4     7.5   235825000  \n"
     ]
    }
   ],
   "source": [
    "unemployment = pd.read_csv('usunemployment_stats.csv')\n",
    "print(unemployment.head())"
   ]
  },
  {
   "cell_type": "code",
   "execution_count": 585,
   "metadata": {
    "collapsed": false
   },
   "outputs": [
    {
     "data": {
      "text/plain": [
       "<matplotlib.collections.PathCollection at 0x12055bb38>"
      ]
     },
     "execution_count": 585,
     "metadata": {},
     "output_type": "execute_result"
    },
    {
     "data": {
      "image/png": "[encoded data removed]",
      "text/plain": [
       "<matplotlib.figure.Figure at 0x11f7e4240>"
      ]
     },
     "metadata": {},
     "output_type": "display_data"
    }
   ],
   "source": [
    "unemployment['annual_scaled'] = unemployment.apply(lambda row: row['Annual']*10, axis=1)\n",
    "\n",
    "v = homicides_race['tv_scaled']\n",
    "u = unemployment['annual_scaled']\n",
    "\n",
    "years = year_grouped2['year_i']\n",
    "e = year_grouped2['total_executions']\n",
    "fig, axes = plt.subplots(1, 1, figsize=(14, 8))\n",
    "axes.set_ylim((0, 100))\n",
    "plt.scatter(years, v, s=40, color='blue', label=\"Age v Volunteer\")\n",
    "plt.scatter(years, e, s=40, color='green', label=\"Age v Volunteer\")\n",
    "plt.scatter(years, u, s=40, color='orange', label=\"Age v Volunteer\")"
   ]
  },
  {
   "cell_type": "code",
   "execution_count": 586,
   "metadata": {
    "collapsed": false
   },
   "outputs": [
    {
     "name": "stdout",
     "output_type": "stream",
     "text": [
      "total (0.36186644234514509, 0.053738711057966869)\n",
      "total (-0.59242683689899589, 0.0007091526271116494)\n",
      "total (0.5164901707081212, 0.0041248510229396906)\n",
      "total (-0.75493437632211113, 2.2206216458739644e-06)\n"
     ]
    }
   ],
   "source": [
    "def total_un(row):\n",
    "    unemployed = row['Annual'] * row['Population'] / 100\n",
    "    return unemployed\n",
    "\n",
    "unemployment['total_unemployed'] = unemployment.apply(lambda row: total_un(row), axis=1)\n",
    "\n",
    "total_unemployed = unemployment['total_unemployed']\n",
    "print('total', stats.pearsonr(total_unemployed, total_victims))\n",
    "print('total', stats.pearsonr(total_unemployed, executed_victims))\n",
    "\n",
    "percent_unemployed = unemployment['Annual']\n",
    "print('total', stats.pearsonr(percent_unemployed, total_victims))\n",
    "print('total', stats.pearsonr(percent_unemployed, executed_victims))"
   ]
  },
  {
   "cell_type": "code",
   "execution_count": 587,
   "metadata": {
    "collapsed": true
   },
   "outputs": [],
   "source": [
    "def Total_White_Victims(row):\n",
    "    wv = row['White_White'] + row['Black_White']\n",
    "    return wv\n",
    "\n",
    "homicides_race['T_White_Victims'] = homicides_race.apply(lambda row: Total_White_Victims(row), axis=1)"
   ]
  },
  {
   "cell_type": "code",
   "execution_count": 588,
   "metadata": {
    "collapsed": false
   },
   "outputs": [
    {
     "name": "stdout",
     "output_type": "stream",
     "text": [
      "    index  Year  white_white  white_black  black_white  black_black  year_i  \\\n",
      "0       0  1980            0            0            0            0    1980   \n",
      "1       2  1981            1            0            0            0    1981   \n",
      "2       3  1982            1            0            1            0    1982   \n",
      "3       4  1983            4            0            0            1    1983   \n",
      "4       5  1984           13            0            6            1    1984   \n",
      "5       6  1985           10            0            4            3    1985   \n",
      "6       7  1986           11            0            7            0    1986   \n",
      "7       8  1987           13            0            9            2    1987   \n",
      "8       9  1988            6            0            2            3    1988   \n",
      "9      10  1989            8            0            5            3    1989   \n",
      "10     11  1990           16            0            5            2    1990   \n",
      "11     12  1991            6            1            5            2    1991   \n",
      "12     13  1992           19            0            8            2    1992   \n",
      "13     14  1993           23            0           11            2    1993   \n",
      "14     15  1994           19            0            7            4    1994   \n",
      "15     16  1995           29            3           14            8    1995   \n",
      "16     17  1996           31            0            8            4    1996   \n",
      "17     18  1997           42            3           21            5    1997   \n",
      "18     19  1998           43            3           11            7    1998   \n",
      "19     20  1999           55            3           24            7    1999   \n",
      "20     21  2000           48            0           21           12    2000   \n",
      "21     22  2001           44            0            7           10    2001   \n",
      "22     23  2002           51            1           10            8    2002   \n",
      "23     24  2003           43            0            8           11    2003   \n",
      "24     25  2004           39            0           12            7    2004   \n",
      "25     26  2005           40            0           10            8    2005   \n",
      "26     27  2006           26            3           14            7    2006   \n",
      "27     28  2007           26            0           10            2    2007   \n",
      "28     29  2008           18            0            8            8    2008   \n",
      "\n",
      "    total_executions  total_homicides  unemployment_rate  White_White  \\\n",
      "0                  0            23040                7.2    11013.120   \n",
      "1                  1            22520                7.6    10606.920   \n",
      "2                  2            21010                9.7    10189.850   \n",
      "3                  5            19308                9.6     9325.764   \n",
      "4                 21            18692                7.5     9327.308   \n",
      "5                 18            18976                7.2     9260.288   \n",
      "6                 18            20613                7.0     9523.206   \n",
      "7                 25            20096                6.2     9264.256   \n",
      "8                 11            20675                5.5     8828.225   \n",
      "9                 16            21500                5.3     8901.000   \n",
      "10                23            23438                5.6     9750.208   \n",
      "11                14            24703                6.9     9807.091   \n",
      "12                31            23760                7.5     9290.160   \n",
      "13                38            24526                6.9     9246.302   \n",
      "14                31            23326                6.1     8817.228   \n",
      "15                56            21606                5.6     8728.824   \n",
      "16                45            19645                5.4     7897.290   \n",
      "17                74            18208                4.9     7210.368   \n",
      "18                68            16974                4.5     7230.924   \n",
      "19                98            15522                4.2     6581.328   \n",
      "20                85            15586                4.0     6405.846   \n",
      "21                66            16039                4.7     6704.302   \n",
      "22                71            16229                5.8     6621.432   \n",
      "23                65            16582                6.0     6682.546   \n",
      "24                59            16137                5.5     6712.992   \n",
      "25                60            16692                5.1     6710.184   \n",
      "26                52            17030                4.6     6471.400   \n",
      "27                42            16929                4.6     6449.949   \n",
      "28                37            16272                5.8     6573.888   \n",
      "\n",
      "    T_White_Victims  \n",
      "0         12533.760  \n",
      "1         12160.800  \n",
      "2         11555.500  \n",
      "3         10522.860  \n",
      "4         10467.520  \n",
      "5         10512.704  \n",
      "6         10842.438  \n",
      "7         10490.112  \n",
      "8         10130.750  \n",
      "9         10320.000  \n",
      "10        11273.678  \n",
      "11        11610.410  \n",
      "12        11190.960  \n",
      "13        11232.908  \n",
      "14        10659.982  \n",
      "15        10327.668  \n",
      "16         9409.955  \n",
      "17         8594.176  \n",
      "18         8402.130  \n",
      "19         7729.956  \n",
      "20         7559.210  \n",
      "21         7891.188  \n",
      "22         7789.920  \n",
      "23         7959.360  \n",
      "24         7939.404  \n",
      "25         8012.160  \n",
      "26         7884.890  \n",
      "27         7871.985  \n",
      "28         7875.648  \n"
     ]
    }
   ],
   "source": [
    "combined_years = year_grouped2.copy()\n",
    "combined_years['total_homicides'] = homicides_race['Total_Victims']\n",
    "combined_years['unemployment_rate'] = unemployment['Annual']\n",
    "combined_years['White_White'] = homicides_race['White_White']\n",
    "combined_years['T_White_Victims'] = homicides_race['T_White_Victims']\n",
    "print(combined_years)"
   ]
  },
  {
   "cell_type": "code",
   "execution_count": 589,
   "metadata": {
    "collapsed": false
   },
   "outputs": [
    {
     "data": {
      "text/html": [
       "<table class=\"simpletable\">\n",
       "<caption>OLS Regression Results</caption>\n",
       "<tr>\n",
       "  <th>Dep. Variable:</th>     <td>total_homicides</td> <th>  R-squared:         </th> <td>   0.484</td>\n",
       "</tr>\n",
       "<tr>\n",
       "  <th>Model:</th>                   <td>OLS</td>       <th>  Adj. R-squared:    </th> <td>   0.445</td>\n",
       "</tr>\n",
       "<tr>\n",
       "  <th>Method:</th>             <td>Least Squares</td>  <th>  F-statistic:       </th> <td>   12.21</td>\n",
       "</tr>\n",
       "<tr>\n",
       "  <th>Date:</th>             <td>Wed, 12 Aug 2015</td> <th>  Prob (F-statistic):</th> <td>0.000182</td>\n",
       "</tr>\n",
       "<tr>\n",
       "  <th>Time:</th>                 <td>12:21:42</td>     <th>  Log-Likelihood:    </th> <td> -263.09</td>\n",
       "</tr>\n",
       "<tr>\n",
       "  <th>No. Observations:</th>      <td>    29</td>      <th>  AIC:               </th> <td>   532.2</td>\n",
       "</tr>\n",
       "<tr>\n",
       "  <th>Df Residuals:</th>          <td>    26</td>      <th>  BIC:               </th> <td>   536.3</td>\n",
       "</tr>\n",
       "<tr>\n",
       "  <th>Df Model:</th>              <td>     2</td>      <th>                     </th>     <td> </td>   \n",
       "</tr>\n",
       "<tr>\n",
       "  <th>Covariance Type:</th>      <td>nonrobust</td>    <th>                     </th>     <td> </td>   \n",
       "</tr>\n",
       "</table>\n",
       "<table class=\"simpletable\">\n",
       "<tr>\n",
       "          <td></td>             <th>coef</th>     <th>std err</th>      <th>t</th>      <th>P>|t|</th> <th>[95.0% Conf. Int.]</th> \n",
       "</tr>\n",
       "<tr>\n",
       "  <th>Intercept</th>         <td> 2.282e+04</td> <td> 3486.988</td> <td>    6.543</td> <td> 0.000</td> <td> 1.56e+04     3e+04</td>\n",
       "</tr>\n",
       "<tr>\n",
       "  <th>total_executions</th>  <td>  -78.2061</td> <td>   23.609</td> <td>   -3.313</td> <td> 0.003</td> <td> -126.735   -29.678</td>\n",
       "</tr>\n",
       "<tr>\n",
       "  <th>unemployment_rate</th> <td>  -42.6078</td> <td>  445.853</td> <td>   -0.096</td> <td> 0.925</td> <td> -959.072   873.856</td>\n",
       "</tr>\n",
       "</table>\n",
       "<table class=\"simpletable\">\n",
       "<tr>\n",
       "  <th>Omnibus:</th>       <td> 2.948</td> <th>  Durbin-Watson:     </th> <td>   0.298</td>\n",
       "</tr>\n",
       "<tr>\n",
       "  <th>Prob(Omnibus):</th> <td> 0.229</td> <th>  Jarque-Bera (JB):  </th> <td>   2.562</td>\n",
       "</tr>\n",
       "<tr>\n",
       "  <th>Skew:</th>          <td> 0.703</td> <th>  Prob(JB):          </th> <td>   0.278</td>\n",
       "</tr>\n",
       "<tr>\n",
       "  <th>Kurtosis:</th>      <td> 2.619</td> <th>  Cond. No.          </th> <td>    404.</td>\n",
       "</tr>\n",
       "</table>"
      ],
      "text/plain": [
       "<class 'statsmodels.iolib.summary.Summary'>\n",
       "\"\"\"\n",
       "                            OLS Regression Results                            \n",
       "==============================================================================\n",
       "Dep. Variable:        total_homicides   R-squared:                       0.484\n",
       "Model:                            OLS   Adj. R-squared:                  0.445\n",
       "Method:                 Least Squares   F-statistic:                     12.21\n",
       "Date:                Wed, 12 Aug 2015   Prob (F-statistic):           0.000182\n",
       "Time:                        12:21:42   Log-Likelihood:                -263.09\n",
       "No. Observations:                  29   AIC:                             532.2\n",
       "Df Residuals:                      26   BIC:                             536.3\n",
       "Df Model:                           2                                         \n",
       "Covariance Type:            nonrobust                                         \n",
       "=====================================================================================\n",
       "                        coef    std err          t      P>|t|      [95.0% Conf. Int.]\n",
       "-------------------------------------------------------------------------------------\n",
       "Intercept          2.282e+04   3486.988      6.543      0.000      1.56e+04     3e+04\n",
       "total_executions    -78.2061     23.609     -3.313      0.003      -126.735   -29.678\n",
       "unemployment_rate   -42.6078    445.853     -0.096      0.925      -959.072   873.856\n",
       "==============================================================================\n",
       "Omnibus:                        2.948   Durbin-Watson:                   0.298\n",
       "Prob(Omnibus):                  0.229   Jarque-Bera (JB):                2.562\n",
       "Skew:                           0.703   Prob(JB):                        0.278\n",
       "Kurtosis:                       2.619   Cond. No.                         404.\n",
       "==============================================================================\n",
       "\n",
       "Warnings:\n",
       "[1] Standard Errors assume that the covariance matrix of the errors is correctly specified.\n",
       "\"\"\""
      ]
     },
     "execution_count": 589,
     "metadata": {},
     "output_type": "execute_result"
    }
   ],
   "source": [
    "import statsmodels.formula.api as smf\n",
    "\n",
    "# see which factors have reasonable p values to max r-squared and adj r squared\n",
    "lm = smf.ols(formula='total_homicides ~ total_executions + unemployment_rate', data=combined_years).fit()\n",
    "\n",
    "# print the coefficients\n",
    "lm.params\n",
    "\n",
    "lm.summary()"
   ]
  },
  {
   "cell_type": "code",
   "execution_count": 590,
   "metadata": {
    "collapsed": false
   },
   "outputs": [
    {
     "data": {
      "text/html": [
       "<table class=\"simpletable\">\n",
       "<caption>OLS Regression Results</caption>\n",
       "<tr>\n",
       "  <th>Dep. Variable:</th>    <td>total_executions</td> <th>  R-squared:         </th> <td>   0.698</td>\n",
       "</tr>\n",
       "<tr>\n",
       "  <th>Model:</th>                   <td>OLS</td>       <th>  Adj. R-squared:    </th> <td>   0.674</td>\n",
       "</tr>\n",
       "<tr>\n",
       "  <th>Method:</th>             <td>Least Squares</td>  <th>  F-statistic:       </th> <td>   29.98</td>\n",
       "</tr>\n",
       "<tr>\n",
       "  <th>Date:</th>             <td>Wed, 12 Aug 2015</td> <th>  Prob (F-statistic):</th> <td>1.77e-07</td>\n",
       "</tr>\n",
       "<tr>\n",
       "  <th>Time:</th>                 <td>12:21:43</td>     <th>  Log-Likelihood:    </th> <td> -119.05</td>\n",
       "</tr>\n",
       "<tr>\n",
       "  <th>No. Observations:</th>      <td>    29</td>      <th>  AIC:               </th> <td>   244.1</td>\n",
       "</tr>\n",
       "<tr>\n",
       "  <th>Df Residuals:</th>          <td>    26</td>      <th>  BIC:               </th> <td>   248.2</td>\n",
       "</tr>\n",
       "<tr>\n",
       "  <th>Df Model:</th>              <td>     2</td>      <th>                     </th>     <td> </td>   \n",
       "</tr>\n",
       "<tr>\n",
       "  <th>Covariance Type:</th>      <td>nonrobust</td>    <th>                     </th>     <td> </td>   \n",
       "</tr>\n",
       "</table>\n",
       "<table class=\"simpletable\">\n",
       "<tr>\n",
       "          <td></td>             <th>coef</th>     <th>std err</th>      <th>t</th>      <th>P>|t|</th> <th>[95.0% Conf. Int.]</th> \n",
       "</tr>\n",
       "<tr>\n",
       "  <th>Intercept</th>         <td>  175.0561</td> <td>   19.570</td> <td>    8.945</td> <td> 0.000</td> <td>  134.828   215.284</td>\n",
       "</tr>\n",
       "<tr>\n",
       "  <th>total_homicides</th>   <td>   -0.0038</td> <td>    0.001</td> <td>   -3.313</td> <td> 0.003</td> <td>   -0.006    -0.001</td>\n",
       "</tr>\n",
       "<tr>\n",
       "  <th>unemployment_rate</th> <td>  -10.1874</td> <td>    2.379</td> <td>   -4.283</td> <td> 0.000</td> <td>  -15.077    -5.298</td>\n",
       "</tr>\n",
       "</table>\n",
       "<table class=\"simpletable\">\n",
       "<tr>\n",
       "  <th>Omnibus:</th>       <td> 0.792</td> <th>  Durbin-Watson:     </th> <td>   0.744</td>\n",
       "</tr>\n",
       "<tr>\n",
       "  <th>Prob(Omnibus):</th> <td> 0.673</td> <th>  Jarque-Bera (JB):  </th> <td>   0.729</td>\n",
       "</tr>\n",
       "<tr>\n",
       "  <th>Skew:</th>          <td> 0.034</td> <th>  Prob(JB):          </th> <td>   0.695</td>\n",
       "</tr>\n",
       "<tr>\n",
       "  <th>Kurtosis:</th>      <td> 2.227</td> <th>  Cond. No.          </th> <td>1.34e+05</td>\n",
       "</tr>\n",
       "</table>"
      ],
      "text/plain": [
       "<class 'statsmodels.iolib.summary.Summary'>\n",
       "\"\"\"\n",
       "                            OLS Regression Results                            \n",
       "==============================================================================\n",
       "Dep. Variable:       total_executions   R-squared:                       0.698\n",
       "Model:                            OLS   Adj. R-squared:                  0.674\n",
       "Method:                 Least Squares   F-statistic:                     29.98\n",
       "Date:                Wed, 12 Aug 2015   Prob (F-statistic):           1.77e-07\n",
       "Time:                        12:21:43   Log-Likelihood:                -119.05\n",
       "No. Observations:                  29   AIC:                             244.1\n",
       "Df Residuals:                      26   BIC:                             248.2\n",
       "Df Model:                           2                                         \n",
       "Covariance Type:            nonrobust                                         \n",
       "=====================================================================================\n",
       "                        coef    std err          t      P>|t|      [95.0% Conf. Int.]\n",
       "-------------------------------------------------------------------------------------\n",
       "Intercept           175.0561     19.570      8.945      0.000       134.828   215.284\n",
       "total_homicides      -0.0038      0.001     -3.313      0.003        -0.006    -0.001\n",
       "unemployment_rate   -10.1874      2.379     -4.283      0.000       -15.077    -5.298\n",
       "==============================================================================\n",
       "Omnibus:                        0.792   Durbin-Watson:                   0.744\n",
       "Prob(Omnibus):                  0.673   Jarque-Bera (JB):                0.729\n",
       "Skew:                           0.034   Prob(JB):                        0.695\n",
       "Kurtosis:                       2.227   Cond. No.                     1.34e+05\n",
       "==============================================================================\n",
       "\n",
       "Warnings:\n",
       "[1] Standard Errors assume that the covariance matrix of the errors is correctly specified.\n",
       "[2] The condition number is large, 1.34e+05. This might indicate that there are\n",
       "strong multicollinearity or other numerical problems.\n",
       "\"\"\""
      ]
     },
     "execution_count": 590,
     "metadata": {},
     "output_type": "execute_result"
    }
   ],
   "source": [
    "import statsmodels.formula.api as smf\n",
    "\n",
    "# see which factors have reasonable p values to max r-squared and adj r squared\n",
    "lm = smf.ols(formula='total_executions ~ total_homicides + unemployment_rate', data=combined_years).fit()\n",
    "\n",
    "# print the coefficients\n",
    "lm.params\n",
    "\n",
    "lm.summary()"
   ]
  },
  {
   "cell_type": "code",
   "execution_count": 591,
   "metadata": {
    "collapsed": false
   },
   "outputs": [
    {
     "data": {
      "text/html": [
       "<table class=\"simpletable\">\n",
       "<caption>OLS Regression Results</caption>\n",
       "<tr>\n",
       "  <th>Dep. Variable:</th>    <td>total_executions</td> <th>  R-squared:         </th> <td>   0.753</td>\n",
       "</tr>\n",
       "<tr>\n",
       "  <th>Model:</th>                   <td>OLS</td>       <th>  Adj. R-squared:    </th> <td>   0.734</td>\n",
       "</tr>\n",
       "<tr>\n",
       "  <th>Method:</th>             <td>Least Squares</td>  <th>  F-statistic:       </th> <td>   39.70</td>\n",
       "</tr>\n",
       "<tr>\n",
       "  <th>Date:</th>             <td>Wed, 12 Aug 2015</td> <th>  Prob (F-statistic):</th> <td>1.25e-08</td>\n",
       "</tr>\n",
       "<tr>\n",
       "  <th>Time:</th>                 <td>12:21:45</td>     <th>  Log-Likelihood:    </th> <td> -116.09</td>\n",
       "</tr>\n",
       "<tr>\n",
       "  <th>No. Observations:</th>      <td>    29</td>      <th>  AIC:               </th> <td>   238.2</td>\n",
       "</tr>\n",
       "<tr>\n",
       "  <th>Df Residuals:</th>          <td>    26</td>      <th>  BIC:               </th> <td>   242.3</td>\n",
       "</tr>\n",
       "<tr>\n",
       "  <th>Df Model:</th>              <td>     2</td>      <th>                     </th>     <td> </td>   \n",
       "</tr>\n",
       "<tr>\n",
       "  <th>Covariance Type:</th>      <td>nonrobust</td>    <th>                     </th>     <td> </td>   \n",
       "</tr>\n",
       "</table>\n",
       "<table class=\"simpletable\">\n",
       "<tr>\n",
       "          <td></td>             <th>coef</th>     <th>std err</th>      <th>t</th>      <th>P>|t|</th> <th>[95.0% Conf. Int.]</th> \n",
       "</tr>\n",
       "<tr>\n",
       "  <th>Intercept</th>         <td>  176.4413</td> <td>   16.270</td> <td>   10.845</td> <td> 0.000</td> <td>  142.998   209.885</td>\n",
       "</tr>\n",
       "<tr>\n",
       "  <th>T_White_Victims</th>   <td>   -0.0105</td> <td>    0.002</td> <td>   -4.397</td> <td> 0.000</td> <td>   -0.015    -0.006</td>\n",
       "</tr>\n",
       "<tr>\n",
       "  <th>unemployment_rate</th> <td>   -5.8490</td> <td>    2.653</td> <td>   -2.204</td> <td> 0.037</td> <td>  -11.303    -0.395</td>\n",
       "</tr>\n",
       "</table>\n",
       "<table class=\"simpletable\">\n",
       "<tr>\n",
       "  <th>Omnibus:</th>       <td> 0.153</td> <th>  Durbin-Watson:     </th> <td>   0.812</td>\n",
       "</tr>\n",
       "<tr>\n",
       "  <th>Prob(Omnibus):</th> <td> 0.926</td> <th>  Jarque-Bera (JB):  </th> <td>   0.143</td>\n",
       "</tr>\n",
       "<tr>\n",
       "  <th>Skew:</th>          <td>-0.131</td> <th>  Prob(JB):          </th> <td>   0.931</td>\n",
       "</tr>\n",
       "<tr>\n",
       "  <th>Kurtosis:</th>      <td> 2.777</td> <th>  Cond. No.          </th> <td>6.14e+04</td>\n",
       "</tr>\n",
       "</table>"
      ],
      "text/plain": [
       "<class 'statsmodels.iolib.summary.Summary'>\n",
       "\"\"\"\n",
       "                            OLS Regression Results                            \n",
       "==============================================================================\n",
       "Dep. Variable:       total_executions   R-squared:                       0.753\n",
       "Model:                            OLS   Adj. R-squared:                  0.734\n",
       "Method:                 Least Squares   F-statistic:                     39.70\n",
       "Date:                Wed, 12 Aug 2015   Prob (F-statistic):           1.25e-08\n",
       "Time:                        12:21:45   Log-Likelihood:                -116.09\n",
       "No. Observations:                  29   AIC:                             238.2\n",
       "Df Residuals:                      26   BIC:                             242.3\n",
       "Df Model:                           2                                         \n",
       "Covariance Type:            nonrobust                                         \n",
       "=====================================================================================\n",
       "                        coef    std err          t      P>|t|      [95.0% Conf. Int.]\n",
       "-------------------------------------------------------------------------------------\n",
       "Intercept           176.4413     16.270     10.845      0.000       142.998   209.885\n",
       "T_White_Victims      -0.0105      0.002     -4.397      0.000        -0.015    -0.006\n",
       "unemployment_rate    -5.8490      2.653     -2.204      0.037       -11.303    -0.395\n",
       "==============================================================================\n",
       "Omnibus:                        0.153   Durbin-Watson:                   0.812\n",
       "Prob(Omnibus):                  0.926   Jarque-Bera (JB):                0.143\n",
       "Skew:                          -0.131   Prob(JB):                        0.931\n",
       "Kurtosis:                       2.777   Cond. No.                     6.14e+04\n",
       "==============================================================================\n",
       "\n",
       "Warnings:\n",
       "[1] Standard Errors assume that the covariance matrix of the errors is correctly specified.\n",
       "[2] The condition number is large, 6.14e+04. This might indicate that there are\n",
       "strong multicollinearity or other numerical problems.\n",
       "\"\"\""
      ]
     },
     "execution_count": 591,
     "metadata": {},
     "output_type": "execute_result"
    }
   ],
   "source": [
    "# see which factors have reasonable p values to max r-squared and adj r squared\n",
    "lmw = smf.ols(formula='total_executions ~ T_White_Victims + unemployment_rate', data=combined_years).fit()\n",
    "\n",
    "# print the coefficients\n",
    "lmw.params\n",
    "\n",
    "lmw.summary()"
   ]
  },
  {
   "cell_type": "code",
   "execution_count": 592,
   "metadata": {
    "collapsed": false
   },
   "outputs": [
    {
     "data": {
      "text/html": [
       "<table class=\"simpletable\">\n",
       "<caption>OLS Regression Results</caption>\n",
       "<tr>\n",
       "  <th>Dep. Variable:</th>    <td>total_executions</td> <th>  R-squared:         </th> <td>   0.766</td>\n",
       "</tr>\n",
       "<tr>\n",
       "  <th>Model:</th>                   <td>OLS</td>       <th>  Adj. R-squared:    </th> <td>   0.748</td>\n",
       "</tr>\n",
       "<tr>\n",
       "  <th>Method:</th>             <td>Least Squares</td>  <th>  F-statistic:       </th> <td>   42.54</td>\n",
       "</tr>\n",
       "<tr>\n",
       "  <th>Date:</th>             <td>Wed, 12 Aug 2015</td> <th>  Prob (F-statistic):</th> <td>6.33e-09</td>\n",
       "</tr>\n",
       "<tr>\n",
       "  <th>Time:</th>                 <td>12:21:45</td>     <th>  Log-Likelihood:    </th> <td> -115.34</td>\n",
       "</tr>\n",
       "<tr>\n",
       "  <th>No. Observations:</th>      <td>    29</td>      <th>  AIC:               </th> <td>   236.7</td>\n",
       "</tr>\n",
       "<tr>\n",
       "  <th>Df Residuals:</th>          <td>    26</td>      <th>  BIC:               </th> <td>   240.8</td>\n",
       "</tr>\n",
       "<tr>\n",
       "  <th>Df Model:</th>              <td>     2</td>      <th>                     </th>     <td> </td>   \n",
       "</tr>\n",
       "<tr>\n",
       "  <th>Covariance Type:</th>      <td>nonrobust</td>    <th>                     </th>     <td> </td>   \n",
       "</tr>\n",
       "</table>\n",
       "<table class=\"simpletable\">\n",
       "<tr>\n",
       "          <td></td>             <th>coef</th>     <th>std err</th>      <th>t</th>      <th>P>|t|</th> <th>[95.0% Conf. Int.]</th> \n",
       "</tr>\n",
       "<tr>\n",
       "  <th>Intercept</th>         <td>  170.2298</td> <td>   14.697</td> <td>   11.583</td> <td> 0.000</td> <td>  140.020   200.439</td>\n",
       "</tr>\n",
       "<tr>\n",
       "  <th>White_White</th>       <td>   -0.0122</td> <td>    0.003</td> <td>   -4.666</td> <td> 0.000</td> <td>   -0.018    -0.007</td>\n",
       "</tr>\n",
       "<tr>\n",
       "  <th>unemployment_rate</th> <td>   -4.9528</td> <td>    2.681</td> <td>   -1.847</td> <td> 0.076</td> <td>  -10.463     0.558</td>\n",
       "</tr>\n",
       "</table>\n",
       "<table class=\"simpletable\">\n",
       "<tr>\n",
       "  <th>Omnibus:</th>       <td> 0.690</td> <th>  Durbin-Watson:     </th> <td>   0.862</td>\n",
       "</tr>\n",
       "<tr>\n",
       "  <th>Prob(Omnibus):</th> <td> 0.708</td> <th>  Jarque-Bera (JB):  </th> <td>   0.267</td>\n",
       "</tr>\n",
       "<tr>\n",
       "  <th>Skew:</th>          <td>-0.234</td> <th>  Prob(JB):          </th> <td>   0.875</td>\n",
       "</tr>\n",
       "<tr>\n",
       "  <th>Kurtosis:</th>      <td> 3.040</td> <th>  Cond. No.          </th> <td>4.88e+04</td>\n",
       "</tr>\n",
       "</table>"
      ],
      "text/plain": [
       "<class 'statsmodels.iolib.summary.Summary'>\n",
       "\"\"\"\n",
       "                            OLS Regression Results                            \n",
       "==============================================================================\n",
       "Dep. Variable:       total_executions   R-squared:                       0.766\n",
       "Model:                            OLS   Adj. R-squared:                  0.748\n",
       "Method:                 Least Squares   F-statistic:                     42.54\n",
       "Date:                Wed, 12 Aug 2015   Prob (F-statistic):           6.33e-09\n",
       "Time:                        12:21:45   Log-Likelihood:                -115.34\n",
       "No. Observations:                  29   AIC:                             236.7\n",
       "Df Residuals:                      26   BIC:                             240.8\n",
       "Df Model:                           2                                         \n",
       "Covariance Type:            nonrobust                                         \n",
       "=====================================================================================\n",
       "                        coef    std err          t      P>|t|      [95.0% Conf. Int.]\n",
       "-------------------------------------------------------------------------------------\n",
       "Intercept           170.2298     14.697     11.583      0.000       140.020   200.439\n",
       "White_White          -0.0122      0.003     -4.666      0.000        -0.018    -0.007\n",
       "unemployment_rate    -4.9528      2.681     -1.847      0.076       -10.463     0.558\n",
       "==============================================================================\n",
       "Omnibus:                        0.690   Durbin-Watson:                   0.862\n",
       "Prob(Omnibus):                  0.708   Jarque-Bera (JB):                0.267\n",
       "Skew:                          -0.234   Prob(JB):                        0.875\n",
       "Kurtosis:                       3.040   Cond. No.                     4.88e+04\n",
       "==============================================================================\n",
       "\n",
       "Warnings:\n",
       "[1] Standard Errors assume that the covariance matrix of the errors is correctly specified.\n",
       "[2] The condition number is large, 4.88e+04. This might indicate that there are\n",
       "strong multicollinearity or other numerical problems.\n",
       "\"\"\""
      ]
     },
     "execution_count": 592,
     "metadata": {},
     "output_type": "execute_result"
    }
   ],
   "source": [
    "# see which factors have reasonable p values to max r-squared and adj r squared\n",
    "lmww = smf.ols(formula='total_executions ~ White_White + unemployment_rate', data=combined_years).fit()\n",
    "\n",
    "# print the coefficients\n",
    "lmww.params\n",
    "\n",
    "lmww.summary()"
   ]
  },
  {
   "cell_type": "code",
   "execution_count": 593,
   "metadata": {
    "collapsed": false
   },
   "outputs": [
    {
     "data": {
      "text/html": [
       "<table class=\"simpletable\">\n",
       "<caption>OLS Regression Results</caption>\n",
       "<tr>\n",
       "  <th>Dep. Variable:</th>       <td>White_White</td>   <th>  R-squared:         </th> <td>   0.757</td>\n",
       "</tr>\n",
       "<tr>\n",
       "  <th>Model:</th>                   <td>OLS</td>       <th>  Adj. R-squared:    </th> <td>   0.738</td>\n",
       "</tr>\n",
       "<tr>\n",
       "  <th>Method:</th>             <td>Least Squares</td>  <th>  F-statistic:       </th> <td>   40.47</td>\n",
       "</tr>\n",
       "<tr>\n",
       "  <th>Date:</th>             <td>Wed, 12 Aug 2015</td> <th>  Prob (F-statistic):</th> <td>1.04e-08</td>\n",
       "</tr>\n",
       "<tr>\n",
       "  <th>Time:</th>                 <td>12:21:46</td>     <th>  Log-Likelihood:    </th> <td> -231.72</td>\n",
       "</tr>\n",
       "<tr>\n",
       "  <th>No. Observations:</th>      <td>    29</td>      <th>  AIC:               </th> <td>   469.4</td>\n",
       "</tr>\n",
       "<tr>\n",
       "  <th>Df Residuals:</th>          <td>    26</td>      <th>  BIC:               </th> <td>   473.5</td>\n",
       "</tr>\n",
       "<tr>\n",
       "  <th>Df Model:</th>              <td>     2</td>      <th>                     </th>     <td> </td>   \n",
       "</tr>\n",
       "<tr>\n",
       "  <th>Covariance Type:</th>      <td>nonrobust</td>    <th>                     </th>     <td> </td>   \n",
       "</tr>\n",
       "</table>\n",
       "<table class=\"simpletable\">\n",
       "<tr>\n",
       "          <td></td>             <th>coef</th>     <th>std err</th>      <th>t</th>      <th>P>|t|</th> <th>[95.0% Conf. Int.]</th> \n",
       "</tr>\n",
       "<tr>\n",
       "  <th>Intercept</th>         <td> 8338.3816</td> <td> 1182.122</td> <td>    7.054</td> <td> 0.000</td> <td> 5908.494  1.08e+04</td>\n",
       "</tr>\n",
       "<tr>\n",
       "  <th>total_executions</th>  <td>  -37.3444</td> <td>    8.004</td> <td>   -4.666</td> <td> 0.000</td> <td>  -53.796   -20.893</td>\n",
       "</tr>\n",
       "<tr>\n",
       "  <th>unemployment_rate</th> <td>  229.9888</td> <td>  151.148</td> <td>    1.522</td> <td> 0.140</td> <td>  -80.701   540.679</td>\n",
       "</tr>\n",
       "</table>\n",
       "<table class=\"simpletable\">\n",
       "<tr>\n",
       "  <th>Omnibus:</th>       <td> 1.441</td> <th>  Durbin-Watson:     </th> <td>   0.642</td>\n",
       "</tr>\n",
       "<tr>\n",
       "  <th>Prob(Omnibus):</th> <td> 0.487</td> <th>  Jarque-Bera (JB):  </th> <td>   1.219</td>\n",
       "</tr>\n",
       "<tr>\n",
       "  <th>Skew:</th>          <td>-0.477</td> <th>  Prob(JB):          </th> <td>   0.544</td>\n",
       "</tr>\n",
       "<tr>\n",
       "  <th>Kurtosis:</th>      <td> 2.687</td> <th>  Cond. No.          </th> <td>    404.</td>\n",
       "</tr>\n",
       "</table>"
      ],
      "text/plain": [
       "<class 'statsmodels.iolib.summary.Summary'>\n",
       "\"\"\"\n",
       "                            OLS Regression Results                            \n",
       "==============================================================================\n",
       "Dep. Variable:            White_White   R-squared:                       0.757\n",
       "Model:                            OLS   Adj. R-squared:                  0.738\n",
       "Method:                 Least Squares   F-statistic:                     40.47\n",
       "Date:                Wed, 12 Aug 2015   Prob (F-statistic):           1.04e-08\n",
       "Time:                        12:21:46   Log-Likelihood:                -231.72\n",
       "No. Observations:                  29   AIC:                             469.4\n",
       "Df Residuals:                      26   BIC:                             473.5\n",
       "Df Model:                           2                                         \n",
       "Covariance Type:            nonrobust                                         \n",
       "=====================================================================================\n",
       "                        coef    std err          t      P>|t|      [95.0% Conf. Int.]\n",
       "-------------------------------------------------------------------------------------\n",
       "Intercept          8338.3816   1182.122      7.054      0.000      5908.494  1.08e+04\n",
       "total_executions    -37.3444      8.004     -4.666      0.000       -53.796   -20.893\n",
       "unemployment_rate   229.9888    151.148      1.522      0.140       -80.701   540.679\n",
       "==============================================================================\n",
       "Omnibus:                        1.441   Durbin-Watson:                   0.642\n",
       "Prob(Omnibus):                  0.487   Jarque-Bera (JB):                1.219\n",
       "Skew:                          -0.477   Prob(JB):                        0.544\n",
       "Kurtosis:                       2.687   Cond. No.                         404.\n",
       "==============================================================================\n",
       "\n",
       "Warnings:\n",
       "[1] Standard Errors assume that the covariance matrix of the errors is correctly specified.\n",
       "\"\"\""
      ]
     },
     "execution_count": 593,
     "metadata": {},
     "output_type": "execute_result"
    }
   ],
   "source": [
    "lmww = smf.ols(formula='White_White ~ total_executions + unemployment_rate', data=combined_years).fit()\n",
    "\n",
    "# print the coefficients\n",
    "lmww.params\n",
    "\n",
    "lmww.summary()"
   ]
  },
  {
   "cell_type": "code",
   "execution_count": 594,
   "metadata": {
    "collapsed": false
   },
   "outputs": [
    {
     "name": "stdout",
     "output_type": "stream",
     "text": [
      "Intercept            170.229811\n",
      "White_White           -0.012204\n",
      "unemployment_rate     -4.952826\n",
      "dtype: float64\n"
     ]
    },
    {
     "data": {
      "text/html": [
       "<table class=\"simpletable\">\n",
       "<caption>OLS Regression Results</caption>\n",
       "<tr>\n",
       "  <th>Dep. Variable:</th>    <td>total_executions</td> <th>  R-squared:         </th> <td>   0.766</td>\n",
       "</tr>\n",
       "<tr>\n",
       "  <th>Model:</th>                   <td>OLS</td>       <th>  Adj. R-squared:    </th> <td>   0.748</td>\n",
       "</tr>\n",
       "<tr>\n",
       "  <th>Method:</th>             <td>Least Squares</td>  <th>  F-statistic:       </th> <td>   42.54</td>\n",
       "</tr>\n",
       "<tr>\n",
       "  <th>Date:</th>             <td>Wed, 12 Aug 2015</td> <th>  Prob (F-statistic):</th> <td>6.33e-09</td>\n",
       "</tr>\n",
       "<tr>\n",
       "  <th>Time:</th>                 <td>12:21:47</td>     <th>  Log-Likelihood:    </th> <td> -115.34</td>\n",
       "</tr>\n",
       "<tr>\n",
       "  <th>No. Observations:</th>      <td>    29</td>      <th>  AIC:               </th> <td>   236.7</td>\n",
       "</tr>\n",
       "<tr>\n",
       "  <th>Df Residuals:</th>          <td>    26</td>      <th>  BIC:               </th> <td>   240.8</td>\n",
       "</tr>\n",
       "<tr>\n",
       "  <th>Df Model:</th>              <td>     2</td>      <th>                     </th>     <td> </td>   \n",
       "</tr>\n",
       "<tr>\n",
       "  <th>Covariance Type:</th>      <td>nonrobust</td>    <th>                     </th>     <td> </td>   \n",
       "</tr>\n",
       "</table>\n",
       "<table class=\"simpletable\">\n",
       "<tr>\n",
       "          <td></td>             <th>coef</th>     <th>std err</th>      <th>t</th>      <th>P>|t|</th> <th>[95.0% Conf. Int.]</th> \n",
       "</tr>\n",
       "<tr>\n",
       "  <th>Intercept</th>         <td>  170.2298</td> <td>   14.697</td> <td>   11.583</td> <td> 0.000</td> <td>  140.020   200.439</td>\n",
       "</tr>\n",
       "<tr>\n",
       "  <th>White_White</th>       <td>   -0.0122</td> <td>    0.003</td> <td>   -4.666</td> <td> 0.000</td> <td>   -0.018    -0.007</td>\n",
       "</tr>\n",
       "<tr>\n",
       "  <th>unemployment_rate</th> <td>   -4.9528</td> <td>    2.681</td> <td>   -1.847</td> <td> 0.076</td> <td>  -10.463     0.558</td>\n",
       "</tr>\n",
       "</table>\n",
       "<table class=\"simpletable\">\n",
       "<tr>\n",
       "  <th>Omnibus:</th>       <td> 0.690</td> <th>  Durbin-Watson:     </th> <td>   0.862</td>\n",
       "</tr>\n",
       "<tr>\n",
       "  <th>Prob(Omnibus):</th> <td> 0.708</td> <th>  Jarque-Bera (JB):  </th> <td>   0.267</td>\n",
       "</tr>\n",
       "<tr>\n",
       "  <th>Skew:</th>          <td>-0.234</td> <th>  Prob(JB):          </th> <td>   0.875</td>\n",
       "</tr>\n",
       "<tr>\n",
       "  <th>Kurtosis:</th>      <td> 3.040</td> <th>  Cond. No.          </th> <td>4.88e+04</td>\n",
       "</tr>\n",
       "</table>"
      ],
      "text/plain": [
       "<class 'statsmodels.iolib.summary.Summary'>\n",
       "\"\"\"\n",
       "                            OLS Regression Results                            \n",
       "==============================================================================\n",
       "Dep. Variable:       total_executions   R-squared:                       0.766\n",
       "Model:                            OLS   Adj. R-squared:                  0.748\n",
       "Method:                 Least Squares   F-statistic:                     42.54\n",
       "Date:                Wed, 12 Aug 2015   Prob (F-statistic):           6.33e-09\n",
       "Time:                        12:21:47   Log-Likelihood:                -115.34\n",
       "No. Observations:                  29   AIC:                             236.7\n",
       "Df Residuals:                      26   BIC:                             240.8\n",
       "Df Model:                           2                                         \n",
       "Covariance Type:            nonrobust                                         \n",
       "=====================================================================================\n",
       "                        coef    std err          t      P>|t|      [95.0% Conf. Int.]\n",
       "-------------------------------------------------------------------------------------\n",
       "Intercept           170.2298     14.697     11.583      0.000       140.020   200.439\n",
       "White_White          -0.0122      0.003     -4.666      0.000        -0.018    -0.007\n",
       "unemployment_rate    -4.9528      2.681     -1.847      0.076       -10.463     0.558\n",
       "==============================================================================\n",
       "Omnibus:                        0.690   Durbin-Watson:                   0.862\n",
       "Prob(Omnibus):                  0.708   Jarque-Bera (JB):                0.267\n",
       "Skew:                          -0.234   Prob(JB):                        0.875\n",
       "Kurtosis:                       3.040   Cond. No.                     4.88e+04\n",
       "==============================================================================\n",
       "\n",
       "Warnings:\n",
       "[1] Standard Errors assume that the covariance matrix of the errors is correctly specified.\n",
       "[2] The condition number is large, 4.88e+04. This might indicate that there are\n",
       "strong multicollinearity or other numerical problems.\n",
       "\"\"\""
      ]
     },
     "execution_count": 594,
     "metadata": {},
     "output_type": "execute_result"
    }
   ],
   "source": [
    "# see which factors have reasonable p values to max r-squared and adj r squared\n",
    "lmww = smf.ols(formula='total_executions ~ White_White + unemployment_rate', data=combined_years).fit()\n",
    "\n",
    "# print the coefficients\n",
    "print(lmww.params)\n",
    "\n",
    "lmww.summary()"
   ]
  },
  {
   "cell_type": "code",
   "execution_count": 600,
   "metadata": {
    "collapsed": false
   },
   "outputs": [
    {
     "data": {
      "text/plain": [
       "array([ 90.27897887])"
      ]
     },
     "execution_count": 600,
     "metadata": {},
     "output_type": "execute_result"
    }
   ],
   "source": [
    "X_new = pd.DataFrame({'White_White': [2777], 'unemployment_rate': [9.3]})\n",
    "X_new.head()\n",
    "lmww.predict(X_new)"
   ]
  },
  {
   "cell_type": "code",
   "execution_count": 625,
   "metadata": {
    "collapsed": false
   },
   "outputs": [
    {
     "name": "stdout",
     "output_type": "stream",
     "text": [
      "                            OLS Regression Results                            \n",
      "==============================================================================\n",
      "Dep. Variable:       total_executions   R-squared:                       0.692\n",
      "Model:                            OLS   Adj. R-squared:                  0.667\n",
      "Method:                 Least Squares   F-statistic:                     28.06\n",
      "Date:                Wed, 12 Aug 2015   Prob (F-statistic):           4.08e-07\n",
      "Time:                        12:58:10   Log-Likelihood:                -114.59\n",
      "No. Observations:                  28   AIC:                             235.2\n",
      "Df Residuals:                      25   BIC:                             239.2\n",
      "Df Model:                           2                                         \n",
      "Covariance Type:            nonrobust                                         \n",
      "=====================================================================================\n",
      "                        coef    std err          t      P>|t|      [95.0% Conf. Int.]\n",
      "-------------------------------------------------------------------------------------\n",
      "Intercept           160.7899     17.102      9.402      0.000       125.568   196.012\n",
      "prev_year_W_W        -0.0102      0.003     -3.218      0.004        -0.017    -0.004\n",
      "unemployment_rate    -5.8056      3.210     -1.809      0.083       -12.416     0.805\n",
      "==============================================================================\n",
      "Omnibus:                        0.201   Durbin-Watson:                   0.760\n",
      "Prob(Omnibus):                  0.904   Jarque-Bera (JB):                0.060\n",
      "Skew:                           0.099   Prob(JB):                        0.970\n",
      "Kurtosis:                       2.886   Cond. No.                     5.00e+04\n",
      "==============================================================================\n",
      "\n",
      "Warnings:\n",
      "[1] Standard Errors assume that the covariance matrix of the errors is correctly specified.\n",
      "[2] The condition number is large,  5e+04. This might indicate that there are\n",
      "strong multicollinearity or other numerical problems.\n"
     ]
    },
    {
     "data": {
      "text/html": [
       "<table class=\"simpletable\">\n",
       "<caption>OLS Regression Results</caption>\n",
       "<tr>\n",
       "  <th>Dep. Variable:</th>    <td>total_executions</td> <th>  R-squared:         </th> <td>   0.831</td>\n",
       "</tr>\n",
       "<tr>\n",
       "  <th>Model:</th>                   <td>OLS</td>       <th>  Adj. R-squared:    </th> <td>   0.818</td>\n",
       "</tr>\n",
       "<tr>\n",
       "  <th>Method:</th>             <td>Least Squares</td>  <th>  F-statistic:       </th> <td>   61.56</td>\n",
       "</tr>\n",
       "<tr>\n",
       "  <th>Date:</th>             <td>Wed, 12 Aug 2015</td> <th>  Prob (F-statistic):</th> <td>2.20e-10</td>\n",
       "</tr>\n",
       "<tr>\n",
       "  <th>Time:</th>                 <td>12:58:10</td>     <th>  Log-Likelihood:    </th> <td> -107.27</td>\n",
       "</tr>\n",
       "<tr>\n",
       "  <th>No. Observations:</th>      <td>    28</td>      <th>  AIC:               </th> <td>   220.5</td>\n",
       "</tr>\n",
       "<tr>\n",
       "  <th>Df Residuals:</th>          <td>    25</td>      <th>  BIC:               </th> <td>   224.5</td>\n",
       "</tr>\n",
       "<tr>\n",
       "  <th>Df Model:</th>              <td>     2</td>      <th>                     </th>     <td> </td>   \n",
       "</tr>\n",
       "<tr>\n",
       "  <th>Covariance Type:</th>      <td>nonrobust</td>    <th>                     </th>     <td> </td>   \n",
       "</tr>\n",
       "</table>\n",
       "<table class=\"simpletable\">\n",
       "<tr>\n",
       "          <td></td>             <th>coef</th>     <th>std err</th>      <th>t</th>      <th>P>|t|</th> <th>[95.0% Conf. Int.]</th> \n",
       "</tr>\n",
       "<tr>\n",
       "  <th>Intercept</th>         <td>  183.7622</td> <td>   13.444</td> <td>   13.668</td> <td> 0.000</td> <td>  156.073   211.452</td>\n",
       "</tr>\n",
       "<tr>\n",
       "  <th>next_year_W_W</th>     <td>   -0.0144</td> <td>    0.002</td> <td>   -6.200</td> <td> 0.000</td> <td>   -0.019    -0.010</td>\n",
       "</tr>\n",
       "<tr>\n",
       "  <th>unemployment_rate</th> <td>   -4.4550</td> <td>    2.220</td> <td>   -2.007</td> <td> 0.056</td> <td>   -9.026     0.116</td>\n",
       "</tr>\n",
       "</table>\n",
       "<table class=\"simpletable\">\n",
       "<tr>\n",
       "  <th>Omnibus:</th>       <td> 0.975</td> <th>  Durbin-Watson:     </th> <td>   1.261</td>\n",
       "</tr>\n",
       "<tr>\n",
       "  <th>Prob(Omnibus):</th> <td> 0.614</td> <th>  Jarque-Bera (JB):  </th> <td>   0.261</td>\n",
       "</tr>\n",
       "<tr>\n",
       "  <th>Skew:</th>          <td>-0.197</td> <th>  Prob(JB):          </th> <td>   0.878</td>\n",
       "</tr>\n",
       "<tr>\n",
       "  <th>Kurtosis:</th>      <td> 3.264</td> <th>  Cond. No.          </th> <td>5.00e+04</td>\n",
       "</tr>\n",
       "</table>"
      ],
      "text/plain": [
       "<class 'statsmodels.iolib.summary.Summary'>\n",
       "\"\"\"\n",
       "                            OLS Regression Results                            \n",
       "==============================================================================\n",
       "Dep. Variable:       total_executions   R-squared:                       0.831\n",
       "Model:                            OLS   Adj. R-squared:                  0.818\n",
       "Method:                 Least Squares   F-statistic:                     61.56\n",
       "Date:                Wed, 12 Aug 2015   Prob (F-statistic):           2.20e-10\n",
       "Time:                        12:58:10   Log-Likelihood:                -107.27\n",
       "No. Observations:                  28   AIC:                             220.5\n",
       "Df Residuals:                      25   BIC:                             224.5\n",
       "Df Model:                           2                                         \n",
       "Covariance Type:            nonrobust                                         \n",
       "=====================================================================================\n",
       "                        coef    std err          t      P>|t|      [95.0% Conf. Int.]\n",
       "-------------------------------------------------------------------------------------\n",
       "Intercept           183.7622     13.444     13.668      0.000       156.073   211.452\n",
       "next_year_W_W        -0.0144      0.002     -6.200      0.000        -0.019    -0.010\n",
       "unemployment_rate    -4.4550      2.220     -2.007      0.056        -9.026     0.116\n",
       "==============================================================================\n",
       "Omnibus:                        0.975   Durbin-Watson:                   1.261\n",
       "Prob(Omnibus):                  0.614   Jarque-Bera (JB):                0.261\n",
       "Skew:                          -0.197   Prob(JB):                        0.878\n",
       "Kurtosis:                       3.264   Cond. No.                     5.00e+04\n",
       "==============================================================================\n",
       "\n",
       "Warnings:\n",
       "[1] Standard Errors assume that the covariance matrix of the errors is correctly specified.\n",
       "[2] The condition number is large,  5e+04. This might indicate that there are\n",
       "strong multicollinearity or other numerical problems.\n",
       "\"\"\""
      ]
     },
     "execution_count": 625,
     "metadata": {},
     "output_type": "execute_result"
    }
   ],
   "source": [
    "# def prev_year(row):\n",
    "#     predict = 180.914948 - 0.013815*row['White_White'] - 4.735389*row['unemployment_rate']\n",
    "#     return predict\n",
    "\n",
    "combined_years['prev_year_W_W'] = combined_years['White_White'].shift()\n",
    "combined_years_lag = combined_years.dropna()\n",
    "# see which factors have reasonable p values to max r-squared and adj r squared\n",
    "lmwwl = smf.ols(formula='total_executions ~ prev_year_W_W + unemployment_rate', data=combined_years).fit()\n",
    "\n",
    "print(lmwwl.summary())\n",
    "\n",
    "combined_years['next_year_W_W'] = combined_years['White_White'].shift(-1)\n",
    "combined_years_lag = combined_years.dropna()\n",
    "# see which factors have reasonable p values to max r-squared and adj r squared\n",
    "lmwwf = smf.ols(formula='total_executions ~ next_year_W_W + unemployment_rate', data=combined_years).fit()\n",
    "\n",
    "lmwwf.summary()"
   ]
  },
  {
   "cell_type": "code",
   "execution_count": 631,
   "metadata": {
    "collapsed": false
   },
   "outputs": [
    {
     "data": {
      "text/html": [
       "<table class=\"simpletable\">\n",
       "<caption>OLS Regression Results</caption>\n",
       "<tr>\n",
       "  <th>Dep. Variable:</th>    <td>total_executions</td> <th>  R-squared:         </th> <td>   0.803</td>\n",
       "</tr>\n",
       "<tr>\n",
       "  <th>Model:</th>                   <td>OLS</td>       <th>  Adj. R-squared:    </th> <td>   0.786</td>\n",
       "</tr>\n",
       "<tr>\n",
       "  <th>Method:</th>             <td>Least Squares</td>  <th>  F-statistic:       </th> <td>   48.81</td>\n",
       "</tr>\n",
       "<tr>\n",
       "  <th>Date:</th>             <td>Wed, 12 Aug 2015</td> <th>  Prob (F-statistic):</th> <td>3.49e-09</td>\n",
       "</tr>\n",
       "<tr>\n",
       "  <th>Time:</th>                 <td>13:06:21</td>     <th>  Log-Likelihood:    </th> <td> -104.96</td>\n",
       "</tr>\n",
       "<tr>\n",
       "  <th>No. Observations:</th>      <td>    27</td>      <th>  AIC:               </th> <td>   215.9</td>\n",
       "</tr>\n",
       "<tr>\n",
       "  <th>Df Residuals:</th>          <td>    24</td>      <th>  BIC:               </th> <td>   219.8</td>\n",
       "</tr>\n",
       "<tr>\n",
       "  <th>Df Model:</th>              <td>     2</td>      <th>                     </th>     <td> </td>   \n",
       "</tr>\n",
       "<tr>\n",
       "  <th>Covariance Type:</th>      <td>nonrobust</td>    <th>                     </th>     <td> </td>   \n",
       "</tr>\n",
       "</table>\n",
       "<table class=\"simpletable\">\n",
       "<tr>\n",
       "             <td></td>               <th>coef</th>     <th>std err</th>      <th>t</th>      <th>P>|t|</th> <th>[95.0% Conf. Int.]</th> \n",
       "</tr>\n",
       "<tr>\n",
       "  <th>Intercept</th>              <td>  185.7019</td> <td>   14.976</td> <td>   12.400</td> <td> 0.000</td> <td>  154.794   216.610</td>\n",
       "</tr>\n",
       "<tr>\n",
       "  <th>next_year_W_W</th>          <td>   -0.0156</td> <td>    0.003</td> <td>   -6.256</td> <td> 0.000</td> <td>   -0.021    -0.010</td>\n",
       "</tr>\n",
       "<tr>\n",
       "  <th>prev_year_unemployment</th> <td>   -3.0139</td> <td>    2.302</td> <td>   -1.310</td> <td> 0.203</td> <td>   -7.764     1.736</td>\n",
       "</tr>\n",
       "</table>\n",
       "<table class=\"simpletable\">\n",
       "<tr>\n",
       "  <th>Omnibus:</th>       <td> 0.115</td> <th>  Durbin-Watson:     </th> <td>   1.350</td>\n",
       "</tr>\n",
       "<tr>\n",
       "  <th>Prob(Omnibus):</th> <td> 0.944</td> <th>  Jarque-Bera (JB):  </th> <td>   0.032</td>\n",
       "</tr>\n",
       "<tr>\n",
       "  <th>Skew:</th>          <td>-0.036</td> <th>  Prob(JB):          </th> <td>   0.984</td>\n",
       "</tr>\n",
       "<tr>\n",
       "  <th>Kurtosis:</th>      <td> 2.848</td> <th>  Cond. No.          </th> <td>5.10e+04</td>\n",
       "</tr>\n",
       "</table>"
      ],
      "text/plain": [
       "<class 'statsmodels.iolib.summary.Summary'>\n",
       "\"\"\"\n",
       "                            OLS Regression Results                            \n",
       "==============================================================================\n",
       "Dep. Variable:       total_executions   R-squared:                       0.803\n",
       "Model:                            OLS   Adj. R-squared:                  0.786\n",
       "Method:                 Least Squares   F-statistic:                     48.81\n",
       "Date:                Wed, 12 Aug 2015   Prob (F-statistic):           3.49e-09\n",
       "Time:                        13:06:21   Log-Likelihood:                -104.96\n",
       "No. Observations:                  27   AIC:                             215.9\n",
       "Df Residuals:                      24   BIC:                             219.8\n",
       "Df Model:                           2                                         \n",
       "Covariance Type:            nonrobust                                         \n",
       "==========================================================================================\n",
       "                             coef    std err          t      P>|t|      [95.0% Conf. Int.]\n",
       "------------------------------------------------------------------------------------------\n",
       "Intercept                185.7019     14.976     12.400      0.000       154.794   216.610\n",
       "next_year_W_W             -0.0156      0.003     -6.256      0.000        -0.021    -0.010\n",
       "prev_year_unemployment    -3.0139      2.302     -1.310      0.203        -7.764     1.736\n",
       "==============================================================================\n",
       "Omnibus:                        0.115   Durbin-Watson:                   1.350\n",
       "Prob(Omnibus):                  0.944   Jarque-Bera (JB):                0.032\n",
       "Skew:                          -0.036   Prob(JB):                        0.984\n",
       "Kurtosis:                       2.848   Cond. No.                     5.10e+04\n",
       "==============================================================================\n",
       "\n",
       "Warnings:\n",
       "[1] Standard Errors assume that the covariance matrix of the errors is correctly specified.\n",
       "[2] The condition number is large, 5.1e+04. This might indicate that there are\n",
       "strong multicollinearity or other numerical problems.\n",
       "\"\"\""
      ]
     },
     "execution_count": 631,
     "metadata": {},
     "output_type": "execute_result"
    }
   ],
   "source": [
    "combined_years['prev_year_unemployment'] = combined_years['unemployment_rate'].shift(1)\n",
    "combined_years['next_year_unemployment'] = combined_years['unemployment_rate'].shift(-1)\n",
    "combined_years['prev_year_executions'] = combined_years['total_executions'].shift()\n",
    "\n",
    "def change_e(row):\n",
    "    diff = row['total_executions'] - row['prev_year_executions']\n",
    "    return diff\n",
    "\n",
    "def change_u(row):\n",
    "    diff = row['unemployment_rate'] - row['prev_year_unemployment']\n",
    "    return diff\n",
    "\n",
    "def change_h(row):\n",
    "    diff = row['White_White'] - row['prev_year_W_W']\n",
    "    return diff\n",
    "\n",
    "combined_years['change_executions'] = combined_years.apply(lambda row:change_e(row), axis=1)\n",
    "combined_years['change_unemployment'] = combined_years.apply(lambda row:change_u(row), axis=1)\n",
    "combined_years['change_W_W'] = combined_years.apply(lambda row:change_h(row), axis=1)\n",
    "combined_years_lag = combined_years.dropna()\n",
    "# see which factors have reasonable p values to max r-squared and adj r squared\n",
    "lmwwul = smf.ols(formula='total_executions ~ next_year_W_W + prev_year_unemployment', data=combined_years).fit()\n",
    "\n",
    "lmwwul.summary()"
   ]
  },
  {
   "cell_type": "code",
   "execution_count": 632,
   "metadata": {
    "collapsed": false
   },
   "outputs": [
    {
     "data": {
      "text/html": [
       "<table class=\"simpletable\">\n",
       "<caption>OLS Regression Results</caption>\n",
       "<tr>\n",
       "  <th>Dep. Variable:</th>      <td>next_year_W_W</td>  <th>  R-squared:         </th> <td>   0.811</td>\n",
       "</tr>\n",
       "<tr>\n",
       "  <th>Model:</th>                   <td>OLS</td>       <th>  Adj. R-squared:    </th> <td>   0.796</td>\n",
       "</tr>\n",
       "<tr>\n",
       "  <th>Method:</th>             <td>Least Squares</td>  <th>  F-statistic:       </th> <td>   53.62</td>\n",
       "</tr>\n",
       "<tr>\n",
       "  <th>Date:</th>             <td>Wed, 12 Aug 2015</td> <th>  Prob (F-statistic):</th> <td>9.07e-10</td>\n",
       "</tr>\n",
       "<tr>\n",
       "  <th>Time:</th>                 <td>13:06:23</td>     <th>  Log-Likelihood:    </th> <td> -218.79</td>\n",
       "</tr>\n",
       "<tr>\n",
       "  <th>No. Observations:</th>      <td>    28</td>      <th>  AIC:               </th> <td>   443.6</td>\n",
       "</tr>\n",
       "<tr>\n",
       "  <th>Df Residuals:</th>          <td>    25</td>      <th>  BIC:               </th> <td>   447.6</td>\n",
       "</tr>\n",
       "<tr>\n",
       "  <th>Df Model:</th>              <td>     2</td>      <th>                     </th>     <td> </td>   \n",
       "</tr>\n",
       "<tr>\n",
       "  <th>Covariance Type:</th>      <td>nonrobust</td>    <th>                     </th>     <td> </td>   \n",
       "</tr>\n",
       "</table>\n",
       "<table class=\"simpletable\">\n",
       "<tr>\n",
       "             <td></td>               <th>coef</th>     <th>std err</th>      <th>t</th>      <th>P>|t|</th> <th>[95.0% Conf. Int.]</th> \n",
       "</tr>\n",
       "<tr>\n",
       "  <th>Intercept</th>              <td> 8987.1964</td> <td> 1039.044</td> <td>    8.649</td> <td> 0.000</td> <td> 6847.245  1.11e+04</td>\n",
       "</tr>\n",
       "<tr>\n",
       "  <th>total_executions</th>       <td>  -40.2950</td> <td>    6.981</td> <td>   -5.772</td> <td> 0.000</td> <td>  -54.672   -25.918</td>\n",
       "</tr>\n",
       "<tr>\n",
       "  <th>next_year_unemployment</th> <td>  127.5877</td> <td>  133.302</td> <td>    0.957</td> <td> 0.348</td> <td> -146.953   402.128</td>\n",
       "</tr>\n",
       "</table>\n",
       "<table class=\"simpletable\">\n",
       "<tr>\n",
       "  <th>Omnibus:</th>       <td> 1.415</td> <th>  Durbin-Watson:     </th> <td>   1.050</td>\n",
       "</tr>\n",
       "<tr>\n",
       "  <th>Prob(Omnibus):</th> <td> 0.493</td> <th>  Jarque-Bera (JB):  </th> <td>   1.323</td>\n",
       "</tr>\n",
       "<tr>\n",
       "  <th>Skew:</th>          <td>-0.450</td> <th>  Prob(JB):          </th> <td>   0.516</td>\n",
       "</tr>\n",
       "<tr>\n",
       "  <th>Kurtosis:</th>      <td> 2.432</td> <th>  Cond. No.          </th> <td>    418.</td>\n",
       "</tr>\n",
       "</table>"
      ],
      "text/plain": [
       "<class 'statsmodels.iolib.summary.Summary'>\n",
       "\"\"\"\n",
       "                            OLS Regression Results                            \n",
       "==============================================================================\n",
       "Dep. Variable:          next_year_W_W   R-squared:                       0.811\n",
       "Model:                            OLS   Adj. R-squared:                  0.796\n",
       "Method:                 Least Squares   F-statistic:                     53.62\n",
       "Date:                Wed, 12 Aug 2015   Prob (F-statistic):           9.07e-10\n",
       "Time:                        13:06:23   Log-Likelihood:                -218.79\n",
       "No. Observations:                  28   AIC:                             443.6\n",
       "Df Residuals:                      25   BIC:                             447.6\n",
       "Df Model:                           2                                         \n",
       "Covariance Type:            nonrobust                                         \n",
       "==========================================================================================\n",
       "                             coef    std err          t      P>|t|      [95.0% Conf. Int.]\n",
       "------------------------------------------------------------------------------------------\n",
       "Intercept               8987.1964   1039.044      8.649      0.000      6847.245  1.11e+04\n",
       "total_executions         -40.2950      6.981     -5.772      0.000       -54.672   -25.918\n",
       "next_year_unemployment   127.5877    133.302      0.957      0.348      -146.953   402.128\n",
       "==============================================================================\n",
       "Omnibus:                        1.415   Durbin-Watson:                   1.050\n",
       "Prob(Omnibus):                  0.493   Jarque-Bera (JB):                1.323\n",
       "Skew:                          -0.450   Prob(JB):                        0.516\n",
       "Kurtosis:                       2.432   Cond. No.                         418.\n",
       "==============================================================================\n",
       "\n",
       "Warnings:\n",
       "[1] Standard Errors assume that the covariance matrix of the errors is correctly specified.\n",
       "\"\"\""
      ]
     },
     "execution_count": 632,
     "metadata": {},
     "output_type": "execute_result"
    }
   ],
   "source": [
    "lm = smf.ols(formula='next_year_W_W ~ total_executions + next_year_unemployment', data=combined_years).fit()\n",
    "\n",
    "lm.summary()"
   ]
  },
  {
   "cell_type": "code",
   "execution_count": 645,
   "metadata": {
    "collapsed": false
   },
   "outputs": [
    {
     "data": {
      "text/html": [
       "<table class=\"simpletable\">\n",
       "<caption>OLS Regression Results</caption>\n",
       "<tr>\n",
       "  <th>Dep. Variable:</th>       <td>change_W_W</td>    <th>  R-squared:         </th> <td>   0.048</td>\n",
       "</tr>\n",
       "<tr>\n",
       "  <th>Model:</th>                   <td>OLS</td>       <th>  Adj. R-squared:    </th> <td>   0.008</td>\n",
       "</tr>\n",
       "<tr>\n",
       "  <th>Method:</th>             <td>Least Squares</td>  <th>  F-statistic:       </th> <td>   1.205</td>\n",
       "</tr>\n",
       "<tr>\n",
       "  <th>Date:</th>             <td>Wed, 12 Aug 2015</td> <th>  Prob (F-statistic):</th>  <td> 0.283</td> \n",
       "</tr>\n",
       "<tr>\n",
       "  <th>Time:</th>                 <td>13:15:45</td>     <th>  Log-Likelihood:    </th> <td> -189.98</td>\n",
       "</tr>\n",
       "<tr>\n",
       "  <th>No. Observations:</th>      <td>    26</td>      <th>  AIC:               </th> <td>   384.0</td>\n",
       "</tr>\n",
       "<tr>\n",
       "  <th>Df Residuals:</th>          <td>    24</td>      <th>  BIC:               </th> <td>   386.5</td>\n",
       "</tr>\n",
       "<tr>\n",
       "  <th>Df Model:</th>              <td>     1</td>      <th>                     </th>     <td> </td>   \n",
       "</tr>\n",
       "<tr>\n",
       "  <th>Covariance Type:</th>      <td>nonrobust</td>    <th>                     </th>     <td> </td>   \n",
       "</tr>\n",
       "</table>\n",
       "<table class=\"simpletable\">\n",
       "<tr>\n",
       "          <td></td>             <th>coef</th>     <th>std err</th>      <th>t</th>      <th>P>|t|</th> <th>[95.0% Conf. Int.]</th> \n",
       "</tr>\n",
       "<tr>\n",
       "  <th>Intercept</th>         <td> -149.9891</td> <td>   74.173</td> <td>   -2.022</td> <td> 0.054</td> <td> -303.075     3.097</td>\n",
       "</tr>\n",
       "<tr>\n",
       "  <th>change_executions</th> <td>   -6.2745</td> <td>    5.717</td> <td>   -1.098</td> <td> 0.283</td> <td>  -18.073     5.524</td>\n",
       "</tr>\n",
       "</table>\n",
       "<table class=\"simpletable\">\n",
       "<tr>\n",
       "  <th>Omnibus:</th>       <td> 3.404</td> <th>  Durbin-Watson:     </th> <td>   1.829</td>\n",
       "</tr>\n",
       "<tr>\n",
       "  <th>Prob(Omnibus):</th> <td> 0.182</td> <th>  Jarque-Bera (JB):  </th> <td>   1.952</td>\n",
       "</tr>\n",
       "<tr>\n",
       "  <th>Skew:</th>          <td> 0.284</td> <th>  Prob(JB):          </th> <td>   0.377</td>\n",
       "</tr>\n",
       "<tr>\n",
       "  <th>Kurtosis:</th>      <td> 4.216</td> <th>  Cond. No.          </th> <td>    13.1</td>\n",
       "</tr>\n",
       "</table>"
      ],
      "text/plain": [
       "<class 'statsmodels.iolib.summary.Summary'>\n",
       "\"\"\"\n",
       "                            OLS Regression Results                            \n",
       "==============================================================================\n",
       "Dep. Variable:             change_W_W   R-squared:                       0.048\n",
       "Model:                            OLS   Adj. R-squared:                  0.008\n",
       "Method:                 Least Squares   F-statistic:                     1.205\n",
       "Date:                Wed, 12 Aug 2015   Prob (F-statistic):              0.283\n",
       "Time:                        13:15:45   Log-Likelihood:                -189.98\n",
       "No. Observations:                  26   AIC:                             384.0\n",
       "Df Residuals:                      24   BIC:                             386.5\n",
       "Df Model:                           1                                         \n",
       "Covariance Type:            nonrobust                                         \n",
       "=====================================================================================\n",
       "                        coef    std err          t      P>|t|      [95.0% Conf. Int.]\n",
       "-------------------------------------------------------------------------------------\n",
       "Intercept          -149.9891     74.173     -2.022      0.054      -303.075     3.097\n",
       "change_executions    -6.2745      5.717     -1.098      0.283       -18.073     5.524\n",
       "==============================================================================\n",
       "Omnibus:                        3.404   Durbin-Watson:                   1.829\n",
       "Prob(Omnibus):                  0.182   Jarque-Bera (JB):                1.952\n",
       "Skew:                           0.284   Prob(JB):                        0.377\n",
       "Kurtosis:                       4.216   Cond. No.                         13.1\n",
       "==============================================================================\n",
       "\n",
       "Warnings:\n",
       "[1] Standard Errors assume that the covariance matrix of the errors is correctly specified.\n",
       "\"\"\""
      ]
     },
     "execution_count": 645,
     "metadata": {},
     "output_type": "execute_result"
    }
   ],
   "source": [
    "\n",
    "combined_years['change_executions_lag'] = combined_years['change_executions'].shift(1)\n",
    "cy = combined_years.dropna()\n",
    "lmwwul = smf.ols(formula='change_W_W ~ change_executions', data=cy).fit()\n",
    "\n",
    "lmwwul.summary()"
   ]
  },
  {
   "cell_type": "code",
   "execution_count": 647,
   "metadata": {
    "collapsed": false
   },
   "outputs": [
    {
     "data": {
      "text/plain": [
       "<matplotlib.collections.PathCollection at 0x12770eb70>"
      ]
     },
     "execution_count": 647,
     "metadata": {},
     "output_type": "execute_result"
    },
    {
     "data": {
      "image/png": "[encoded data removed]",
      "text/plain": [
       "<matplotlib.figure.Figure at 0x1275436a0>"
      ]
     },
     "metadata": {},
     "output_type": "display_data"
    }
   ],
   "source": [
    "p = combined_years['change_W_W']\n",
    "years = combined_years['year_i']\n",
    "e = combined_years['change_executions']\n",
    "fig, axes = plt.subplots(1, 1, figsize=(14, 8))\n",
    "axes.set_ylim((0, 300))\n",
    "plt.scatter(years, p, s=40, color='blue', label=\"Age v Volunteer\")\n",
    "plt.scatter(years, e, s=40, color='green', label=\"Age v Volunteer\")"
   ]
  },
  {
   "cell_type": "code",
   "execution_count": 601,
   "metadata": {
    "collapsed": false
   },
   "outputs": [
    {
     "data": {
      "text/plain": [
       "<matplotlib.collections.PathCollection at 0x124f30ba8>"
      ]
     },
     "execution_count": 601,
     "metadata": {},
     "output_type": "execute_result"
    },
    {
     "data": {
      "image/png": "[encoded data removed]",
      "text/plain": [
       "<matplotlib.figure.Figure at 0x124e7a780>"
      ]
     },
     "metadata": {},
     "output_type": "display_data"
    }
   ],
   "source": [
    "p = lmww.predict(combined_years)\n",
    "years = combined_years['year_i']\n",
    "e = combined_years['total_executions']\n",
    "fig, axes = plt.subplots(1, 1, figsize=(14, 8))\n",
    "axes.set_ylim((0, 115))\n",
    "plt.scatter(years, p, s=40, color='blue', label=\"Age v Volunteer\")\n",
    "plt.scatter(years, e, s=40, color='green', label=\"Age v Volunteer\")"
   ]
  },
  {
   "cell_type": "code",
   "execution_count": null,
   "metadata": {
    "collapsed": true
   },
   "outputs": [],
   "source": []
  },
  {
   "cell_type": "code",
   "execution_count": null,
   "metadata": {
    "collapsed": true
   },
   "outputs": [],
   "source": []
  },
  {
   "cell_type": "code",
   "execution_count": null,
   "metadata": {
    "collapsed": true
   },
   "outputs": [],
   "source": []
  }
 ],
 "metadata": {
  "kernelspec": {
   "display_name": "Python 3",
   "language": "python",
   "name": "python3"
  },
  "language_info": {
   "codemirror_mode": {
    "name": "ipython",
    "version": 3
   },
   "file_extension": ".py",
   "mimetype": "text/x-python",
   "name": "python",
   "nbconvert_exporter": "python",
   "pygments_lexer": "ipython3",
   "version": "3.4.3"
  }
 },
 "nbformat": 4,
 "nbformat_minor": 0
}
